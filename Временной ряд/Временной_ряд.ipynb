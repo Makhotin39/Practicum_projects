{
 "cells": [
  {
   "cell_type": "markdown",
   "metadata": {},
   "source": [
    "#  Прогнозирование заказов такси"
   ]
  },
  {
   "cell_type": "markdown",
   "metadata": {},
   "source": [
    "Компания «Чётенькое такси» собрала исторические данные о заказах такси в аэропортах. Чтобы привлекать больше водителей в период пиковой нагрузки, нужно спрогнозировать количество заказов такси на следующий час. Постройте модель для такого предсказания.\n",
    "\n",
    "Значение метрики *RMSE* на тестовой выборке должно быть не больше 48.\n",
    "\n",
    "Вам нужно:\n",
    "\n",
    "1. Загрузить данные и выполнить их ресемплирование по одному часу.\n",
    "2. Проанализировать данные.\n",
    "3. Обучить разные модели с различными гиперпараметрами. Сделать тестовую выборку размером 10% от исходных данных.\n",
    "4. Проверить данные на тестовой выборке и сделать выводы.\n",
    "\n",
    "\n",
    "Данные лежат в файле `taxi.csv`. Количество заказов находится в столбце `num_orders` (от англ. *number of orders*, «число заказов»)."
   ]
  },
  {
   "cell_type": "code",
   "execution_count": 1,
   "metadata": {},
   "outputs": [],
   "source": [
    "import pandas as pd\n",
    "from statsmodels.tsa.seasonal import seasonal_decompose\n",
    "import matplotlib.pyplot as plt\n",
    "import seaborn as sns\n",
    "from sklearn.metrics import mean_squared_error\n",
    "from sklearn.preprocessing import StandardScaler, MinMaxScaler\n",
    "from sklearn.model_selection import train_test_split, GridSearchCV, TimeSeriesSplit\n",
    "from sklearn.pipeline import Pipeline\n",
    "from lightgbm import LGBMRegressor\n",
    "from sklearn.ensemble import RandomForestRegressor\n",
    "from sklearn.compose import ColumnTransformer\n",
    "from sklearn.linear_model import LinearRegression"
   ]
  },
  {
   "cell_type": "markdown",
   "metadata": {},
   "source": [
    "Некоторые необходимые функции:"
   ]
  },
  {
   "cell_type": "code",
   "execution_count": 2,
   "metadata": {},
   "outputs": [],
   "source": [
    "def box(data, columns):\n",
    "    display(data[columns].describe())\n",
    "    plt.figure(figsize=(10, 5))\n",
    "    sns.boxplot(data=data[columns])\n",
    "    plt.title(columns)\n",
    "    plt.xticks(rotation=45) \n",
    "    plt.grid()\n",
    "    plt.show()\n",
    "    Q1 = data[columns].quantile(0.25)\n",
    "    Q3 = data[columns].quantile(0.75)\n",
    "    IQR = Q3 - Q1\n",
    "    lower_bound = Q1 - 1.5 * IQR\n",
    "    upper_bound = Q3 + 1.5 * IQR\n",
    "    anomalies = data[(data[columns] < lower_bound) | (data[columns] > upper_bound)]\n",
    "    print(f'Количество выбивающихся значений в {columns}: {len(anomalies)}')\n",
    "    print(f'Нижняя граница: {lower_bound}')\n",
    "    print(f'Верхняя граница: {upper_bound}')\n",
    "    \n",
    "def hist(data, bins):\n",
    "    plt.figure(figsize=(15,10))\n",
    "    sns.histplot(data, bins=bins, kde=True)\n",
    "\n",
    "def make_features(data, max_lag, rolling_mean_size):\n",
    "    data['month'] = data.index.month\n",
    "    data['day'] = data.index.day\n",
    "    data['dayofweek'] = data.index.dayofweek\n",
    "    data['hour'] = data.index.hour\n",
    "    \n",
    "    for lag in range(1, max_lag + 1):\n",
    "        data['lag_{}'.format(lag)] = data['num_orders'].shift(lag)\n",
    "\n",
    "    data['rolling_mean'] = data['num_orders'].shift().rolling(rolling_mean_size).mean()\n",
    "    \n",
    "def dec(data):\n",
    "    decomposed = seasonal_decompose(data)\n",
    "\n",
    "    plt.figure(figsize=(8, 10))\n",
    "\n",
    "    plt.subplot(311)\n",
    "    decomposed.trend.plot(ax=plt.gca())\n",
    "    plt.title('Trend')\n",
    "\n",
    "    plt.subplot(312)\n",
    "    decomposed.seasonal.plot(ax=plt.gca())\n",
    "    plt.title('Seasonality')\n",
    "\n",
    "    plt.subplot(313)\n",
    "    decomposed.resid.plot(ax=plt.gca())\n",
    "    plt.title('Residuals')\n",
    "\n",
    "    plt.tight_layout()\n",
    "    plt.show()"
   ]
  },
  {
   "cell_type": "markdown",
   "metadata": {},
   "source": [
    "## Подготовка"
   ]
  },
  {
   "cell_type": "code",
   "execution_count": 3,
   "metadata": {},
   "outputs": [
    {
     "name": "stdout",
     "output_type": "stream",
     "text": [
      "<class 'pandas.core.frame.DataFrame'>\n",
      "RangeIndex: 26496 entries, 0 to 26495\n",
      "Data columns (total 2 columns):\n",
      " #   Column      Non-Null Count  Dtype         \n",
      "---  ------      --------------  -----         \n",
      " 0   datetime    26496 non-null  datetime64[ns]\n",
      " 1   num_orders  26496 non-null  int64         \n",
      "dtypes: datetime64[ns](1), int64(1)\n",
      "memory usage: 414.1 KB\n"
     ]
    }
   ],
   "source": [
    "data = pd.read_csv('/datasets/taxi.csv')\n",
    "data['datetime'] = pd.to_datetime(data['datetime'])\n",
    "data.info()"
   ]
  },
  {
   "cell_type": "markdown",
   "metadata": {},
   "source": [
    "Проверим данные на наличие явных дубликатов:"
   ]
  },
  {
   "cell_type": "code",
   "execution_count": 4,
   "metadata": {},
   "outputs": [
    {
     "data": {
      "text/plain": [
       "0"
      ]
     },
     "execution_count": 4,
     "metadata": {},
     "output_type": "execute_result"
    }
   ],
   "source": [
    "data.duplicated().sum()\n"
   ]
  },
  {
   "cell_type": "markdown",
   "metadata": {},
   "source": [
    "Явных дубликатов не обнаружено. "
   ]
  },
  {
   "cell_type": "markdown",
   "metadata": {},
   "source": [
    "Агрегируем данные с интервалом в час. "
   ]
  },
  {
   "cell_type": "code",
   "execution_count": 5,
   "metadata": {},
   "outputs": [
    {
     "name": "stdout",
     "output_type": "stream",
     "text": [
      "<class 'pandas.core.frame.DataFrame'>\n",
      "DatetimeIndex: 4416 entries, 2018-03-01 00:00:00 to 2018-08-31 23:00:00\n",
      "Freq: H\n",
      "Data columns (total 1 columns):\n",
      " #   Column      Non-Null Count  Dtype\n",
      "---  ------      --------------  -----\n",
      " 0   num_orders  4416 non-null   int64\n",
      "dtypes: int64(1)\n",
      "memory usage: 69.0 KB\n"
     ]
    }
   ],
   "source": [
    "data = data.set_index('datetime')\n",
    "data.sort_index(inplace=True)\n",
    "data = data.resample('1H').sum()\n",
    "data.info()"
   ]
  },
  {
   "cell_type": "markdown",
   "metadata": {},
   "source": [
    "Посмотрим на распределение вызывов такси. "
   ]
  },
  {
   "cell_type": "code",
   "execution_count": 6,
   "metadata": {},
   "outputs": [
    {
     "data": {
      "text/plain": [
       "count    4416.000000\n",
       "mean       84.422781\n",
       "std        45.023853\n",
       "min         0.000000\n",
       "25%        54.000000\n",
       "50%        78.000000\n",
       "75%       107.000000\n",
       "max       462.000000\n",
       "Name: num_orders, dtype: float64"
      ]
     },
     "metadata": {},
     "output_type": "display_data"
    },
    {
     "data": {
      "image/png": "[encoded data removed]",
      "text/plain": [
       "<Figure size 720x360 with 1 Axes>"
      ]
     },
     "metadata": {
      "needs_background": "light"
     },
     "output_type": "display_data"
    },
    {
     "name": "stdout",
     "output_type": "stream",
     "text": [
      "Количество выбивающихся значений в num_orders: 121\n",
      "Нижняя граница: -25.5\n",
      "Верхняя граница: 186.5\n"
     ]
    }
   ],
   "source": [
    "box(data, 'num_orders')"
   ]
  },
  {
   "cell_type": "code",
   "execution_count": 7,
   "metadata": {},
   "outputs": [
    {
     "data": {
      "image/png": "[encoded data removed]",
      "text/plain": [
       "<Figure size 1080x720 with 1 Axes>"
      ]
     },
     "metadata": {
      "needs_background": "light"
     },
     "output_type": "display_data"
    }
   ],
   "source": [
    "hist(data['num_orders'], 13)"
   ]
  },
  {
   "cell_type": "markdown",
   "metadata": {},
   "source": [
    "Распределение данных соответствует наши интуитивным представлениям об этом распределении. "
   ]
  },
  {
   "cell_type": "markdown",
   "metadata": {},
   "source": [
    "## Анализ"
   ]
  },
  {
   "cell_type": "code",
   "execution_count": 8,
   "metadata": {},
   "outputs": [
    {
     "data": {
      "image/png": "[encoded data removed]",
      "text/plain": [
       "<Figure size 576x720 with 3 Axes>"
      ]
     },
     "metadata": {
      "needs_background": "light"
     },
     "output_type": "display_data"
    }
   ],
   "source": [
    "dec(data['num_orders']['2018-03-01':'2018-08-31'])\n"
   ]
  },
  {
   "cell_type": "markdown",
   "metadata": {},
   "source": [
    "Посмотрим на последнюю неделю, чтобы увидеть цикличность. "
   ]
  },
  {
   "cell_type": "code",
   "execution_count": 9,
   "metadata": {},
   "outputs": [
    {
     "data": {
      "image/png": "[encoded data removed]",
      "text/plain": [
       "<Figure size 576x720 with 3 Axes>"
      ]
     },
     "metadata": {
      "needs_background": "light"
     },
     "output_type": "display_data"
    }
   ],
   "source": [
    "dec(data['num_orders']['2018-08-25':'2018-08-31'])"
   ]
  },
  {
   "cell_type": "markdown",
   "metadata": {},
   "source": [
    "Также посмотрим на колебания заказов такси в течении последнего дня. "
   ]
  },
  {
   "cell_type": "code",
   "execution_count": 10,
   "metadata": {},
   "outputs": [
    {
     "data": {
      "text/plain": [
       "<AxesSubplot:xlabel='datetime'>"
      ]
     },
     "execution_count": 10,
     "metadata": {},
     "output_type": "execute_result"
    },
    {
     "data": {
      "image/png": "[encoded data removed]",
      "text/plain": [
       "<Figure size 432x288 with 1 Axes>"
      ]
     },
     "metadata": {
      "needs_background": "light"
     },
     "output_type": "display_data"
    }
   ],
   "source": [
    "data['num_orders']['2018-08-31':'2018-08-31'].plot()"
   ]
  },
  {
   "cell_type": "markdown",
   "metadata": {},
   "source": [
    "**Свойства временного ряды:**\n",
    "\n",
    "1. Предоставленные данные - нестационарный временной ряд, с выраженным возрастающим трендом, дневной и недельной цикличностью. \n",
    "2. Чаще всего люди совершают перелёты ночью или ближе к вечеру. Очевидно, что это связано с устройством часовых поясов и поведением людей. \n",
    "3. Число заказов явно меняется и от дня недели."
   ]
  },
  {
   "cell_type": "markdown",
   "metadata": {},
   "source": [
    "**Работа с признаками:**\n",
    "1. В признаки необходимо будет добавить месяц, день недели и часы. С помощью месяца можно учесть возрастающий тренд, информация о цикличности будет содержаться в днях недели и часах. \n",
    "2. Также в признаки добавим скользящее среднее и lag-признаки, что позволит моделям учесть внутренние тенденции. "
   ]
  },
  {
   "cell_type": "code",
   "execution_count": 11,
   "metadata": {},
   "outputs": [
    {
     "data": {
      "text/html": [
       "<div>\n",
       "<style scoped>\n",
       "    .dataframe tbody tr th:only-of-type {\n",
       "        vertical-align: middle;\n",
       "    }\n",
       "\n",
       "    .dataframe tbody tr th {\n",
       "        vertical-align: top;\n",
       "    }\n",
       "\n",
       "    .dataframe thead th {\n",
       "        text-align: right;\n",
       "    }\n",
       "</style>\n",
       "<table border=\"1\" class=\"dataframe\">\n",
       "  <thead>\n",
       "    <tr style=\"text-align: right;\">\n",
       "      <th></th>\n",
       "      <th>num_orders</th>\n",
       "      <th>month</th>\n",
       "      <th>day</th>\n",
       "      <th>dayofweek</th>\n",
       "      <th>hour</th>\n",
       "      <th>lag_1</th>\n",
       "      <th>lag_2</th>\n",
       "      <th>lag_3</th>\n",
       "      <th>lag_4</th>\n",
       "      <th>lag_5</th>\n",
       "      <th>...</th>\n",
       "      <th>lag_16</th>\n",
       "      <th>lag_17</th>\n",
       "      <th>lag_18</th>\n",
       "      <th>lag_19</th>\n",
       "      <th>lag_20</th>\n",
       "      <th>lag_21</th>\n",
       "      <th>lag_22</th>\n",
       "      <th>lag_23</th>\n",
       "      <th>lag_24</th>\n",
       "      <th>rolling_mean</th>\n",
       "    </tr>\n",
       "    <tr>\n",
       "      <th>datetime</th>\n",
       "      <th></th>\n",
       "      <th></th>\n",
       "      <th></th>\n",
       "      <th></th>\n",
       "      <th></th>\n",
       "      <th></th>\n",
       "      <th></th>\n",
       "      <th></th>\n",
       "      <th></th>\n",
       "      <th></th>\n",
       "      <th></th>\n",
       "      <th></th>\n",
       "      <th></th>\n",
       "      <th></th>\n",
       "      <th></th>\n",
       "      <th></th>\n",
       "      <th></th>\n",
       "      <th></th>\n",
       "      <th></th>\n",
       "      <th></th>\n",
       "      <th></th>\n",
       "    </tr>\n",
       "  </thead>\n",
       "  <tbody>\n",
       "    <tr>\n",
       "      <th>2018-03-02 06:00:00</th>\n",
       "      <td>11</td>\n",
       "      <td>3</td>\n",
       "      <td>2</td>\n",
       "      <td>4</td>\n",
       "      <td>6</td>\n",
       "      <td>11.0</td>\n",
       "      <td>20.0</td>\n",
       "      <td>64.0</td>\n",
       "      <td>75.0</td>\n",
       "      <td>120.0</td>\n",
       "      <td>...</td>\n",
       "      <td>48.0</td>\n",
       "      <td>32.0</td>\n",
       "      <td>30.0</td>\n",
       "      <td>96.0</td>\n",
       "      <td>64.0</td>\n",
       "      <td>69.0</td>\n",
       "      <td>34.0</td>\n",
       "      <td>15.0</td>\n",
       "      <td>12.0</td>\n",
       "      <td>58.133333</td>\n",
       "    </tr>\n",
       "    <tr>\n",
       "      <th>2018-03-02 07:00:00</th>\n",
       "      <td>7</td>\n",
       "      <td>3</td>\n",
       "      <td>2</td>\n",
       "      <td>4</td>\n",
       "      <td>7</td>\n",
       "      <td>11.0</td>\n",
       "      <td>11.0</td>\n",
       "      <td>20.0</td>\n",
       "      <td>64.0</td>\n",
       "      <td>75.0</td>\n",
       "      <td>...</td>\n",
       "      <td>66.0</td>\n",
       "      <td>48.0</td>\n",
       "      <td>32.0</td>\n",
       "      <td>30.0</td>\n",
       "      <td>96.0</td>\n",
       "      <td>64.0</td>\n",
       "      <td>69.0</td>\n",
       "      <td>34.0</td>\n",
       "      <td>15.0</td>\n",
       "      <td>54.366667</td>\n",
       "    </tr>\n",
       "    <tr>\n",
       "      <th>2018-03-02 08:00:00</th>\n",
       "      <td>46</td>\n",
       "      <td>3</td>\n",
       "      <td>2</td>\n",
       "      <td>4</td>\n",
       "      <td>8</td>\n",
       "      <td>7.0</td>\n",
       "      <td>11.0</td>\n",
       "      <td>11.0</td>\n",
       "      <td>20.0</td>\n",
       "      <td>64.0</td>\n",
       "      <td>...</td>\n",
       "      <td>43.0</td>\n",
       "      <td>66.0</td>\n",
       "      <td>48.0</td>\n",
       "      <td>32.0</td>\n",
       "      <td>30.0</td>\n",
       "      <td>96.0</td>\n",
       "      <td>64.0</td>\n",
       "      <td>69.0</td>\n",
       "      <td>34.0</td>\n",
       "      <td>51.766667</td>\n",
       "    </tr>\n",
       "    <tr>\n",
       "      <th>2018-03-02 09:00:00</th>\n",
       "      <td>45</td>\n",
       "      <td>3</td>\n",
       "      <td>2</td>\n",
       "      <td>4</td>\n",
       "      <td>9</td>\n",
       "      <td>46.0</td>\n",
       "      <td>7.0</td>\n",
       "      <td>11.0</td>\n",
       "      <td>11.0</td>\n",
       "      <td>20.0</td>\n",
       "      <td>...</td>\n",
       "      <td>44.0</td>\n",
       "      <td>43.0</td>\n",
       "      <td>66.0</td>\n",
       "      <td>48.0</td>\n",
       "      <td>32.0</td>\n",
       "      <td>30.0</td>\n",
       "      <td>96.0</td>\n",
       "      <td>64.0</td>\n",
       "      <td>69.0</td>\n",
       "      <td>50.933333</td>\n",
       "    </tr>\n",
       "    <tr>\n",
       "      <th>2018-03-02 10:00:00</th>\n",
       "      <td>54</td>\n",
       "      <td>3</td>\n",
       "      <td>2</td>\n",
       "      <td>4</td>\n",
       "      <td>10</td>\n",
       "      <td>45.0</td>\n",
       "      <td>46.0</td>\n",
       "      <td>7.0</td>\n",
       "      <td>11.0</td>\n",
       "      <td>11.0</td>\n",
       "      <td>...</td>\n",
       "      <td>73.0</td>\n",
       "      <td>44.0</td>\n",
       "      <td>43.0</td>\n",
       "      <td>66.0</td>\n",
       "      <td>48.0</td>\n",
       "      <td>32.0</td>\n",
       "      <td>30.0</td>\n",
       "      <td>96.0</td>\n",
       "      <td>64.0</td>\n",
       "      <td>50.233333</td>\n",
       "    </tr>\n",
       "    <tr>\n",
       "      <th>2018-03-02 11:00:00</th>\n",
       "      <td>91</td>\n",
       "      <td>3</td>\n",
       "      <td>2</td>\n",
       "      <td>4</td>\n",
       "      <td>11</td>\n",
       "      <td>54.0</td>\n",
       "      <td>45.0</td>\n",
       "      <td>46.0</td>\n",
       "      <td>7.0</td>\n",
       "      <td>11.0</td>\n",
       "      <td>...</td>\n",
       "      <td>45.0</td>\n",
       "      <td>73.0</td>\n",
       "      <td>44.0</td>\n",
       "      <td>43.0</td>\n",
       "      <td>66.0</td>\n",
       "      <td>48.0</td>\n",
       "      <td>32.0</td>\n",
       "      <td>30.0</td>\n",
       "      <td>96.0</td>\n",
       "      <td>50.600000</td>\n",
       "    </tr>\n",
       "    <tr>\n",
       "      <th>2018-03-02 12:00:00</th>\n",
       "      <td>36</td>\n",
       "      <td>3</td>\n",
       "      <td>2</td>\n",
       "      <td>4</td>\n",
       "      <td>12</td>\n",
       "      <td>91.0</td>\n",
       "      <td>54.0</td>\n",
       "      <td>45.0</td>\n",
       "      <td>46.0</td>\n",
       "      <td>7.0</td>\n",
       "      <td>...</td>\n",
       "      <td>61.0</td>\n",
       "      <td>45.0</td>\n",
       "      <td>73.0</td>\n",
       "      <td>44.0</td>\n",
       "      <td>43.0</td>\n",
       "      <td>66.0</td>\n",
       "      <td>48.0</td>\n",
       "      <td>32.0</td>\n",
       "      <td>30.0</td>\n",
       "      <td>53.433333</td>\n",
       "    </tr>\n",
       "    <tr>\n",
       "      <th>2018-03-02 13:00:00</th>\n",
       "      <td>45</td>\n",
       "      <td>3</td>\n",
       "      <td>2</td>\n",
       "      <td>4</td>\n",
       "      <td>13</td>\n",
       "      <td>36.0</td>\n",
       "      <td>91.0</td>\n",
       "      <td>54.0</td>\n",
       "      <td>45.0</td>\n",
       "      <td>46.0</td>\n",
       "      <td>...</td>\n",
       "      <td>66.0</td>\n",
       "      <td>61.0</td>\n",
       "      <td>45.0</td>\n",
       "      <td>73.0</td>\n",
       "      <td>44.0</td>\n",
       "      <td>43.0</td>\n",
       "      <td>66.0</td>\n",
       "      <td>48.0</td>\n",
       "      <td>32.0</td>\n",
       "      <td>54.233333</td>\n",
       "    </tr>\n",
       "    <tr>\n",
       "      <th>2018-03-02 14:00:00</th>\n",
       "      <td>44</td>\n",
       "      <td>3</td>\n",
       "      <td>2</td>\n",
       "      <td>4</td>\n",
       "      <td>14</td>\n",
       "      <td>45.0</td>\n",
       "      <td>36.0</td>\n",
       "      <td>91.0</td>\n",
       "      <td>54.0</td>\n",
       "      <td>45.0</td>\n",
       "      <td>...</td>\n",
       "      <td>113.0</td>\n",
       "      <td>66.0</td>\n",
       "      <td>61.0</td>\n",
       "      <td>45.0</td>\n",
       "      <td>73.0</td>\n",
       "      <td>44.0</td>\n",
       "      <td>43.0</td>\n",
       "      <td>66.0</td>\n",
       "      <td>48.0</td>\n",
       "      <td>55.233333</td>\n",
       "    </tr>\n",
       "    <tr>\n",
       "      <th>2018-03-02 15:00:00</th>\n",
       "      <td>59</td>\n",
       "      <td>3</td>\n",
       "      <td>2</td>\n",
       "      <td>4</td>\n",
       "      <td>15</td>\n",
       "      <td>44.0</td>\n",
       "      <td>45.0</td>\n",
       "      <td>36.0</td>\n",
       "      <td>91.0</td>\n",
       "      <td>54.0</td>\n",
       "      <td>...</td>\n",
       "      <td>58.0</td>\n",
       "      <td>113.0</td>\n",
       "      <td>66.0</td>\n",
       "      <td>61.0</td>\n",
       "      <td>45.0</td>\n",
       "      <td>73.0</td>\n",
       "      <td>44.0</td>\n",
       "      <td>43.0</td>\n",
       "      <td>66.0</td>\n",
       "      <td>55.566667</td>\n",
       "    </tr>\n",
       "  </tbody>\n",
       "</table>\n",
       "<p>10 rows × 30 columns</p>\n",
       "</div>"
      ],
      "text/plain": [
       "                     num_orders  month  day  dayofweek  hour  lag_1  lag_2  \\\n",
       "datetime                                                                     \n",
       "2018-03-02 06:00:00          11      3    2          4     6   11.0   20.0   \n",
       "2018-03-02 07:00:00           7      3    2          4     7   11.0   11.0   \n",
       "2018-03-02 08:00:00          46      3    2          4     8    7.0   11.0   \n",
       "2018-03-02 09:00:00          45      3    2          4     9   46.0    7.0   \n",
       "2018-03-02 10:00:00          54      3    2          4    10   45.0   46.0   \n",
       "2018-03-02 11:00:00          91      3    2          4    11   54.0   45.0   \n",
       "2018-03-02 12:00:00          36      3    2          4    12   91.0   54.0   \n",
       "2018-03-02 13:00:00          45      3    2          4    13   36.0   91.0   \n",
       "2018-03-02 14:00:00          44      3    2          4    14   45.0   36.0   \n",
       "2018-03-02 15:00:00          59      3    2          4    15   44.0   45.0   \n",
       "\n",
       "                     lag_3  lag_4  lag_5  ...  lag_16  lag_17  lag_18  lag_19  \\\n",
       "datetime                                  ...                                   \n",
       "2018-03-02 06:00:00   64.0   75.0  120.0  ...    48.0    32.0    30.0    96.0   \n",
       "2018-03-02 07:00:00   20.0   64.0   75.0  ...    66.0    48.0    32.0    30.0   \n",
       "2018-03-02 08:00:00   11.0   20.0   64.0  ...    43.0    66.0    48.0    32.0   \n",
       "2018-03-02 09:00:00   11.0   11.0   20.0  ...    44.0    43.0    66.0    48.0   \n",
       "2018-03-02 10:00:00    7.0   11.0   11.0  ...    73.0    44.0    43.0    66.0   \n",
       "2018-03-02 11:00:00   46.0    7.0   11.0  ...    45.0    73.0    44.0    43.0   \n",
       "2018-03-02 12:00:00   45.0   46.0    7.0  ...    61.0    45.0    73.0    44.0   \n",
       "2018-03-02 13:00:00   54.0   45.0   46.0  ...    66.0    61.0    45.0    73.0   \n",
       "2018-03-02 14:00:00   91.0   54.0   45.0  ...   113.0    66.0    61.0    45.0   \n",
       "2018-03-02 15:00:00   36.0   91.0   54.0  ...    58.0   113.0    66.0    61.0   \n",
       "\n",
       "                     lag_20  lag_21  lag_22  lag_23  lag_24  rolling_mean  \n",
       "datetime                                                                   \n",
       "2018-03-02 06:00:00    64.0    69.0    34.0    15.0    12.0     58.133333  \n",
       "2018-03-02 07:00:00    96.0    64.0    69.0    34.0    15.0     54.366667  \n",
       "2018-03-02 08:00:00    30.0    96.0    64.0    69.0    34.0     51.766667  \n",
       "2018-03-02 09:00:00    32.0    30.0    96.0    64.0    69.0     50.933333  \n",
       "2018-03-02 10:00:00    48.0    32.0    30.0    96.0    64.0     50.233333  \n",
       "2018-03-02 11:00:00    66.0    48.0    32.0    30.0    96.0     50.600000  \n",
       "2018-03-02 12:00:00    43.0    66.0    48.0    32.0    30.0     53.433333  \n",
       "2018-03-02 13:00:00    44.0    43.0    66.0    48.0    32.0     54.233333  \n",
       "2018-03-02 14:00:00    73.0    44.0    43.0    66.0    48.0     55.233333  \n",
       "2018-03-02 15:00:00    45.0    73.0    44.0    43.0    66.0     55.566667  \n",
       "\n",
       "[10 rows x 30 columns]"
      ]
     },
     "execution_count": 11,
     "metadata": {},
     "output_type": "execute_result"
    }
   ],
   "source": [
    "make_features(data, 24, 30)\n",
    "data = data.dropna()\n",
    "data.head(10)"
   ]
  },
  {
   "cell_type": "markdown",
   "metadata": {},
   "source": [
    "## Обучение"
   ]
  },
  {
   "cell_type": "markdown",
   "metadata": {},
   "source": [
    "Подберём лучшую модель. "
   ]
  },
  {
   "cell_type": "code",
   "execution_count": 12,
   "metadata": {},
   "outputs": [],
   "source": [
    "train, test = train_test_split(data, test_size = 0.1, shuffle = False)\n",
    "\n",
    "X_train = train.drop('num_orders', axis = 1)\n",
    "Y_train = train['num_orders']\n",
    "X_test = test.drop('num_orders', axis = 1)\n",
    "Y_test = test['num_orders']"
   ]
  },
  {
   "cell_type": "code",
   "execution_count": 13,
   "metadata": {},
   "outputs": [],
   "source": [
    "RANDOM_STATE = 42\n",
    "data_preprocessor = ColumnTransformer(\n",
    "    [\n",
    "        ('num', StandardScaler(), X_train.columns)\n",
    "    ], \n",
    "    remainder='passthrough'\n",
    ")\n",
    "\n",
    "pipe_final = Pipeline(\n",
    "    [\n",
    "        ('preprocessor', data_preprocessor),\n",
    "        ('model', LinearRegression(n_jobs=-1))\n",
    "    ]\n",
    ")\n",
    "\n"
   ]
  },
  {
   "cell_type": "code",
   "execution_count": 14,
   "metadata": {},
   "outputs": [
    {
     "name": "stdout",
     "output_type": "stream",
     "text": [
      "Лучшая модель и её параметры:\n",
      "\n",
      " Pipeline(steps=[('preprocessor',\n",
      "                 ColumnTransformer(remainder='passthrough',\n",
      "                                   transformers=[('num', MinMaxScaler(),\n",
      "                                                  Index(['month', 'day', 'dayofweek', 'hour', 'lag_1', 'lag_2', 'lag_3', 'lag_4',\n",
      "       'lag_5', 'lag_6', 'lag_7', 'lag_8', 'lag_9', 'lag_10', 'lag_11',\n",
      "       'lag_12', 'lag_13', 'lag_14', 'lag_15', 'lag_16', 'lag_17', 'lag_18',\n",
      "       'lag_19', 'lag_20', 'lag_21', 'lag_22', 'lag_23', 'lag_24',\n",
      "       'rolling_mean'],\n",
      "      dtype='object'))])),\n",
      "                ('model', LGBMRegressor(max_depth=8))])\n"
     ]
    }
   ],
   "source": [
    "param_grid = [\n",
    "    {\n",
    "        'model': [LinearRegression(n_jobs=-1)],\n",
    "        'preprocessor__num': [StandardScaler(), MinMaxScaler(), 'passthrough'],\n",
    "    },\n",
    "    {\n",
    "        'model': [LGBMRegressor()],\n",
    "        'preprocessor__num': [StandardScaler(), MinMaxScaler(), 'passthrough'],\n",
    "        'model__boosting_type': ['gbdt', 'dart'],\n",
    "        'model__max_depth': list(range(4,16,4))\n",
    "    }\n",
    "]\n",
    "\n",
    "tscv = TimeSeriesSplit(n_splits=5)\n",
    "grid_search = GridSearchCV(pipe_final, \n",
    "param_grid, \n",
    "cv=tscv, \n",
    "scoring='neg_mean_squared_error')\n",
    "grid_search.fit(X_train,Y_train)\n",
    "print('Лучшая модель и её параметры:\\n\\n', grid_search.best_estimator_)\n"
   ]
  },
  {
   "cell_type": "markdown",
   "metadata": {},
   "source": [
    "## Тестирование"
   ]
  },
  {
   "cell_type": "code",
   "execution_count": 15,
   "metadata": {},
   "outputs": [
    {
     "name": "stdout",
     "output_type": "stream",
     "text": [
      "RMSE лучшей модели на тестовой выборки: 40.4\n"
     ]
    }
   ],
   "source": [
    "best_model = grid_search.best_estimator_\n",
    "y_pred = best_model.predict(X_test)\n",
    "MSE = mean_squared_error(y_pred, Y_test)\n",
    "print(f'RMSE лучшей модели на тестовой выборки: {round(MSE**0.5,1)}')"
   ]
  },
  {
   "cell_type": "markdown",
   "metadata": {},
   "source": [
    "Посмотрим графически на то, как модель научилась предсказывать будущие значения. "
   ]
  },
  {
   "cell_type": "code",
   "execution_count": 28,
   "metadata": {},
   "outputs": [
    {
     "data": {
      "image/png": "[encoded data removed]",
      "text/plain": [
       "<Figure size 864x432 with 1 Axes>"
      ]
     },
     "metadata": {
      "needs_background": "light"
     },
     "output_type": "display_data"
    }
   ],
   "source": [
    "Y_point = pd.DataFrame(Y_test)\n",
    "Y_point['predict'] = y_pred\n",
    "Y_point.columns = ['Истинные значения', \"Предсказанные значения\"]\n",
    "Y_point.plot(figsize=(12, 6))\n",
    "plt.title('Истинные и предсказанные значения временного ряда')\n",
    "plt.xlabel('Время') \n",
    "plt.ylabel('Количество вызовов')\n",
    "plt.grid()\n",
    "plt.show()"
   ]
  },
  {
   "cell_type": "markdown",
   "metadata": {},
   "source": [
    "### Общий вывод:"
   ]
  },
  {
   "cell_type": "markdown",
   "metadata": {},
   "source": [
    "**Ключевая цель и результат:**\n",
    "\n",
    "Была построена регрессионая модель, которая позволяет предсказывать будущие значения временного ряда с высокой точностью. Поставленная задача успешно выполнена. \n",
    "\n",
    "**Что было сделано для выполнения задачи:**\n",
    "\n",
    "1. Данные подготовлены для анализа. \n",
    "2. Проведён первичный анализ данных: наличие дубликатов, распределение данных. \n",
    "3. Проведён анализ временного ряда. Выделены и проанализированы ключевые компоненты ряды: тренд, сезонность и шум. \n",
    "4. Добавлены признаки, которые будут использоваться моделями для предсказания будущих значений ряда. \n",
    "5. С помощью перебора гиперпараметров и способ нормализации была подобрана лучшая модель.\n",
    "6. Лучшая модель во время обучения была проверена на тестовой выборке. "
   ]
  }
 ],
 "metadata": {
  "ExecuteTimeLog": [
   {
    "duration": 49,
    "start_time": "2025-04-03T11:51:09.994Z"
   },
   {
    "duration": 360,
    "start_time": "2025-04-03T11:51:12.609Z"
   },
   {
    "duration": 55,
    "start_time": "2025-04-03T11:51:14.278Z"
   },
   {
    "duration": 41,
    "start_time": "2025-04-03T11:53:15.476Z"
   },
   {
    "duration": 46,
    "start_time": "2025-04-03T11:55:19.527Z"
   },
   {
    "duration": 42,
    "start_time": "2025-04-03T11:56:09.224Z"
   },
   {
    "duration": 49,
    "start_time": "2025-04-03T11:57:26.171Z"
   },
   {
    "duration": 663,
    "start_time": "2025-04-03T11:57:39.776Z"
   },
   {
    "duration": 244,
    "start_time": "2025-04-03T11:59:44.732Z"
   },
   {
    "duration": 39,
    "start_time": "2025-04-03T12:00:28.805Z"
   },
   {
    "duration": 510,
    "start_time": "2025-04-03T12:00:45.795Z"
   },
   {
    "duration": 1019,
    "start_time": "2025-04-03T12:00:51.315Z"
   },
   {
    "duration": 344,
    "start_time": "2025-04-03T12:00:52.336Z"
   },
   {
    "duration": 689,
    "start_time": "2025-04-03T12:00:52.682Z"
   },
   {
    "duration": 507,
    "start_time": "2025-04-03T12:03:05.124Z"
   },
   {
    "duration": 11,
    "start_time": "2025-04-03T12:04:20.638Z"
   },
   {
    "duration": 135,
    "start_time": "2025-04-03T12:04:48.254Z"
   },
   {
    "duration": 5,
    "start_time": "2025-04-03T12:06:14.975Z"
   },
   {
    "duration": 5,
    "start_time": "2025-04-03T12:06:28.310Z"
   },
   {
    "duration": 1042,
    "start_time": "2025-04-03T12:07:33.104Z"
   },
   {
    "duration": 101,
    "start_time": "2025-04-03T12:07:34.148Z"
   },
   {
    "duration": 7,
    "start_time": "2025-04-03T12:07:34.251Z"
   },
   {
    "duration": 9,
    "start_time": "2025-04-03T12:07:34.260Z"
   },
   {
    "duration": 568,
    "start_time": "2025-04-03T12:07:34.270Z"
   },
   {
    "duration": 159,
    "start_time": "2025-04-03T12:07:34.840Z"
   },
   {
    "duration": 1083,
    "start_time": "2025-04-03T12:09:16.956Z"
   },
   {
    "duration": 105,
    "start_time": "2025-04-03T12:09:18.041Z"
   },
   {
    "duration": 10,
    "start_time": "2025-04-03T12:09:18.148Z"
   },
   {
    "duration": 538,
    "start_time": "2025-04-03T12:09:18.160Z"
   },
   {
    "duration": 160,
    "start_time": "2025-04-03T12:09:18.700Z"
   },
   {
    "duration": 10,
    "start_time": "2025-04-03T12:11:32.349Z"
   },
   {
    "duration": 1088,
    "start_time": "2025-04-03T12:12:34.148Z"
   },
   {
    "duration": 97,
    "start_time": "2025-04-03T12:12:35.238Z"
   },
   {
    "duration": 10,
    "start_time": "2025-04-03T12:12:35.337Z"
   },
   {
    "duration": 30,
    "start_time": "2025-04-03T12:12:35.349Z"
   },
   {
    "duration": 10,
    "start_time": "2025-04-03T12:12:35.380Z"
   },
   {
    "duration": 539,
    "start_time": "2025-04-03T12:12:35.391Z"
   },
   {
    "duration": 156,
    "start_time": "2025-04-03T12:12:35.931Z"
   },
   {
    "duration": 1149,
    "start_time": "2025-04-03T12:14:25.523Z"
   },
   {
    "duration": 97,
    "start_time": "2025-04-03T12:14:26.674Z"
   },
   {
    "duration": 10,
    "start_time": "2025-04-03T12:14:26.772Z"
   },
   {
    "duration": 26,
    "start_time": "2025-04-03T12:14:26.784Z"
   },
   {
    "duration": 8,
    "start_time": "2025-04-03T12:14:26.812Z"
   },
   {
    "duration": 529,
    "start_time": "2025-04-03T12:14:26.821Z"
   },
   {
    "duration": 161,
    "start_time": "2025-04-03T12:14:27.352Z"
   },
   {
    "duration": 1066,
    "start_time": "2025-04-03T12:17:39.188Z"
   },
   {
    "duration": 63,
    "start_time": "2025-04-03T12:17:40.256Z"
   },
   {
    "duration": 46,
    "start_time": "2025-04-03T12:17:40.321Z"
   },
   {
    "duration": 9,
    "start_time": "2025-04-03T12:17:40.369Z"
   },
   {
    "duration": 49,
    "start_time": "2025-04-03T12:17:40.380Z"
   },
   {
    "duration": 9,
    "start_time": "2025-04-03T12:17:40.431Z"
   },
   {
    "duration": 117,
    "start_time": "2025-04-03T12:17:40.442Z"
   },
   {
    "duration": 0,
    "start_time": "2025-04-03T12:17:40.561Z"
   },
   {
    "duration": 0,
    "start_time": "2025-04-03T12:17:40.562Z"
   },
   {
    "duration": 1239,
    "start_time": "2025-04-03T12:18:14.155Z"
   },
   {
    "duration": 6,
    "start_time": "2025-04-03T12:18:15.396Z"
   },
   {
    "duration": 273,
    "start_time": "2025-04-03T12:18:15.404Z"
   },
   {
    "duration": 10,
    "start_time": "2025-04-03T12:18:15.679Z"
   },
   {
    "duration": 10,
    "start_time": "2025-04-03T12:18:15.690Z"
   },
   {
    "duration": 9,
    "start_time": "2025-04-03T12:18:15.702Z"
   },
   {
    "duration": 1283,
    "start_time": "2025-04-03T12:18:15.712Z"
   },
   {
    "duration": 0,
    "start_time": "2025-04-03T12:18:16.997Z"
   },
   {
    "duration": 0,
    "start_time": "2025-04-03T12:18:16.998Z"
   },
   {
    "duration": 1241,
    "start_time": "2025-04-03T12:21:00.907Z"
   },
   {
    "duration": 5,
    "start_time": "2025-04-03T12:21:02.150Z"
   },
   {
    "duration": 64,
    "start_time": "2025-04-03T12:21:02.157Z"
   },
   {
    "duration": 9,
    "start_time": "2025-04-03T12:21:02.223Z"
   },
   {
    "duration": 10,
    "start_time": "2025-04-03T12:21:02.233Z"
   },
   {
    "duration": 9,
    "start_time": "2025-04-03T12:21:02.245Z"
   },
   {
    "duration": 163,
    "start_time": "2025-04-03T12:21:02.255Z"
   },
   {
    "duration": 517,
    "start_time": "2025-04-03T12:21:02.420Z"
   },
   {
    "duration": 159,
    "start_time": "2025-04-03T12:21:02.939Z"
   },
   {
    "duration": 1145,
    "start_time": "2025-04-03T12:28:04.609Z"
   },
   {
    "duration": 6,
    "start_time": "2025-04-03T12:28:05.756Z"
   },
   {
    "duration": 58,
    "start_time": "2025-04-03T12:28:05.763Z"
   },
   {
    "duration": 10,
    "start_time": "2025-04-03T12:28:05.823Z"
   },
   {
    "duration": 12,
    "start_time": "2025-04-03T12:28:05.834Z"
   },
   {
    "duration": 131,
    "start_time": "2025-04-03T12:28:05.848Z"
   },
   {
    "duration": 230,
    "start_time": "2025-04-03T12:28:05.981Z"
   },
   {
    "duration": 539,
    "start_time": "2025-04-03T12:28:06.213Z"
   },
   {
    "duration": 156,
    "start_time": "2025-04-03T12:28:06.755Z"
   },
   {
    "duration": 574,
    "start_time": "2025-04-03T12:29:52.617Z"
   },
   {
    "duration": 648,
    "start_time": "2025-04-03T12:30:09.729Z"
   },
   {
    "duration": 1485,
    "start_time": "2025-04-03T13:07:37.896Z"
   },
   {
    "duration": 9,
    "start_time": "2025-04-03T13:07:39.384Z"
   },
   {
    "duration": 58,
    "start_time": "2025-04-03T13:07:39.395Z"
   },
   {
    "duration": 12,
    "start_time": "2025-04-03T13:07:39.455Z"
   },
   {
    "duration": 10,
    "start_time": "2025-04-03T13:07:39.469Z"
   },
   {
    "duration": 135,
    "start_time": "2025-04-03T13:07:39.480Z"
   },
   {
    "duration": 231,
    "start_time": "2025-04-03T13:07:39.617Z"
   },
   {
    "duration": 33,
    "start_time": "2025-04-03T13:07:39.854Z"
   },
   {
    "duration": 144,
    "start_time": "2025-04-03T13:07:39.889Z"
   },
   {
    "duration": 0,
    "start_time": "2025-04-03T13:07:40.034Z"
   },
   {
    "duration": 648,
    "start_time": "2025-04-03T13:08:42.836Z"
   },
   {
    "duration": 245,
    "start_time": "2025-04-03T13:08:47.827Z"
   },
   {
    "duration": 26,
    "start_time": "2025-04-03T13:09:12.067Z"
   },
   {
    "duration": 1472,
    "start_time": "2025-04-03T13:12:20.295Z"
   },
   {
    "duration": 7,
    "start_time": "2025-04-03T13:12:21.771Z"
   },
   {
    "duration": 74,
    "start_time": "2025-04-03T13:12:21.780Z"
   },
   {
    "duration": 11,
    "start_time": "2025-04-03T13:12:21.856Z"
   },
   {
    "duration": 11,
    "start_time": "2025-04-03T13:12:21.869Z"
   },
   {
    "duration": 145,
    "start_time": "2025-04-03T13:12:21.882Z"
   },
   {
    "duration": 231,
    "start_time": "2025-04-03T13:12:22.029Z"
   },
   {
    "duration": 28,
    "start_time": "2025-04-03T13:12:22.261Z"
   },
   {
    "duration": 600,
    "start_time": "2025-04-03T13:12:22.291Z"
   },
   {
    "duration": 221,
    "start_time": "2025-04-03T13:12:22.893Z"
   },
   {
    "duration": 1544,
    "start_time": "2025-04-03T13:34:07.038Z"
   },
   {
    "duration": 83,
    "start_time": "2025-04-03T13:34:08.584Z"
   },
   {
    "duration": 0,
    "start_time": "2025-04-03T13:34:08.668Z"
   },
   {
    "duration": 0,
    "start_time": "2025-04-03T13:34:08.669Z"
   },
   {
    "duration": 0,
    "start_time": "2025-04-03T13:34:08.670Z"
   },
   {
    "duration": 0,
    "start_time": "2025-04-03T13:34:08.672Z"
   },
   {
    "duration": 0,
    "start_time": "2025-04-03T13:34:08.673Z"
   },
   {
    "duration": 0,
    "start_time": "2025-04-03T13:34:08.674Z"
   },
   {
    "duration": 0,
    "start_time": "2025-04-03T13:34:08.675Z"
   },
   {
    "duration": 0,
    "start_time": "2025-04-03T13:34:08.677Z"
   },
   {
    "duration": 1545,
    "start_time": "2025-04-03T13:34:35.743Z"
   },
   {
    "duration": 11,
    "start_time": "2025-04-03T13:34:37.290Z"
   },
   {
    "duration": 72,
    "start_time": "2025-04-03T13:34:37.303Z"
   },
   {
    "duration": 11,
    "start_time": "2025-04-03T13:34:37.377Z"
   },
   {
    "duration": 43,
    "start_time": "2025-04-03T13:34:37.390Z"
   },
   {
    "duration": 129,
    "start_time": "2025-04-03T13:34:37.434Z"
   },
   {
    "duration": 242,
    "start_time": "2025-04-03T13:34:37.565Z"
   },
   {
    "duration": 28,
    "start_time": "2025-04-03T13:34:37.808Z"
   },
   {
    "duration": 140,
    "start_time": "2025-04-03T13:34:37.838Z"
   },
   {
    "duration": 0,
    "start_time": "2025-04-03T13:34:37.980Z"
   },
   {
    "duration": 1565,
    "start_time": "2025-04-03T13:35:05.753Z"
   },
   {
    "duration": 9,
    "start_time": "2025-04-03T13:35:07.320Z"
   },
   {
    "duration": 71,
    "start_time": "2025-04-03T13:35:07.331Z"
   },
   {
    "duration": 10,
    "start_time": "2025-04-03T13:35:07.404Z"
   },
   {
    "duration": 22,
    "start_time": "2025-04-03T13:35:07.415Z"
   },
   {
    "duration": 126,
    "start_time": "2025-04-03T13:35:07.439Z"
   },
   {
    "duration": 239,
    "start_time": "2025-04-03T13:35:07.567Z"
   },
   {
    "duration": 27,
    "start_time": "2025-04-03T13:35:07.808Z"
   },
   {
    "duration": 143,
    "start_time": "2025-04-03T13:35:07.836Z"
   },
   {
    "duration": 0,
    "start_time": "2025-04-03T13:35:07.980Z"
   },
   {
    "duration": 76,
    "start_time": "2025-04-03T13:36:07.325Z"
   },
   {
    "duration": 84,
    "start_time": "2025-04-03T13:36:18.880Z"
   },
   {
    "duration": 69,
    "start_time": "2025-04-03T13:36:32.352Z"
   },
   {
    "duration": 1513,
    "start_time": "2025-04-03T13:38:56.642Z"
   },
   {
    "duration": 10,
    "start_time": "2025-04-03T13:38:58.158Z"
   },
   {
    "duration": 61,
    "start_time": "2025-04-03T13:38:58.170Z"
   },
   {
    "duration": 11,
    "start_time": "2025-04-03T13:38:58.234Z"
   },
   {
    "duration": 19,
    "start_time": "2025-04-03T13:38:58.246Z"
   },
   {
    "duration": 130,
    "start_time": "2025-04-03T13:38:58.267Z"
   },
   {
    "duration": 245,
    "start_time": "2025-04-03T13:38:58.399Z"
   },
   {
    "duration": 33,
    "start_time": "2025-04-03T13:38:58.645Z"
   },
   {
    "duration": 88,
    "start_time": "2025-04-03T13:38:58.679Z"
   },
   {
    "duration": 0,
    "start_time": "2025-04-03T13:38:58.768Z"
   },
   {
    "duration": 1512,
    "start_time": "2025-04-03T13:40:43.482Z"
   },
   {
    "duration": 9,
    "start_time": "2025-04-03T13:40:44.996Z"
   },
   {
    "duration": 129,
    "start_time": "2025-04-03T13:40:45.007Z"
   },
   {
    "duration": 10,
    "start_time": "2025-04-03T13:40:45.139Z"
   },
   {
    "duration": 62,
    "start_time": "2025-04-03T13:40:45.151Z"
   },
   {
    "duration": 153,
    "start_time": "2025-04-03T13:40:45.215Z"
   },
   {
    "duration": 247,
    "start_time": "2025-04-03T13:40:45.370Z"
   },
   {
    "duration": 37,
    "start_time": "2025-04-03T13:40:45.618Z"
   },
   {
    "duration": 1952,
    "start_time": "2025-04-03T13:40:45.657Z"
   },
   {
    "duration": 0,
    "start_time": "2025-04-03T13:40:47.610Z"
   },
   {
    "duration": 1342,
    "start_time": "2025-04-03T13:41:56.426Z"
   },
   {
    "duration": 1440,
    "start_time": "2025-04-03T13:42:57.995Z"
   },
   {
    "duration": 9,
    "start_time": "2025-04-03T13:42:59.437Z"
   },
   {
    "duration": 64,
    "start_time": "2025-04-03T13:42:59.447Z"
   },
   {
    "duration": 9,
    "start_time": "2025-04-03T13:42:59.514Z"
   },
   {
    "duration": 16,
    "start_time": "2025-04-03T13:42:59.525Z"
   },
   {
    "duration": 143,
    "start_time": "2025-04-03T13:42:59.542Z"
   },
   {
    "duration": 231,
    "start_time": "2025-04-03T13:42:59.688Z"
   },
   {
    "duration": 37,
    "start_time": "2025-04-03T13:42:59.921Z"
   },
   {
    "duration": 1591,
    "start_time": "2025-04-03T13:42:59.960Z"
   },
   {
    "duration": 0,
    "start_time": "2025-04-03T13:43:01.554Z"
   },
   {
    "duration": 1504,
    "start_time": "2025-04-03T13:44:53.764Z"
   },
   {
    "duration": 9,
    "start_time": "2025-04-03T13:44:55.270Z"
   },
   {
    "duration": 64,
    "start_time": "2025-04-03T13:44:55.282Z"
   },
   {
    "duration": 11,
    "start_time": "2025-04-03T13:44:55.349Z"
   },
   {
    "duration": 25,
    "start_time": "2025-04-03T13:44:55.362Z"
   },
   {
    "duration": 134,
    "start_time": "2025-04-03T13:44:55.389Z"
   },
   {
    "duration": 236,
    "start_time": "2025-04-03T13:44:55.525Z"
   },
   {
    "duration": 32,
    "start_time": "2025-04-03T13:44:55.763Z"
   },
   {
    "duration": 166,
    "start_time": "2025-04-03T13:44:55.796Z"
   },
   {
    "duration": 0,
    "start_time": "2025-04-03T13:44:55.964Z"
   },
   {
    "duration": 903,
    "start_time": "2025-04-03T13:45:08.194Z"
   },
   {
    "duration": 499,
    "start_time": "2025-04-03T13:45:35.663Z"
   },
   {
    "duration": 8,
    "start_time": "2025-04-03T13:55:58.279Z"
   },
   {
    "duration": 132,
    "start_time": "2025-04-03T13:56:09.074Z"
   },
   {
    "duration": 34,
    "start_time": "2025-04-03T14:04:47.902Z"
   },
   {
    "duration": 1448,
    "start_time": "2025-04-03T16:19:12.478Z"
   },
   {
    "duration": 9,
    "start_time": "2025-04-03T16:19:13.928Z"
   },
   {
    "duration": 60,
    "start_time": "2025-04-03T16:19:13.939Z"
   },
   {
    "duration": 9,
    "start_time": "2025-04-03T16:19:14.001Z"
   },
   {
    "duration": 19,
    "start_time": "2025-04-03T16:19:14.011Z"
   },
   {
    "duration": 115,
    "start_time": "2025-04-03T16:19:14.031Z"
   },
   {
    "duration": 224,
    "start_time": "2025-04-03T16:19:14.148Z"
   },
   {
    "duration": 825,
    "start_time": "2025-04-03T16:19:14.374Z"
   },
   {
    "duration": 480,
    "start_time": "2025-04-03T16:19:15.201Z"
   },
   {
    "duration": 146,
    "start_time": "2025-04-03T16:19:15.683Z"
   },
   {
    "duration": 38,
    "start_time": "2025-04-03T16:19:15.830Z"
   },
   {
    "duration": 120,
    "start_time": "2025-04-03T16:19:15.869Z"
   },
   {
    "duration": 0,
    "start_time": "2025-04-03T16:19:15.990Z"
   },
   {
    "duration": 0,
    "start_time": "2025-04-03T16:19:15.992Z"
   },
   {
    "duration": 1521,
    "start_time": "2025-04-03T16:19:45.639Z"
   },
   {
    "duration": 9,
    "start_time": "2025-04-03T16:19:47.161Z"
   },
   {
    "duration": 56,
    "start_time": "2025-04-03T16:19:47.172Z"
   },
   {
    "duration": 10,
    "start_time": "2025-04-03T16:19:47.229Z"
   },
   {
    "duration": 15,
    "start_time": "2025-04-03T16:19:47.240Z"
   },
   {
    "duration": 120,
    "start_time": "2025-04-03T16:19:47.256Z"
   },
   {
    "duration": 229,
    "start_time": "2025-04-03T16:19:47.378Z"
   },
   {
    "duration": 804,
    "start_time": "2025-04-03T16:19:47.608Z"
   },
   {
    "duration": 538,
    "start_time": "2025-04-03T16:19:48.414Z"
   },
   {
    "duration": 145,
    "start_time": "2025-04-03T16:19:48.955Z"
   },
   {
    "duration": 31,
    "start_time": "2025-04-03T16:19:49.102Z"
   },
   {
    "duration": 130,
    "start_time": "2025-04-03T16:19:49.134Z"
   },
   {
    "duration": 0,
    "start_time": "2025-04-03T16:19:49.265Z"
   },
   {
    "duration": 0,
    "start_time": "2025-04-03T16:19:49.266Z"
   },
   {
    "duration": 1695,
    "start_time": "2025-04-03T16:21:32.864Z"
   },
   {
    "duration": 9,
    "start_time": "2025-04-03T16:21:34.561Z"
   },
   {
    "duration": 55,
    "start_time": "2025-04-03T16:21:34.571Z"
   },
   {
    "duration": 9,
    "start_time": "2025-04-03T16:21:34.628Z"
   },
   {
    "duration": 20,
    "start_time": "2025-04-03T16:21:34.638Z"
   },
   {
    "duration": 123,
    "start_time": "2025-04-03T16:21:34.659Z"
   },
   {
    "duration": 242,
    "start_time": "2025-04-03T16:21:34.784Z"
   },
   {
    "duration": 843,
    "start_time": "2025-04-03T16:21:35.028Z"
   },
   {
    "duration": 482,
    "start_time": "2025-04-03T16:21:35.872Z"
   },
   {
    "duration": 170,
    "start_time": "2025-04-03T16:21:36.358Z"
   },
   {
    "duration": 40,
    "start_time": "2025-04-03T16:21:36.530Z"
   },
   {
    "duration": 7,
    "start_time": "2025-04-03T16:21:36.571Z"
   },
   {
    "duration": 5,
    "start_time": "2025-04-03T16:21:36.579Z"
   },
   {
    "duration": 131,
    "start_time": "2025-04-03T16:21:36.585Z"
   },
   {
    "duration": 7201,
    "start_time": "2025-04-03T16:21:58.556Z"
   },
   {
    "duration": 7560,
    "start_time": "2025-04-03T16:23:58.352Z"
   },
   {
    "duration": 6,
    "start_time": "2025-04-03T16:24:24.171Z"
   },
   {
    "duration": 7275,
    "start_time": "2025-04-03T16:24:33.974Z"
   },
   {
    "duration": 8,
    "start_time": "2025-04-03T16:25:10.000Z"
   },
   {
    "duration": 7,
    "start_time": "2025-04-03T16:25:47.682Z"
   },
   {
    "duration": 4,
    "start_time": "2025-04-03T16:25:49.145Z"
   },
   {
    "duration": 29013,
    "start_time": "2025-04-03T16:25:51.073Z"
   },
   {
    "duration": 28787,
    "start_time": "2025-04-03T16:28:42.867Z"
   },
   {
    "duration": 28871,
    "start_time": "2025-04-03T16:29:50.142Z"
   },
   {
    "duration": 28456,
    "start_time": "2025-04-03T16:31:14.902Z"
   },
   {
    "duration": 28489,
    "start_time": "2025-04-03T16:38:23.888Z"
   },
   {
    "duration": 10,
    "start_time": "2025-04-03T16:53:04.035Z"
   },
   {
    "duration": 10,
    "start_time": "2025-04-03T16:53:18.372Z"
   },
   {
    "duration": 718,
    "start_time": "2025-04-03T16:56:03.044Z"
   },
   {
    "duration": 12,
    "start_time": "2025-04-03T17:19:41.084Z"
   },
   {
    "duration": 1439,
    "start_time": "2025-04-03T17:19:48.091Z"
   },
   {
    "duration": 10,
    "start_time": "2025-04-03T17:19:49.532Z"
   },
   {
    "duration": 59,
    "start_time": "2025-04-03T17:19:49.544Z"
   },
   {
    "duration": 10,
    "start_time": "2025-04-03T17:19:49.605Z"
   },
   {
    "duration": 18,
    "start_time": "2025-04-03T17:19:49.617Z"
   },
   {
    "duration": 131,
    "start_time": "2025-04-03T17:19:49.637Z"
   },
   {
    "duration": 239,
    "start_time": "2025-04-03T17:19:49.770Z"
   },
   {
    "duration": 832,
    "start_time": "2025-04-03T17:19:50.011Z"
   },
   {
    "duration": 511,
    "start_time": "2025-04-03T17:19:50.846Z"
   },
   {
    "duration": 149,
    "start_time": "2025-04-03T17:19:51.360Z"
   },
   {
    "duration": 30,
    "start_time": "2025-04-03T17:19:51.511Z"
   },
   {
    "duration": 8,
    "start_time": "2025-04-03T17:19:51.553Z"
   },
   {
    "duration": 34,
    "start_time": "2025-04-03T17:19:51.563Z"
   },
   {
    "duration": 146,
    "start_time": "2025-04-03T17:19:51.599Z"
   },
   {
    "duration": 0,
    "start_time": "2025-04-03T17:19:51.748Z"
   },
   {
    "duration": 0,
    "start_time": "2025-04-03T17:19:51.754Z"
   },
   {
    "duration": 1448,
    "start_time": "2025-04-03T17:24:56.076Z"
   },
   {
    "duration": 10,
    "start_time": "2025-04-03T17:24:57.526Z"
   },
   {
    "duration": 59,
    "start_time": "2025-04-03T17:24:57.537Z"
   },
   {
    "duration": 10,
    "start_time": "2025-04-03T17:24:57.598Z"
   },
   {
    "duration": 16,
    "start_time": "2025-04-03T17:24:57.609Z"
   },
   {
    "duration": 135,
    "start_time": "2025-04-03T17:24:57.626Z"
   },
   {
    "duration": 225,
    "start_time": "2025-04-03T17:24:57.762Z"
   },
   {
    "duration": 824,
    "start_time": "2025-04-03T17:24:57.988Z"
   },
   {
    "duration": 478,
    "start_time": "2025-04-03T17:24:58.814Z"
   },
   {
    "duration": 144,
    "start_time": "2025-04-03T17:24:59.294Z"
   },
   {
    "duration": 36,
    "start_time": "2025-04-03T17:24:59.440Z"
   },
   {
    "duration": 6,
    "start_time": "2025-04-03T17:24:59.478Z"
   },
   {
    "duration": 5,
    "start_time": "2025-04-03T17:24:59.486Z"
   },
   {
    "duration": 13302,
    "start_time": "2025-04-03T17:24:59.492Z"
   },
   {
    "duration": 1487,
    "start_time": "2025-04-03T17:25:41.141Z"
   },
   {
    "duration": 9,
    "start_time": "2025-04-03T17:25:42.630Z"
   },
   {
    "duration": 52,
    "start_time": "2025-04-03T17:25:42.640Z"
   },
   {
    "duration": 9,
    "start_time": "2025-04-03T17:25:42.694Z"
   },
   {
    "duration": 15,
    "start_time": "2025-04-03T17:25:42.704Z"
   },
   {
    "duration": 125,
    "start_time": "2025-04-03T17:25:42.720Z"
   },
   {
    "duration": 227,
    "start_time": "2025-04-03T17:25:42.846Z"
   },
   {
    "duration": 831,
    "start_time": "2025-04-03T17:25:43.075Z"
   },
   {
    "duration": 482,
    "start_time": "2025-04-03T17:25:43.908Z"
   },
   {
    "duration": 145,
    "start_time": "2025-04-03T17:25:44.392Z"
   },
   {
    "duration": 37,
    "start_time": "2025-04-03T17:25:44.539Z"
   },
   {
    "duration": 6,
    "start_time": "2025-04-03T17:25:44.578Z"
   },
   {
    "duration": 8,
    "start_time": "2025-04-03T17:25:44.586Z"
   },
   {
    "duration": 13069,
    "start_time": "2025-04-03T17:25:44.596Z"
   },
   {
    "duration": 114,
    "start_time": "2025-04-03T17:32:02.723Z"
   },
   {
    "duration": 10,
    "start_time": "2025-04-03T17:32:30.104Z"
   },
   {
    "duration": 15,
    "start_time": "2025-04-03T17:34:10.374Z"
   },
   {
    "duration": 14,
    "start_time": "2025-04-03T17:34:26.994Z"
   },
   {
    "duration": 9,
    "start_time": "2025-04-03T17:34:31.932Z"
   },
   {
    "duration": 14574,
    "start_time": "2025-04-03T17:40:30.481Z"
   },
   {
    "duration": 1541,
    "start_time": "2025-04-03T17:44:00.450Z"
   },
   {
    "duration": 10,
    "start_time": "2025-04-03T17:44:01.993Z"
   },
   {
    "duration": 85,
    "start_time": "2025-04-03T17:44:02.004Z"
   },
   {
    "duration": 9,
    "start_time": "2025-04-03T17:44:02.091Z"
   },
   {
    "duration": 37,
    "start_time": "2025-04-03T17:44:02.102Z"
   },
   {
    "duration": 123,
    "start_time": "2025-04-03T17:44:02.141Z"
   },
   {
    "duration": 244,
    "start_time": "2025-04-03T17:44:02.266Z"
   },
   {
    "duration": 803,
    "start_time": "2025-04-03T17:44:02.512Z"
   },
   {
    "duration": 488,
    "start_time": "2025-04-03T17:44:03.317Z"
   },
   {
    "duration": 148,
    "start_time": "2025-04-03T17:44:03.808Z"
   },
   {
    "duration": 31,
    "start_time": "2025-04-03T17:44:03.958Z"
   },
   {
    "duration": 7,
    "start_time": "2025-04-03T17:44:03.991Z"
   },
   {
    "duration": 30,
    "start_time": "2025-04-03T17:44:04.000Z"
   },
   {
    "duration": 12924,
    "start_time": "2025-04-03T17:44:04.031Z"
   },
   {
    "duration": 11,
    "start_time": "2025-04-03T17:44:16.957Z"
   },
   {
    "duration": 14,
    "start_time": "2025-04-03T18:01:41.497Z"
   },
   {
    "duration": 1691,
    "start_time": "2025-04-04T12:13:53.230Z"
   },
   {
    "duration": 10,
    "start_time": "2025-04-04T12:13:54.924Z"
   },
   {
    "duration": 125,
    "start_time": "2025-04-04T12:13:54.935Z"
   },
   {
    "duration": 10,
    "start_time": "2025-04-04T12:13:55.062Z"
   },
   {
    "duration": 36,
    "start_time": "2025-04-04T12:13:55.073Z"
   },
   {
    "duration": 121,
    "start_time": "2025-04-04T12:13:55.111Z"
   },
   {
    "duration": 229,
    "start_time": "2025-04-04T12:13:55.233Z"
   },
   {
    "duration": 954,
    "start_time": "2025-04-04T12:13:55.464Z"
   },
   {
    "duration": 484,
    "start_time": "2025-04-04T12:13:56.420Z"
   },
   {
    "duration": 155,
    "start_time": "2025-04-04T12:13:56.907Z"
   },
   {
    "duration": 60,
    "start_time": "2025-04-04T12:13:57.064Z"
   },
   {
    "duration": 8,
    "start_time": "2025-04-04T12:13:57.126Z"
   },
   {
    "duration": 5,
    "start_time": "2025-04-04T12:13:57.136Z"
   },
   {
    "duration": 3332,
    "start_time": "2025-04-04T12:13:57.142Z"
   },
   {
    "duration": 111,
    "start_time": "2025-04-04T12:14:00.476Z"
   },
   {
    "duration": 3575,
    "start_time": "2025-04-04T12:15:14.002Z"
   },
   {
    "duration": 58372,
    "start_time": "2025-04-04T12:15:41.605Z"
   },
   {
    "duration": 3,
    "start_time": "2025-04-04T12:31:27.777Z"
   },
   {
    "duration": 3006,
    "start_time": "2025-04-04T12:31:35.669Z"
   },
   {
    "duration": 2891,
    "start_time": "2025-04-04T12:33:16.386Z"
   },
   {
    "duration": 2825,
    "start_time": "2025-04-04T12:34:13.950Z"
   },
   {
    "duration": 5,
    "start_time": "2025-04-04T12:34:54.227Z"
   },
   {
    "duration": 1489,
    "start_time": "2025-04-04T12:38:57.461Z"
   },
   {
    "duration": 9,
    "start_time": "2025-04-04T12:38:58.952Z"
   },
   {
    "duration": 50,
    "start_time": "2025-04-04T12:38:58.962Z"
   },
   {
    "duration": 8,
    "start_time": "2025-04-04T12:38:59.014Z"
   },
   {
    "duration": 42,
    "start_time": "2025-04-04T12:38:59.024Z"
   },
   {
    "duration": 107,
    "start_time": "2025-04-04T12:38:59.067Z"
   },
   {
    "duration": 224,
    "start_time": "2025-04-04T12:38:59.176Z"
   },
   {
    "duration": 819,
    "start_time": "2025-04-04T12:38:59.402Z"
   },
   {
    "duration": 448,
    "start_time": "2025-04-04T12:39:00.223Z"
   },
   {
    "duration": 139,
    "start_time": "2025-04-04T12:39:00.674Z"
   },
   {
    "duration": 49,
    "start_time": "2025-04-04T12:39:00.815Z"
   },
   {
    "duration": 8,
    "start_time": "2025-04-04T12:39:00.873Z"
   },
   {
    "duration": 12,
    "start_time": "2025-04-04T12:39:00.883Z"
   },
   {
    "duration": 1539,
    "start_time": "2025-04-04T12:40:26.260Z"
   },
   {
    "duration": 10,
    "start_time": "2025-04-04T12:40:27.801Z"
   },
   {
    "duration": 50,
    "start_time": "2025-04-04T12:40:27.813Z"
   },
   {
    "duration": 10,
    "start_time": "2025-04-04T12:40:27.865Z"
   },
   {
    "duration": 21,
    "start_time": "2025-04-04T12:40:27.877Z"
   },
   {
    "duration": 141,
    "start_time": "2025-04-04T12:40:27.900Z"
   },
   {
    "duration": 242,
    "start_time": "2025-04-04T12:40:28.043Z"
   },
   {
    "duration": 918,
    "start_time": "2025-04-04T12:40:28.287Z"
   },
   {
    "duration": 494,
    "start_time": "2025-04-04T12:40:29.207Z"
   },
   {
    "duration": 173,
    "start_time": "2025-04-04T12:40:29.703Z"
   },
   {
    "duration": 71,
    "start_time": "2025-04-04T12:40:29.878Z"
   },
   {
    "duration": 29,
    "start_time": "2025-04-04T12:40:29.951Z"
   },
   {
    "duration": 5,
    "start_time": "2025-04-04T12:40:29.981Z"
   },
   {
    "duration": 1533,
    "start_time": "2025-04-04T12:45:23.571Z"
   },
   {
    "duration": 10,
    "start_time": "2025-04-04T12:45:25.105Z"
   },
   {
    "duration": 54,
    "start_time": "2025-04-04T12:45:25.117Z"
   },
   {
    "duration": 9,
    "start_time": "2025-04-04T12:45:25.174Z"
   },
   {
    "duration": 17,
    "start_time": "2025-04-04T12:45:25.184Z"
   },
   {
    "duration": 139,
    "start_time": "2025-04-04T12:45:25.202Z"
   },
   {
    "duration": 229,
    "start_time": "2025-04-04T12:45:25.343Z"
   },
   {
    "duration": 926,
    "start_time": "2025-04-04T12:45:25.574Z"
   },
   {
    "duration": 480,
    "start_time": "2025-04-04T12:45:26.501Z"
   },
   {
    "duration": 145,
    "start_time": "2025-04-04T12:45:26.984Z"
   },
   {
    "duration": 62,
    "start_time": "2025-04-04T12:45:27.131Z"
   },
   {
    "duration": 7,
    "start_time": "2025-04-04T12:45:27.194Z"
   },
   {
    "duration": 4,
    "start_time": "2025-04-04T12:45:27.202Z"
   },
   {
    "duration": 1474,
    "start_time": "2025-04-04T12:46:24.860Z"
   },
   {
    "duration": 8,
    "start_time": "2025-04-04T12:46:26.336Z"
   },
   {
    "duration": 58,
    "start_time": "2025-04-04T12:46:26.346Z"
   },
   {
    "duration": 11,
    "start_time": "2025-04-04T12:46:26.407Z"
   },
   {
    "duration": 18,
    "start_time": "2025-04-04T12:46:26.420Z"
   },
   {
    "duration": 134,
    "start_time": "2025-04-04T12:46:26.439Z"
   },
   {
    "duration": 208,
    "start_time": "2025-04-04T12:46:26.575Z"
   },
   {
    "duration": 816,
    "start_time": "2025-04-04T12:46:26.785Z"
   },
   {
    "duration": 452,
    "start_time": "2025-04-04T12:46:27.603Z"
   },
   {
    "duration": 136,
    "start_time": "2025-04-04T12:46:28.058Z"
   },
   {
    "duration": 47,
    "start_time": "2025-04-04T12:46:28.195Z"
   },
   {
    "duration": 6,
    "start_time": "2025-04-04T12:46:28.244Z"
   },
   {
    "duration": 22,
    "start_time": "2025-04-04T12:46:28.252Z"
   },
   {
    "duration": 59907,
    "start_time": "2025-04-04T12:46:28.276Z"
   },
   {
    "duration": 17,
    "start_time": "2025-04-04T12:47:28.185Z"
   },
   {
    "duration": 69,
    "start_time": "2025-04-04T12:47:28.204Z"
   },
   {
    "duration": 1509,
    "start_time": "2025-04-04T12:48:59.047Z"
   },
   {
    "duration": 9,
    "start_time": "2025-04-04T12:49:00.558Z"
   },
   {
    "duration": 100,
    "start_time": "2025-04-04T12:49:00.572Z"
   },
   {
    "duration": 10,
    "start_time": "2025-04-04T12:49:00.674Z"
   },
   {
    "duration": 101,
    "start_time": "2025-04-04T12:49:00.686Z"
   },
   {
    "duration": 117,
    "start_time": "2025-04-04T12:49:00.789Z"
   },
   {
    "duration": 222,
    "start_time": "2025-04-04T12:49:00.908Z"
   },
   {
    "duration": 817,
    "start_time": "2025-04-04T12:49:01.132Z"
   },
   {
    "duration": 517,
    "start_time": "2025-04-04T12:49:01.951Z"
   },
   {
    "duration": 143,
    "start_time": "2025-04-04T12:49:02.473Z"
   },
   {
    "duration": 56,
    "start_time": "2025-04-04T12:49:02.618Z"
   },
   {
    "duration": 8,
    "start_time": "2025-04-04T12:49:02.675Z"
   },
   {
    "duration": 96,
    "start_time": "2025-04-04T12:49:02.684Z"
   },
   {
    "duration": 1551,
    "start_time": "2025-04-04T12:53:11.448Z"
   },
   {
    "duration": 9,
    "start_time": "2025-04-04T12:53:13.002Z"
   },
   {
    "duration": 52,
    "start_time": "2025-04-04T12:53:13.013Z"
   },
   {
    "duration": 12,
    "start_time": "2025-04-04T12:53:13.068Z"
   },
   {
    "duration": 16,
    "start_time": "2025-04-04T12:53:13.081Z"
   },
   {
    "duration": 132,
    "start_time": "2025-04-04T12:53:13.099Z"
   },
   {
    "duration": 234,
    "start_time": "2025-04-04T12:53:13.233Z"
   },
   {
    "duration": 866,
    "start_time": "2025-04-04T12:53:13.473Z"
   },
   {
    "duration": 471,
    "start_time": "2025-04-04T12:53:14.340Z"
   },
   {
    "duration": 143,
    "start_time": "2025-04-04T12:53:14.813Z"
   },
   {
    "duration": 60,
    "start_time": "2025-04-04T12:53:14.957Z"
   },
   {
    "duration": 8,
    "start_time": "2025-04-04T12:53:15.019Z"
   },
   {
    "duration": 19,
    "start_time": "2025-04-04T12:53:15.028Z"
   },
   {
    "duration": 1425,
    "start_time": "2025-04-04T12:54:19.791Z"
   },
   {
    "duration": 8,
    "start_time": "2025-04-04T12:54:21.218Z"
   },
   {
    "duration": 48,
    "start_time": "2025-04-04T12:54:21.228Z"
   },
   {
    "duration": 8,
    "start_time": "2025-04-04T12:54:21.278Z"
   },
   {
    "duration": 14,
    "start_time": "2025-04-04T12:54:21.287Z"
   },
   {
    "duration": 170,
    "start_time": "2025-04-04T12:54:21.303Z"
   },
   {
    "duration": 218,
    "start_time": "2025-04-04T12:54:21.474Z"
   },
   {
    "duration": 823,
    "start_time": "2025-04-04T12:54:21.694Z"
   },
   {
    "duration": 492,
    "start_time": "2025-04-04T12:54:22.519Z"
   },
   {
    "duration": 136,
    "start_time": "2025-04-04T12:54:23.014Z"
   },
   {
    "duration": 61,
    "start_time": "2025-04-04T12:54:23.152Z"
   },
   {
    "duration": 7,
    "start_time": "2025-04-04T12:54:23.215Z"
   },
   {
    "duration": 4,
    "start_time": "2025-04-04T12:54:23.224Z"
   },
   {
    "duration": 1411,
    "start_time": "2025-04-04T12:54:46.619Z"
   },
   {
    "duration": 9,
    "start_time": "2025-04-04T12:54:48.032Z"
   },
   {
    "duration": 64,
    "start_time": "2025-04-04T12:54:48.042Z"
   },
   {
    "duration": 9,
    "start_time": "2025-04-04T12:54:48.108Z"
   },
   {
    "duration": 16,
    "start_time": "2025-04-04T12:54:48.118Z"
   },
   {
    "duration": 138,
    "start_time": "2025-04-04T12:54:48.136Z"
   },
   {
    "duration": 221,
    "start_time": "2025-04-04T12:54:48.276Z"
   },
   {
    "duration": 874,
    "start_time": "2025-04-04T12:54:48.499Z"
   },
   {
    "duration": 504,
    "start_time": "2025-04-04T12:54:49.376Z"
   },
   {
    "duration": 144,
    "start_time": "2025-04-04T12:54:49.883Z"
   },
   {
    "duration": 60,
    "start_time": "2025-04-04T12:54:50.029Z"
   },
   {
    "duration": 9,
    "start_time": "2025-04-04T12:54:50.091Z"
   },
   {
    "duration": 17,
    "start_time": "2025-04-04T12:54:50.102Z"
   },
   {
    "duration": 9,
    "start_time": "2025-04-04T13:02:58.886Z"
   },
   {
    "duration": 189,
    "start_time": "2025-04-04T13:02:58.897Z"
   },
   {
    "duration": 0,
    "start_time": "2025-04-04T13:02:59.088Z"
   },
   {
    "duration": 1409,
    "start_time": "2025-04-04T13:03:57.264Z"
   },
   {
    "duration": 8,
    "start_time": "2025-04-04T13:03:58.675Z"
   },
   {
    "duration": 60,
    "start_time": "2025-04-04T13:03:58.685Z"
   },
   {
    "duration": 8,
    "start_time": "2025-04-04T13:03:58.747Z"
   },
   {
    "duration": 45,
    "start_time": "2025-04-04T13:03:58.756Z"
   },
   {
    "duration": 106,
    "start_time": "2025-04-04T13:03:58.802Z"
   },
   {
    "duration": 213,
    "start_time": "2025-04-04T13:03:58.910Z"
   },
   {
    "duration": 796,
    "start_time": "2025-04-04T13:03:59.125Z"
   },
   {
    "duration": 445,
    "start_time": "2025-04-04T13:03:59.923Z"
   },
   {
    "duration": 125,
    "start_time": "2025-04-04T13:04:00.374Z"
   },
   {
    "duration": 45,
    "start_time": "2025-04-04T13:04:00.501Z"
   },
   {
    "duration": 7,
    "start_time": "2025-04-04T13:04:00.548Z"
   },
   {
    "duration": 3,
    "start_time": "2025-04-04T13:04:00.573Z"
   },
   {
    "duration": 101109,
    "start_time": "2025-04-04T13:04:00.577Z"
   },
   {
    "duration": 85,
    "start_time": "2025-04-04T13:05:41.688Z"
   },
   {
    "duration": 121,
    "start_time": "2025-04-04T13:05:41.775Z"
   },
   {
    "duration": 1411,
    "start_time": "2025-04-04T13:33:48.982Z"
   },
   {
    "duration": 9,
    "start_time": "2025-04-04T13:33:50.395Z"
   },
   {
    "duration": 47,
    "start_time": "2025-04-04T13:33:50.405Z"
   },
   {
    "duration": 9,
    "start_time": "2025-04-04T13:33:50.454Z"
   },
   {
    "duration": 15,
    "start_time": "2025-04-04T13:33:50.464Z"
   },
   {
    "duration": 118,
    "start_time": "2025-04-04T13:33:50.480Z"
   },
   {
    "duration": 212,
    "start_time": "2025-04-04T13:33:50.600Z"
   },
   {
    "duration": 827,
    "start_time": "2025-04-04T13:33:50.814Z"
   },
   {
    "duration": 477,
    "start_time": "2025-04-04T13:33:51.643Z"
   },
   {
    "duration": 140,
    "start_time": "2025-04-04T13:33:52.122Z"
   },
   {
    "duration": 60,
    "start_time": "2025-04-04T13:33:52.263Z"
   },
   {
    "duration": 7,
    "start_time": "2025-04-04T13:33:52.324Z"
   },
   {
    "duration": 14,
    "start_time": "2025-04-04T13:33:52.332Z"
   },
   {
    "duration": 39826,
    "start_time": "2025-04-04T13:33:52.347Z"
   },
   {
    "duration": 12,
    "start_time": "2025-04-04T13:34:32.174Z"
   },
   {
    "duration": 170,
    "start_time": "2025-04-04T13:34:32.187Z"
   },
   {
    "duration": 1458,
    "start_time": "2025-04-04T13:36:07.635Z"
   },
   {
    "duration": 9,
    "start_time": "2025-04-04T13:36:09.095Z"
   },
   {
    "duration": 60,
    "start_time": "2025-04-04T13:36:09.105Z"
   },
   {
    "duration": 10,
    "start_time": "2025-04-04T13:36:09.167Z"
   },
   {
    "duration": 27,
    "start_time": "2025-04-04T13:36:09.179Z"
   },
   {
    "duration": 123,
    "start_time": "2025-04-04T13:36:09.208Z"
   },
   {
    "duration": 235,
    "start_time": "2025-04-04T13:36:09.333Z"
   },
   {
    "duration": 876,
    "start_time": "2025-04-04T13:36:09.569Z"
   },
   {
    "duration": 503,
    "start_time": "2025-04-04T13:36:10.447Z"
   },
   {
    "duration": 152,
    "start_time": "2025-04-04T13:36:10.953Z"
   },
   {
    "duration": 50,
    "start_time": "2025-04-04T13:36:11.106Z"
   },
   {
    "duration": 20,
    "start_time": "2025-04-04T13:36:11.158Z"
   },
   {
    "duration": 5,
    "start_time": "2025-04-04T13:36:11.179Z"
   },
   {
    "duration": 1400,
    "start_time": "2025-04-04T13:37:16.527Z"
   },
   {
    "duration": 9,
    "start_time": "2025-04-04T13:37:17.929Z"
   },
   {
    "duration": 50,
    "start_time": "2025-04-04T13:37:17.939Z"
   },
   {
    "duration": 9,
    "start_time": "2025-04-04T13:37:17.991Z"
   },
   {
    "duration": 15,
    "start_time": "2025-04-04T13:37:18.002Z"
   },
   {
    "duration": 132,
    "start_time": "2025-04-04T13:37:18.018Z"
   },
   {
    "duration": 226,
    "start_time": "2025-04-04T13:37:18.151Z"
   },
   {
    "duration": 862,
    "start_time": "2025-04-04T13:37:18.379Z"
   },
   {
    "duration": 486,
    "start_time": "2025-04-04T13:37:19.243Z"
   },
   {
    "duration": 142,
    "start_time": "2025-04-04T13:37:19.732Z"
   },
   {
    "duration": 50,
    "start_time": "2025-04-04T13:37:19.876Z"
   },
   {
    "duration": 7,
    "start_time": "2025-04-04T13:37:19.927Z"
   },
   {
    "duration": 8,
    "start_time": "2025-04-04T13:37:19.936Z"
   },
   {
    "duration": 93842,
    "start_time": "2025-04-04T13:37:19.946Z"
   },
   {
    "duration": 86,
    "start_time": "2025-04-04T13:38:53.790Z"
   },
   {
    "duration": 164,
    "start_time": "2025-04-04T13:38:53.878Z"
   },
   {
    "duration": 6,
    "start_time": "2025-04-04T13:40:08.821Z"
   },
   {
    "duration": 12,
    "start_time": "2025-04-04T13:40:38.463Z"
   },
   {
    "duration": 10,
    "start_time": "2025-04-04T13:41:12.158Z"
   },
   {
    "duration": 13,
    "start_time": "2025-04-04T13:41:48.865Z"
   },
   {
    "duration": 212,
    "start_time": "2025-04-04T13:42:13.410Z"
   },
   {
    "duration": 212,
    "start_time": "2025-04-04T13:42:38.478Z"
   },
   {
    "duration": 214,
    "start_time": "2025-04-04T13:42:44.989Z"
   },
   {
    "duration": 224,
    "start_time": "2025-04-04T13:43:41.068Z"
   },
   {
    "duration": 79,
    "start_time": "2025-04-04T13:47:27.226Z"
   },
   {
    "duration": 80,
    "start_time": "2025-04-04T13:48:31.647Z"
   },
   {
    "duration": 99,
    "start_time": "2025-04-04T13:48:51.711Z"
   },
   {
    "duration": 342,
    "start_time": "2025-04-04T13:49:50.318Z"
   },
   {
    "duration": 76,
    "start_time": "2025-04-04T14:04:21.248Z"
   },
   {
    "duration": 184,
    "start_time": "2025-04-04T14:07:39.180Z"
   },
   {
    "duration": 205,
    "start_time": "2025-04-04T14:08:00.352Z"
   }
  ],
  "kernelspec": {
   "display_name": "Python 3 (ipykernel)",
   "language": "python",
   "name": "python3"
  },
  "language_info": {
   "codemirror_mode": {
    "name": "ipython",
    "version": 3
   },
   "file_extension": ".py",
   "mimetype": "text/x-python",
   "name": "python",
   "nbconvert_exporter": "python",
   "pygments_lexer": "ipython3",
   "version": "3.12.4"
  },
  "toc": {
   "base_numbering": 1,
   "nav_menu": {},
   "number_sections": true,
   "sideBar": true,
   "skip_h1_title": true,
   "title_cell": "Содержание",
   "title_sidebar": "Contents",
   "toc_cell": true,
   "toc_position": {
    "height": "calc(100% - 180px)",
    "left": "10px",
    "top": "150px",
    "width": "254px"
   },
   "toc_section_display": true,
   "toc_window_display": true
  }
 },
 "nbformat": 4,
 "nbformat_minor": 4
}
