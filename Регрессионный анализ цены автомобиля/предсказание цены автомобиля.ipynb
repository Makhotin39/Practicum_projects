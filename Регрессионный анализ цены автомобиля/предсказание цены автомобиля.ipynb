{
 "cells": [
  {
   "cell_type": "markdown",
   "metadata": {},
   "source": [
    "# Определение стоимости автомобилей"
   ]
  },
  {
   "cell_type": "markdown",
   "metadata": {},
   "source": [
    "Сервис по продаже автомобилей с пробегом «Не бит, не крашен» разрабатывает приложение для привлечения новых клиентов. В нём можно быстро узнать рыночную стоимость своего автомобиля. В вашем распоряжении исторические данные: технические характеристики, комплектации и цены автомобилей. Вам нужно построить модель для определения стоимости. \n",
    "\n",
    "Заказчику важны:\n",
    "\n",
    "- качество предсказания;\n",
    "- скорость предсказания;\n",
    "- время обучения."
   ]
  },
  {
   "cell_type": "markdown",
   "metadata": {},
   "source": [
    "**Описание предоставленных данных:**\n",
    "\n",
    "* Признаки: \n",
    "\n",
    "DateCrawled — дата скачивания анкеты из базы\n",
    "\n",
    "VehicleType — тип автомобильного кузова\n",
    "\n",
    "RegistrationYear — год регистрации автомобиля\n",
    "\n",
    "Gearbox — тип коробки передач\n",
    "\n",
    "Power — мощность (л. с.)\n",
    "\n",
    "Model — модель автомобиля\n",
    "\n",
    "Kilometer — пробег (км)\n",
    "\n",
    "RegistrationMonth — месяц регистрации автомобиля\n",
    "\n",
    "FuelType — тип топлива\n",
    "\n",
    "Brand — марка автомобиля\n",
    "\n",
    "Repaired — была машина в ремонте или нет\n",
    "\n",
    "DateCreated — дата создания анкеты\n",
    "\n",
    "NumberOfPictures — количество фотографий автомобиля\n",
    "\n",
    "PostalCode — почтовый индекс владельца анкеты (пользователя)\n",
    "\n",
    "LastSeen — дата последней активности пользователя\n",
    "\n",
    "* Целевой признак:\n",
    "\n",
    "Price — цена (евро)"
   ]
  },
  {
   "cell_type": "markdown",
   "metadata": {},
   "source": [
    "Установка необходимых инструментов:"
   ]
  },
  {
   "cell_type": "code",
   "execution_count": 1,
   "metadata": {},
   "outputs": [],
   "source": [
    "!pip install --upgrade scikit-learn -q\n",
    "\n",
    "import pandas as pd\n",
    "import seaborn as sns\n",
    "import matplotlib.pyplot as plt\n",
    "import numpy as np\n",
    "from sklearn.model_selection import train_test_split\n",
    "from sklearn.preprocessing import StandardScaler, LabelEncoder, OneHotEncoder, OrdinalEncoder\n",
    "from sklearn.pipeline import Pipeline\n",
    "from sklearn.impute import KNNImputer\n",
    "from sklearn.compose import ColumnTransformer\n",
    "from lightgbm import LGBMRegressor\n",
    "from catboost import CatBoostRegressor\n",
    "from sklearn.metrics import mean_squared_error\n",
    "from sklearn.linear_model import LinearRegression\n",
    "from sklearn.ensemble import RandomForestRegressor\n"
   ]
  },
  {
   "cell_type": "markdown",
   "metadata": {},
   "source": [
    "## Подготовка данных"
   ]
  },
  {
   "cell_type": "markdown",
   "metadata": {},
   "source": [
    "Необходимые для анализа функции:"
   ]
  },
  {
   "cell_type": "code",
   "execution_count": 2,
   "metadata": {},
   "outputs": [],
   "source": [
    "def bas_research (data):\n",
    "    print(f'Количество явных дубликатов: {data.duplicated().sum()}')\n",
    "    pass_ = pd.DataFrame(data.isna().sum()).style.set_table_attributes('style=\"width: 60%; margin: auto;\"').set_caption('Количество пропусков:')\n",
    "    return(pass_)\n",
    "\n",
    "def implicit_duplicates (data, cat_features):\n",
    "    for i in cat_features:\n",
    "        print(f'Название категории: {i}')\n",
    "        print(f'Число уникальный значений: {len(data[i].unique())}')\n",
    "        display(pd.DataFrame(data[i].unique()).style.set_table_attributes('style=\"width: 60%; margin: auto;\"').hide_index())\n",
    "        print()\n",
    "        \n",
    "def box(data, columns):\n",
    "    numerical_cols = columns\n",
    "    display(data[columns].describe())\n",
    "    for i in numerical_cols:\n",
    "        plt.figure(figsize=(10, 5))\n",
    "        sns.boxplot(data=data[i])\n",
    "        plt.title(i)\n",
    "        plt.xticks(rotation=45) \n",
    "        plt.grid()\n",
    "        plt.show()\n",
    "        Q1 = data[i].quantile(0.25)\n",
    "        Q3 = data[i].quantile(0.75)\n",
    "        IQR = Q3 - Q1\n",
    "        lower_bound = Q1 - 1.5 * IQR\n",
    "        upper_bound = Q3 + 1.5 * IQR\n",
    "        anomalies = data[(data[i] < lower_bound) | (data[i] > upper_bound)]\n",
    "        print(f'Количество выбивающихся значений в {i}: {len(anomalies)}')"
   ]
  },
  {
   "cell_type": "markdown",
   "metadata": {},
   "source": [
    "### Первичный анализ данных "
   ]
  },
  {
   "cell_type": "code",
   "execution_count": 3,
   "metadata": {},
   "outputs": [
    {
     "name": "stdout",
     "output_type": "stream",
     "text": [
      "<class 'pandas.core.frame.DataFrame'>\n",
      "RangeIndex: 354369 entries, 0 to 354368\n",
      "Data columns (total 16 columns):\n",
      " #   Column             Non-Null Count   Dtype \n",
      "---  ------             --------------   ----- \n",
      " 0   DateCrawled        354369 non-null  object\n",
      " 1   Price              354369 non-null  int64 \n",
      " 2   VehicleType        316879 non-null  object\n",
      " 3   RegistrationYear   354369 non-null  int64 \n",
      " 4   Gearbox            334536 non-null  object\n",
      " 5   Power              354369 non-null  int64 \n",
      " 6   Model              334664 non-null  object\n",
      " 7   Kilometer          354369 non-null  int64 \n",
      " 8   RegistrationMonth  354369 non-null  int64 \n",
      " 9   FuelType           321474 non-null  object\n",
      " 10  Brand              354369 non-null  object\n",
      " 11  Repaired           283215 non-null  object\n",
      " 12  DateCreated        354369 non-null  object\n",
      " 13  NumberOfPictures   354369 non-null  int64 \n",
      " 14  PostalCode         354369 non-null  int64 \n",
      " 15  LastSeen           354369 non-null  object\n",
      "dtypes: int64(7), object(9)\n",
      "memory usage: 43.3+ MB\n",
      "None\n"
     ]
    },
    {
     "data": {
      "text/html": [
       "<div>\n",
       "<style scoped>\n",
       "    .dataframe tbody tr th:only-of-type {\n",
       "        vertical-align: middle;\n",
       "    }\n",
       "\n",
       "    .dataframe tbody tr th {\n",
       "        vertical-align: top;\n",
       "    }\n",
       "\n",
       "    .dataframe thead th {\n",
       "        text-align: right;\n",
       "    }\n",
       "</style>\n",
       "<table border=\"1\" class=\"dataframe\">\n",
       "  <thead>\n",
       "    <tr style=\"text-align: right;\">\n",
       "      <th></th>\n",
       "      <th>DateCrawled</th>\n",
       "      <th>Price</th>\n",
       "      <th>VehicleType</th>\n",
       "      <th>RegistrationYear</th>\n",
       "      <th>Gearbox</th>\n",
       "      <th>Power</th>\n",
       "      <th>Model</th>\n",
       "      <th>Kilometer</th>\n",
       "      <th>RegistrationMonth</th>\n",
       "      <th>FuelType</th>\n",
       "      <th>Brand</th>\n",
       "      <th>Repaired</th>\n",
       "      <th>DateCreated</th>\n",
       "      <th>NumberOfPictures</th>\n",
       "      <th>PostalCode</th>\n",
       "      <th>LastSeen</th>\n",
       "    </tr>\n",
       "  </thead>\n",
       "  <tbody>\n",
       "    <tr>\n",
       "      <th>0</th>\n",
       "      <td>2016-03-24 11:52:17</td>\n",
       "      <td>480</td>\n",
       "      <td>NaN</td>\n",
       "      <td>1993</td>\n",
       "      <td>manual</td>\n",
       "      <td>0</td>\n",
       "      <td>golf</td>\n",
       "      <td>150000</td>\n",
       "      <td>0</td>\n",
       "      <td>petrol</td>\n",
       "      <td>volkswagen</td>\n",
       "      <td>NaN</td>\n",
       "      <td>2016-03-24 00:00:00</td>\n",
       "      <td>0</td>\n",
       "      <td>70435</td>\n",
       "      <td>2016-04-07 03:16:57</td>\n",
       "    </tr>\n",
       "    <tr>\n",
       "      <th>1</th>\n",
       "      <td>2016-03-24 10:58:45</td>\n",
       "      <td>18300</td>\n",
       "      <td>coupe</td>\n",
       "      <td>2011</td>\n",
       "      <td>manual</td>\n",
       "      <td>190</td>\n",
       "      <td>NaN</td>\n",
       "      <td>125000</td>\n",
       "      <td>5</td>\n",
       "      <td>gasoline</td>\n",
       "      <td>audi</td>\n",
       "      <td>yes</td>\n",
       "      <td>2016-03-24 00:00:00</td>\n",
       "      <td>0</td>\n",
       "      <td>66954</td>\n",
       "      <td>2016-04-07 01:46:50</td>\n",
       "    </tr>\n",
       "    <tr>\n",
       "      <th>2</th>\n",
       "      <td>2016-03-14 12:52:21</td>\n",
       "      <td>9800</td>\n",
       "      <td>suv</td>\n",
       "      <td>2004</td>\n",
       "      <td>auto</td>\n",
       "      <td>163</td>\n",
       "      <td>grand</td>\n",
       "      <td>125000</td>\n",
       "      <td>8</td>\n",
       "      <td>gasoline</td>\n",
       "      <td>jeep</td>\n",
       "      <td>NaN</td>\n",
       "      <td>2016-03-14 00:00:00</td>\n",
       "      <td>0</td>\n",
       "      <td>90480</td>\n",
       "      <td>2016-04-05 12:47:46</td>\n",
       "    </tr>\n",
       "    <tr>\n",
       "      <th>3</th>\n",
       "      <td>2016-03-17 16:54:04</td>\n",
       "      <td>1500</td>\n",
       "      <td>small</td>\n",
       "      <td>2001</td>\n",
       "      <td>manual</td>\n",
       "      <td>75</td>\n",
       "      <td>golf</td>\n",
       "      <td>150000</td>\n",
       "      <td>6</td>\n",
       "      <td>petrol</td>\n",
       "      <td>volkswagen</td>\n",
       "      <td>no</td>\n",
       "      <td>2016-03-17 00:00:00</td>\n",
       "      <td>0</td>\n",
       "      <td>91074</td>\n",
       "      <td>2016-03-17 17:40:17</td>\n",
       "    </tr>\n",
       "    <tr>\n",
       "      <th>4</th>\n",
       "      <td>2016-03-31 17:25:20</td>\n",
       "      <td>3600</td>\n",
       "      <td>small</td>\n",
       "      <td>2008</td>\n",
       "      <td>manual</td>\n",
       "      <td>69</td>\n",
       "      <td>fabia</td>\n",
       "      <td>90000</td>\n",
       "      <td>7</td>\n",
       "      <td>gasoline</td>\n",
       "      <td>skoda</td>\n",
       "      <td>no</td>\n",
       "      <td>2016-03-31 00:00:00</td>\n",
       "      <td>0</td>\n",
       "      <td>60437</td>\n",
       "      <td>2016-04-06 10:17:21</td>\n",
       "    </tr>\n",
       "    <tr>\n",
       "      <th>5</th>\n",
       "      <td>2016-04-04 17:36:23</td>\n",
       "      <td>650</td>\n",
       "      <td>sedan</td>\n",
       "      <td>1995</td>\n",
       "      <td>manual</td>\n",
       "      <td>102</td>\n",
       "      <td>3er</td>\n",
       "      <td>150000</td>\n",
       "      <td>10</td>\n",
       "      <td>petrol</td>\n",
       "      <td>bmw</td>\n",
       "      <td>yes</td>\n",
       "      <td>2016-04-04 00:00:00</td>\n",
       "      <td>0</td>\n",
       "      <td>33775</td>\n",
       "      <td>2016-04-06 19:17:07</td>\n",
       "    </tr>\n",
       "    <tr>\n",
       "      <th>6</th>\n",
       "      <td>2016-04-01 20:48:51</td>\n",
       "      <td>2200</td>\n",
       "      <td>convertible</td>\n",
       "      <td>2004</td>\n",
       "      <td>manual</td>\n",
       "      <td>109</td>\n",
       "      <td>2_reihe</td>\n",
       "      <td>150000</td>\n",
       "      <td>8</td>\n",
       "      <td>petrol</td>\n",
       "      <td>peugeot</td>\n",
       "      <td>no</td>\n",
       "      <td>2016-04-01 00:00:00</td>\n",
       "      <td>0</td>\n",
       "      <td>67112</td>\n",
       "      <td>2016-04-05 18:18:39</td>\n",
       "    </tr>\n",
       "    <tr>\n",
       "      <th>7</th>\n",
       "      <td>2016-03-21 18:54:38</td>\n",
       "      <td>0</td>\n",
       "      <td>sedan</td>\n",
       "      <td>1980</td>\n",
       "      <td>manual</td>\n",
       "      <td>50</td>\n",
       "      <td>other</td>\n",
       "      <td>40000</td>\n",
       "      <td>7</td>\n",
       "      <td>petrol</td>\n",
       "      <td>volkswagen</td>\n",
       "      <td>no</td>\n",
       "      <td>2016-03-21 00:00:00</td>\n",
       "      <td>0</td>\n",
       "      <td>19348</td>\n",
       "      <td>2016-03-25 16:47:58</td>\n",
       "    </tr>\n",
       "    <tr>\n",
       "      <th>8</th>\n",
       "      <td>2016-04-04 23:42:13</td>\n",
       "      <td>14500</td>\n",
       "      <td>bus</td>\n",
       "      <td>2014</td>\n",
       "      <td>manual</td>\n",
       "      <td>125</td>\n",
       "      <td>c_max</td>\n",
       "      <td>30000</td>\n",
       "      <td>8</td>\n",
       "      <td>petrol</td>\n",
       "      <td>ford</td>\n",
       "      <td>NaN</td>\n",
       "      <td>2016-04-04 00:00:00</td>\n",
       "      <td>0</td>\n",
       "      <td>94505</td>\n",
       "      <td>2016-04-04 23:42:13</td>\n",
       "    </tr>\n",
       "    <tr>\n",
       "      <th>9</th>\n",
       "      <td>2016-03-17 10:53:50</td>\n",
       "      <td>999</td>\n",
       "      <td>small</td>\n",
       "      <td>1998</td>\n",
       "      <td>manual</td>\n",
       "      <td>101</td>\n",
       "      <td>golf</td>\n",
       "      <td>150000</td>\n",
       "      <td>0</td>\n",
       "      <td>NaN</td>\n",
       "      <td>volkswagen</td>\n",
       "      <td>NaN</td>\n",
       "      <td>2016-03-17 00:00:00</td>\n",
       "      <td>0</td>\n",
       "      <td>27472</td>\n",
       "      <td>2016-03-31 17:17:06</td>\n",
       "    </tr>\n",
       "  </tbody>\n",
       "</table>\n",
       "</div>"
      ],
      "text/plain": [
       "           DateCrawled  Price  VehicleType  RegistrationYear Gearbox  Power  \\\n",
       "0  2016-03-24 11:52:17    480          NaN              1993  manual      0   \n",
       "1  2016-03-24 10:58:45  18300        coupe              2011  manual    190   \n",
       "2  2016-03-14 12:52:21   9800          suv              2004    auto    163   \n",
       "3  2016-03-17 16:54:04   1500        small              2001  manual     75   \n",
       "4  2016-03-31 17:25:20   3600        small              2008  manual     69   \n",
       "5  2016-04-04 17:36:23    650        sedan              1995  manual    102   \n",
       "6  2016-04-01 20:48:51   2200  convertible              2004  manual    109   \n",
       "7  2016-03-21 18:54:38      0        sedan              1980  manual     50   \n",
       "8  2016-04-04 23:42:13  14500          bus              2014  manual    125   \n",
       "9  2016-03-17 10:53:50    999        small              1998  manual    101   \n",
       "\n",
       "     Model  Kilometer  RegistrationMonth  FuelType       Brand Repaired  \\\n",
       "0     golf     150000                  0    petrol  volkswagen      NaN   \n",
       "1      NaN     125000                  5  gasoline        audi      yes   \n",
       "2    grand     125000                  8  gasoline        jeep      NaN   \n",
       "3     golf     150000                  6    petrol  volkswagen       no   \n",
       "4    fabia      90000                  7  gasoline       skoda       no   \n",
       "5      3er     150000                 10    petrol         bmw      yes   \n",
       "6  2_reihe     150000                  8    petrol     peugeot       no   \n",
       "7    other      40000                  7    petrol  volkswagen       no   \n",
       "8    c_max      30000                  8    petrol        ford      NaN   \n",
       "9     golf     150000                  0       NaN  volkswagen      NaN   \n",
       "\n",
       "           DateCreated  NumberOfPictures  PostalCode             LastSeen  \n",
       "0  2016-03-24 00:00:00                 0       70435  2016-04-07 03:16:57  \n",
       "1  2016-03-24 00:00:00                 0       66954  2016-04-07 01:46:50  \n",
       "2  2016-03-14 00:00:00                 0       90480  2016-04-05 12:47:46  \n",
       "3  2016-03-17 00:00:00                 0       91074  2016-03-17 17:40:17  \n",
       "4  2016-03-31 00:00:00                 0       60437  2016-04-06 10:17:21  \n",
       "5  2016-04-04 00:00:00                 0       33775  2016-04-06 19:17:07  \n",
       "6  2016-04-01 00:00:00                 0       67112  2016-04-05 18:18:39  \n",
       "7  2016-03-21 00:00:00                 0       19348  2016-03-25 16:47:58  \n",
       "8  2016-04-04 00:00:00                 0       94505  2016-04-04 23:42:13  \n",
       "9  2016-03-17 00:00:00                 0       27472  2016-03-31 17:17:06  "
      ]
     },
     "execution_count": 3,
     "metadata": {},
     "output_type": "execute_result"
    }
   ],
   "source": [
    "data = pd.read_csv('/datasets/autos.csv')\n",
    "print(data.info())\n",
    "data.head(10)"
   ]
  },
  {
   "cell_type": "markdown",
   "metadata": {},
   "source": [
    "Приведём названия столбцов к нужному стилю. "
   ]
  },
  {
   "cell_type": "code",
   "execution_count": 4,
   "metadata": {},
   "outputs": [],
   "source": [
    "data.columns = data.columns.str.lower()\n",
    "data = data.rename(columns = {'datecrawled':\"date_crawled\", \n",
    "\"vehicletype\":\"vehicle_type\", \"registrationyear\":\"registration_year\", \"registrationmonth\":\"registration_month\",\n",
    "\"fueltype\":\"fuel_type\", \"datecreated\":\"date_created\", \"numberofpictures\":\"number_of_pictures\",\n",
    "\"postalcode\":\"postal_code\", \"lastseen\":\"last_seen\"})\n"
   ]
  },
  {
   "cell_type": "markdown",
   "metadata": {},
   "source": [
    "Проанализируем данные на наличие явных дубликатов и пропусков. "
   ]
  },
  {
   "cell_type": "code",
   "execution_count": 5,
   "metadata": {},
   "outputs": [
    {
     "name": "stdout",
     "output_type": "stream",
     "text": [
      "Количество явных дубликатов: 4\n"
     ]
    },
    {
     "data": {
      "text/html": [
       "<style  type=\"text/css\" >\n",
       "</style><table id=\"T_c3710_\" style=\"width: 60%; margin: auto;\"><caption>Количество пропусков:</caption><thead>    <tr>        <th class=\"blank level0\" ></th>        <th class=\"col_heading level0 col0\" >0</th>    </tr></thead><tbody>\n",
       "                <tr>\n",
       "                        <th id=\"T_c3710_level0_row0\" class=\"row_heading level0 row0\" >date_crawled</th>\n",
       "                        <td id=\"T_c3710_row0_col0\" class=\"data row0 col0\" >0</td>\n",
       "            </tr>\n",
       "            <tr>\n",
       "                        <th id=\"T_c3710_level0_row1\" class=\"row_heading level0 row1\" >price</th>\n",
       "                        <td id=\"T_c3710_row1_col0\" class=\"data row1 col0\" >0</td>\n",
       "            </tr>\n",
       "            <tr>\n",
       "                        <th id=\"T_c3710_level0_row2\" class=\"row_heading level0 row2\" >vehicle_type</th>\n",
       "                        <td id=\"T_c3710_row2_col0\" class=\"data row2 col0\" >37490</td>\n",
       "            </tr>\n",
       "            <tr>\n",
       "                        <th id=\"T_c3710_level0_row3\" class=\"row_heading level0 row3\" >registration_year</th>\n",
       "                        <td id=\"T_c3710_row3_col0\" class=\"data row3 col0\" >0</td>\n",
       "            </tr>\n",
       "            <tr>\n",
       "                        <th id=\"T_c3710_level0_row4\" class=\"row_heading level0 row4\" >gearbox</th>\n",
       "                        <td id=\"T_c3710_row4_col0\" class=\"data row4 col0\" >19833</td>\n",
       "            </tr>\n",
       "            <tr>\n",
       "                        <th id=\"T_c3710_level0_row5\" class=\"row_heading level0 row5\" >power</th>\n",
       "                        <td id=\"T_c3710_row5_col0\" class=\"data row5 col0\" >0</td>\n",
       "            </tr>\n",
       "            <tr>\n",
       "                        <th id=\"T_c3710_level0_row6\" class=\"row_heading level0 row6\" >model</th>\n",
       "                        <td id=\"T_c3710_row6_col0\" class=\"data row6 col0\" >19705</td>\n",
       "            </tr>\n",
       "            <tr>\n",
       "                        <th id=\"T_c3710_level0_row7\" class=\"row_heading level0 row7\" >kilometer</th>\n",
       "                        <td id=\"T_c3710_row7_col0\" class=\"data row7 col0\" >0</td>\n",
       "            </tr>\n",
       "            <tr>\n",
       "                        <th id=\"T_c3710_level0_row8\" class=\"row_heading level0 row8\" >registration_month</th>\n",
       "                        <td id=\"T_c3710_row8_col0\" class=\"data row8 col0\" >0</td>\n",
       "            </tr>\n",
       "            <tr>\n",
       "                        <th id=\"T_c3710_level0_row9\" class=\"row_heading level0 row9\" >fuel_type</th>\n",
       "                        <td id=\"T_c3710_row9_col0\" class=\"data row9 col0\" >32895</td>\n",
       "            </tr>\n",
       "            <tr>\n",
       "                        <th id=\"T_c3710_level0_row10\" class=\"row_heading level0 row10\" >brand</th>\n",
       "                        <td id=\"T_c3710_row10_col0\" class=\"data row10 col0\" >0</td>\n",
       "            </tr>\n",
       "            <tr>\n",
       "                        <th id=\"T_c3710_level0_row11\" class=\"row_heading level0 row11\" >repaired</th>\n",
       "                        <td id=\"T_c3710_row11_col0\" class=\"data row11 col0\" >71154</td>\n",
       "            </tr>\n",
       "            <tr>\n",
       "                        <th id=\"T_c3710_level0_row12\" class=\"row_heading level0 row12\" >date_created</th>\n",
       "                        <td id=\"T_c3710_row12_col0\" class=\"data row12 col0\" >0</td>\n",
       "            </tr>\n",
       "            <tr>\n",
       "                        <th id=\"T_c3710_level0_row13\" class=\"row_heading level0 row13\" >number_of_pictures</th>\n",
       "                        <td id=\"T_c3710_row13_col0\" class=\"data row13 col0\" >0</td>\n",
       "            </tr>\n",
       "            <tr>\n",
       "                        <th id=\"T_c3710_level0_row14\" class=\"row_heading level0 row14\" >postal_code</th>\n",
       "                        <td id=\"T_c3710_row14_col0\" class=\"data row14 col0\" >0</td>\n",
       "            </tr>\n",
       "            <tr>\n",
       "                        <th id=\"T_c3710_level0_row15\" class=\"row_heading level0 row15\" >last_seen</th>\n",
       "                        <td id=\"T_c3710_row15_col0\" class=\"data row15 col0\" >0</td>\n",
       "            </tr>\n",
       "    </tbody></table>"
      ],
      "text/plain": [
       "<pandas.io.formats.style.Styler at 0x7f454df32cd0>"
      ]
     },
     "execution_count": 5,
     "metadata": {},
     "output_type": "execute_result"
    }
   ],
   "source": [
    "bas_research(data) "
   ]
  },
  {
   "cell_type": "markdown",
   "metadata": {},
   "source": [
    "Пропуски есть лишь в категориальных столбцах. К тому же в тех, которые заполняются самими владельцами автомобилей. Устраним эту проблему чуть позже. \n"
   ]
  },
  {
   "cell_type": "markdown",
   "metadata": {},
   "source": [
    "Устраним явные дубликаты. "
   ]
  },
  {
   "cell_type": "code",
   "execution_count": 6,
   "metadata": {},
   "outputs": [],
   "source": [
    "data = data.drop_duplicates()"
   ]
  },
  {
   "cell_type": "markdown",
   "metadata": {},
   "source": [
    "Проанализируем данные на наличие неявных дубликатов. "
   ]
  },
  {
   "cell_type": "code",
   "execution_count": 7,
   "metadata": {
    "scrolled": true
   },
   "outputs": [
    {
     "name": "stdout",
     "output_type": "stream",
     "text": [
      "Название категории: vehicle_type\n",
      "Число уникальный значений: 9\n"
     ]
    },
    {
     "data": {
      "text/html": [
       "<style  type=\"text/css\" >\n",
       "</style><table id=\"T_f06de_\" style=\"width: 60%; margin: auto;\"><thead>    <tr>        <th class=\"col_heading level0 col0\" >0</th>    </tr></thead><tbody>\n",
       "                <tr>\n",
       "                                <td id=\"T_f06de_row0_col0\" class=\"data row0 col0\" >nan</td>\n",
       "            </tr>\n",
       "            <tr>\n",
       "                                <td id=\"T_f06de_row1_col0\" class=\"data row1 col0\" >coupe</td>\n",
       "            </tr>\n",
       "            <tr>\n",
       "                                <td id=\"T_f06de_row2_col0\" class=\"data row2 col0\" >suv</td>\n",
       "            </tr>\n",
       "            <tr>\n",
       "                                <td id=\"T_f06de_row3_col0\" class=\"data row3 col0\" >small</td>\n",
       "            </tr>\n",
       "            <tr>\n",
       "                                <td id=\"T_f06de_row4_col0\" class=\"data row4 col0\" >sedan</td>\n",
       "            </tr>\n",
       "            <tr>\n",
       "                                <td id=\"T_f06de_row5_col0\" class=\"data row5 col0\" >convertible</td>\n",
       "            </tr>\n",
       "            <tr>\n",
       "                                <td id=\"T_f06de_row6_col0\" class=\"data row6 col0\" >bus</td>\n",
       "            </tr>\n",
       "            <tr>\n",
       "                                <td id=\"T_f06de_row7_col0\" class=\"data row7 col0\" >wagon</td>\n",
       "            </tr>\n",
       "            <tr>\n",
       "                                <td id=\"T_f06de_row8_col0\" class=\"data row8 col0\" >other</td>\n",
       "            </tr>\n",
       "    </tbody></table>"
      ],
      "text/plain": [
       "<pandas.io.formats.style.Styler at 0x7f454df31130>"
      ]
     },
     "metadata": {},
     "output_type": "display_data"
    },
    {
     "name": "stdout",
     "output_type": "stream",
     "text": [
      "\n",
      "Название категории: gearbox\n",
      "Число уникальный значений: 3\n"
     ]
    },
    {
     "data": {
      "text/html": [
       "<style  type=\"text/css\" >\n",
       "</style><table id=\"T_1ef85_\" style=\"width: 60%; margin: auto;\"><thead>    <tr>        <th class=\"col_heading level0 col0\" >0</th>    </tr></thead><tbody>\n",
       "                <tr>\n",
       "                                <td id=\"T_1ef85_row0_col0\" class=\"data row0 col0\" >manual</td>\n",
       "            </tr>\n",
       "            <tr>\n",
       "                                <td id=\"T_1ef85_row1_col0\" class=\"data row1 col0\" >auto</td>\n",
       "            </tr>\n",
       "            <tr>\n",
       "                                <td id=\"T_1ef85_row2_col0\" class=\"data row2 col0\" >nan</td>\n",
       "            </tr>\n",
       "    </tbody></table>"
      ],
      "text/plain": [
       "<pandas.io.formats.style.Styler at 0x7f454df31f70>"
      ]
     },
     "metadata": {},
     "output_type": "display_data"
    },
    {
     "name": "stdout",
     "output_type": "stream",
     "text": [
      "\n",
      "Название категории: model\n",
      "Число уникальный значений: 251\n"
     ]
    },
    {
     "data": {
      "text/html": [
       "<style  type=\"text/css\" >\n",
       "</style><table id=\"T_db24f_\" style=\"width: 60%; margin: auto;\"><thead>    <tr>        <th class=\"col_heading level0 col0\" >0</th>    </tr></thead><tbody>\n",
       "                <tr>\n",
       "                                <td id=\"T_db24f_row0_col0\" class=\"data row0 col0\" >golf</td>\n",
       "            </tr>\n",
       "            <tr>\n",
       "                                <td id=\"T_db24f_row1_col0\" class=\"data row1 col0\" >nan</td>\n",
       "            </tr>\n",
       "            <tr>\n",
       "                                <td id=\"T_db24f_row2_col0\" class=\"data row2 col0\" >grand</td>\n",
       "            </tr>\n",
       "            <tr>\n",
       "                                <td id=\"T_db24f_row3_col0\" class=\"data row3 col0\" >fabia</td>\n",
       "            </tr>\n",
       "            <tr>\n",
       "                                <td id=\"T_db24f_row4_col0\" class=\"data row4 col0\" >3er</td>\n",
       "            </tr>\n",
       "            <tr>\n",
       "                                <td id=\"T_db24f_row5_col0\" class=\"data row5 col0\" >2_reihe</td>\n",
       "            </tr>\n",
       "            <tr>\n",
       "                                <td id=\"T_db24f_row6_col0\" class=\"data row6 col0\" >other</td>\n",
       "            </tr>\n",
       "            <tr>\n",
       "                                <td id=\"T_db24f_row7_col0\" class=\"data row7 col0\" >c_max</td>\n",
       "            </tr>\n",
       "            <tr>\n",
       "                                <td id=\"T_db24f_row8_col0\" class=\"data row8 col0\" >3_reihe</td>\n",
       "            </tr>\n",
       "            <tr>\n",
       "                                <td id=\"T_db24f_row9_col0\" class=\"data row9 col0\" >passat</td>\n",
       "            </tr>\n",
       "            <tr>\n",
       "                                <td id=\"T_db24f_row10_col0\" class=\"data row10 col0\" >navara</td>\n",
       "            </tr>\n",
       "            <tr>\n",
       "                                <td id=\"T_db24f_row11_col0\" class=\"data row11 col0\" >ka</td>\n",
       "            </tr>\n",
       "            <tr>\n",
       "                                <td id=\"T_db24f_row12_col0\" class=\"data row12 col0\" >polo</td>\n",
       "            </tr>\n",
       "            <tr>\n",
       "                                <td id=\"T_db24f_row13_col0\" class=\"data row13 col0\" >twingo</td>\n",
       "            </tr>\n",
       "            <tr>\n",
       "                                <td id=\"T_db24f_row14_col0\" class=\"data row14 col0\" >a_klasse</td>\n",
       "            </tr>\n",
       "            <tr>\n",
       "                                <td id=\"T_db24f_row15_col0\" class=\"data row15 col0\" >scirocco</td>\n",
       "            </tr>\n",
       "            <tr>\n",
       "                                <td id=\"T_db24f_row16_col0\" class=\"data row16 col0\" >5er</td>\n",
       "            </tr>\n",
       "            <tr>\n",
       "                                <td id=\"T_db24f_row17_col0\" class=\"data row17 col0\" >meriva</td>\n",
       "            </tr>\n",
       "            <tr>\n",
       "                                <td id=\"T_db24f_row18_col0\" class=\"data row18 col0\" >arosa</td>\n",
       "            </tr>\n",
       "            <tr>\n",
       "                                <td id=\"T_db24f_row19_col0\" class=\"data row19 col0\" >c4</td>\n",
       "            </tr>\n",
       "            <tr>\n",
       "                                <td id=\"T_db24f_row20_col0\" class=\"data row20 col0\" >civic</td>\n",
       "            </tr>\n",
       "            <tr>\n",
       "                                <td id=\"T_db24f_row21_col0\" class=\"data row21 col0\" >transporter</td>\n",
       "            </tr>\n",
       "            <tr>\n",
       "                                <td id=\"T_db24f_row22_col0\" class=\"data row22 col0\" >punto</td>\n",
       "            </tr>\n",
       "            <tr>\n",
       "                                <td id=\"T_db24f_row23_col0\" class=\"data row23 col0\" >e_klasse</td>\n",
       "            </tr>\n",
       "            <tr>\n",
       "                                <td id=\"T_db24f_row24_col0\" class=\"data row24 col0\" >clio</td>\n",
       "            </tr>\n",
       "            <tr>\n",
       "                                <td id=\"T_db24f_row25_col0\" class=\"data row25 col0\" >kadett</td>\n",
       "            </tr>\n",
       "            <tr>\n",
       "                                <td id=\"T_db24f_row26_col0\" class=\"data row26 col0\" >kangoo</td>\n",
       "            </tr>\n",
       "            <tr>\n",
       "                                <td id=\"T_db24f_row27_col0\" class=\"data row27 col0\" >corsa</td>\n",
       "            </tr>\n",
       "            <tr>\n",
       "                                <td id=\"T_db24f_row28_col0\" class=\"data row28 col0\" >one</td>\n",
       "            </tr>\n",
       "            <tr>\n",
       "                                <td id=\"T_db24f_row29_col0\" class=\"data row29 col0\" >fortwo</td>\n",
       "            </tr>\n",
       "            <tr>\n",
       "                                <td id=\"T_db24f_row30_col0\" class=\"data row30 col0\" >1er</td>\n",
       "            </tr>\n",
       "            <tr>\n",
       "                                <td id=\"T_db24f_row31_col0\" class=\"data row31 col0\" >b_klasse</td>\n",
       "            </tr>\n",
       "            <tr>\n",
       "                                <td id=\"T_db24f_row32_col0\" class=\"data row32 col0\" >signum</td>\n",
       "            </tr>\n",
       "            <tr>\n",
       "                                <td id=\"T_db24f_row33_col0\" class=\"data row33 col0\" >astra</td>\n",
       "            </tr>\n",
       "            <tr>\n",
       "                                <td id=\"T_db24f_row34_col0\" class=\"data row34 col0\" >a8</td>\n",
       "            </tr>\n",
       "            <tr>\n",
       "                                <td id=\"T_db24f_row35_col0\" class=\"data row35 col0\" >jetta</td>\n",
       "            </tr>\n",
       "            <tr>\n",
       "                                <td id=\"T_db24f_row36_col0\" class=\"data row36 col0\" >fiesta</td>\n",
       "            </tr>\n",
       "            <tr>\n",
       "                                <td id=\"T_db24f_row37_col0\" class=\"data row37 col0\" >c_klasse</td>\n",
       "            </tr>\n",
       "            <tr>\n",
       "                                <td id=\"T_db24f_row38_col0\" class=\"data row38 col0\" >micra</td>\n",
       "            </tr>\n",
       "            <tr>\n",
       "                                <td id=\"T_db24f_row39_col0\" class=\"data row39 col0\" >vito</td>\n",
       "            </tr>\n",
       "            <tr>\n",
       "                                <td id=\"T_db24f_row40_col0\" class=\"data row40 col0\" >sprinter</td>\n",
       "            </tr>\n",
       "            <tr>\n",
       "                                <td id=\"T_db24f_row41_col0\" class=\"data row41 col0\" >156</td>\n",
       "            </tr>\n",
       "            <tr>\n",
       "                                <td id=\"T_db24f_row42_col0\" class=\"data row42 col0\" >escort</td>\n",
       "            </tr>\n",
       "            <tr>\n",
       "                                <td id=\"T_db24f_row43_col0\" class=\"data row43 col0\" >forester</td>\n",
       "            </tr>\n",
       "            <tr>\n",
       "                                <td id=\"T_db24f_row44_col0\" class=\"data row44 col0\" >xc_reihe</td>\n",
       "            </tr>\n",
       "            <tr>\n",
       "                                <td id=\"T_db24f_row45_col0\" class=\"data row45 col0\" >scenic</td>\n",
       "            </tr>\n",
       "            <tr>\n",
       "                                <td id=\"T_db24f_row46_col0\" class=\"data row46 col0\" >a4</td>\n",
       "            </tr>\n",
       "            <tr>\n",
       "                                <td id=\"T_db24f_row47_col0\" class=\"data row47 col0\" >a1</td>\n",
       "            </tr>\n",
       "            <tr>\n",
       "                                <td id=\"T_db24f_row48_col0\" class=\"data row48 col0\" >insignia</td>\n",
       "            </tr>\n",
       "            <tr>\n",
       "                                <td id=\"T_db24f_row49_col0\" class=\"data row49 col0\" >combo</td>\n",
       "            </tr>\n",
       "            <tr>\n",
       "                                <td id=\"T_db24f_row50_col0\" class=\"data row50 col0\" >focus</td>\n",
       "            </tr>\n",
       "            <tr>\n",
       "                                <td id=\"T_db24f_row51_col0\" class=\"data row51 col0\" >tt</td>\n",
       "            </tr>\n",
       "            <tr>\n",
       "                                <td id=\"T_db24f_row52_col0\" class=\"data row52 col0\" >a6</td>\n",
       "            </tr>\n",
       "            <tr>\n",
       "                                <td id=\"T_db24f_row53_col0\" class=\"data row53 col0\" >jazz</td>\n",
       "            </tr>\n",
       "            <tr>\n",
       "                                <td id=\"T_db24f_row54_col0\" class=\"data row54 col0\" >omega</td>\n",
       "            </tr>\n",
       "            <tr>\n",
       "                                <td id=\"T_db24f_row55_col0\" class=\"data row55 col0\" >slk</td>\n",
       "            </tr>\n",
       "            <tr>\n",
       "                                <td id=\"T_db24f_row56_col0\" class=\"data row56 col0\" >7er</td>\n",
       "            </tr>\n",
       "            <tr>\n",
       "                                <td id=\"T_db24f_row57_col0\" class=\"data row57 col0\" >80</td>\n",
       "            </tr>\n",
       "            <tr>\n",
       "                                <td id=\"T_db24f_row58_col0\" class=\"data row58 col0\" >147</td>\n",
       "            </tr>\n",
       "            <tr>\n",
       "                                <td id=\"T_db24f_row59_col0\" class=\"data row59 col0\" >100</td>\n",
       "            </tr>\n",
       "            <tr>\n",
       "                                <td id=\"T_db24f_row60_col0\" class=\"data row60 col0\" >z_reihe</td>\n",
       "            </tr>\n",
       "            <tr>\n",
       "                                <td id=\"T_db24f_row61_col0\" class=\"data row61 col0\" >sportage</td>\n",
       "            </tr>\n",
       "            <tr>\n",
       "                                <td id=\"T_db24f_row62_col0\" class=\"data row62 col0\" >sorento</td>\n",
       "            </tr>\n",
       "            <tr>\n",
       "                                <td id=\"T_db24f_row63_col0\" class=\"data row63 col0\" >v40</td>\n",
       "            </tr>\n",
       "            <tr>\n",
       "                                <td id=\"T_db24f_row64_col0\" class=\"data row64 col0\" >ibiza</td>\n",
       "            </tr>\n",
       "            <tr>\n",
       "                                <td id=\"T_db24f_row65_col0\" class=\"data row65 col0\" >mustang</td>\n",
       "            </tr>\n",
       "            <tr>\n",
       "                                <td id=\"T_db24f_row66_col0\" class=\"data row66 col0\" >eos</td>\n",
       "            </tr>\n",
       "            <tr>\n",
       "                                <td id=\"T_db24f_row67_col0\" class=\"data row67 col0\" >touran</td>\n",
       "            </tr>\n",
       "            <tr>\n",
       "                                <td id=\"T_db24f_row68_col0\" class=\"data row68 col0\" >getz</td>\n",
       "            </tr>\n",
       "            <tr>\n",
       "                                <td id=\"T_db24f_row69_col0\" class=\"data row69 col0\" >a3</td>\n",
       "            </tr>\n",
       "            <tr>\n",
       "                                <td id=\"T_db24f_row70_col0\" class=\"data row70 col0\" >almera</td>\n",
       "            </tr>\n",
       "            <tr>\n",
       "                                <td id=\"T_db24f_row71_col0\" class=\"data row71 col0\" >megane</td>\n",
       "            </tr>\n",
       "            <tr>\n",
       "                                <td id=\"T_db24f_row72_col0\" class=\"data row72 col0\" >lupo</td>\n",
       "            </tr>\n",
       "            <tr>\n",
       "                                <td id=\"T_db24f_row73_col0\" class=\"data row73 col0\" >r19</td>\n",
       "            </tr>\n",
       "            <tr>\n",
       "                                <td id=\"T_db24f_row74_col0\" class=\"data row74 col0\" >zafira</td>\n",
       "            </tr>\n",
       "            <tr>\n",
       "                                <td id=\"T_db24f_row75_col0\" class=\"data row75 col0\" >caddy</td>\n",
       "            </tr>\n",
       "            <tr>\n",
       "                                <td id=\"T_db24f_row76_col0\" class=\"data row76 col0\" >mondeo</td>\n",
       "            </tr>\n",
       "            <tr>\n",
       "                                <td id=\"T_db24f_row77_col0\" class=\"data row77 col0\" >cordoba</td>\n",
       "            </tr>\n",
       "            <tr>\n",
       "                                <td id=\"T_db24f_row78_col0\" class=\"data row78 col0\" >colt</td>\n",
       "            </tr>\n",
       "            <tr>\n",
       "                                <td id=\"T_db24f_row79_col0\" class=\"data row79 col0\" >impreza</td>\n",
       "            </tr>\n",
       "            <tr>\n",
       "                                <td id=\"T_db24f_row80_col0\" class=\"data row80 col0\" >vectra</td>\n",
       "            </tr>\n",
       "            <tr>\n",
       "                                <td id=\"T_db24f_row81_col0\" class=\"data row81 col0\" >berlingo</td>\n",
       "            </tr>\n",
       "            <tr>\n",
       "                                <td id=\"T_db24f_row82_col0\" class=\"data row82 col0\" >tiguan</td>\n",
       "            </tr>\n",
       "            <tr>\n",
       "                                <td id=\"T_db24f_row83_col0\" class=\"data row83 col0\" >i_reihe</td>\n",
       "            </tr>\n",
       "            <tr>\n",
       "                                <td id=\"T_db24f_row84_col0\" class=\"data row84 col0\" >espace</td>\n",
       "            </tr>\n",
       "            <tr>\n",
       "                                <td id=\"T_db24f_row85_col0\" class=\"data row85 col0\" >sharan</td>\n",
       "            </tr>\n",
       "            <tr>\n",
       "                                <td id=\"T_db24f_row86_col0\" class=\"data row86 col0\" >6_reihe</td>\n",
       "            </tr>\n",
       "            <tr>\n",
       "                                <td id=\"T_db24f_row87_col0\" class=\"data row87 col0\" >panda</td>\n",
       "            </tr>\n",
       "            <tr>\n",
       "                                <td id=\"T_db24f_row88_col0\" class=\"data row88 col0\" >up</td>\n",
       "            </tr>\n",
       "            <tr>\n",
       "                                <td id=\"T_db24f_row89_col0\" class=\"data row89 col0\" >seicento</td>\n",
       "            </tr>\n",
       "            <tr>\n",
       "                                <td id=\"T_db24f_row90_col0\" class=\"data row90 col0\" >ceed</td>\n",
       "            </tr>\n",
       "            <tr>\n",
       "                                <td id=\"T_db24f_row91_col0\" class=\"data row91 col0\" >5_reihe</td>\n",
       "            </tr>\n",
       "            <tr>\n",
       "                                <td id=\"T_db24f_row92_col0\" class=\"data row92 col0\" >yeti</td>\n",
       "            </tr>\n",
       "            <tr>\n",
       "                                <td id=\"T_db24f_row93_col0\" class=\"data row93 col0\" >octavia</td>\n",
       "            </tr>\n",
       "            <tr>\n",
       "                                <td id=\"T_db24f_row94_col0\" class=\"data row94 col0\" >mii</td>\n",
       "            </tr>\n",
       "            <tr>\n",
       "                                <td id=\"T_db24f_row95_col0\" class=\"data row95 col0\" >rx_reihe</td>\n",
       "            </tr>\n",
       "            <tr>\n",
       "                                <td id=\"T_db24f_row96_col0\" class=\"data row96 col0\" >6er</td>\n",
       "            </tr>\n",
       "            <tr>\n",
       "                                <td id=\"T_db24f_row97_col0\" class=\"data row97 col0\" >modus</td>\n",
       "            </tr>\n",
       "            <tr>\n",
       "                                <td id=\"T_db24f_row98_col0\" class=\"data row98 col0\" >fox</td>\n",
       "            </tr>\n",
       "            <tr>\n",
       "                                <td id=\"T_db24f_row99_col0\" class=\"data row99 col0\" >matiz</td>\n",
       "            </tr>\n",
       "            <tr>\n",
       "                                <td id=\"T_db24f_row100_col0\" class=\"data row100 col0\" >beetle</td>\n",
       "            </tr>\n",
       "            <tr>\n",
       "                                <td id=\"T_db24f_row101_col0\" class=\"data row101 col0\" >c1</td>\n",
       "            </tr>\n",
       "            <tr>\n",
       "                                <td id=\"T_db24f_row102_col0\" class=\"data row102 col0\" >rio</td>\n",
       "            </tr>\n",
       "            <tr>\n",
       "                                <td id=\"T_db24f_row103_col0\" class=\"data row103 col0\" >touareg</td>\n",
       "            </tr>\n",
       "            <tr>\n",
       "                                <td id=\"T_db24f_row104_col0\" class=\"data row104 col0\" >logan</td>\n",
       "            </tr>\n",
       "            <tr>\n",
       "                                <td id=\"T_db24f_row105_col0\" class=\"data row105 col0\" >spider</td>\n",
       "            </tr>\n",
       "            <tr>\n",
       "                                <td id=\"T_db24f_row106_col0\" class=\"data row106 col0\" >cuore</td>\n",
       "            </tr>\n",
       "            <tr>\n",
       "                                <td id=\"T_db24f_row107_col0\" class=\"data row107 col0\" >s_max</td>\n",
       "            </tr>\n",
       "            <tr>\n",
       "                                <td id=\"T_db24f_row108_col0\" class=\"data row108 col0\" >a2</td>\n",
       "            </tr>\n",
       "            <tr>\n",
       "                                <td id=\"T_db24f_row109_col0\" class=\"data row109 col0\" >galaxy</td>\n",
       "            </tr>\n",
       "            <tr>\n",
       "                                <td id=\"T_db24f_row110_col0\" class=\"data row110 col0\" >c3</td>\n",
       "            </tr>\n",
       "            <tr>\n",
       "                                <td id=\"T_db24f_row111_col0\" class=\"data row111 col0\" >viano</td>\n",
       "            </tr>\n",
       "            <tr>\n",
       "                                <td id=\"T_db24f_row112_col0\" class=\"data row112 col0\" >s_klasse</td>\n",
       "            </tr>\n",
       "            <tr>\n",
       "                                <td id=\"T_db24f_row113_col0\" class=\"data row113 col0\" >1_reihe</td>\n",
       "            </tr>\n",
       "            <tr>\n",
       "                                <td id=\"T_db24f_row114_col0\" class=\"data row114 col0\" >avensis</td>\n",
       "            </tr>\n",
       "            <tr>\n",
       "                                <td id=\"T_db24f_row115_col0\" class=\"data row115 col0\" >roomster</td>\n",
       "            </tr>\n",
       "            <tr>\n",
       "                                <td id=\"T_db24f_row116_col0\" class=\"data row116 col0\" >sl</td>\n",
       "            </tr>\n",
       "            <tr>\n",
       "                                <td id=\"T_db24f_row117_col0\" class=\"data row117 col0\" >kaefer</td>\n",
       "            </tr>\n",
       "            <tr>\n",
       "                                <td id=\"T_db24f_row118_col0\" class=\"data row118 col0\" >santa</td>\n",
       "            </tr>\n",
       "            <tr>\n",
       "                                <td id=\"T_db24f_row119_col0\" class=\"data row119 col0\" >cooper</td>\n",
       "            </tr>\n",
       "            <tr>\n",
       "                                <td id=\"T_db24f_row120_col0\" class=\"data row120 col0\" >leon</td>\n",
       "            </tr>\n",
       "            <tr>\n",
       "                                <td id=\"T_db24f_row121_col0\" class=\"data row121 col0\" >4_reihe</td>\n",
       "            </tr>\n",
       "            <tr>\n",
       "                                <td id=\"T_db24f_row122_col0\" class=\"data row122 col0\" >a5</td>\n",
       "            </tr>\n",
       "            <tr>\n",
       "                                <td id=\"T_db24f_row123_col0\" class=\"data row123 col0\" >500</td>\n",
       "            </tr>\n",
       "            <tr>\n",
       "                                <td id=\"T_db24f_row124_col0\" class=\"data row124 col0\" >laguna</td>\n",
       "            </tr>\n",
       "            <tr>\n",
       "                                <td id=\"T_db24f_row125_col0\" class=\"data row125 col0\" >ptcruiser</td>\n",
       "            </tr>\n",
       "            <tr>\n",
       "                                <td id=\"T_db24f_row126_col0\" class=\"data row126 col0\" >clk</td>\n",
       "            </tr>\n",
       "            <tr>\n",
       "                                <td id=\"T_db24f_row127_col0\" class=\"data row127 col0\" >primera</td>\n",
       "            </tr>\n",
       "            <tr>\n",
       "                                <td id=\"T_db24f_row128_col0\" class=\"data row128 col0\" >x_reihe</td>\n",
       "            </tr>\n",
       "            <tr>\n",
       "                                <td id=\"T_db24f_row129_col0\" class=\"data row129 col0\" >exeo</td>\n",
       "            </tr>\n",
       "            <tr>\n",
       "                                <td id=\"T_db24f_row130_col0\" class=\"data row130 col0\" >159</td>\n",
       "            </tr>\n",
       "            <tr>\n",
       "                                <td id=\"T_db24f_row131_col0\" class=\"data row131 col0\" >transit</td>\n",
       "            </tr>\n",
       "            <tr>\n",
       "                                <td id=\"T_db24f_row132_col0\" class=\"data row132 col0\" >juke</td>\n",
       "            </tr>\n",
       "            <tr>\n",
       "                                <td id=\"T_db24f_row133_col0\" class=\"data row133 col0\" >qashqai</td>\n",
       "            </tr>\n",
       "            <tr>\n",
       "                                <td id=\"T_db24f_row134_col0\" class=\"data row134 col0\" >carisma</td>\n",
       "            </tr>\n",
       "            <tr>\n",
       "                                <td id=\"T_db24f_row135_col0\" class=\"data row135 col0\" >accord</td>\n",
       "            </tr>\n",
       "            <tr>\n",
       "                                <td id=\"T_db24f_row136_col0\" class=\"data row136 col0\" >corolla</td>\n",
       "            </tr>\n",
       "            <tr>\n",
       "                                <td id=\"T_db24f_row137_col0\" class=\"data row137 col0\" >lanos</td>\n",
       "            </tr>\n",
       "            <tr>\n",
       "                                <td id=\"T_db24f_row138_col0\" class=\"data row138 col0\" >phaeton</td>\n",
       "            </tr>\n",
       "            <tr>\n",
       "                                <td id=\"T_db24f_row139_col0\" class=\"data row139 col0\" >verso</td>\n",
       "            </tr>\n",
       "            <tr>\n",
       "                                <td id=\"T_db24f_row140_col0\" class=\"data row140 col0\" >swift</td>\n",
       "            </tr>\n",
       "            <tr>\n",
       "                                <td id=\"T_db24f_row141_col0\" class=\"data row141 col0\" >rav</td>\n",
       "            </tr>\n",
       "            <tr>\n",
       "                                <td id=\"T_db24f_row142_col0\" class=\"data row142 col0\" >picanto</td>\n",
       "            </tr>\n",
       "            <tr>\n",
       "                                <td id=\"T_db24f_row143_col0\" class=\"data row143 col0\" >boxster</td>\n",
       "            </tr>\n",
       "            <tr>\n",
       "                                <td id=\"T_db24f_row144_col0\" class=\"data row144 col0\" >kalos</td>\n",
       "            </tr>\n",
       "            <tr>\n",
       "                                <td id=\"T_db24f_row145_col0\" class=\"data row145 col0\" >superb</td>\n",
       "            </tr>\n",
       "            <tr>\n",
       "                                <td id=\"T_db24f_row146_col0\" class=\"data row146 col0\" >stilo</td>\n",
       "            </tr>\n",
       "            <tr>\n",
       "                                <td id=\"T_db24f_row147_col0\" class=\"data row147 col0\" >alhambra</td>\n",
       "            </tr>\n",
       "            <tr>\n",
       "                                <td id=\"T_db24f_row148_col0\" class=\"data row148 col0\" >mx_reihe</td>\n",
       "            </tr>\n",
       "            <tr>\n",
       "                                <td id=\"T_db24f_row149_col0\" class=\"data row149 col0\" >roadster</td>\n",
       "            </tr>\n",
       "            <tr>\n",
       "                                <td id=\"T_db24f_row150_col0\" class=\"data row150 col0\" >ypsilon</td>\n",
       "            </tr>\n",
       "            <tr>\n",
       "                                <td id=\"T_db24f_row151_col0\" class=\"data row151 col0\" >cayenne</td>\n",
       "            </tr>\n",
       "            <tr>\n",
       "                                <td id=\"T_db24f_row152_col0\" class=\"data row152 col0\" >galant</td>\n",
       "            </tr>\n",
       "            <tr>\n",
       "                                <td id=\"T_db24f_row153_col0\" class=\"data row153 col0\" >justy</td>\n",
       "            </tr>\n",
       "            <tr>\n",
       "                                <td id=\"T_db24f_row154_col0\" class=\"data row154 col0\" >90</td>\n",
       "            </tr>\n",
       "            <tr>\n",
       "                                <td id=\"T_db24f_row155_col0\" class=\"data row155 col0\" >sirion</td>\n",
       "            </tr>\n",
       "            <tr>\n",
       "                                <td id=\"T_db24f_row156_col0\" class=\"data row156 col0\" >crossfire</td>\n",
       "            </tr>\n",
       "            <tr>\n",
       "                                <td id=\"T_db24f_row157_col0\" class=\"data row157 col0\" >agila</td>\n",
       "            </tr>\n",
       "            <tr>\n",
       "                                <td id=\"T_db24f_row158_col0\" class=\"data row158 col0\" >duster</td>\n",
       "            </tr>\n",
       "            <tr>\n",
       "                                <td id=\"T_db24f_row159_col0\" class=\"data row159 col0\" >cr_reihe</td>\n",
       "            </tr>\n",
       "            <tr>\n",
       "                                <td id=\"T_db24f_row160_col0\" class=\"data row160 col0\" >v50</td>\n",
       "            </tr>\n",
       "            <tr>\n",
       "                                <td id=\"T_db24f_row161_col0\" class=\"data row161 col0\" >c_reihe</td>\n",
       "            </tr>\n",
       "            <tr>\n",
       "                                <td id=\"T_db24f_row162_col0\" class=\"data row162 col0\" >v_klasse</td>\n",
       "            </tr>\n",
       "            <tr>\n",
       "                                <td id=\"T_db24f_row163_col0\" class=\"data row163 col0\" >m_klasse</td>\n",
       "            </tr>\n",
       "            <tr>\n",
       "                                <td id=\"T_db24f_row164_col0\" class=\"data row164 col0\" >yaris</td>\n",
       "            </tr>\n",
       "            <tr>\n",
       "                                <td id=\"T_db24f_row165_col0\" class=\"data row165 col0\" >c5</td>\n",
       "            </tr>\n",
       "            <tr>\n",
       "                                <td id=\"T_db24f_row166_col0\" class=\"data row166 col0\" >aygo</td>\n",
       "            </tr>\n",
       "            <tr>\n",
       "                                <td id=\"T_db24f_row167_col0\" class=\"data row167 col0\" >cc</td>\n",
       "            </tr>\n",
       "            <tr>\n",
       "                                <td id=\"T_db24f_row168_col0\" class=\"data row168 col0\" >carnival</td>\n",
       "            </tr>\n",
       "            <tr>\n",
       "                                <td id=\"T_db24f_row169_col0\" class=\"data row169 col0\" >fusion</td>\n",
       "            </tr>\n",
       "            <tr>\n",
       "                                <td id=\"T_db24f_row170_col0\" class=\"data row170 col0\" >911</td>\n",
       "            </tr>\n",
       "            <tr>\n",
       "                                <td id=\"T_db24f_row171_col0\" class=\"data row171 col0\" >bora</td>\n",
       "            </tr>\n",
       "            <tr>\n",
       "                                <td id=\"T_db24f_row172_col0\" class=\"data row172 col0\" >forfour</td>\n",
       "            </tr>\n",
       "            <tr>\n",
       "                                <td id=\"T_db24f_row173_col0\" class=\"data row173 col0\" >m_reihe</td>\n",
       "            </tr>\n",
       "            <tr>\n",
       "                                <td id=\"T_db24f_row174_col0\" class=\"data row174 col0\" >cl</td>\n",
       "            </tr>\n",
       "            <tr>\n",
       "                                <td id=\"T_db24f_row175_col0\" class=\"data row175 col0\" >tigra</td>\n",
       "            </tr>\n",
       "            <tr>\n",
       "                                <td id=\"T_db24f_row176_col0\" class=\"data row176 col0\" >300c</td>\n",
       "            </tr>\n",
       "            <tr>\n",
       "                                <td id=\"T_db24f_row177_col0\" class=\"data row177 col0\" >spark</td>\n",
       "            </tr>\n",
       "            <tr>\n",
       "                                <td id=\"T_db24f_row178_col0\" class=\"data row178 col0\" >v70</td>\n",
       "            </tr>\n",
       "            <tr>\n",
       "                                <td id=\"T_db24f_row179_col0\" class=\"data row179 col0\" >kuga</td>\n",
       "            </tr>\n",
       "            <tr>\n",
       "                                <td id=\"T_db24f_row180_col0\" class=\"data row180 col0\" >x_type</td>\n",
       "            </tr>\n",
       "            <tr>\n",
       "                                <td id=\"T_db24f_row181_col0\" class=\"data row181 col0\" >ducato</td>\n",
       "            </tr>\n",
       "            <tr>\n",
       "                                <td id=\"T_db24f_row182_col0\" class=\"data row182 col0\" >s_type</td>\n",
       "            </tr>\n",
       "            <tr>\n",
       "                                <td id=\"T_db24f_row183_col0\" class=\"data row183 col0\" >x_trail</td>\n",
       "            </tr>\n",
       "            <tr>\n",
       "                                <td id=\"T_db24f_row184_col0\" class=\"data row184 col0\" >toledo</td>\n",
       "            </tr>\n",
       "            <tr>\n",
       "                                <td id=\"T_db24f_row185_col0\" class=\"data row185 col0\" >altea</td>\n",
       "            </tr>\n",
       "            <tr>\n",
       "                                <td id=\"T_db24f_row186_col0\" class=\"data row186 col0\" >voyager</td>\n",
       "            </tr>\n",
       "            <tr>\n",
       "                                <td id=\"T_db24f_row187_col0\" class=\"data row187 col0\" >calibra</td>\n",
       "            </tr>\n",
       "            <tr>\n",
       "                                <td id=\"T_db24f_row188_col0\" class=\"data row188 col0\" >bravo</td>\n",
       "            </tr>\n",
       "            <tr>\n",
       "                                <td id=\"T_db24f_row189_col0\" class=\"data row189 col0\" >antara</td>\n",
       "            </tr>\n",
       "            <tr>\n",
       "                                <td id=\"T_db24f_row190_col0\" class=\"data row190 col0\" >tucson</td>\n",
       "            </tr>\n",
       "            <tr>\n",
       "                                <td id=\"T_db24f_row191_col0\" class=\"data row191 col0\" >citigo</td>\n",
       "            </tr>\n",
       "            <tr>\n",
       "                                <td id=\"T_db24f_row192_col0\" class=\"data row192 col0\" >jimny</td>\n",
       "            </tr>\n",
       "            <tr>\n",
       "                                <td id=\"T_db24f_row193_col0\" class=\"data row193 col0\" >wrangler</td>\n",
       "            </tr>\n",
       "            <tr>\n",
       "                                <td id=\"T_db24f_row194_col0\" class=\"data row194 col0\" >lybra</td>\n",
       "            </tr>\n",
       "            <tr>\n",
       "                                <td id=\"T_db24f_row195_col0\" class=\"data row195 col0\" >q7</td>\n",
       "            </tr>\n",
       "            <tr>\n",
       "                                <td id=\"T_db24f_row196_col0\" class=\"data row196 col0\" >lancer</td>\n",
       "            </tr>\n",
       "            <tr>\n",
       "                                <td id=\"T_db24f_row197_col0\" class=\"data row197 col0\" >captiva</td>\n",
       "            </tr>\n",
       "            <tr>\n",
       "                                <td id=\"T_db24f_row198_col0\" class=\"data row198 col0\" >c2</td>\n",
       "            </tr>\n",
       "            <tr>\n",
       "                                <td id=\"T_db24f_row199_col0\" class=\"data row199 col0\" >discovery</td>\n",
       "            </tr>\n",
       "            <tr>\n",
       "                                <td id=\"T_db24f_row200_col0\" class=\"data row200 col0\" >freelander</td>\n",
       "            </tr>\n",
       "            <tr>\n",
       "                                <td id=\"T_db24f_row201_col0\" class=\"data row201 col0\" >sandero</td>\n",
       "            </tr>\n",
       "            <tr>\n",
       "                                <td id=\"T_db24f_row202_col0\" class=\"data row202 col0\" >note</td>\n",
       "            </tr>\n",
       "            <tr>\n",
       "                                <td id=\"T_db24f_row203_col0\" class=\"data row203 col0\" >900</td>\n",
       "            </tr>\n",
       "            <tr>\n",
       "                                <td id=\"T_db24f_row204_col0\" class=\"data row204 col0\" >cherokee</td>\n",
       "            </tr>\n",
       "            <tr>\n",
       "                                <td id=\"T_db24f_row205_col0\" class=\"data row205 col0\" >clubman</td>\n",
       "            </tr>\n",
       "            <tr>\n",
       "                                <td id=\"T_db24f_row206_col0\" class=\"data row206 col0\" >samara</td>\n",
       "            </tr>\n",
       "            <tr>\n",
       "                                <td id=\"T_db24f_row207_col0\" class=\"data row207 col0\" >defender</td>\n",
       "            </tr>\n",
       "            <tr>\n",
       "                                <td id=\"T_db24f_row208_col0\" class=\"data row208 col0\" >601</td>\n",
       "            </tr>\n",
       "            <tr>\n",
       "                                <td id=\"T_db24f_row209_col0\" class=\"data row209 col0\" >cx_reihe</td>\n",
       "            </tr>\n",
       "            <tr>\n",
       "                                <td id=\"T_db24f_row210_col0\" class=\"data row210 col0\" >legacy</td>\n",
       "            </tr>\n",
       "            <tr>\n",
       "                                <td id=\"T_db24f_row211_col0\" class=\"data row211 col0\" >pajero</td>\n",
       "            </tr>\n",
       "            <tr>\n",
       "                                <td id=\"T_db24f_row212_col0\" class=\"data row212 col0\" >auris</td>\n",
       "            </tr>\n",
       "            <tr>\n",
       "                                <td id=\"T_db24f_row213_col0\" class=\"data row213 col0\" >niva</td>\n",
       "            </tr>\n",
       "            <tr>\n",
       "                                <td id=\"T_db24f_row214_col0\" class=\"data row214 col0\" >s60</td>\n",
       "            </tr>\n",
       "            <tr>\n",
       "                                <td id=\"T_db24f_row215_col0\" class=\"data row215 col0\" >nubira</td>\n",
       "            </tr>\n",
       "            <tr>\n",
       "                                <td id=\"T_db24f_row216_col0\" class=\"data row216 col0\" >vivaro</td>\n",
       "            </tr>\n",
       "            <tr>\n",
       "                                <td id=\"T_db24f_row217_col0\" class=\"data row217 col0\" >g_klasse</td>\n",
       "            </tr>\n",
       "            <tr>\n",
       "                                <td id=\"T_db24f_row218_col0\" class=\"data row218 col0\" >lodgy</td>\n",
       "            </tr>\n",
       "            <tr>\n",
       "                                <td id=\"T_db24f_row219_col0\" class=\"data row219 col0\" >850</td>\n",
       "            </tr>\n",
       "            <tr>\n",
       "                                <td id=\"T_db24f_row220_col0\" class=\"data row220 col0\" >range_rover</td>\n",
       "            </tr>\n",
       "            <tr>\n",
       "                                <td id=\"T_db24f_row221_col0\" class=\"data row221 col0\" >q3</td>\n",
       "            </tr>\n",
       "            <tr>\n",
       "                                <td id=\"T_db24f_row222_col0\" class=\"data row222 col0\" >serie_2</td>\n",
       "            </tr>\n",
       "            <tr>\n",
       "                                <td id=\"T_db24f_row223_col0\" class=\"data row223 col0\" >glk</td>\n",
       "            </tr>\n",
       "            <tr>\n",
       "                                <td id=\"T_db24f_row224_col0\" class=\"data row224 col0\" >charade</td>\n",
       "            </tr>\n",
       "            <tr>\n",
       "                                <td id=\"T_db24f_row225_col0\" class=\"data row225 col0\" >croma</td>\n",
       "            </tr>\n",
       "            <tr>\n",
       "                                <td id=\"T_db24f_row226_col0\" class=\"data row226 col0\" >outlander</td>\n",
       "            </tr>\n",
       "            <tr>\n",
       "                                <td id=\"T_db24f_row227_col0\" class=\"data row227 col0\" >doblo</td>\n",
       "            </tr>\n",
       "            <tr>\n",
       "                                <td id=\"T_db24f_row228_col0\" class=\"data row228 col0\" >musa</td>\n",
       "            </tr>\n",
       "            <tr>\n",
       "                                <td id=\"T_db24f_row229_col0\" class=\"data row229 col0\" >move</td>\n",
       "            </tr>\n",
       "            <tr>\n",
       "                                <td id=\"T_db24f_row230_col0\" class=\"data row230 col0\" >9000</td>\n",
       "            </tr>\n",
       "            <tr>\n",
       "                                <td id=\"T_db24f_row231_col0\" class=\"data row231 col0\" >v60</td>\n",
       "            </tr>\n",
       "            <tr>\n",
       "                                <td id=\"T_db24f_row232_col0\" class=\"data row232 col0\" >145</td>\n",
       "            </tr>\n",
       "            <tr>\n",
       "                                <td id=\"T_db24f_row233_col0\" class=\"data row233 col0\" >aveo</td>\n",
       "            </tr>\n",
       "            <tr>\n",
       "                                <td id=\"T_db24f_row234_col0\" class=\"data row234 col0\" >200</td>\n",
       "            </tr>\n",
       "            <tr>\n",
       "                                <td id=\"T_db24f_row235_col0\" class=\"data row235 col0\" >b_max</td>\n",
       "            </tr>\n",
       "            <tr>\n",
       "                                <td id=\"T_db24f_row236_col0\" class=\"data row236 col0\" >range_rover_sport</td>\n",
       "            </tr>\n",
       "            <tr>\n",
       "                                <td id=\"T_db24f_row237_col0\" class=\"data row237 col0\" >terios</td>\n",
       "            </tr>\n",
       "            <tr>\n",
       "                                <td id=\"T_db24f_row238_col0\" class=\"data row238 col0\" >rangerover</td>\n",
       "            </tr>\n",
       "            <tr>\n",
       "                                <td id=\"T_db24f_row239_col0\" class=\"data row239 col0\" >q5</td>\n",
       "            </tr>\n",
       "            <tr>\n",
       "                                <td id=\"T_db24f_row240_col0\" class=\"data row240 col0\" >range_rover_evoque</td>\n",
       "            </tr>\n",
       "            <tr>\n",
       "                                <td id=\"T_db24f_row241_col0\" class=\"data row241 col0\" >materia</td>\n",
       "            </tr>\n",
       "            <tr>\n",
       "                                <td id=\"T_db24f_row242_col0\" class=\"data row242 col0\" >delta</td>\n",
       "            </tr>\n",
       "            <tr>\n",
       "                                <td id=\"T_db24f_row243_col0\" class=\"data row243 col0\" >gl</td>\n",
       "            </tr>\n",
       "            <tr>\n",
       "                                <td id=\"T_db24f_row244_col0\" class=\"data row244 col0\" >kalina</td>\n",
       "            </tr>\n",
       "            <tr>\n",
       "                                <td id=\"T_db24f_row245_col0\" class=\"data row245 col0\" >amarok</td>\n",
       "            </tr>\n",
       "            <tr>\n",
       "                                <td id=\"T_db24f_row246_col0\" class=\"data row246 col0\" >elefantino</td>\n",
       "            </tr>\n",
       "            <tr>\n",
       "                                <td id=\"T_db24f_row247_col0\" class=\"data row247 col0\" >i3</td>\n",
       "            </tr>\n",
       "            <tr>\n",
       "                                <td id=\"T_db24f_row248_col0\" class=\"data row248 col0\" >kappa</td>\n",
       "            </tr>\n",
       "            <tr>\n",
       "                                <td id=\"T_db24f_row249_col0\" class=\"data row249 col0\" >serie_3</td>\n",
       "            </tr>\n",
       "            <tr>\n",
       "                                <td id=\"T_db24f_row250_col0\" class=\"data row250 col0\" >serie_1</td>\n",
       "            </tr>\n",
       "    </tbody></table>"
      ],
      "text/plain": [
       "<pandas.io.formats.style.Styler at 0x7f454df32ac0>"
      ]
     },
     "metadata": {},
     "output_type": "display_data"
    },
    {
     "name": "stdout",
     "output_type": "stream",
     "text": [
      "\n",
      "Название категории: fuel_type\n",
      "Число уникальный значений: 8\n"
     ]
    },
    {
     "data": {
      "text/html": [
       "<style  type=\"text/css\" >\n",
       "</style><table id=\"T_8119b_\" style=\"width: 60%; margin: auto;\"><thead>    <tr>        <th class=\"col_heading level0 col0\" >0</th>    </tr></thead><tbody>\n",
       "                <tr>\n",
       "                                <td id=\"T_8119b_row0_col0\" class=\"data row0 col0\" >petrol</td>\n",
       "            </tr>\n",
       "            <tr>\n",
       "                                <td id=\"T_8119b_row1_col0\" class=\"data row1 col0\" >gasoline</td>\n",
       "            </tr>\n",
       "            <tr>\n",
       "                                <td id=\"T_8119b_row2_col0\" class=\"data row2 col0\" >nan</td>\n",
       "            </tr>\n",
       "            <tr>\n",
       "                                <td id=\"T_8119b_row3_col0\" class=\"data row3 col0\" >lpg</td>\n",
       "            </tr>\n",
       "            <tr>\n",
       "                                <td id=\"T_8119b_row4_col0\" class=\"data row4 col0\" >other</td>\n",
       "            </tr>\n",
       "            <tr>\n",
       "                                <td id=\"T_8119b_row5_col0\" class=\"data row5 col0\" >hybrid</td>\n",
       "            </tr>\n",
       "            <tr>\n",
       "                                <td id=\"T_8119b_row6_col0\" class=\"data row6 col0\" >cng</td>\n",
       "            </tr>\n",
       "            <tr>\n",
       "                                <td id=\"T_8119b_row7_col0\" class=\"data row7 col0\" >electric</td>\n",
       "            </tr>\n",
       "    </tbody></table>"
      ],
      "text/plain": [
       "<pandas.io.formats.style.Styler at 0x7f4549abcd60>"
      ]
     },
     "metadata": {},
     "output_type": "display_data"
    },
    {
     "name": "stdout",
     "output_type": "stream",
     "text": [
      "\n",
      "Название категории: brand\n",
      "Число уникальный значений: 40\n"
     ]
    },
    {
     "data": {
      "text/html": [
       "<style  type=\"text/css\" >\n",
       "</style><table id=\"T_ab94f_\" style=\"width: 60%; margin: auto;\"><thead>    <tr>        <th class=\"col_heading level0 col0\" >0</th>    </tr></thead><tbody>\n",
       "                <tr>\n",
       "                                <td id=\"T_ab94f_row0_col0\" class=\"data row0 col0\" >volkswagen</td>\n",
       "            </tr>\n",
       "            <tr>\n",
       "                                <td id=\"T_ab94f_row1_col0\" class=\"data row1 col0\" >audi</td>\n",
       "            </tr>\n",
       "            <tr>\n",
       "                                <td id=\"T_ab94f_row2_col0\" class=\"data row2 col0\" >jeep</td>\n",
       "            </tr>\n",
       "            <tr>\n",
       "                                <td id=\"T_ab94f_row3_col0\" class=\"data row3 col0\" >skoda</td>\n",
       "            </tr>\n",
       "            <tr>\n",
       "                                <td id=\"T_ab94f_row4_col0\" class=\"data row4 col0\" >bmw</td>\n",
       "            </tr>\n",
       "            <tr>\n",
       "                                <td id=\"T_ab94f_row5_col0\" class=\"data row5 col0\" >peugeot</td>\n",
       "            </tr>\n",
       "            <tr>\n",
       "                                <td id=\"T_ab94f_row6_col0\" class=\"data row6 col0\" >ford</td>\n",
       "            </tr>\n",
       "            <tr>\n",
       "                                <td id=\"T_ab94f_row7_col0\" class=\"data row7 col0\" >mazda</td>\n",
       "            </tr>\n",
       "            <tr>\n",
       "                                <td id=\"T_ab94f_row8_col0\" class=\"data row8 col0\" >nissan</td>\n",
       "            </tr>\n",
       "            <tr>\n",
       "                                <td id=\"T_ab94f_row9_col0\" class=\"data row9 col0\" >renault</td>\n",
       "            </tr>\n",
       "            <tr>\n",
       "                                <td id=\"T_ab94f_row10_col0\" class=\"data row10 col0\" >mercedes_benz</td>\n",
       "            </tr>\n",
       "            <tr>\n",
       "                                <td id=\"T_ab94f_row11_col0\" class=\"data row11 col0\" >opel</td>\n",
       "            </tr>\n",
       "            <tr>\n",
       "                                <td id=\"T_ab94f_row12_col0\" class=\"data row12 col0\" >seat</td>\n",
       "            </tr>\n",
       "            <tr>\n",
       "                                <td id=\"T_ab94f_row13_col0\" class=\"data row13 col0\" >citroen</td>\n",
       "            </tr>\n",
       "            <tr>\n",
       "                                <td id=\"T_ab94f_row14_col0\" class=\"data row14 col0\" >honda</td>\n",
       "            </tr>\n",
       "            <tr>\n",
       "                                <td id=\"T_ab94f_row15_col0\" class=\"data row15 col0\" >fiat</td>\n",
       "            </tr>\n",
       "            <tr>\n",
       "                                <td id=\"T_ab94f_row16_col0\" class=\"data row16 col0\" >mini</td>\n",
       "            </tr>\n",
       "            <tr>\n",
       "                                <td id=\"T_ab94f_row17_col0\" class=\"data row17 col0\" >smart</td>\n",
       "            </tr>\n",
       "            <tr>\n",
       "                                <td id=\"T_ab94f_row18_col0\" class=\"data row18 col0\" >hyundai</td>\n",
       "            </tr>\n",
       "            <tr>\n",
       "                                <td id=\"T_ab94f_row19_col0\" class=\"data row19 col0\" >sonstige_autos</td>\n",
       "            </tr>\n",
       "            <tr>\n",
       "                                <td id=\"T_ab94f_row20_col0\" class=\"data row20 col0\" >alfa_romeo</td>\n",
       "            </tr>\n",
       "            <tr>\n",
       "                                <td id=\"T_ab94f_row21_col0\" class=\"data row21 col0\" >subaru</td>\n",
       "            </tr>\n",
       "            <tr>\n",
       "                                <td id=\"T_ab94f_row22_col0\" class=\"data row22 col0\" >volvo</td>\n",
       "            </tr>\n",
       "            <tr>\n",
       "                                <td id=\"T_ab94f_row23_col0\" class=\"data row23 col0\" >mitsubishi</td>\n",
       "            </tr>\n",
       "            <tr>\n",
       "                                <td id=\"T_ab94f_row24_col0\" class=\"data row24 col0\" >kia</td>\n",
       "            </tr>\n",
       "            <tr>\n",
       "                                <td id=\"T_ab94f_row25_col0\" class=\"data row25 col0\" >suzuki</td>\n",
       "            </tr>\n",
       "            <tr>\n",
       "                                <td id=\"T_ab94f_row26_col0\" class=\"data row26 col0\" >lancia</td>\n",
       "            </tr>\n",
       "            <tr>\n",
       "                                <td id=\"T_ab94f_row27_col0\" class=\"data row27 col0\" >toyota</td>\n",
       "            </tr>\n",
       "            <tr>\n",
       "                                <td id=\"T_ab94f_row28_col0\" class=\"data row28 col0\" >chevrolet</td>\n",
       "            </tr>\n",
       "            <tr>\n",
       "                                <td id=\"T_ab94f_row29_col0\" class=\"data row29 col0\" >dacia</td>\n",
       "            </tr>\n",
       "            <tr>\n",
       "                                <td id=\"T_ab94f_row30_col0\" class=\"data row30 col0\" >daihatsu</td>\n",
       "            </tr>\n",
       "            <tr>\n",
       "                                <td id=\"T_ab94f_row31_col0\" class=\"data row31 col0\" >trabant</td>\n",
       "            </tr>\n",
       "            <tr>\n",
       "                                <td id=\"T_ab94f_row32_col0\" class=\"data row32 col0\" >saab</td>\n",
       "            </tr>\n",
       "            <tr>\n",
       "                                <td id=\"T_ab94f_row33_col0\" class=\"data row33 col0\" >chrysler</td>\n",
       "            </tr>\n",
       "            <tr>\n",
       "                                <td id=\"T_ab94f_row34_col0\" class=\"data row34 col0\" >jaguar</td>\n",
       "            </tr>\n",
       "            <tr>\n",
       "                                <td id=\"T_ab94f_row35_col0\" class=\"data row35 col0\" >daewoo</td>\n",
       "            </tr>\n",
       "            <tr>\n",
       "                                <td id=\"T_ab94f_row36_col0\" class=\"data row36 col0\" >porsche</td>\n",
       "            </tr>\n",
       "            <tr>\n",
       "                                <td id=\"T_ab94f_row37_col0\" class=\"data row37 col0\" >rover</td>\n",
       "            </tr>\n",
       "            <tr>\n",
       "                                <td id=\"T_ab94f_row38_col0\" class=\"data row38 col0\" >land_rover</td>\n",
       "            </tr>\n",
       "            <tr>\n",
       "                                <td id=\"T_ab94f_row39_col0\" class=\"data row39 col0\" >lada</td>\n",
       "            </tr>\n",
       "    </tbody></table>"
      ],
      "text/plain": [
       "<pandas.io.formats.style.Styler at 0x7f454df323a0>"
      ]
     },
     "metadata": {},
     "output_type": "display_data"
    },
    {
     "name": "stdout",
     "output_type": "stream",
     "text": [
      "\n",
      "Название категории: repaired\n",
      "Число уникальный значений: 3\n"
     ]
    },
    {
     "data": {
      "text/html": [
       "<style  type=\"text/css\" >\n",
       "</style><table id=\"T_32160_\" style=\"width: 60%; margin: auto;\"><thead>    <tr>        <th class=\"col_heading level0 col0\" >0</th>    </tr></thead><tbody>\n",
       "                <tr>\n",
       "                                <td id=\"T_32160_row0_col0\" class=\"data row0 col0\" >nan</td>\n",
       "            </tr>\n",
       "            <tr>\n",
       "                                <td id=\"T_32160_row1_col0\" class=\"data row1 col0\" >yes</td>\n",
       "            </tr>\n",
       "            <tr>\n",
       "                                <td id=\"T_32160_row2_col0\" class=\"data row2 col0\" >no</td>\n",
       "            </tr>\n",
       "    </tbody></table>"
      ],
      "text/plain": [
       "<pandas.io.formats.style.Styler at 0x7f4549af1220>"
      ]
     },
     "metadata": {},
     "output_type": "display_data"
    },
    {
     "name": "stdout",
     "output_type": "stream",
     "text": [
      "\n"
     ]
    }
   ],
   "source": [
    "implicit_duplicates(data, ['vehicle_type', 'gearbox', 'model', 'fuel_type', 'brand', 'repaired'])"
   ]
  },
  {
   "cell_type": "markdown",
   "metadata": {},
   "source": [
    "Неявных дубликатов не было замечено. "
   ]
  },
  {
   "cell_type": "markdown",
   "metadata": {},
   "source": [
    "### Изучение данных на выбросы, аномалии и особенности"
   ]
  },
  {
   "cell_type": "code",
   "execution_count": 8,
   "metadata": {
    "scrolled": false
   },
   "outputs": [
    {
     "data": {
      "text/html": [
       "<div>\n",
       "<style scoped>\n",
       "    .dataframe tbody tr th:only-of-type {\n",
       "        vertical-align: middle;\n",
       "    }\n",
       "\n",
       "    .dataframe tbody tr th {\n",
       "        vertical-align: top;\n",
       "    }\n",
       "\n",
       "    .dataframe thead th {\n",
       "        text-align: right;\n",
       "    }\n",
       "</style>\n",
       "<table border=\"1\" class=\"dataframe\">\n",
       "  <thead>\n",
       "    <tr style=\"text-align: right;\">\n",
       "      <th></th>\n",
       "      <th>price</th>\n",
       "      <th>power</th>\n",
       "      <th>kilometer</th>\n",
       "      <th>number_of_pictures</th>\n",
       "      <th>registration_year</th>\n",
       "    </tr>\n",
       "  </thead>\n",
       "  <tbody>\n",
       "    <tr>\n",
       "      <th>count</th>\n",
       "      <td>354365.000000</td>\n",
       "      <td>354365.000000</td>\n",
       "      <td>354365.000000</td>\n",
       "      <td>354365.0</td>\n",
       "      <td>354365.000000</td>\n",
       "    </tr>\n",
       "    <tr>\n",
       "      <th>mean</th>\n",
       "      <td>4416.679830</td>\n",
       "      <td>110.093816</td>\n",
       "      <td>128211.363989</td>\n",
       "      <td>0.0</td>\n",
       "      <td>2004.234481</td>\n",
       "    </tr>\n",
       "    <tr>\n",
       "      <th>std</th>\n",
       "      <td>4514.176349</td>\n",
       "      <td>189.851330</td>\n",
       "      <td>37905.083858</td>\n",
       "      <td>0.0</td>\n",
       "      <td>90.228466</td>\n",
       "    </tr>\n",
       "    <tr>\n",
       "      <th>min</th>\n",
       "      <td>0.000000</td>\n",
       "      <td>0.000000</td>\n",
       "      <td>5000.000000</td>\n",
       "      <td>0.0</td>\n",
       "      <td>1000.000000</td>\n",
       "    </tr>\n",
       "    <tr>\n",
       "      <th>25%</th>\n",
       "      <td>1050.000000</td>\n",
       "      <td>69.000000</td>\n",
       "      <td>125000.000000</td>\n",
       "      <td>0.0</td>\n",
       "      <td>1999.000000</td>\n",
       "    </tr>\n",
       "    <tr>\n",
       "      <th>50%</th>\n",
       "      <td>2700.000000</td>\n",
       "      <td>105.000000</td>\n",
       "      <td>150000.000000</td>\n",
       "      <td>0.0</td>\n",
       "      <td>2003.000000</td>\n",
       "    </tr>\n",
       "    <tr>\n",
       "      <th>75%</th>\n",
       "      <td>6400.000000</td>\n",
       "      <td>143.000000</td>\n",
       "      <td>150000.000000</td>\n",
       "      <td>0.0</td>\n",
       "      <td>2008.000000</td>\n",
       "    </tr>\n",
       "    <tr>\n",
       "      <th>max</th>\n",
       "      <td>20000.000000</td>\n",
       "      <td>20000.000000</td>\n",
       "      <td>150000.000000</td>\n",
       "      <td>0.0</td>\n",
       "      <td>9999.000000</td>\n",
       "    </tr>\n",
       "  </tbody>\n",
       "</table>\n",
       "</div>"
      ],
      "text/plain": [
       "               price          power      kilometer  number_of_pictures  \\\n",
       "count  354365.000000  354365.000000  354365.000000            354365.0   \n",
       "mean     4416.679830     110.093816  128211.363989                 0.0   \n",
       "std      4514.176349     189.851330   37905.083858                 0.0   \n",
       "min         0.000000       0.000000    5000.000000                 0.0   \n",
       "25%      1050.000000      69.000000  125000.000000                 0.0   \n",
       "50%      2700.000000     105.000000  150000.000000                 0.0   \n",
       "75%      6400.000000     143.000000  150000.000000                 0.0   \n",
       "max     20000.000000   20000.000000  150000.000000                 0.0   \n",
       "\n",
       "       registration_year  \n",
       "count      354365.000000  \n",
       "mean         2004.234481  \n",
       "std            90.228466  \n",
       "min          1000.000000  \n",
       "25%          1999.000000  \n",
       "50%          2003.000000  \n",
       "75%          2008.000000  \n",
       "max          9999.000000  "
      ]
     },
     "metadata": {},
     "output_type": "display_data"
    },
    {
     "data": {
      "image/png": "[encoded data removed]",
      "text/plain": [
       "<Figure size 720x360 with 1 Axes>"
      ]
     },
     "metadata": {
      "needs_background": "light"
     },
     "output_type": "display_data"
    },
    {
     "name": "stdout",
     "output_type": "stream",
     "text": [
      "Количество выбивающихся значений в price: 18979\n"
     ]
    },
    {
     "data": {
      "image/png": "[encoded data removed]",
      "text/plain": [
       "<Figure size 720x360 with 1 Axes>"
      ]
     },
     "metadata": {
      "needs_background": "light"
     },
     "output_type": "display_data"
    },
    {
     "name": "stdout",
     "output_type": "stream",
     "text": [
      "Количество выбивающихся значений в power: 7340\n"
     ]
    },
    {
     "data": {
      "image/png": "[encoded data removed]",
      "text/plain": [
       "<Figure size 720x360 with 1 Axes>"
      ]
     },
     "metadata": {
      "needs_background": "light"
     },
     "output_type": "display_data"
    },
    {
     "name": "stdout",
     "output_type": "stream",
     "text": [
      "Количество выбивающихся значений в kilometer: 53256\n"
     ]
    },
    {
     "data": {
      "image/png": "[encoded data removed]",
      "text/plain": [
       "<Figure size 720x360 with 1 Axes>"
      ]
     },
     "metadata": {
      "needs_background": "light"
     },
     "output_type": "display_data"
    },
    {
     "name": "stdout",
     "output_type": "stream",
     "text": [
      "Количество выбивающихся значений в number_of_pictures: 0\n"
     ]
    },
    {
     "data": {
      "image/png": "[encoded data removed]",
      "text/plain": [
       "<Figure size 720x360 with 1 Axes>"
      ]
     },
     "metadata": {
      "needs_background": "light"
     },
     "output_type": "display_data"
    },
    {
     "name": "stdout",
     "output_type": "stream",
     "text": [
      "Количество выбивающихся значений в registration_year: 6309\n"
     ]
    }
   ],
   "source": [
    "box(data, ['price', 'power', 'kilometer', 'number_of_pictures', 'registration_year'])"
   ]
  },
  {
   "cell_type": "markdown",
   "metadata": {},
   "source": [
    "Проанализируем аномалии в столбце года регистрации автомобиля. "
   ]
  },
  {
   "cell_type": "code",
   "execution_count": 9,
   "metadata": {},
   "outputs": [
    {
     "name": "stdout",
     "output_type": "stream",
     "text": [
      "Нижняя граница размаза: 1985.5\n",
      "Верхняя граница размаха: 2021.5\n",
      "Всего наблюдений ниже нижней границы: 6204\n",
      "Всего наблюдений выше верхней границы: 105\n"
     ]
    }
   ],
   "source": [
    "Q1 = data['registration_year'].quantile(0.25)\n",
    "Q3 = data['registration_year'].quantile(0.75)\n",
    "IQR = Q3 - Q1\n",
    "lower_bound = Q1 - 1.5 * IQR\n",
    "upper_bound = Q3 + 1.5 * IQR\n",
    "anomalies = data[(data['registration_year'] < lower_bound) | (data['registration_year'] > upper_bound)]\n",
    "print(f'Нижняя граница размаза: {lower_bound}')\n",
    "print(f'Верхняя граница размаха: {upper_bound}')\n",
    "print(f'Всего наблюдений ниже нижней границы: {len(data[data[\"registration_year\"] < lower_bound])}')\n",
    "print(f'Всего наблюдений выше верхней границы: {len(data[data[\"registration_year\"] > upper_bound])}')"
   ]
  },
  {
   "cell_type": "code",
   "execution_count": 10,
   "metadata": {},
   "outputs": [
    {
     "name": "stdout",
     "output_type": "stream",
     "text": [
      "Последний год выгрузки из базы данных: 2016\n"
     ]
    }
   ],
   "source": [
    "data['year_crawled'] = pd.to_datetime(data['date_crawled']).dt.year\n",
    "print(f'Последний год выгрузки из базы данных: {data.sort_values(by=\"year_crawled\", ascending=False)[\"year_crawled\"].iloc[0]}')"
   ]
  },
  {
   "cell_type": "markdown",
   "metadata": {},
   "source": [
    "Даты регистрации раньше 1985 вполне допустимы. Поставим нижнюю границу в районе 30-х годов. Продажа автомобилей более раннего времени представляется мало возможным. Также будем считать аномалией даты регистрации позднее 2016 года. \n",
    "\n",
    "Таких ошибочных данных не так уж и много и их можно было бы удалить, но мы попытаемся их востановить."
   ]
  },
  {
   "cell_type": "markdown",
   "metadata": {},
   "source": [
    "Посмотрим на распределение разницы между годом регистрации и годом созданий анкеты. "
   ]
  },
  {
   "cell_type": "code",
   "execution_count": 11,
   "metadata": {},
   "outputs": [
    {
     "name": "stdout",
     "output_type": "stream",
     "text": [
      "                   0\n",
      "count  330050.000000\n",
      "mean       13.878143\n",
      "std         6.585609\n",
      "min         0.000000\n",
      "25%         9.000000\n",
      "50%        14.000000\n",
      "75%        17.000000\n",
      "max        85.000000\n"
     ]
    }
   ],
   "source": [
    "analysis = data\n",
    "analysis['year_created'] = pd.to_datetime(analysis['date_created']).dt.year\n",
    "analysis = analysis[(analysis['registration_year'] > 1930) & (analysis['registration_year'] < 2016)]\n",
    "difference = (analysis['year_created']-analysis['registration_year'])\n",
    "print(pd.DataFrame(difference).describe())\n"
   ]
  },
  {
   "cell_type": "code",
   "execution_count": 12,
   "metadata": {},
   "outputs": [
    {
     "data": {
      "image/png": "[encoded data removed]",
      "text/plain": [
       "<Figure size 1080x720 with 1 Axes>"
      ]
     },
     "metadata": {
      "needs_background": "light"
     },
     "output_type": "display_data"
    }
   ],
   "source": [
    "def hist(data):\n",
    "    plt.figure(figsize=(15,10))\n",
    "    sns.histplot(data, bins=19, kde=True)\n",
    "\n",
    "hist(difference)"
   ]
  },
  {
   "cell_type": "markdown",
   "metadata": {},
   "source": [
    "Наблюдается явная устойчивость этой разницы. В целом распределение имеет форму нормального распределения, со смещением влево. Среднее и медиана почти совпадают.\n",
    "\n",
    "Заменим аномальные значения таким образом: от года создания анкеты отнимим медиану найденного нами распределения. Это и будет нашей оценкой истинного значения даты регистрации автомобиля. "
   ]
  },
  {
   "cell_type": "code",
   "execution_count": 13,
   "metadata": {},
   "outputs": [
    {
     "name": "stdout",
     "output_type": "stream",
     "text": [
      "Количество аномалий: 0\n"
     ]
    }
   ],
   "source": [
    "data['year_created'] = pd.to_datetime(data['date_created']).dt.year\n",
    "data['registration_year'] = data.apply(\n",
    "lambda row: row['year_created'] - 13 if (row['registration_year'] < 1930) or (row['registration_year'] > 2016)\n",
    "else row['registration_year'],\n",
    "axis = 1\n",
    ")\n",
    "anomalies = data[(data['registration_year'] < 1930) | (data['registration_year'] > 2016)]\n",
    "print(f'Количество аномалий: {len(anomalies)}')\n"
   ]
  },
  {
   "cell_type": "markdown",
   "metadata": {},
   "source": [
    "Исправили проблему с годом регистрации. "
   ]
  },
  {
   "cell_type": "markdown",
   "metadata": {},
   "source": [
    "Также замечена странная особенность данных - количестве фотографий во всех строках нулевое. Этот столбец становится бесполезным, так как обладает нулевой вариацией. "
   ]
  },
  {
   "cell_type": "markdown",
   "metadata": {},
   "source": [
    "В том, что машина может стоить десятки тысяч евро нет ничего странного, как и то, что есть машины, которые практически или вообще не использовались, из-за чего и накатали малое расстояние. "
   ]
  },
  {
   "cell_type": "markdown",
   "metadata": {},
   "source": [
    "### Анализ признаков"
   ]
  },
  {
   "cell_type": "markdown",
   "metadata": {},
   "source": [
    "* Признаки: \n",
    "\n",
    "DateCrawled — дата скачивания анкеты из базы\n",
    "\n",
    "VehicleType — тип автомобильного кузова\n",
    "\n",
    "RegistrationYear — год регистрации автомобиля\n",
    "\n",
    "Gearbox — тип коробки передач\n",
    "\n",
    "Power — мощность (л. с.)\n",
    "\n",
    "Model — модель автомобиля\n",
    "\n",
    "Kilometer — пробег (км)\n",
    "\n",
    "RegistrationMonth — месяц регистрации автомобиля\n",
    "\n",
    "FuelType — тип топлива\n",
    "\n",
    "Brand — марка автомобиля\n",
    "\n",
    "Repaired — была машина в ремонте или нет\n",
    "\n",
    "DateCreated — дата создания анкеты\n",
    "\n",
    "NumberOfPictures — количество фотографий автомобиля\n",
    "\n",
    "PostalCode — почтовый индекс владельца анкеты (пользователя)\n",
    "\n",
    "LastSeen — дата последней активности пользователя"
   ]
  },
  {
   "cell_type": "markdown",
   "metadata": {},
   "source": [
    "Не информативные признаки:\n",
    "1. DateCrawled \n",
    "* Дата скачивания анкеты никак не может влиять на стоимость.\n",
    "2. RegistrationMonth \n",
    "* Месяц регистрации также едва ли как-то связан с ценой автомобиля.\n",
    "* Тем не менее год регистрации будет оставлен по причине влияния инфляции на общий уровень цен, в частности и на цену автомобилей. \n",
    "3. PostalCode\n",
    "* Почтовый индекс никак не связан с ценой.\n",
    "4. LastSeen \n",
    "* Дата последней активности также никаким образом не влияет на цену. \n",
    "5. NumberOfPictures\n",
    "* Количество фотографий могло бы в теории быть связано с ценой, но предоставленные данные имеют нулевую вариацию по этому признаку. В нем нет никакой информации. \n",
    "6. DateCreated \n",
    "* Дата создания также никаким очевидным образом не связано с ценой. \n"
   ]
  },
  {
   "cell_type": "markdown",
   "metadata": {},
   "source": [
    "Удалим все неинформативные столбцы. Таким образом мы упростим работу моделей. "
   ]
  },
  {
   "cell_type": "code",
   "execution_count": 14,
   "metadata": {},
   "outputs": [
    {
     "name": "stdout",
     "output_type": "stream",
     "text": [
      "Информативных столбцов: 10\n"
     ]
    },
    {
     "data": {
      "text/html": [
       "<div>\n",
       "<style scoped>\n",
       "    .dataframe tbody tr th:only-of-type {\n",
       "        vertical-align: middle;\n",
       "    }\n",
       "\n",
       "    .dataframe tbody tr th {\n",
       "        vertical-align: top;\n",
       "    }\n",
       "\n",
       "    .dataframe thead th {\n",
       "        text-align: right;\n",
       "    }\n",
       "</style>\n",
       "<table border=\"1\" class=\"dataframe\">\n",
       "  <thead>\n",
       "    <tr style=\"text-align: right;\">\n",
       "      <th></th>\n",
       "      <th>price</th>\n",
       "      <th>vehicle_type</th>\n",
       "      <th>registration_year</th>\n",
       "      <th>gearbox</th>\n",
       "      <th>power</th>\n",
       "      <th>model</th>\n",
       "      <th>kilometer</th>\n",
       "      <th>fuel_type</th>\n",
       "      <th>brand</th>\n",
       "      <th>repaired</th>\n",
       "    </tr>\n",
       "  </thead>\n",
       "  <tbody>\n",
       "    <tr>\n",
       "      <th>0</th>\n",
       "      <td>480</td>\n",
       "      <td>NaN</td>\n",
       "      <td>1993</td>\n",
       "      <td>manual</td>\n",
       "      <td>0</td>\n",
       "      <td>golf</td>\n",
       "      <td>150000</td>\n",
       "      <td>petrol</td>\n",
       "      <td>volkswagen</td>\n",
       "      <td>NaN</td>\n",
       "    </tr>\n",
       "    <tr>\n",
       "      <th>1</th>\n",
       "      <td>18300</td>\n",
       "      <td>coupe</td>\n",
       "      <td>2011</td>\n",
       "      <td>manual</td>\n",
       "      <td>190</td>\n",
       "      <td>NaN</td>\n",
       "      <td>125000</td>\n",
       "      <td>gasoline</td>\n",
       "      <td>audi</td>\n",
       "      <td>yes</td>\n",
       "    </tr>\n",
       "    <tr>\n",
       "      <th>2</th>\n",
       "      <td>9800</td>\n",
       "      <td>suv</td>\n",
       "      <td>2004</td>\n",
       "      <td>auto</td>\n",
       "      <td>163</td>\n",
       "      <td>grand</td>\n",
       "      <td>125000</td>\n",
       "      <td>gasoline</td>\n",
       "      <td>jeep</td>\n",
       "      <td>NaN</td>\n",
       "    </tr>\n",
       "    <tr>\n",
       "      <th>3</th>\n",
       "      <td>1500</td>\n",
       "      <td>small</td>\n",
       "      <td>2001</td>\n",
       "      <td>manual</td>\n",
       "      <td>75</td>\n",
       "      <td>golf</td>\n",
       "      <td>150000</td>\n",
       "      <td>petrol</td>\n",
       "      <td>volkswagen</td>\n",
       "      <td>no</td>\n",
       "    </tr>\n",
       "    <tr>\n",
       "      <th>4</th>\n",
       "      <td>3600</td>\n",
       "      <td>small</td>\n",
       "      <td>2008</td>\n",
       "      <td>manual</td>\n",
       "      <td>69</td>\n",
       "      <td>fabia</td>\n",
       "      <td>90000</td>\n",
       "      <td>gasoline</td>\n",
       "      <td>skoda</td>\n",
       "      <td>no</td>\n",
       "    </tr>\n",
       "    <tr>\n",
       "      <th>5</th>\n",
       "      <td>650</td>\n",
       "      <td>sedan</td>\n",
       "      <td>1995</td>\n",
       "      <td>manual</td>\n",
       "      <td>102</td>\n",
       "      <td>3er</td>\n",
       "      <td>150000</td>\n",
       "      <td>petrol</td>\n",
       "      <td>bmw</td>\n",
       "      <td>yes</td>\n",
       "    </tr>\n",
       "    <tr>\n",
       "      <th>6</th>\n",
       "      <td>2200</td>\n",
       "      <td>convertible</td>\n",
       "      <td>2004</td>\n",
       "      <td>manual</td>\n",
       "      <td>109</td>\n",
       "      <td>2_reihe</td>\n",
       "      <td>150000</td>\n",
       "      <td>petrol</td>\n",
       "      <td>peugeot</td>\n",
       "      <td>no</td>\n",
       "    </tr>\n",
       "    <tr>\n",
       "      <th>7</th>\n",
       "      <td>0</td>\n",
       "      <td>sedan</td>\n",
       "      <td>1980</td>\n",
       "      <td>manual</td>\n",
       "      <td>50</td>\n",
       "      <td>other</td>\n",
       "      <td>40000</td>\n",
       "      <td>petrol</td>\n",
       "      <td>volkswagen</td>\n",
       "      <td>no</td>\n",
       "    </tr>\n",
       "    <tr>\n",
       "      <th>8</th>\n",
       "      <td>14500</td>\n",
       "      <td>bus</td>\n",
       "      <td>2014</td>\n",
       "      <td>manual</td>\n",
       "      <td>125</td>\n",
       "      <td>c_max</td>\n",
       "      <td>30000</td>\n",
       "      <td>petrol</td>\n",
       "      <td>ford</td>\n",
       "      <td>NaN</td>\n",
       "    </tr>\n",
       "    <tr>\n",
       "      <th>9</th>\n",
       "      <td>999</td>\n",
       "      <td>small</td>\n",
       "      <td>1998</td>\n",
       "      <td>manual</td>\n",
       "      <td>101</td>\n",
       "      <td>golf</td>\n",
       "      <td>150000</td>\n",
       "      <td>NaN</td>\n",
       "      <td>volkswagen</td>\n",
       "      <td>NaN</td>\n",
       "    </tr>\n",
       "  </tbody>\n",
       "</table>\n",
       "</div>"
      ],
      "text/plain": [
       "   price vehicle_type  registration_year gearbox  power    model  kilometer  \\\n",
       "0    480          NaN               1993  manual      0     golf     150000   \n",
       "1  18300        coupe               2011  manual    190      NaN     125000   \n",
       "2   9800          suv               2004    auto    163    grand     125000   \n",
       "3   1500        small               2001  manual     75     golf     150000   \n",
       "4   3600        small               2008  manual     69    fabia      90000   \n",
       "5    650        sedan               1995  manual    102      3er     150000   \n",
       "6   2200  convertible               2004  manual    109  2_reihe     150000   \n",
       "7      0        sedan               1980  manual     50    other      40000   \n",
       "8  14500          bus               2014  manual    125    c_max      30000   \n",
       "9    999        small               1998  manual    101     golf     150000   \n",
       "\n",
       "  fuel_type       brand repaired  \n",
       "0    petrol  volkswagen      NaN  \n",
       "1  gasoline        audi      yes  \n",
       "2  gasoline        jeep      NaN  \n",
       "3    petrol  volkswagen       no  \n",
       "4  gasoline       skoda       no  \n",
       "5    petrol         bmw      yes  \n",
       "6    petrol     peugeot       no  \n",
       "7    petrol  volkswagen       no  \n",
       "8    petrol        ford      NaN  \n",
       "9       NaN  volkswagen      NaN  "
      ]
     },
     "execution_count": 14,
     "metadata": {},
     "output_type": "execute_result"
    }
   ],
   "source": [
    "data_clean = data.drop(['date_crawled', 'registration_month', 'date_created', 'number_of_pictures', 'postal_code', 'last_seen', 'year_created', 'year_crawled'], axis = 1)\n",
    "print(f'Информативных столбцов: {len(data_clean.columns)}')\n",
    "data_clean.head(10)"
   ]
  },
  {
   "cell_type": "markdown",
   "metadata": {},
   "source": [
    "### Обработка пропусков\n"
   ]
  },
  {
   "cell_type": "markdown",
   "metadata": {},
   "source": [
    "**repaired**"
   ]
  },
  {
   "cell_type": "code",
   "execution_count": 15,
   "metadata": {},
   "outputs": [],
   "source": [
    "data_clean['repaired'] = data_clean['repaired'].fillna('unknown')"
   ]
  },
  {
   "cell_type": "markdown",
   "metadata": {},
   "source": [
    "**vehicle_type**"
   ]
  },
  {
   "cell_type": "code",
   "execution_count": 16,
   "metadata": {},
   "outputs": [],
   "source": [
    "data_clean['vehicle_type'] = data_clean['vehicle_type'].fillna('other')"
   ]
  },
  {
   "cell_type": "markdown",
   "metadata": {},
   "source": [
    "**fuel_type**"
   ]
  },
  {
   "cell_type": "code",
   "execution_count": 17,
   "metadata": {},
   "outputs": [],
   "source": [
    "data_clean['fuel_type'] = data_clean['fuel_type'].fillna('other')"
   ]
  },
  {
   "cell_type": "markdown",
   "metadata": {},
   "source": [
    "**gearbox**"
   ]
  },
  {
   "cell_type": "code",
   "execution_count": 18,
   "metadata": {},
   "outputs": [],
   "source": [
    "data_clean['gearbox'] = data_clean['gearbox'].fillna('unknown')"
   ]
  },
  {
   "cell_type": "markdown",
   "metadata": {},
   "source": [
    "**model**"
   ]
  },
  {
   "cell_type": "code",
   "execution_count": 19,
   "metadata": {},
   "outputs": [],
   "source": [
    "data_clean['model'] = data_clean['model'].fillna('other')"
   ]
  },
  {
   "cell_type": "markdown",
   "metadata": {},
   "source": [
    "Проверка:"
   ]
  },
  {
   "cell_type": "code",
   "execution_count": 20,
   "metadata": {},
   "outputs": [
    {
     "data": {
      "text/plain": [
       "price                0\n",
       "vehicle_type         0\n",
       "registration_year    0\n",
       "gearbox              0\n",
       "power                0\n",
       "model                0\n",
       "kilometer            0\n",
       "fuel_type            0\n",
       "brand                0\n",
       "repaired             0\n",
       "dtype: int64"
      ]
     },
     "execution_count": 20,
     "metadata": {},
     "output_type": "execute_result"
    }
   ],
   "source": [
    "data_clean.isna().sum()"
   ]
  },
  {
   "cell_type": "markdown",
   "metadata": {},
   "source": [
    "### Общий вывод"
   ]
  },
  {
   "cell_type": "markdown",
   "metadata": {},
   "source": [
    "* Данные имеют несколько проблем и особенностей:\n",
    "\n",
    "1. Имеются аномальные значения в дате регистрации автомобилей. \n",
    "2. Число фотографий автомобиля, потенциально полезный для анализа признак, оказался не информативным по причине нулевой вариации. Скорее всего ошибка была допущена при сборе или выгрузке данных.\n",
    "3. В данных имеется большое число пропусков категорильных данных. \n",
    "\n",
    "* Что было сделано:\n",
    "\n",
    "1. Пропуски были заполнены.\n",
    "2. Были исключены не информативные признаки. \n",
    "3. Аномальные значения в датах регистрации автомобиля были обработаны. \n"
   ]
  },
  {
   "cell_type": "markdown",
   "metadata": {},
   "source": [
    "## Обучение моделей и их оценка"
   ]
  },
  {
   "cell_type": "markdown",
   "metadata": {},
   "source": [
    "Необходимо закодировать категориальные данные для применения моделей. \n",
    "\n",
    "С точки зрения точности лучше всего подходит OneHotEncoder, так как благодаря такой кодировке модель не будет пытаться найти порядок в значениях закодированной категориальной переменной. Однако из-за такого типа кодировки увеличивается размерность данных, что сильно уменьшит скорость обучения моделей. \n",
    "\n",
    "Таким образом воспользуемся гибридным решением: категориальные признаки с большим количеством возможных значений будут закодированы LabelEncoder, а остальные OneHotEncoder. "
   ]
  },
  {
   "cell_type": "code",
   "execution_count": 21,
   "metadata": {},
   "outputs": [
    {
     "data": {
      "text/plain": [
       "((212619, 9), (212619,), (70873, 9), (70873,), (70873, 9), (70873,))"
      ]
     },
     "execution_count": 21,
     "metadata": {},
     "output_type": "execute_result"
    }
   ],
   "source": [
    "RANDOM_STATE = 42\n",
    "target = 'price'\n",
    "\n",
    "target = data_clean['price']\n",
    "features = data_clean.drop('price', axis=1)\n",
    "\n",
    "features_train, features_test_valid, target_train, target_test_valid = train_test_split(\n",
    "    features, target, test_size=0.40, random_state=RANDOM_STATE\n",
    ")\n",
    "features_test, features_valid, target_test, target_valid = train_test_split(\n",
    "    features_test_valid, target_test_valid, test_size=0.50, random_state=RANDOM_STATE\n",
    ")\n",
    "\n",
    "features_train.shape, target_train.shape, features_valid.shape, target_valid.shape, features_test.shape, target_test.shape"
   ]
  },
  {
   "cell_type": "code",
   "execution_count": 22,
   "metadata": {},
   "outputs": [],
   "source": [
    "ord_columns = ['model', 'brand']\n",
    "ohe_columns = ['vehicle_type', 'gearbox', 'fuel_type', 'repaired']\n",
    "\n",
    "ord_pipe = Pipeline(\n",
    "    [('ord', OrdinalEncoder(handle_unknown='use_encoded_value', unknown_value=np.nan))\n",
    "    ]\n",
    ")\n",
    "ohe_pipe = Pipeline(\n",
    "    [('ohe', OneHotEncoder(drop='first', sparse_output=False, handle_unknown='ignore'))\n",
    "    ]\n",
    "    )\n",
    "data_preprocessor = ColumnTransformer(\n",
    "    [\n",
    "        ('ord', ord_pipe, ord_columns),\n",
    "        ('ohe', ohe_pipe, ohe_columns)\n",
    "    ], \n",
    "    remainder='passthrough'\n",
    ")\n",
    "\n",
    "\n",
    "features_train_trans = data_preprocessor.fit_transform(features_train)\n",
    "features_valid_trans = data_preprocessor.transform(features_valid)\n",
    "features_test_trans = data_preprocessor.transform(features_test)"
   ]
  },
  {
   "cell_type": "code",
   "execution_count": 23,
   "metadata": {},
   "outputs": [],
   "source": [
    "ohe_columns = ['vehicle_type', 'gearbox', 'fuel_type', 'repaired', 'model', 'brand']\n",
    "\n",
    "data_preprocessor_linear = ColumnTransformer(\n",
    "    [('ohe', ohe_pipe, ohe_columns)\n",
    "    ], \n",
    "    remainder='passthrough'\n",
    ")\n",
    "\n",
    "features_train_trans_linear = data_preprocessor_linear.fit_transform(features_train)\n",
    "features_valid_trans_linear = data_preprocessor_linear.transform(features_valid)\n",
    "features_test_trans_linear = data_preprocessor_linear.transform(features_test)"
   ]
  },
  {
   "cell_type": "markdown",
   "metadata": {},
   "source": [
    "### Линейная модель"
   ]
  },
  {
   "cell_type": "code",
   "execution_count": 24,
   "metadata": {},
   "outputs": [],
   "source": [
    "model = LinearRegression()"
   ]
  },
  {
   "cell_type": "code",
   "execution_count": 25,
   "metadata": {},
   "outputs": [],
   "source": [
    "%%capture result\n",
    "%%timeit\n",
    "model.fit(features_train_trans_linear, target_train)"
   ]
  },
  {
   "cell_type": "code",
   "execution_count": 26,
   "metadata": {},
   "outputs": [],
   "source": [
    "linear_fit_time = result.stdout\n",
    "linear_fit_time_short = linear_fit_time.split(' per loop ')[0]"
   ]
  },
  {
   "cell_type": "code",
   "execution_count": 27,
   "metadata": {},
   "outputs": [],
   "source": [
    "predictions = model.predict(features_valid_trans_linear)"
   ]
  },
  {
   "cell_type": "code",
   "execution_count": 28,
   "metadata": {},
   "outputs": [],
   "source": [
    "%%capture result\n",
    "%%timeit\n",
    "model.predict(features_valid_trans_linear)"
   ]
  },
  {
   "cell_type": "code",
   "execution_count": 29,
   "metadata": {},
   "outputs": [],
   "source": [
    "linear_prediction_time = result.stdout\n",
    "linear_prediction_time_short = linear_prediction_time.split(' per loop ')[0]"
   ]
  },
  {
   "cell_type": "code",
   "execution_count": 30,
   "metadata": {},
   "outputs": [],
   "source": [
    "linear_rmse = mean_squared_error(target_valid, predictions) ** 0.5"
   ]
  },
  {
   "cell_type": "code",
   "execution_count": 31,
   "metadata": {},
   "outputs": [
    {
     "data": {
      "text/html": [
       "<div>\n",
       "<style scoped>\n",
       "    .dataframe tbody tr th:only-of-type {\n",
       "        vertical-align: middle;\n",
       "    }\n",
       "\n",
       "    .dataframe tbody tr th {\n",
       "        vertical-align: top;\n",
       "    }\n",
       "\n",
       "    .dataframe thead th {\n",
       "        text-align: right;\n",
       "    }\n",
       "</style>\n",
       "<table border=\"1\" class=\"dataframe\">\n",
       "  <thead>\n",
       "    <tr style=\"text-align: right;\">\n",
       "      <th></th>\n",
       "      <th>fit_time</th>\n",
       "      <th>prediction_time</th>\n",
       "      <th>rmse</th>\n",
       "    </tr>\n",
       "  </thead>\n",
       "  <tbody>\n",
       "    <tr>\n",
       "      <th>LinearRegression</th>\n",
       "      <td>19.2 s +- 451 ms</td>\n",
       "      <td>167 ms +- 6.62 ms</td>\n",
       "      <td>2901.170686</td>\n",
       "    </tr>\n",
       "  </tbody>\n",
       "</table>\n",
       "</div>"
      ],
      "text/plain": [
       "                          fit_time    prediction_time         rmse\n",
       "LinearRegression  19.2 s +- 451 ms  167 ms +- 6.62 ms  2901.170686"
      ]
     },
     "execution_count": 31,
     "metadata": {},
     "output_type": "execute_result"
    }
   ],
   "source": [
    "models_compares = {\n",
    "    'LinearRegression': {\n",
    "        'fit_time': linear_fit_time_short,\n",
    "        'prediction_time': linear_prediction_time_short,\n",
    "        'rmse': linear_rmse,\n",
    "    },\n",
    "}\n",
    "models_statistics = pd.DataFrame(models_compares).T\n",
    "models_statistics "
   ]
  },
  {
   "cell_type": "markdown",
   "metadata": {},
   "source": [
    "### Случайный лес"
   ]
  },
  {
   "cell_type": "code",
   "execution_count": 32,
   "metadata": {},
   "outputs": [
    {
     "name": "stdout",
     "output_type": "stream",
     "text": [
      "Количество деревьев: 19\n",
      "Глубина: 19\n",
      "RMSE: 1795.873375860284\n"
     ]
    }
   ],
   "source": [
    "best_rmse = 5000\n",
    "best_depth = 0\n",
    "best_estim = 0\n",
    "for estim in range(15, 20, 2):\n",
    "    for depth in range(15, 20, 2):\n",
    "        model = RandomForestRegressor(random_state=RANDOM_STATE, n_estimators=estim, max_depth=depth)\n",
    "        model.fit(features_train_trans, target_train)\n",
    "        predictions = model.predict(features_valid_trans)\n",
    "        rmse = mean_squared_error(target_valid, predictions) ** 0.5\n",
    "        if rmse < best_rmse:\n",
    "            best_rmse = rmse\n",
    "            best_depth = depth\n",
    "            best_estim = estim\n",
    "print(\n",
    "    f'Количество деревьев: {best_estim}\\n'\n",
    "    f'Глубина: {best_depth}\\n'\n",
    "    f'RMSE: {best_rmse}'\n",
    ")"
   ]
  },
  {
   "cell_type": "code",
   "execution_count": 33,
   "metadata": {},
   "outputs": [],
   "source": [
    "model_forest = RandomForestRegressor(random_state=RANDOM_STATE, n_estimators=best_estim, max_depth=best_depth)"
   ]
  },
  {
   "cell_type": "code",
   "execution_count": 34,
   "metadata": {},
   "outputs": [],
   "source": [
    "%%capture result\n",
    "%%timeit\n",
    "model_forest.fit(features_train_trans, target_train)"
   ]
  },
  {
   "cell_type": "code",
   "execution_count": 35,
   "metadata": {},
   "outputs": [],
   "source": [
    "forest_fit_time = result.stdout\n",
    "forest_fit_time_short = forest_fit_time.split(' per loop ')[0]"
   ]
  },
  {
   "cell_type": "code",
   "execution_count": 36,
   "metadata": {},
   "outputs": [],
   "source": [
    "predictions = model_forest.predict(features_valid_trans)"
   ]
  },
  {
   "cell_type": "code",
   "execution_count": 37,
   "metadata": {},
   "outputs": [],
   "source": [
    "%%capture result\n",
    "%%timeit\n",
    "model_forest.predict(features_valid_trans)"
   ]
  },
  {
   "cell_type": "code",
   "execution_count": 38,
   "metadata": {},
   "outputs": [],
   "source": [
    "forest_prediction_time = result.stdout\n",
    "forest_prediction_time_short = forest_prediction_time.split(' per loop ')[0]"
   ]
  },
  {
   "cell_type": "code",
   "execution_count": 39,
   "metadata": {},
   "outputs": [],
   "source": [
    "forest_rmse = mean_squared_error(target_valid, predictions) ** 0.5"
   ]
  },
  {
   "cell_type": "code",
   "execution_count": 40,
   "metadata": {},
   "outputs": [
    {
     "data": {
      "text/html": [
       "<div>\n",
       "<style scoped>\n",
       "    .dataframe tbody tr th:only-of-type {\n",
       "        vertical-align: middle;\n",
       "    }\n",
       "\n",
       "    .dataframe tbody tr th {\n",
       "        vertical-align: top;\n",
       "    }\n",
       "\n",
       "    .dataframe thead th {\n",
       "        text-align: right;\n",
       "    }\n",
       "</style>\n",
       "<table border=\"1\" class=\"dataframe\">\n",
       "  <thead>\n",
       "    <tr style=\"text-align: right;\">\n",
       "      <th></th>\n",
       "      <th>fit_time</th>\n",
       "      <th>prediction_time</th>\n",
       "      <th>rmse</th>\n",
       "    </tr>\n",
       "  </thead>\n",
       "  <tbody>\n",
       "    <tr>\n",
       "      <th>LinearRegression</th>\n",
       "      <td>19.2 s +- 451 ms</td>\n",
       "      <td>167 ms +- 6.62 ms</td>\n",
       "      <td>2901.170686</td>\n",
       "    </tr>\n",
       "    <tr>\n",
       "      <th>RandomForestRegressor</th>\n",
       "      <td>15.2 s +- 101 ms</td>\n",
       "      <td>339 ms +- 5.56 ms</td>\n",
       "      <td>1795.873376</td>\n",
       "    </tr>\n",
       "  </tbody>\n",
       "</table>\n",
       "</div>"
      ],
      "text/plain": [
       "                               fit_time    prediction_time         rmse\n",
       "LinearRegression       19.2 s +- 451 ms  167 ms +- 6.62 ms  2901.170686\n",
       "RandomForestRegressor  15.2 s +- 101 ms  339 ms +- 5.56 ms  1795.873376"
      ]
     },
     "execution_count": 40,
     "metadata": {},
     "output_type": "execute_result"
    }
   ],
   "source": [
    "models_compares['RandomForestRegressor'] = {\n",
    "        'fit_time': forest_fit_time_short,\n",
    "        'prediction_time': forest_prediction_time_short,\n",
    "        'rmse': forest_rmse,\n",
    "    }\n",
    "models_statistics = pd.DataFrame(models_compares).T\n",
    "models_statistics "
   ]
  },
  {
   "cell_type": "markdown",
   "metadata": {},
   "source": [
    "### LightGBM"
   ]
  },
  {
   "cell_type": "code",
   "execution_count": 41,
   "metadata": {},
   "outputs": [
    {
     "name": "stderr",
     "output_type": "stream",
     "text": [
      "/opt/conda/lib/python3.9/site-packages/sklearn/utils/deprecation.py:151: FutureWarning: 'force_all_finite' was renamed to 'ensure_all_finite' in 1.6 and will be removed in 1.8.\n",
      "  warnings.warn(\n",
      "/opt/conda/lib/python3.9/site-packages/sklearn/utils/deprecation.py:151: FutureWarning: 'force_all_finite' was renamed to 'ensure_all_finite' in 1.6 and will be removed in 1.8.\n",
      "  warnings.warn(\n",
      "/opt/conda/lib/python3.9/site-packages/sklearn/utils/deprecation.py:151: FutureWarning: 'force_all_finite' was renamed to 'ensure_all_finite' in 1.6 and will be removed in 1.8.\n",
      "  warnings.warn(\n",
      "/opt/conda/lib/python3.9/site-packages/sklearn/utils/deprecation.py:151: FutureWarning: 'force_all_finite' was renamed to 'ensure_all_finite' in 1.6 and will be removed in 1.8.\n",
      "  warnings.warn(\n",
      "/opt/conda/lib/python3.9/site-packages/sklearn/utils/deprecation.py:151: FutureWarning: 'force_all_finite' was renamed to 'ensure_all_finite' in 1.6 and will be removed in 1.8.\n",
      "  warnings.warn(\n",
      "/opt/conda/lib/python3.9/site-packages/sklearn/utils/deprecation.py:151: FutureWarning: 'force_all_finite' was renamed to 'ensure_all_finite' in 1.6 and will be removed in 1.8.\n",
      "  warnings.warn(\n"
     ]
    },
    {
     "name": "stdout",
     "output_type": "stream",
     "text": [
      "Глубина: 8\n",
      "RMSE: 1760.607646036945\n"
     ]
    }
   ],
   "source": [
    "best_rmse = 5000\n",
    "best_depth = 0\n",
    "for depth in range(5, 12, 3):\n",
    "    model = LGBMRegressor(random_state=RANDOM_STATE, learning_rate=0.5, num_leaves=100, max_depth = depth, n_jobs=-1)\n",
    "    model.fit(features_train_trans, target_train)\n",
    "    predictions = model.predict(features_valid_trans)\n",
    "    rmse = mean_squared_error(target_valid, predictions) ** 0.5\n",
    "    if rmse < best_rmse:\n",
    "        best_rmse = rmse\n",
    "        best_depth = depth\n",
    "print(\n",
    "    f'Глубина: {best_depth}\\n'\n",
    "    f'RMSE: {best_rmse}'\n",
    ")\n",
    "\n"
   ]
  },
  {
   "cell_type": "code",
   "execution_count": 42,
   "metadata": {},
   "outputs": [],
   "source": [
    "model = LGBMRegressor(random_state=RANDOM_STATE, learning_rate=0.5, num_leaves=100, max_depth = best_depth)"
   ]
  },
  {
   "cell_type": "code",
   "execution_count": 43,
   "metadata": {},
   "outputs": [],
   "source": [
    "%%capture result\n",
    "%%timeit\n",
    "model.fit(features_train_trans, target_train)"
   ]
  },
  {
   "cell_type": "code",
   "execution_count": 44,
   "metadata": {},
   "outputs": [],
   "source": [
    "lgbm_fit_time = result.stdout\n",
    "lgbm_fit_time_short = lgbm_fit_time.split(' per loop ')[0]"
   ]
  },
  {
   "cell_type": "code",
   "execution_count": 45,
   "metadata": {},
   "outputs": [
    {
     "name": "stderr",
     "output_type": "stream",
     "text": [
      "/opt/conda/lib/python3.9/site-packages/sklearn/utils/deprecation.py:151: FutureWarning: 'force_all_finite' was renamed to 'ensure_all_finite' in 1.6 and will be removed in 1.8.\n",
      "  warnings.warn(\n"
     ]
    }
   ],
   "source": [
    "predictions = model.predict(features_valid_trans)"
   ]
  },
  {
   "cell_type": "code",
   "execution_count": 46,
   "metadata": {},
   "outputs": [],
   "source": [
    "%%capture result\n",
    "%%timeit\n",
    "model.predict(features_valid_trans)\n"
   ]
  },
  {
   "cell_type": "code",
   "execution_count": 47,
   "metadata": {},
   "outputs": [],
   "source": [
    "lgbm_prediction_time = result.stdout\n",
    "lgbm_prediction_time_short = lgbm_prediction_time.split(' per loop ')[0]"
   ]
  },
  {
   "cell_type": "code",
   "execution_count": 48,
   "metadata": {},
   "outputs": [],
   "source": [
    "lgbm_rmse = mean_squared_error(target_valid, predictions) ** 0.5"
   ]
  },
  {
   "cell_type": "code",
   "execution_count": 49,
   "metadata": {},
   "outputs": [
    {
     "data": {
      "text/html": [
       "<div>\n",
       "<style scoped>\n",
       "    .dataframe tbody tr th:only-of-type {\n",
       "        vertical-align: middle;\n",
       "    }\n",
       "\n",
       "    .dataframe tbody tr th {\n",
       "        vertical-align: top;\n",
       "    }\n",
       "\n",
       "    .dataframe thead th {\n",
       "        text-align: right;\n",
       "    }\n",
       "</style>\n",
       "<table border=\"1\" class=\"dataframe\">\n",
       "  <thead>\n",
       "    <tr style=\"text-align: right;\">\n",
       "      <th></th>\n",
       "      <th>fit_time</th>\n",
       "      <th>prediction_time</th>\n",
       "      <th>rmse</th>\n",
       "    </tr>\n",
       "  </thead>\n",
       "  <tbody>\n",
       "    <tr>\n",
       "      <th>LinearRegression</th>\n",
       "      <td>19.2 s +- 451 ms</td>\n",
       "      <td>167 ms +- 6.62 ms</td>\n",
       "      <td>2901.170686</td>\n",
       "    </tr>\n",
       "    <tr>\n",
       "      <th>RandomForestRegressor</th>\n",
       "      <td>15.2 s +- 101 ms</td>\n",
       "      <td>339 ms +- 5.56 ms</td>\n",
       "      <td>1795.873376</td>\n",
       "    </tr>\n",
       "    <tr>\n",
       "      <th>LGBMRegressor</th>\n",
       "      <td>4min 2s +- 7min 1s</td>\n",
       "      <td>628 ms +- 39.3 ms</td>\n",
       "      <td>1760.607646</td>\n",
       "    </tr>\n",
       "  </tbody>\n",
       "</table>\n",
       "</div>"
      ],
      "text/plain": [
       "                                 fit_time    prediction_time         rmse\n",
       "LinearRegression         19.2 s +- 451 ms  167 ms +- 6.62 ms  2901.170686\n",
       "RandomForestRegressor    15.2 s +- 101 ms  339 ms +- 5.56 ms  1795.873376\n",
       "LGBMRegressor          4min 2s +- 7min 1s  628 ms +- 39.3 ms  1760.607646"
      ]
     },
     "execution_count": 49,
     "metadata": {},
     "output_type": "execute_result"
    }
   ],
   "source": [
    "models_compares['LGBMRegressor'] = {\n",
    "        'fit_time': '4min 2s +- 7min 1s',\n",
    "        'prediction_time': lgbm_prediction_time_short,\n",
    "        'rmse': lgbm_rmse,\n",
    "    }\n",
    "models_statistics = pd.DataFrame(models_compares).T\n",
    "models_statistics"
   ]
  },
  {
   "cell_type": "markdown",
   "metadata": {},
   "source": [
    "## Вывод о моделях"
   ]
  },
  {
   "cell_type": "markdown",
   "metadata": {},
   "source": [
    "### Тестирование и анализ лучшей модели"
   ]
  },
  {
   "cell_type": "markdown",
   "metadata": {},
   "source": [
    "По соотношению времени к качеству на валидационной выборке лучше всего себя показала модель случайного леса. Посмотрим на точность этой модели на тестовой выборке. "
   ]
  },
  {
   "cell_type": "code",
   "execution_count": 50,
   "metadata": {},
   "outputs": [
    {
     "name": "stdout",
     "output_type": "stream",
     "text": [
      "RMSE на тестовой выборке: 1789.5594248586078\n"
     ]
    }
   ],
   "source": [
    "predict = model_forest.predict(features_test_trans)\n",
    "final_rmse = mean_squared_error(target_test, predict)**0.5\n",
    "print(f'RMSE на тестовой выборке: {final_rmse}')"
   ]
  },
  {
   "cell_type": "markdown",
   "metadata": {},
   "source": [
    "Оценим распределение остатков. "
   ]
  },
  {
   "cell_type": "code",
   "execution_count": 51,
   "metadata": {},
   "outputs": [
    {
     "name": "stdout",
     "output_type": "stream",
     "text": [
      "count    70873.000000\n",
      "mean       -11.298219\n",
      "std       1789.536384\n",
      "min     -19208.124571\n",
      "25%       -635.745972\n",
      "50%        -87.949876\n",
      "75%        531.020379\n",
      "max      18485.550672\n",
      "Name: price, dtype: float64\n"
     ]
    },
    {
     "data": {
      "image/png": "[encoded data removed]",
      "text/plain": [
       "<Figure size 1080x720 with 1 Axes>"
      ]
     },
     "metadata": {
      "needs_background": "light"
     },
     "output_type": "display_data"
    }
   ],
   "source": [
    "print((target_test-predict).describe())\n",
    "plt.figure(figsize=(15,10))\n",
    "sns.histplot(data = target_test-predict, bins = 17, kde=True)\n",
    "plt.xlabel('Остатки')\n",
    "plt.ylabel('Количество')\n",
    "plt.title('Распределение остатков')  \n",
    "plt.show()"
   ]
  },
  {
   "cell_type": "code",
   "execution_count": 52,
   "metadata": {},
   "outputs": [
    {
     "data": {
      "image/png": "[encoded data removed]",
      "text/plain": [
       "<Figure size 1152x576 with 1 Axes>"
      ]
     },
     "metadata": {
      "needs_background": "light"
     },
     "output_type": "display_data"
    }
   ],
   "source": [
    "sns.relplot(x=predict, y=target_test - predict, height=8, aspect=2) \n",
    "plt.xlabel('Прогнозные значения модели')\n",
    "plt.ylabel('Ошибка')\n",
    "plt.title('Разброс остатков')\n",
    "plt.show()"
   ]
  },
  {
   "cell_type": "markdown",
   "metadata": {},
   "source": [
    "По статистическим данным видно, что в среднем модель оценивает стоимость автомобилей с небольшим смещением в меньшую сторону, но в целом распределение остатков нормально. Дисперсия модели постояна. "
   ]
  },
  {
   "cell_type": "markdown",
   "metadata": {},
   "source": [
    "### Общий вывод"
   ]
  },
  {
   "cell_type": "markdown",
   "metadata": {},
   "source": [
    "Случайный лес показал хорошие результаты как на валидации, так и на тестовой выборке. Было достигнуто как достаточно высокое значение качества модели (RMSE), так и хорошая скорость обучения и предсказания. \n",
    "\n",
    "Для получения высокого качества и скорости модели было сделано:\n",
    "\n",
    "1. Проведён первичный анализ данных.\n",
    "2. Обработаны пропуски и аномальные значения. \n",
    "3. Проведён анализ признаков; исключены все неинформативные признаки. \n",
    "4. Данные подготовлены для использования моделями таким образом, чтобы повысить качество и скорость их обучения. \n",
    "5. Лучшая модель на валидации была проверена на тестовых данных; остатки модели проанализированы на смещение и наличие гетероскидастичности.  "
   ]
  }
 ],
 "metadata": {
  "ExecuteTimeLog": [
   {
    "duration": 392,
    "start_time": "2025-03-25T12:06:34.675Z"
   },
   {
    "duration": 880,
    "start_time": "2025-03-25T12:06:43.355Z"
   },
   {
    "duration": 909,
    "start_time": "2025-03-25T12:07:52.126Z"
   },
   {
    "duration": 861,
    "start_time": "2025-03-25T12:08:16.569Z"
   },
   {
    "duration": 79,
    "start_time": "2025-03-25T12:14:13.103Z"
   },
   {
    "duration": 3,
    "start_time": "2025-03-25T12:14:17.823Z"
   },
   {
    "duration": 478,
    "start_time": "2025-03-25T12:14:19.788Z"
   },
   {
    "duration": 3,
    "start_time": "2025-03-25T12:14:59.248Z"
   },
   {
    "duration": 473,
    "start_time": "2025-03-25T12:15:01.742Z"
   },
   {
    "duration": 5,
    "start_time": "2025-03-25T12:15:50.758Z"
   },
   {
    "duration": 1141,
    "start_time": "2025-03-25T12:16:00.629Z"
   },
   {
    "duration": 1088,
    "start_time": "2025-03-25T12:16:28.168Z"
   },
   {
    "duration": 139,
    "start_time": "2025-03-25T12:20:39.259Z"
   },
   {
    "duration": 959,
    "start_time": "2025-03-25T12:21:00.924Z"
   },
   {
    "duration": 144,
    "start_time": "2025-03-25T12:22:06.399Z"
   },
   {
    "duration": 4,
    "start_time": "2025-03-25T12:40:58.402Z"
   },
   {
    "duration": 5,
    "start_time": "2025-03-25T12:41:17.469Z"
   },
   {
    "duration": 235,
    "start_time": "2025-03-25T12:45:03.887Z"
   },
   {
    "duration": 4,
    "start_time": "2025-03-25T12:46:17.907Z"
   },
   {
    "duration": 231,
    "start_time": "2025-03-25T12:46:22.615Z"
   },
   {
    "duration": 4,
    "start_time": "2025-03-25T12:50:00.995Z"
   },
   {
    "duration": 230,
    "start_time": "2025-03-25T12:50:05.830Z"
   },
   {
    "duration": 5,
    "start_time": "2025-03-25T12:50:40.552Z"
   },
   {
    "duration": 57,
    "start_time": "2025-03-25T12:50:43.580Z"
   },
   {
    "duration": 4,
    "start_time": "2025-03-25T12:50:51.586Z"
   },
   {
    "duration": 47,
    "start_time": "2025-03-25T12:50:54.713Z"
   },
   {
    "duration": 4,
    "start_time": "2025-03-25T12:51:38.084Z"
   },
   {
    "duration": 223,
    "start_time": "2025-03-25T12:51:43.267Z"
   },
   {
    "duration": 4,
    "start_time": "2025-03-25T12:52:49.012Z"
   },
   {
    "duration": 228,
    "start_time": "2025-03-25T12:52:52.980Z"
   },
   {
    "duration": 4,
    "start_time": "2025-03-25T12:53:12.516Z"
   },
   {
    "duration": 224,
    "start_time": "2025-03-25T12:53:15.542Z"
   },
   {
    "duration": 5,
    "start_time": "2025-03-25T12:53:52.941Z"
   },
   {
    "duration": 40,
    "start_time": "2025-03-25T12:53:57.117Z"
   },
   {
    "duration": 4,
    "start_time": "2025-03-25T12:55:22.784Z"
   },
   {
    "duration": 262,
    "start_time": "2025-03-25T12:55:25.446Z"
   },
   {
    "duration": 4,
    "start_time": "2025-03-25T12:56:10.531Z"
   },
   {
    "duration": 5,
    "start_time": "2025-03-25T12:58:24.986Z"
   },
   {
    "duration": 342,
    "start_time": "2025-03-25T12:58:30.273Z"
   },
   {
    "duration": 4,
    "start_time": "2025-03-25T12:58:57.147Z"
   },
   {
    "duration": 61,
    "start_time": "2025-03-25T12:59:00.424Z"
   },
   {
    "duration": 5,
    "start_time": "2025-03-25T12:59:21.876Z"
   },
   {
    "duration": 64,
    "start_time": "2025-03-25T12:59:25.566Z"
   },
   {
    "duration": 4,
    "start_time": "2025-03-25T13:01:05.455Z"
   },
   {
    "duration": 350,
    "start_time": "2025-03-25T13:01:09.241Z"
   },
   {
    "duration": 5,
    "start_time": "2025-03-25T13:01:52.502Z"
   },
   {
    "duration": 332,
    "start_time": "2025-03-25T13:01:59.024Z"
   },
   {
    "duration": 51,
    "start_time": "2025-03-25T14:47:15.187Z"
   },
   {
    "duration": 375,
    "start_time": "2025-03-25T14:47:44.975Z"
   },
   {
    "duration": 4,
    "start_time": "2025-03-25T14:47:45.352Z"
   },
   {
    "duration": 1018,
    "start_time": "2025-03-25T14:47:45.358Z"
   },
   {
    "duration": 75,
    "start_time": "2025-03-25T14:47:46.378Z"
   },
   {
    "duration": 0,
    "start_time": "2025-03-25T14:47:46.455Z"
   },
   {
    "duration": 0,
    "start_time": "2025-03-25T14:47:46.456Z"
   },
   {
    "duration": 6,
    "start_time": "2025-03-25T14:49:55.811Z"
   },
   {
    "duration": 61,
    "start_time": "2025-03-25T14:57:04.936Z"
   },
   {
    "duration": 71,
    "start_time": "2025-03-25T14:57:29.737Z"
   },
   {
    "duration": 85,
    "start_time": "2025-03-25T14:57:37.489Z"
   },
   {
    "duration": 60,
    "start_time": "2025-03-25T14:57:52.266Z"
   },
   {
    "duration": 1025,
    "start_time": "2025-03-25T14:57:55.616Z"
   },
   {
    "duration": 1352,
    "start_time": "2025-03-25T14:57:59.378Z"
   },
   {
    "duration": 314,
    "start_time": "2025-03-25T14:58:42.465Z"
   },
   {
    "duration": 23,
    "start_time": "2025-03-25T15:06:33.734Z"
   },
   {
    "duration": 23,
    "start_time": "2025-03-25T15:06:44.183Z"
   },
   {
    "duration": 23,
    "start_time": "2025-03-25T15:06:50.737Z"
   },
   {
    "duration": 1371,
    "start_time": "2025-03-28T10:18:15.148Z"
   },
   {
    "duration": 5,
    "start_time": "2025-03-28T10:18:16.521Z"
   },
   {
    "duration": 1087,
    "start_time": "2025-03-28T10:18:16.527Z"
   },
   {
    "duration": 63,
    "start_time": "2025-03-28T10:18:17.616Z"
   },
   {
    "duration": 660,
    "start_time": "2025-03-28T10:18:17.680Z"
   },
   {
    "duration": 390,
    "start_time": "2025-03-28T10:18:18.342Z"
   },
   {
    "duration": 125,
    "start_time": "2025-03-28T10:18:18.733Z"
   },
   {
    "duration": 24,
    "start_time": "2025-03-28T10:18:41.577Z"
   },
   {
    "duration": 1014,
    "start_time": "2025-03-28T10:21:56.463Z"
   },
   {
    "duration": 471,
    "start_time": "2025-03-28T10:22:15.169Z"
   },
   {
    "duration": 23,
    "start_time": "2025-03-28T10:40:13.829Z"
   },
   {
    "duration": 1086,
    "start_time": "2025-03-28T10:41:47.983Z"
   },
   {
    "duration": 4,
    "start_time": "2025-03-28T10:41:49.071Z"
   },
   {
    "duration": 958,
    "start_time": "2025-03-28T10:41:49.077Z"
   },
   {
    "duration": 64,
    "start_time": "2025-03-28T10:41:50.036Z"
   },
   {
    "duration": 608,
    "start_time": "2025-03-28T10:41:50.102Z"
   },
   {
    "duration": 489,
    "start_time": "2025-03-28T10:41:50.712Z"
   },
   {
    "duration": 293,
    "start_time": "2025-03-28T10:41:51.202Z"
   },
   {
    "duration": 23,
    "start_time": "2025-03-28T10:41:51.496Z"
   },
   {
    "duration": 1164,
    "start_time": "2025-03-28T10:51:33.123Z"
   },
   {
    "duration": 6,
    "start_time": "2025-03-28T10:51:34.289Z"
   },
   {
    "duration": 1069,
    "start_time": "2025-03-28T10:51:34.297Z"
   },
   {
    "duration": 59,
    "start_time": "2025-03-28T10:51:35.369Z"
   },
   {
    "duration": 651,
    "start_time": "2025-03-28T10:51:35.430Z"
   },
   {
    "duration": 539,
    "start_time": "2025-03-28T10:51:36.083Z"
   },
   {
    "duration": 255,
    "start_time": "2025-03-28T10:51:36.623Z"
   },
   {
    "duration": 195,
    "start_time": "2025-03-28T10:51:36.880Z"
   },
   {
    "duration": 1079,
    "start_time": "2025-03-28T10:53:31.202Z"
   },
   {
    "duration": 7,
    "start_time": "2025-03-28T10:53:32.283Z"
   },
   {
    "duration": 1017,
    "start_time": "2025-03-28T10:53:32.291Z"
   },
   {
    "duration": 71,
    "start_time": "2025-03-28T10:53:33.310Z"
   },
   {
    "duration": 630,
    "start_time": "2025-03-28T10:53:33.383Z"
   },
   {
    "duration": 535,
    "start_time": "2025-03-28T10:53:34.015Z"
   },
   {
    "duration": 265,
    "start_time": "2025-03-28T10:53:34.551Z"
   },
   {
    "duration": 1023,
    "start_time": "2025-03-28T10:53:34.817Z"
   },
   {
    "duration": 749,
    "start_time": "2025-03-28T10:54:40.909Z"
   },
   {
    "duration": 1037,
    "start_time": "2025-03-28T10:55:07.640Z"
   },
   {
    "duration": 738,
    "start_time": "2025-03-28T10:55:34.178Z"
   },
   {
    "duration": 1120,
    "start_time": "2025-03-28T10:56:52.471Z"
   },
   {
    "duration": 6,
    "start_time": "2025-03-28T10:56:53.593Z"
   },
   {
    "duration": 1026,
    "start_time": "2025-03-28T10:56:53.601Z"
   },
   {
    "duration": 72,
    "start_time": "2025-03-28T10:56:54.629Z"
   },
   {
    "duration": 628,
    "start_time": "2025-03-28T10:56:54.703Z"
   },
   {
    "duration": 512,
    "start_time": "2025-03-28T10:56:55.333Z"
   },
   {
    "duration": 256,
    "start_time": "2025-03-28T10:56:55.847Z"
   },
   {
    "duration": 734,
    "start_time": "2025-03-28T10:56:56.104Z"
   },
   {
    "duration": 5,
    "start_time": "2025-03-28T10:59:49.585Z"
   },
   {
    "duration": 161,
    "start_time": "2025-03-28T10:59:59.507Z"
   },
   {
    "duration": 48,
    "start_time": "2025-03-28T11:00:07.420Z"
   },
   {
    "duration": 646,
    "start_time": "2025-03-28T11:28:07.135Z"
   },
   {
    "duration": 92,
    "start_time": "2025-03-28T11:43:12.278Z"
   },
   {
    "duration": 90,
    "start_time": "2025-03-28T11:43:22.915Z"
   },
   {
    "duration": 3,
    "start_time": "2025-03-28T11:49:39.182Z"
   },
   {
    "duration": 3,
    "start_time": "2025-03-28T11:51:08.994Z"
   },
   {
    "duration": 127,
    "start_time": "2025-03-28T11:51:10.837Z"
   },
   {
    "duration": 28,
    "start_time": "2025-03-28T11:51:25.348Z"
   },
   {
    "duration": 12,
    "start_time": "2025-03-28T11:51:35.581Z"
   },
   {
    "duration": 1108,
    "start_time": "2025-03-28T11:52:30.664Z"
   },
   {
    "duration": 6,
    "start_time": "2025-03-28T11:52:31.774Z"
   },
   {
    "duration": 1012,
    "start_time": "2025-03-28T11:52:31.781Z"
   },
   {
    "duration": 72,
    "start_time": "2025-03-28T11:52:32.795Z"
   },
   {
    "duration": 592,
    "start_time": "2025-03-28T11:52:32.868Z"
   },
   {
    "duration": 496,
    "start_time": "2025-03-28T11:52:33.462Z"
   },
   {
    "duration": 262,
    "start_time": "2025-03-28T11:52:33.959Z"
   },
   {
    "duration": 726,
    "start_time": "2025-03-28T11:52:34.223Z"
   },
   {
    "duration": 8,
    "start_time": "2025-03-28T11:52:34.951Z"
   },
   {
    "duration": 54,
    "start_time": "2025-03-28T11:52:34.961Z"
   },
   {
    "duration": 113,
    "start_time": "2025-03-28T11:52:35.017Z"
   },
   {
    "duration": 108,
    "start_time": "2025-03-28T11:54:04.051Z"
   },
   {
    "duration": 1119,
    "start_time": "2025-03-28T11:54:27.488Z"
   },
   {
    "duration": 7,
    "start_time": "2025-03-28T11:54:28.608Z"
   },
   {
    "duration": 1068,
    "start_time": "2025-03-28T11:54:28.616Z"
   },
   {
    "duration": 59,
    "start_time": "2025-03-28T11:54:29.686Z"
   },
   {
    "duration": 669,
    "start_time": "2025-03-28T11:54:29.757Z"
   },
   {
    "duration": 550,
    "start_time": "2025-03-28T11:54:30.427Z"
   },
   {
    "duration": 278,
    "start_time": "2025-03-28T11:54:30.979Z"
   },
   {
    "duration": 739,
    "start_time": "2025-03-28T11:54:31.259Z"
   },
   {
    "duration": 31,
    "start_time": "2025-03-28T11:54:31.999Z"
   },
   {
    "duration": 135,
    "start_time": "2025-03-28T11:54:32.032Z"
   },
   {
    "duration": 101,
    "start_time": "2025-03-28T11:54:38.286Z"
   },
   {
    "duration": 1141,
    "start_time": "2025-03-28T11:59:54.041Z"
   },
   {
    "duration": 7,
    "start_time": "2025-03-28T11:59:55.183Z"
   },
   {
    "duration": 991,
    "start_time": "2025-03-28T11:59:55.191Z"
   },
   {
    "duration": 59,
    "start_time": "2025-03-28T11:59:56.183Z"
   },
   {
    "duration": 668,
    "start_time": "2025-03-28T11:59:56.243Z"
   },
   {
    "duration": 551,
    "start_time": "2025-03-28T11:59:56.912Z"
   },
   {
    "duration": 262,
    "start_time": "2025-03-28T11:59:57.465Z"
   },
   {
    "duration": 745,
    "start_time": "2025-03-28T11:59:57.729Z"
   },
   {
    "duration": 32,
    "start_time": "2025-03-28T11:59:58.475Z"
   },
   {
    "duration": 3,
    "start_time": "2025-03-28T11:59:58.510Z"
   },
   {
    "duration": 1333,
    "start_time": "2025-03-28T12:00:01.454Z"
   },
   {
    "duration": 7,
    "start_time": "2025-03-28T12:00:02.789Z"
   },
   {
    "duration": 1177,
    "start_time": "2025-03-28T12:00:02.798Z"
   },
   {
    "duration": 58,
    "start_time": "2025-03-28T12:00:03.977Z"
   },
   {
    "duration": 693,
    "start_time": "2025-03-28T12:00:04.036Z"
   },
   {
    "duration": 575,
    "start_time": "2025-03-28T12:00:04.730Z"
   },
   {
    "duration": 266,
    "start_time": "2025-03-28T12:00:05.307Z"
   },
   {
    "duration": 827,
    "start_time": "2025-03-28T12:00:05.574Z"
   },
   {
    "duration": 31,
    "start_time": "2025-03-28T12:00:06.403Z"
   },
   {
    "duration": 141,
    "start_time": "2025-03-28T12:00:06.436Z"
   },
   {
    "duration": 113,
    "start_time": "2025-03-28T12:04:20.093Z"
   },
   {
    "duration": 114,
    "start_time": "2025-03-28T12:08:02.765Z"
   },
   {
    "duration": 108,
    "start_time": "2025-03-28T12:26:58.835Z"
   },
   {
    "duration": 97,
    "start_time": "2025-03-28T12:27:00.651Z"
   },
   {
    "duration": 1310,
    "start_time": "2025-03-28T12:28:23.208Z"
   },
   {
    "duration": 7,
    "start_time": "2025-03-28T12:28:24.520Z"
   },
   {
    "duration": 1002,
    "start_time": "2025-03-28T12:28:24.528Z"
   },
   {
    "duration": 71,
    "start_time": "2025-03-28T12:28:25.532Z"
   },
   {
    "duration": 634,
    "start_time": "2025-03-28T12:28:25.605Z"
   },
   {
    "duration": 497,
    "start_time": "2025-03-28T12:28:26.240Z"
   },
   {
    "duration": 264,
    "start_time": "2025-03-28T12:28:26.739Z"
   },
   {
    "duration": 762,
    "start_time": "2025-03-28T12:28:27.004Z"
   },
   {
    "duration": 31,
    "start_time": "2025-03-28T12:28:27.767Z"
   },
   {
    "duration": 122,
    "start_time": "2025-03-28T12:28:27.800Z"
   },
   {
    "duration": 2,
    "start_time": "2025-03-28T12:28:27.924Z"
   },
   {
    "duration": 205,
    "start_time": "2025-03-28T12:28:27.928Z"
   },
   {
    "duration": 0,
    "start_time": "2025-03-28T12:28:28.134Z"
   },
   {
    "duration": 11,
    "start_time": "2025-03-28T12:29:48.452Z"
   },
   {
    "duration": 4,
    "start_time": "2025-03-28T12:31:27.620Z"
   },
   {
    "duration": 98,
    "start_time": "2025-03-28T12:31:59.150Z"
   },
   {
    "duration": 1366,
    "start_time": "2025-03-28T12:36:29.949Z"
   },
   {
    "duration": 8,
    "start_time": "2025-03-28T12:36:31.318Z"
   },
   {
    "duration": 1003,
    "start_time": "2025-03-28T12:36:31.329Z"
   },
   {
    "duration": 71,
    "start_time": "2025-03-28T12:36:32.334Z"
   },
   {
    "duration": 635,
    "start_time": "2025-03-28T12:36:32.407Z"
   },
   {
    "duration": 520,
    "start_time": "2025-03-28T12:36:33.044Z"
   },
   {
    "duration": 264,
    "start_time": "2025-03-28T12:36:33.565Z"
   },
   {
    "duration": 739,
    "start_time": "2025-03-28T12:36:33.831Z"
   },
   {
    "duration": 31,
    "start_time": "2025-03-28T12:36:34.571Z"
   },
   {
    "duration": 127,
    "start_time": "2025-03-28T12:36:34.605Z"
   },
   {
    "duration": 3,
    "start_time": "2025-03-28T12:36:34.733Z"
   },
   {
    "duration": 24,
    "start_time": "2025-03-28T12:36:34.737Z"
   },
   {
    "duration": 188,
    "start_time": "2025-03-28T12:36:34.763Z"
   },
   {
    "duration": 0,
    "start_time": "2025-03-28T12:36:34.957Z"
   },
   {
    "duration": 94,
    "start_time": "2025-03-28T12:37:11.665Z"
   },
   {
    "duration": 68,
    "start_time": "2025-03-28T12:37:37.597Z"
   },
   {
    "duration": 92,
    "start_time": "2025-03-28T12:46:08.302Z"
   },
   {
    "duration": 13,
    "start_time": "2025-03-28T12:48:48.978Z"
   },
   {
    "duration": 1356,
    "start_time": "2025-03-28T12:49:53.783Z"
   },
   {
    "duration": 6,
    "start_time": "2025-03-28T12:49:55.141Z"
   },
   {
    "duration": 992,
    "start_time": "2025-03-28T12:49:55.148Z"
   },
   {
    "duration": 56,
    "start_time": "2025-03-28T12:49:56.142Z"
   },
   {
    "duration": 631,
    "start_time": "2025-03-28T12:49:56.199Z"
   },
   {
    "duration": 522,
    "start_time": "2025-03-28T12:49:56.832Z"
   },
   {
    "duration": 260,
    "start_time": "2025-03-28T12:49:57.359Z"
   },
   {
    "duration": 726,
    "start_time": "2025-03-28T12:49:57.620Z"
   },
   {
    "duration": 40,
    "start_time": "2025-03-28T12:49:58.347Z"
   },
   {
    "duration": 118,
    "start_time": "2025-03-28T12:49:58.389Z"
   },
   {
    "duration": 2,
    "start_time": "2025-03-28T12:49:58.509Z"
   },
   {
    "duration": 18,
    "start_time": "2025-03-28T12:49:58.512Z"
   },
   {
    "duration": 76,
    "start_time": "2025-03-28T12:49:58.531Z"
   },
   {
    "duration": 118,
    "start_time": "2025-03-28T12:49:58.608Z"
   },
   {
    "duration": 89,
    "start_time": "2025-03-28T12:50:55.462Z"
   },
   {
    "duration": 0,
    "start_time": "2025-03-28T12:50:55.553Z"
   },
   {
    "duration": 0,
    "start_time": "2025-03-28T12:50:55.554Z"
   },
   {
    "duration": 0,
    "start_time": "2025-03-28T12:50:55.556Z"
   },
   {
    "duration": 0,
    "start_time": "2025-03-28T12:50:55.557Z"
   },
   {
    "duration": 0,
    "start_time": "2025-03-28T12:50:55.559Z"
   },
   {
    "duration": 0,
    "start_time": "2025-03-28T12:50:55.561Z"
   },
   {
    "duration": 0,
    "start_time": "2025-03-28T12:50:55.562Z"
   },
   {
    "duration": 0,
    "start_time": "2025-03-28T12:50:55.564Z"
   },
   {
    "duration": 0,
    "start_time": "2025-03-28T12:50:55.565Z"
   },
   {
    "duration": 0,
    "start_time": "2025-03-28T12:50:55.567Z"
   },
   {
    "duration": 0,
    "start_time": "2025-03-28T12:50:55.569Z"
   },
   {
    "duration": 0,
    "start_time": "2025-03-28T12:50:55.570Z"
   },
   {
    "duration": 0,
    "start_time": "2025-03-28T12:50:55.572Z"
   },
   {
    "duration": 4349,
    "start_time": "2025-03-28T12:51:36.046Z"
   },
   {
    "duration": 8,
    "start_time": "2025-03-28T12:51:40.397Z"
   },
   {
    "duration": 1006,
    "start_time": "2025-03-28T12:51:40.406Z"
   },
   {
    "duration": 69,
    "start_time": "2025-03-28T12:51:41.415Z"
   },
   {
    "duration": 600,
    "start_time": "2025-03-28T12:51:41.485Z"
   },
   {
    "duration": 449,
    "start_time": "2025-03-28T12:51:42.086Z"
   },
   {
    "duration": 261,
    "start_time": "2025-03-28T12:51:42.536Z"
   },
   {
    "duration": 717,
    "start_time": "2025-03-28T12:51:42.798Z"
   },
   {
    "duration": 28,
    "start_time": "2025-03-28T12:51:43.516Z"
   },
   {
    "duration": 108,
    "start_time": "2025-03-28T12:51:43.558Z"
   },
   {
    "duration": 3,
    "start_time": "2025-03-28T12:51:43.667Z"
   },
   {
    "duration": 10,
    "start_time": "2025-03-28T12:51:43.671Z"
   },
   {
    "duration": 66,
    "start_time": "2025-03-28T12:51:43.683Z"
   },
   {
    "duration": 115,
    "start_time": "2025-03-28T12:51:43.758Z"
   },
   {
    "duration": 123,
    "start_time": "2025-03-28T12:52:53.100Z"
   },
   {
    "duration": 72,
    "start_time": "2025-03-28T12:53:32.608Z"
   },
   {
    "duration": 11,
    "start_time": "2025-03-28T12:53:34.157Z"
   },
   {
    "duration": 1278,
    "start_time": "2025-03-28T12:54:43.530Z"
   },
   {
    "duration": 4179,
    "start_time": "2025-03-28T12:56:45.753Z"
   },
   {
    "duration": 8,
    "start_time": "2025-03-28T12:56:49.934Z"
   },
   {
    "duration": 971,
    "start_time": "2025-03-28T12:56:49.943Z"
   },
   {
    "duration": 68,
    "start_time": "2025-03-28T12:56:50.916Z"
   },
   {
    "duration": 618,
    "start_time": "2025-03-28T12:56:50.986Z"
   },
   {
    "duration": 488,
    "start_time": "2025-03-28T12:56:51.605Z"
   },
   {
    "duration": 266,
    "start_time": "2025-03-28T12:56:52.095Z"
   },
   {
    "duration": 732,
    "start_time": "2025-03-28T12:56:52.362Z"
   },
   {
    "duration": 29,
    "start_time": "2025-03-28T12:56:53.095Z"
   },
   {
    "duration": 135,
    "start_time": "2025-03-28T12:56:53.125Z"
   },
   {
    "duration": 2,
    "start_time": "2025-03-28T12:56:53.262Z"
   },
   {
    "duration": 10,
    "start_time": "2025-03-28T12:56:53.266Z"
   },
   {
    "duration": 70,
    "start_time": "2025-03-28T12:56:53.278Z"
   },
   {
    "duration": 1673,
    "start_time": "2025-03-28T12:56:53.357Z"
   },
   {
    "duration": 4207,
    "start_time": "2025-03-28T12:58:57.728Z"
   },
   {
    "duration": 7,
    "start_time": "2025-03-28T12:59:01.937Z"
   },
   {
    "duration": 1024,
    "start_time": "2025-03-28T12:59:01.946Z"
   },
   {
    "duration": 57,
    "start_time": "2025-03-28T12:59:02.972Z"
   },
   {
    "duration": 642,
    "start_time": "2025-03-28T12:59:03.030Z"
   },
   {
    "duration": 492,
    "start_time": "2025-03-28T12:59:03.674Z"
   },
   {
    "duration": 297,
    "start_time": "2025-03-28T12:59:04.168Z"
   },
   {
    "duration": 755,
    "start_time": "2025-03-28T12:59:04.466Z"
   },
   {
    "duration": 36,
    "start_time": "2025-03-28T12:59:05.223Z"
   },
   {
    "duration": 124,
    "start_time": "2025-03-28T12:59:05.261Z"
   },
   {
    "duration": 2,
    "start_time": "2025-03-28T12:59:05.387Z"
   },
   {
    "duration": 20,
    "start_time": "2025-03-28T12:59:05.391Z"
   },
   {
    "duration": 73,
    "start_time": "2025-03-28T12:59:05.412Z"
   },
   {
    "duration": 889,
    "start_time": "2025-03-28T12:59:05.486Z"
   },
   {
    "duration": 63,
    "start_time": "2025-03-28T12:59:35.317Z"
   },
   {
    "duration": 4314,
    "start_time": "2025-03-28T13:00:34.890Z"
   },
   {
    "duration": 9,
    "start_time": "2025-03-28T13:00:39.206Z"
   },
   {
    "duration": 1021,
    "start_time": "2025-03-28T13:00:39.216Z"
   },
   {
    "duration": 66,
    "start_time": "2025-03-28T13:00:40.239Z"
   },
   {
    "duration": 626,
    "start_time": "2025-03-28T13:00:40.307Z"
   },
   {
    "duration": 534,
    "start_time": "2025-03-28T13:00:40.934Z"
   },
   {
    "duration": 264,
    "start_time": "2025-03-28T13:00:41.470Z"
   },
   {
    "duration": 759,
    "start_time": "2025-03-28T13:00:41.735Z"
   },
   {
    "duration": 31,
    "start_time": "2025-03-28T13:00:42.496Z"
   },
   {
    "duration": 138,
    "start_time": "2025-03-28T13:00:42.529Z"
   },
   {
    "duration": 2,
    "start_time": "2025-03-28T13:00:42.669Z"
   },
   {
    "duration": 8,
    "start_time": "2025-03-28T13:00:42.672Z"
   },
   {
    "duration": 153,
    "start_time": "2025-03-28T13:00:42.682Z"
   },
   {
    "duration": 1401,
    "start_time": "2025-03-28T13:00:42.837Z"
   },
   {
    "duration": 170,
    "start_time": "2025-03-28T13:01:44.592Z"
   },
   {
    "duration": 1405,
    "start_time": "2025-03-28T13:04:55.462Z"
   },
   {
    "duration": 70,
    "start_time": "2025-03-28T13:04:58.400Z"
   },
   {
    "duration": 4560,
    "start_time": "2025-03-28T13:05:08.303Z"
   },
   {
    "duration": 8,
    "start_time": "2025-03-28T13:05:12.865Z"
   },
   {
    "duration": 1117,
    "start_time": "2025-03-28T13:05:12.875Z"
   },
   {
    "duration": 73,
    "start_time": "2025-03-28T13:05:13.994Z"
   },
   {
    "duration": 673,
    "start_time": "2025-03-28T13:05:14.068Z"
   },
   {
    "duration": 521,
    "start_time": "2025-03-28T13:05:14.743Z"
   },
   {
    "duration": 274,
    "start_time": "2025-03-28T13:05:15.266Z"
   },
   {
    "duration": 769,
    "start_time": "2025-03-28T13:05:15.541Z"
   },
   {
    "duration": 28,
    "start_time": "2025-03-28T13:05:16.311Z"
   },
   {
    "duration": 126,
    "start_time": "2025-03-28T13:05:16.341Z"
   },
   {
    "duration": 2,
    "start_time": "2025-03-28T13:05:16.469Z"
   },
   {
    "duration": 11,
    "start_time": "2025-03-28T13:05:16.472Z"
   },
   {
    "duration": 152,
    "start_time": "2025-03-28T13:05:16.484Z"
   },
   {
    "duration": 1381,
    "start_time": "2025-03-28T13:05:16.638Z"
   },
   {
    "duration": 177,
    "start_time": "2025-03-28T13:05:18.021Z"
   },
   {
    "duration": 4098,
    "start_time": "2025-03-28T13:14:18.710Z"
   },
   {
    "duration": 8,
    "start_time": "2025-03-28T13:14:22.810Z"
   },
   {
    "duration": 1014,
    "start_time": "2025-03-28T13:14:22.820Z"
   },
   {
    "duration": 64,
    "start_time": "2025-03-28T13:14:23.836Z"
   },
   {
    "duration": 626,
    "start_time": "2025-03-28T13:14:23.902Z"
   },
   {
    "duration": 466,
    "start_time": "2025-03-28T13:14:24.530Z"
   },
   {
    "duration": 246,
    "start_time": "2025-03-28T13:14:24.997Z"
   },
   {
    "duration": 728,
    "start_time": "2025-03-28T13:14:25.244Z"
   },
   {
    "duration": 30,
    "start_time": "2025-03-28T13:14:25.973Z"
   },
   {
    "duration": 124,
    "start_time": "2025-03-28T13:14:26.005Z"
   },
   {
    "duration": 2,
    "start_time": "2025-03-28T13:14:26.130Z"
   },
   {
    "duration": 5,
    "start_time": "2025-03-28T13:14:26.134Z"
   },
   {
    "duration": 154,
    "start_time": "2025-03-28T13:14:26.140Z"
   },
   {
    "duration": 1352,
    "start_time": "2025-03-28T13:14:26.296Z"
   },
   {
    "duration": 163567,
    "start_time": "2025-03-28T13:14:27.650Z"
   },
   {
    "duration": 129,
    "start_time": "2025-03-28T13:42:23.972Z"
   },
   {
    "duration": 4263,
    "start_time": "2025-03-28T13:42:29.985Z"
   },
   {
    "duration": 12,
    "start_time": "2025-03-28T13:42:34.251Z"
   },
   {
    "duration": 1085,
    "start_time": "2025-03-28T13:42:34.264Z"
   },
   {
    "duration": 60,
    "start_time": "2025-03-28T13:42:35.359Z"
   },
   {
    "duration": 688,
    "start_time": "2025-03-28T13:42:35.421Z"
   },
   {
    "duration": 548,
    "start_time": "2025-03-28T13:42:36.111Z"
   },
   {
    "duration": 283,
    "start_time": "2025-03-28T13:42:36.661Z"
   },
   {
    "duration": 778,
    "start_time": "2025-03-28T13:42:36.957Z"
   },
   {
    "duration": 41,
    "start_time": "2025-03-28T13:42:37.737Z"
   },
   {
    "duration": 129,
    "start_time": "2025-03-28T13:42:37.781Z"
   },
   {
    "duration": 3,
    "start_time": "2025-03-28T13:42:37.912Z"
   },
   {
    "duration": 7,
    "start_time": "2025-03-28T13:42:37.916Z"
   },
   {
    "duration": 87,
    "start_time": "2025-03-28T13:42:37.924Z"
   },
   {
    "duration": 1444,
    "start_time": "2025-03-28T13:42:38.013Z"
   },
   {
    "duration": 166845,
    "start_time": "2025-03-28T13:42:39.459Z"
   },
   {
    "duration": 4309,
    "start_time": "2025-03-28T14:01:27.158Z"
   },
   {
    "duration": 7,
    "start_time": "2025-03-28T14:01:31.469Z"
   },
   {
    "duration": 1092,
    "start_time": "2025-03-28T14:01:31.478Z"
   },
   {
    "duration": 59,
    "start_time": "2025-03-28T14:01:32.573Z"
   },
   {
    "duration": 677,
    "start_time": "2025-03-28T14:01:32.634Z"
   },
   {
    "duration": 511,
    "start_time": "2025-03-28T14:01:33.312Z"
   },
   {
    "duration": 273,
    "start_time": "2025-03-28T14:01:33.825Z"
   },
   {
    "duration": 786,
    "start_time": "2025-03-28T14:01:34.100Z"
   },
   {
    "duration": 163,
    "start_time": "2025-03-28T14:01:34.888Z"
   },
   {
    "duration": 33,
    "start_time": "2025-03-28T14:01:35.054Z"
   },
   {
    "duration": 107,
    "start_time": "2025-03-28T14:01:35.088Z"
   },
   {
    "duration": 6,
    "start_time": "2025-03-28T14:01:35.197Z"
   },
   {
    "duration": 15,
    "start_time": "2025-03-28T14:01:35.205Z"
   },
   {
    "duration": 76,
    "start_time": "2025-03-28T14:01:35.221Z"
   },
   {
    "duration": 1372,
    "start_time": "2025-03-28T14:01:35.299Z"
   },
   {
    "duration": 4445,
    "start_time": "2025-03-28T14:02:04.501Z"
   },
   {
    "duration": 10,
    "start_time": "2025-03-28T14:02:08.948Z"
   },
   {
    "duration": 1134,
    "start_time": "2025-03-28T14:02:08.960Z"
   },
   {
    "duration": 75,
    "start_time": "2025-03-28T14:02:10.096Z"
   },
   {
    "duration": 701,
    "start_time": "2025-03-28T14:02:10.173Z"
   },
   {
    "duration": 613,
    "start_time": "2025-03-28T14:02:10.876Z"
   },
   {
    "duration": 317,
    "start_time": "2025-03-28T14:02:11.491Z"
   },
   {
    "duration": 820,
    "start_time": "2025-03-28T14:02:11.810Z"
   },
   {
    "duration": 164,
    "start_time": "2025-03-28T14:02:12.632Z"
   },
   {
    "duration": 39,
    "start_time": "2025-03-28T14:02:12.798Z"
   },
   {
    "duration": 104,
    "start_time": "2025-03-28T14:02:12.839Z"
   },
   {
    "duration": 13,
    "start_time": "2025-03-28T14:02:12.945Z"
   },
   {
    "duration": 12,
    "start_time": "2025-03-28T14:02:12.960Z"
   },
   {
    "duration": 164,
    "start_time": "2025-03-28T14:02:12.973Z"
   },
   {
    "duration": 1429,
    "start_time": "2025-03-28T14:02:13.139Z"
   },
   {
    "duration": 4295,
    "start_time": "2025-03-28T14:02:35.498Z"
   },
   {
    "duration": 7,
    "start_time": "2025-03-28T14:02:39.796Z"
   },
   {
    "duration": 1083,
    "start_time": "2025-03-28T14:02:39.805Z"
   },
   {
    "duration": 69,
    "start_time": "2025-03-28T14:02:40.890Z"
   },
   {
    "duration": 705,
    "start_time": "2025-03-28T14:02:40.960Z"
   },
   {
    "duration": 564,
    "start_time": "2025-03-28T14:02:41.666Z"
   },
   {
    "duration": 284,
    "start_time": "2025-03-28T14:02:42.231Z"
   },
   {
    "duration": 773,
    "start_time": "2025-03-28T14:02:42.517Z"
   },
   {
    "duration": 175,
    "start_time": "2025-03-28T14:02:43.292Z"
   },
   {
    "duration": 28,
    "start_time": "2025-03-28T14:02:43.470Z"
   },
   {
    "duration": 121,
    "start_time": "2025-03-28T14:02:43.500Z"
   },
   {
    "duration": 3,
    "start_time": "2025-03-28T14:02:43.622Z"
   },
   {
    "duration": 11,
    "start_time": "2025-03-28T14:02:43.626Z"
   },
   {
    "duration": 150,
    "start_time": "2025-03-28T14:02:43.638Z"
   },
   {
    "duration": 1362,
    "start_time": "2025-03-28T14:02:43.790Z"
   },
   {
    "duration": 168679,
    "start_time": "2025-03-28T14:02:45.157Z"
   },
   {
    "duration": 4209,
    "start_time": "2025-03-28T14:06:34.330Z"
   },
   {
    "duration": 8,
    "start_time": "2025-03-28T14:06:38.541Z"
   },
   {
    "duration": 1058,
    "start_time": "2025-03-28T14:06:38.557Z"
   },
   {
    "duration": 70,
    "start_time": "2025-03-28T14:06:39.616Z"
   },
   {
    "duration": 687,
    "start_time": "2025-03-28T14:06:39.687Z"
   },
   {
    "duration": 522,
    "start_time": "2025-03-28T14:06:40.375Z"
   },
   {
    "duration": 282,
    "start_time": "2025-03-28T14:06:40.899Z"
   },
   {
    "duration": 799,
    "start_time": "2025-03-28T14:06:41.183Z"
   },
   {
    "duration": 160,
    "start_time": "2025-03-28T14:06:41.984Z"
   },
   {
    "duration": 39,
    "start_time": "2025-03-28T14:06:42.146Z"
   },
   {
    "duration": 1602,
    "start_time": "2025-03-28T14:06:42.186Z"
   },
   {
    "duration": 0,
    "start_time": "2025-03-28T14:06:43.789Z"
   },
   {
    "duration": 0,
    "start_time": "2025-03-28T14:06:43.791Z"
   },
   {
    "duration": 0,
    "start_time": "2025-03-28T14:06:43.791Z"
   },
   {
    "duration": 0,
    "start_time": "2025-03-28T14:06:43.792Z"
   },
   {
    "duration": 0,
    "start_time": "2025-03-28T14:06:43.793Z"
   },
   {
    "duration": 0,
    "start_time": "2025-03-28T14:06:43.794Z"
   },
   {
    "duration": 1490,
    "start_time": "2025-03-28T14:07:41.769Z"
   },
   {
    "duration": 179,
    "start_time": "2025-03-28T14:08:15.984Z"
   },
   {
    "duration": 4441,
    "start_time": "2025-03-28T14:09:02.705Z"
   },
   {
    "duration": 14,
    "start_time": "2025-03-28T14:09:07.148Z"
   },
   {
    "duration": 1114,
    "start_time": "2025-03-28T14:09:07.164Z"
   },
   {
    "duration": 61,
    "start_time": "2025-03-28T14:09:08.280Z"
   },
   {
    "duration": 715,
    "start_time": "2025-03-28T14:09:08.343Z"
   },
   {
    "duration": 576,
    "start_time": "2025-03-28T14:09:09.060Z"
   },
   {
    "duration": 288,
    "start_time": "2025-03-28T14:09:09.638Z"
   },
   {
    "duration": 805,
    "start_time": "2025-03-28T14:09:09.928Z"
   },
   {
    "duration": 159,
    "start_time": "2025-03-28T14:09:10.735Z"
   },
   {
    "duration": 34,
    "start_time": "2025-03-28T14:09:10.896Z"
   },
   {
    "duration": 585,
    "start_time": "2025-03-28T14:09:10.932Z"
   },
   {
    "duration": 0,
    "start_time": "2025-03-28T14:09:11.519Z"
   },
   {
    "duration": 0,
    "start_time": "2025-03-28T14:09:11.520Z"
   },
   {
    "duration": 0,
    "start_time": "2025-03-28T14:09:11.521Z"
   },
   {
    "duration": 0,
    "start_time": "2025-03-28T14:09:11.522Z"
   },
   {
    "duration": 0,
    "start_time": "2025-03-28T14:09:11.523Z"
   },
   {
    "duration": 0,
    "start_time": "2025-03-28T14:09:11.524Z"
   },
   {
    "duration": 931,
    "start_time": "2025-03-28T14:11:05.788Z"
   },
   {
    "duration": 1129,
    "start_time": "2025-03-28T14:17:12.306Z"
   },
   {
    "duration": 1179,
    "start_time": "2025-03-28T14:17:25.518Z"
   },
   {
    "duration": 1021,
    "start_time": "2025-03-28T14:23:17.927Z"
   },
   {
    "duration": 1102,
    "start_time": "2025-03-28T14:23:52.126Z"
   },
   {
    "duration": 950,
    "start_time": "2025-03-28T14:47:52.866Z"
   },
   {
    "duration": 4442,
    "start_time": "2025-03-28T14:50:30.503Z"
   },
   {
    "duration": 8,
    "start_time": "2025-03-28T14:50:34.947Z"
   },
   {
    "duration": 1129,
    "start_time": "2025-03-28T14:50:34.957Z"
   },
   {
    "duration": 77,
    "start_time": "2025-03-28T14:50:36.088Z"
   },
   {
    "duration": 711,
    "start_time": "2025-03-28T14:50:36.173Z"
   },
   {
    "duration": 529,
    "start_time": "2025-03-28T14:50:36.885Z"
   },
   {
    "duration": 292,
    "start_time": "2025-03-28T14:50:37.415Z"
   },
   {
    "duration": 797,
    "start_time": "2025-03-28T14:50:37.709Z"
   },
   {
    "duration": 160,
    "start_time": "2025-03-28T14:50:38.507Z"
   },
   {
    "duration": 37,
    "start_time": "2025-03-28T14:50:38.672Z"
   },
   {
    "duration": 1085,
    "start_time": "2025-03-28T14:50:38.711Z"
   },
   {
    "duration": 106,
    "start_time": "2025-03-28T14:50:39.798Z"
   },
   {
    "duration": 3,
    "start_time": "2025-03-28T14:50:39.905Z"
   },
   {
    "duration": 14,
    "start_time": "2025-03-28T14:50:39.909Z"
   },
   {
    "duration": 77,
    "start_time": "2025-03-28T14:50:39.925Z"
   },
   {
    "duration": 1483,
    "start_time": "2025-03-28T14:50:40.004Z"
   },
   {
    "duration": 126,
    "start_time": "2025-03-28T14:50:41.488Z"
   },
   {
    "duration": 4594,
    "start_time": "2025-03-28T14:51:15.236Z"
   },
   {
    "duration": 8,
    "start_time": "2025-03-28T14:51:19.832Z"
   },
   {
    "duration": 1155,
    "start_time": "2025-03-28T14:51:19.841Z"
   },
   {
    "duration": 68,
    "start_time": "2025-03-28T14:51:20.999Z"
   },
   {
    "duration": 772,
    "start_time": "2025-03-28T14:51:21.073Z"
   },
   {
    "duration": 614,
    "start_time": "2025-03-28T14:51:21.846Z"
   },
   {
    "duration": 324,
    "start_time": "2025-03-28T14:51:22.463Z"
   },
   {
    "duration": 806,
    "start_time": "2025-03-28T14:51:22.789Z"
   },
   {
    "duration": 156,
    "start_time": "2025-03-28T14:51:23.596Z"
   },
   {
    "duration": 41,
    "start_time": "2025-03-28T14:51:23.754Z"
   },
   {
    "duration": 4798,
    "start_time": "2025-03-28T14:53:12.401Z"
   },
   {
    "duration": 8,
    "start_time": "2025-03-28T14:53:17.201Z"
   },
   {
    "duration": 1181,
    "start_time": "2025-03-28T14:53:17.210Z"
   },
   {
    "duration": 86,
    "start_time": "2025-03-28T14:53:18.393Z"
   },
   {
    "duration": 796,
    "start_time": "2025-03-28T14:53:18.481Z"
   },
   {
    "duration": 613,
    "start_time": "2025-03-28T14:53:19.278Z"
   },
   {
    "duration": 319,
    "start_time": "2025-03-28T14:53:19.893Z"
   },
   {
    "duration": 874,
    "start_time": "2025-03-28T14:53:20.214Z"
   },
   {
    "duration": 152,
    "start_time": "2025-03-28T14:53:21.091Z"
   },
   {
    "duration": 55,
    "start_time": "2025-03-28T14:53:21.246Z"
   },
   {
    "duration": 4605,
    "start_time": "2025-03-28T14:55:18.185Z"
   },
   {
    "duration": 8,
    "start_time": "2025-03-28T14:55:22.792Z"
   },
   {
    "duration": 1130,
    "start_time": "2025-03-28T14:55:22.802Z"
   },
   {
    "duration": 76,
    "start_time": "2025-03-28T14:55:23.933Z"
   },
   {
    "duration": 723,
    "start_time": "2025-03-28T14:55:24.010Z"
   },
   {
    "duration": 563,
    "start_time": "2025-03-28T14:55:24.735Z"
   },
   {
    "duration": 303,
    "start_time": "2025-03-28T14:55:25.299Z"
   },
   {
    "duration": 816,
    "start_time": "2025-03-28T14:55:25.605Z"
   },
   {
    "duration": 183,
    "start_time": "2025-03-28T14:55:26.423Z"
   },
   {
    "duration": 35,
    "start_time": "2025-03-28T14:55:26.609Z"
   },
   {
    "duration": 2182343,
    "start_time": "2025-03-28T14:55:26.647Z"
   },
   {
    "duration": 102,
    "start_time": "2025-03-28T15:31:48.991Z"
   },
   {
    "duration": 3,
    "start_time": "2025-03-28T15:31:49.095Z"
   },
   {
    "duration": 13,
    "start_time": "2025-03-28T15:31:49.100Z"
   },
   {
    "duration": 82,
    "start_time": "2025-03-28T15:31:49.115Z"
   },
   {
    "duration": 1432,
    "start_time": "2025-03-28T15:31:49.199Z"
   },
   {
    "duration": 117,
    "start_time": "2025-03-28T15:31:50.633Z"
   },
   {
    "duration": 4570,
    "start_time": "2025-03-28T15:35:39.564Z"
   },
   {
    "duration": 7,
    "start_time": "2025-03-28T15:35:44.136Z"
   },
   {
    "duration": 1128,
    "start_time": "2025-03-28T15:35:44.145Z"
   },
   {
    "duration": 59,
    "start_time": "2025-03-28T15:35:45.276Z"
   },
   {
    "duration": 680,
    "start_time": "2025-03-28T15:35:45.336Z"
   },
   {
    "duration": 515,
    "start_time": "2025-03-28T15:35:46.018Z"
   },
   {
    "duration": 275,
    "start_time": "2025-03-28T15:35:46.535Z"
   },
   {
    "duration": 778,
    "start_time": "2025-03-28T15:35:46.811Z"
   },
   {
    "duration": 139,
    "start_time": "2025-03-28T15:35:47.590Z"
   },
   {
    "duration": 43,
    "start_time": "2025-03-28T15:35:47.731Z"
   },
   {
    "duration": 121,
    "start_time": "2025-03-28T15:35:47.776Z"
   },
   {
    "duration": 0,
    "start_time": "2025-03-28T15:35:47.899Z"
   },
   {
    "duration": 0,
    "start_time": "2025-03-28T15:35:47.900Z"
   },
   {
    "duration": 0,
    "start_time": "2025-03-28T15:35:47.901Z"
   },
   {
    "duration": 0,
    "start_time": "2025-03-28T15:35:47.902Z"
   },
   {
    "duration": 0,
    "start_time": "2025-03-28T15:35:47.903Z"
   },
   {
    "duration": 30,
    "start_time": "2025-03-28T15:36:16.914Z"
   },
   {
    "duration": 10,
    "start_time": "2025-03-28T15:36:19.786Z"
   },
   {
    "duration": 9,
    "start_time": "2025-03-28T15:36:20.244Z"
   },
   {
    "duration": 10,
    "start_time": "2025-03-28T15:36:20.427Z"
   },
   {
    "duration": 10,
    "start_time": "2025-03-28T15:36:20.574Z"
   },
   {
    "duration": 9,
    "start_time": "2025-03-28T15:36:20.723Z"
   },
   {
    "duration": 15,
    "start_time": "2025-03-28T15:36:20.866Z"
   },
   {
    "duration": 10,
    "start_time": "2025-03-28T15:36:20.988Z"
   },
   {
    "duration": 9,
    "start_time": "2025-03-28T15:36:21.094Z"
   },
   {
    "duration": 9,
    "start_time": "2025-03-28T15:36:21.182Z"
   },
   {
    "duration": 4259,
    "start_time": "2025-03-28T15:36:36.672Z"
   },
   {
    "duration": 8,
    "start_time": "2025-03-28T15:36:40.932Z"
   },
   {
    "duration": 1093,
    "start_time": "2025-03-28T15:36:40.942Z"
   },
   {
    "duration": 76,
    "start_time": "2025-03-28T15:36:42.036Z"
   },
   {
    "duration": 689,
    "start_time": "2025-03-28T15:36:42.114Z"
   },
   {
    "duration": 515,
    "start_time": "2025-03-28T15:36:42.805Z"
   },
   {
    "duration": 286,
    "start_time": "2025-03-28T15:36:43.322Z"
   },
   {
    "duration": 764,
    "start_time": "2025-03-28T15:36:43.610Z"
   },
   {
    "duration": 144,
    "start_time": "2025-03-28T15:36:44.376Z"
   },
   {
    "duration": 27,
    "start_time": "2025-03-28T15:36:44.521Z"
   },
   {
    "duration": 51,
    "start_time": "2025-03-28T15:36:44.558Z"
   },
   {
    "duration": 21,
    "start_time": "2025-03-28T15:36:44.611Z"
   },
   {
    "duration": 44,
    "start_time": "2025-03-28T15:36:44.633Z"
   },
   {
    "duration": 20,
    "start_time": "2025-03-28T15:36:44.680Z"
   },
   {
    "duration": 20,
    "start_time": "2025-03-28T15:36:44.702Z"
   },
   {
    "duration": 299,
    "start_time": "2025-03-28T15:36:44.723Z"
   },
   {
    "duration": 4267,
    "start_time": "2025-03-28T15:37:41.262Z"
   },
   {
    "duration": 8,
    "start_time": "2025-03-28T15:37:45.530Z"
   },
   {
    "duration": 1083,
    "start_time": "2025-03-28T15:37:45.539Z"
   },
   {
    "duration": 73,
    "start_time": "2025-03-28T15:37:46.623Z"
   },
   {
    "duration": 692,
    "start_time": "2025-03-28T15:37:46.698Z"
   },
   {
    "duration": 503,
    "start_time": "2025-03-28T15:37:47.391Z"
   },
   {
    "duration": 281,
    "start_time": "2025-03-28T15:37:47.896Z"
   },
   {
    "duration": 793,
    "start_time": "2025-03-28T15:37:48.179Z"
   },
   {
    "duration": 161,
    "start_time": "2025-03-28T15:37:48.975Z"
   },
   {
    "duration": 62,
    "start_time": "2025-03-28T15:37:49.140Z"
   },
   {
    "duration": 43,
    "start_time": "2025-03-28T15:37:49.204Z"
   },
   {
    "duration": 34,
    "start_time": "2025-03-28T15:37:49.248Z"
   },
   {
    "duration": 30,
    "start_time": "2025-03-28T15:37:49.284Z"
   },
   {
    "duration": 20,
    "start_time": "2025-03-28T15:37:49.316Z"
   },
   {
    "duration": 47,
    "start_time": "2025-03-28T15:37:49.338Z"
   },
   {
    "duration": 278,
    "start_time": "2025-03-28T15:37:49.387Z"
   },
   {
    "duration": 13,
    "start_time": "2025-03-28T15:38:14.197Z"
   },
   {
    "duration": 259,
    "start_time": "2025-03-28T15:38:41.929Z"
   },
   {
    "duration": 448,
    "start_time": "2025-03-28T15:41:43.886Z"
   },
   {
    "duration": 483,
    "start_time": "2025-03-28T15:41:49.316Z"
   },
   {
    "duration": 4200,
    "start_time": "2025-03-28T15:41:54.736Z"
   },
   {
    "duration": 9,
    "start_time": "2025-03-28T15:41:58.938Z"
   },
   {
    "duration": 1082,
    "start_time": "2025-03-28T15:41:58.949Z"
   },
   {
    "duration": 64,
    "start_time": "2025-03-28T15:42:00.032Z"
   },
   {
    "duration": 704,
    "start_time": "2025-03-28T15:42:00.098Z"
   },
   {
    "duration": 547,
    "start_time": "2025-03-28T15:42:00.803Z"
   },
   {
    "duration": 616,
    "start_time": "2025-03-28T15:42:01.351Z"
   },
   {
    "duration": 277,
    "start_time": "2025-03-28T15:42:01.969Z"
   },
   {
    "duration": 789,
    "start_time": "2025-03-28T15:42:02.258Z"
   },
   {
    "duration": 145,
    "start_time": "2025-03-28T15:42:03.061Z"
   },
   {
    "duration": 40,
    "start_time": "2025-03-28T15:42:03.207Z"
   },
   {
    "duration": 62,
    "start_time": "2025-03-28T15:42:03.248Z"
   },
   {
    "duration": 22,
    "start_time": "2025-03-28T15:42:03.311Z"
   },
   {
    "duration": 60,
    "start_time": "2025-03-28T15:42:03.335Z"
   },
   {
    "duration": 22,
    "start_time": "2025-03-28T15:42:03.396Z"
   },
   {
    "duration": 31,
    "start_time": "2025-03-28T15:42:03.420Z"
   },
   {
    "duration": 293,
    "start_time": "2025-03-28T15:42:03.453Z"
   },
   {
    "duration": 4200,
    "start_time": "2025-03-28T15:44:26.508Z"
   },
   {
    "duration": 7,
    "start_time": "2025-03-28T15:44:30.710Z"
   },
   {
    "duration": 1039,
    "start_time": "2025-03-28T15:44:30.719Z"
   },
   {
    "duration": 58,
    "start_time": "2025-03-28T15:44:31.760Z"
   },
   {
    "duration": 665,
    "start_time": "2025-03-28T15:44:31.820Z"
   },
   {
    "duration": 488,
    "start_time": "2025-03-28T15:44:32.487Z"
   },
   {
    "duration": 491,
    "start_time": "2025-03-28T15:44:32.977Z"
   },
   {
    "duration": 266,
    "start_time": "2025-03-28T15:44:33.470Z"
   },
   {
    "duration": 746,
    "start_time": "2025-03-28T15:44:33.738Z"
   },
   {
    "duration": 150,
    "start_time": "2025-03-28T15:44:34.487Z"
   },
   {
    "duration": 42,
    "start_time": "2025-03-28T15:44:34.639Z"
   },
   {
    "duration": 42,
    "start_time": "2025-03-28T15:44:34.683Z"
   },
   {
    "duration": 38,
    "start_time": "2025-03-28T15:44:34.727Z"
   },
   {
    "duration": 22,
    "start_time": "2025-03-28T15:44:34.767Z"
   },
   {
    "duration": 22,
    "start_time": "2025-03-28T15:44:34.790Z"
   },
   {
    "duration": 47,
    "start_time": "2025-03-28T15:44:34.814Z"
   },
   {
    "duration": 270,
    "start_time": "2025-03-28T15:44:34.862Z"
   },
   {
    "duration": 95,
    "start_time": "2025-03-28T15:47:37.000Z"
   },
   {
    "duration": 148,
    "start_time": "2025-03-28T15:50:44.666Z"
   },
   {
    "duration": 171,
    "start_time": "2025-03-28T19:06:07.376Z"
   },
   {
    "duration": 4180,
    "start_time": "2025-03-28T19:06:32.469Z"
   },
   {
    "duration": 12,
    "start_time": "2025-03-28T19:06:36.650Z"
   },
   {
    "duration": 1023,
    "start_time": "2025-03-28T19:06:36.663Z"
   },
   {
    "duration": 70,
    "start_time": "2025-03-28T19:06:37.688Z"
   },
   {
    "duration": 617,
    "start_time": "2025-03-28T19:06:37.759Z"
   },
   {
    "duration": 524,
    "start_time": "2025-03-28T19:06:38.378Z"
   },
   {
    "duration": 291,
    "start_time": "2025-03-28T19:06:38.903Z"
   },
   {
    "duration": 817,
    "start_time": "2025-03-28T19:06:39.196Z"
   },
   {
    "duration": 28,
    "start_time": "2025-03-28T19:06:40.014Z"
   },
   {
    "duration": 149,
    "start_time": "2025-03-28T19:06:40.059Z"
   },
   {
    "duration": 21,
    "start_time": "2025-03-28T19:06:40.210Z"
   },
   {
    "duration": 29,
    "start_time": "2025-03-28T19:06:40.233Z"
   },
   {
    "duration": 19,
    "start_time": "2025-03-28T19:06:40.263Z"
   },
   {
    "duration": 20,
    "start_time": "2025-03-28T19:06:40.284Z"
   },
   {
    "duration": 18,
    "start_time": "2025-03-28T19:06:40.306Z"
   },
   {
    "duration": 102,
    "start_time": "2025-03-28T19:06:40.326Z"
   },
   {
    "duration": 105,
    "start_time": "2025-03-28T19:06:40.430Z"
   },
   {
    "duration": 156,
    "start_time": "2025-03-28T19:06:40.537Z"
   },
   {
    "duration": 4,
    "start_time": "2025-03-28T19:07:24.660Z"
   },
   {
    "duration": 17,
    "start_time": "2025-03-28T19:09:17.052Z"
   },
   {
    "duration": 12,
    "start_time": "2025-03-28T19:09:50.782Z"
   },
   {
    "duration": 1337,
    "start_time": "2025-03-28T19:10:53.560Z"
   },
   {
    "duration": 7,
    "start_time": "2025-03-28T19:12:56.700Z"
   },
   {
    "duration": 15,
    "start_time": "2025-03-28T19:16:46.234Z"
   },
   {
    "duration": 1324,
    "start_time": "2025-03-28T19:17:08.586Z"
   },
   {
    "duration": 134,
    "start_time": "2025-03-28T19:44:00.646Z"
   },
   {
    "duration": 118,
    "start_time": "2025-03-28T19:44:28.789Z"
   },
   {
    "duration": 15,
    "start_time": "2025-03-28T19:46:30.912Z"
   },
   {
    "duration": 4030,
    "start_time": "2025-03-28T19:47:26.205Z"
   },
   {
    "duration": 7,
    "start_time": "2025-03-28T19:47:30.237Z"
   },
   {
    "duration": 1003,
    "start_time": "2025-03-28T19:47:30.245Z"
   },
   {
    "duration": 57,
    "start_time": "2025-03-28T19:47:31.258Z"
   },
   {
    "duration": 608,
    "start_time": "2025-03-28T19:47:31.318Z"
   },
   {
    "duration": 430,
    "start_time": "2025-03-28T19:47:31.928Z"
   },
   {
    "duration": 263,
    "start_time": "2025-03-28T19:47:32.359Z"
   },
   {
    "duration": 773,
    "start_time": "2025-03-28T19:47:32.623Z"
   },
   {
    "duration": 25,
    "start_time": "2025-03-28T19:47:33.397Z"
   },
   {
    "duration": 38,
    "start_time": "2025-03-28T19:47:33.425Z"
   },
   {
    "duration": 19,
    "start_time": "2025-03-28T19:47:33.465Z"
   },
   {
    "duration": 41,
    "start_time": "2025-03-28T19:47:33.486Z"
   },
   {
    "duration": 28,
    "start_time": "2025-03-28T19:47:33.528Z"
   },
   {
    "duration": 46,
    "start_time": "2025-03-28T19:47:33.557Z"
   },
   {
    "duration": 101,
    "start_time": "2025-03-28T19:47:33.605Z"
   },
   {
    "duration": 144,
    "start_time": "2025-03-28T19:47:33.707Z"
   },
   {
    "duration": 139,
    "start_time": "2025-03-28T19:47:33.852Z"
   },
   {
    "duration": 16,
    "start_time": "2025-03-28T19:53:06.106Z"
   },
   {
    "duration": 15,
    "start_time": "2025-03-28T19:53:24.356Z"
   },
   {
    "duration": 14,
    "start_time": "2025-03-28T19:53:35.360Z"
   },
   {
    "duration": 91,
    "start_time": "2025-03-28T19:56:11.107Z"
   },
   {
    "duration": 116,
    "start_time": "2025-03-28T20:00:14.109Z"
   },
   {
    "duration": 16,
    "start_time": "2025-03-28T20:00:19.788Z"
   },
   {
    "duration": 33,
    "start_time": "2025-03-28T20:00:23.133Z"
   },
   {
    "duration": 127,
    "start_time": "2025-03-28T20:04:21.604Z"
   },
   {
    "duration": 11,
    "start_time": "2025-03-28T20:05:15.884Z"
   },
   {
    "duration": 29,
    "start_time": "2025-03-28T20:05:55.606Z"
   },
   {
    "duration": 12,
    "start_time": "2025-03-28T20:06:29.132Z"
   },
   {
    "duration": 7,
    "start_time": "2025-03-28T20:07:14.086Z"
   },
   {
    "duration": 8,
    "start_time": "2025-03-28T20:07:48.262Z"
   },
   {
    "duration": 35,
    "start_time": "2025-03-28T20:08:31.565Z"
   },
   {
    "duration": 12,
    "start_time": "2025-03-28T20:08:42.082Z"
   },
   {
    "duration": 34,
    "start_time": "2025-03-28T20:10:15.140Z"
   },
   {
    "duration": 3,
    "start_time": "2025-03-28T20:16:54.932Z"
   },
   {
    "duration": 36,
    "start_time": "2025-03-28T20:17:02.558Z"
   },
   {
    "duration": 14,
    "start_time": "2025-03-28T20:17:16.492Z"
   },
   {
    "duration": 24,
    "start_time": "2025-03-28T20:17:27.594Z"
   },
   {
    "duration": 15,
    "start_time": "2025-03-28T20:18:08.031Z"
   },
   {
    "duration": 33,
    "start_time": "2025-03-28T20:18:20.493Z"
   },
   {
    "duration": 10,
    "start_time": "2025-03-28T20:24:18.978Z"
   },
   {
    "duration": 4043,
    "start_time": "2025-03-28T20:24:25.768Z"
   },
   {
    "duration": 8,
    "start_time": "2025-03-28T20:24:29.813Z"
   },
   {
    "duration": 985,
    "start_time": "2025-03-28T20:24:29.822Z"
   },
   {
    "duration": 63,
    "start_time": "2025-03-28T20:24:30.809Z"
   },
   {
    "duration": 636,
    "start_time": "2025-03-28T20:24:30.874Z"
   },
   {
    "duration": 468,
    "start_time": "2025-03-28T20:24:31.512Z"
   },
   {
    "duration": 247,
    "start_time": "2025-03-28T20:24:31.981Z"
   },
   {
    "duration": 793,
    "start_time": "2025-03-28T20:24:32.230Z"
   },
   {
    "duration": 39,
    "start_time": "2025-03-28T20:24:33.024Z"
   },
   {
    "duration": 22,
    "start_time": "2025-03-28T20:24:33.066Z"
   },
   {
    "duration": 28,
    "start_time": "2025-03-28T20:24:33.089Z"
   },
   {
    "duration": 20,
    "start_time": "2025-03-28T20:24:33.119Z"
   },
   {
    "duration": 33,
    "start_time": "2025-03-28T20:24:33.141Z"
   },
   {
    "duration": 24,
    "start_time": "2025-03-28T20:24:33.176Z"
   },
   {
    "duration": 92,
    "start_time": "2025-03-28T20:24:33.201Z"
   },
   {
    "duration": 140,
    "start_time": "2025-03-28T20:24:33.295Z"
   },
   {
    "duration": 26,
    "start_time": "2025-03-28T20:24:33.437Z"
   },
   {
    "duration": 425,
    "start_time": "2025-03-28T20:24:33.465Z"
   },
   {
    "duration": 654,
    "start_time": "2025-03-28T20:27:30.428Z"
   },
   {
    "duration": 4069,
    "start_time": "2025-03-28T20:31:28.749Z"
   },
   {
    "duration": 8,
    "start_time": "2025-03-28T20:31:32.819Z"
   },
   {
    "duration": 984,
    "start_time": "2025-03-28T20:31:32.828Z"
   },
   {
    "duration": 66,
    "start_time": "2025-03-28T20:31:33.814Z"
   },
   {
    "duration": 620,
    "start_time": "2025-03-28T20:31:33.881Z"
   },
   {
    "duration": 516,
    "start_time": "2025-03-28T20:31:34.503Z"
   },
   {
    "duration": 259,
    "start_time": "2025-03-28T20:31:35.021Z"
   },
   {
    "duration": 769,
    "start_time": "2025-03-28T20:31:35.281Z"
   },
   {
    "duration": 26,
    "start_time": "2025-03-28T20:31:36.058Z"
   },
   {
    "duration": 44,
    "start_time": "2025-03-28T20:31:36.086Z"
   },
   {
    "duration": 18,
    "start_time": "2025-03-28T20:31:36.132Z"
   },
   {
    "duration": 19,
    "start_time": "2025-03-28T20:31:36.152Z"
   },
   {
    "duration": 50,
    "start_time": "2025-03-28T20:31:36.172Z"
   },
   {
    "duration": 19,
    "start_time": "2025-03-28T20:31:36.223Z"
   },
   {
    "duration": 84,
    "start_time": "2025-03-28T20:31:36.244Z"
   },
   {
    "duration": 141,
    "start_time": "2025-03-28T20:31:36.330Z"
   },
   {
    "duration": 15,
    "start_time": "2025-03-28T20:31:36.472Z"
   },
   {
    "duration": 647,
    "start_time": "2025-03-28T20:31:36.488Z"
   },
   {
    "duration": 2,
    "start_time": "2025-03-28T20:31:37.137Z"
   },
   {
    "duration": 262,
    "start_time": "2025-03-28T20:31:37.141Z"
   },
   {
    "duration": 3,
    "start_time": "2025-03-28T20:31:37.405Z"
   },
   {
    "duration": 37,
    "start_time": "2025-03-28T20:31:37.410Z"
   },
   {
    "duration": 0,
    "start_time": "2025-03-28T20:31:37.449Z"
   },
   {
    "duration": 0,
    "start_time": "2025-03-28T20:31:37.450Z"
   },
   {
    "duration": 0,
    "start_time": "2025-03-28T20:31:37.451Z"
   },
   {
    "duration": 0,
    "start_time": "2025-03-28T20:31:37.452Z"
   },
   {
    "duration": 3149,
    "start_time": "2025-03-28T20:32:23.015Z"
   },
   {
    "duration": 13,
    "start_time": "2025-03-28T20:33:09.138Z"
   },
   {
    "duration": 19141,
    "start_time": "2025-03-28T20:33:11.022Z"
   },
   {
    "duration": 93,
    "start_time": "2025-03-28T20:33:30.165Z"
   },
   {
    "duration": 100,
    "start_time": "2025-03-28T20:33:30.260Z"
   },
   {
    "duration": 35,
    "start_time": "2025-03-28T20:33:30.362Z"
   },
   {
    "duration": 3978,
    "start_time": "2025-03-28T20:38:29.426Z"
   },
   {
    "duration": 8,
    "start_time": "2025-03-28T20:38:33.406Z"
   },
   {
    "duration": 984,
    "start_time": "2025-03-28T20:38:33.415Z"
   },
   {
    "duration": 69,
    "start_time": "2025-03-28T20:38:34.401Z"
   },
   {
    "duration": 630,
    "start_time": "2025-03-28T20:38:34.471Z"
   },
   {
    "duration": 539,
    "start_time": "2025-03-28T20:38:35.103Z"
   },
   {
    "duration": 271,
    "start_time": "2025-03-28T20:38:35.643Z"
   },
   {
    "duration": 807,
    "start_time": "2025-03-28T20:38:35.916Z"
   },
   {
    "duration": 39,
    "start_time": "2025-03-28T20:38:36.724Z"
   },
   {
    "duration": 28,
    "start_time": "2025-03-28T20:38:36.766Z"
   },
   {
    "duration": 20,
    "start_time": "2025-03-28T20:38:36.796Z"
   },
   {
    "duration": 46,
    "start_time": "2025-03-28T20:38:36.818Z"
   },
   {
    "duration": 23,
    "start_time": "2025-03-28T20:38:36.865Z"
   },
   {
    "duration": 20,
    "start_time": "2025-03-28T20:38:36.890Z"
   },
   {
    "duration": 101,
    "start_time": "2025-03-28T20:38:36.911Z"
   },
   {
    "duration": 147,
    "start_time": "2025-03-28T20:38:37.014Z"
   },
   {
    "duration": 15,
    "start_time": "2025-03-28T20:38:37.163Z"
   },
   {
    "duration": 672,
    "start_time": "2025-03-28T20:38:37.180Z"
   },
   {
    "duration": 2,
    "start_time": "2025-03-28T20:38:37.857Z"
   },
   {
    "duration": 3201,
    "start_time": "2025-03-28T20:38:37.861Z"
   },
   {
    "duration": 3,
    "start_time": "2025-03-28T20:38:41.063Z"
   },
   {
    "duration": 90,
    "start_time": "2025-03-28T20:38:41.068Z"
   },
   {
    "duration": 1704,
    "start_time": "2025-03-28T20:38:41.161Z"
   },
   {
    "duration": 92,
    "start_time": "2025-03-28T20:38:42.867Z"
   },
   {
    "duration": 6,
    "start_time": "2025-03-28T20:38:42.961Z"
   },
   {
    "duration": 9,
    "start_time": "2025-03-28T20:38:43.058Z"
   },
   {
    "duration": 108,
    "start_time": "2025-03-28T20:47:57.878Z"
   },
   {
    "duration": 4134,
    "start_time": "2025-03-28T20:48:52.955Z"
   },
   {
    "duration": 6,
    "start_time": "2025-03-28T20:48:57.091Z"
   },
   {
    "duration": 991,
    "start_time": "2025-03-28T20:48:57.099Z"
   },
   {
    "duration": 66,
    "start_time": "2025-03-28T20:48:58.092Z"
   },
   {
    "duration": 606,
    "start_time": "2025-03-28T20:48:58.160Z"
   },
   {
    "duration": 521,
    "start_time": "2025-03-28T20:48:58.767Z"
   },
   {
    "duration": 249,
    "start_time": "2025-03-28T20:48:59.290Z"
   },
   {
    "duration": 786,
    "start_time": "2025-03-28T20:48:59.540Z"
   },
   {
    "duration": 40,
    "start_time": "2025-03-28T20:49:00.327Z"
   },
   {
    "duration": 26,
    "start_time": "2025-03-28T20:49:00.369Z"
   },
   {
    "duration": 26,
    "start_time": "2025-03-28T20:49:00.397Z"
   },
   {
    "duration": 23,
    "start_time": "2025-03-28T20:49:00.424Z"
   },
   {
    "duration": 24,
    "start_time": "2025-03-28T20:49:00.448Z"
   },
   {
    "duration": 41,
    "start_time": "2025-03-28T20:49:00.474Z"
   },
   {
    "duration": 87,
    "start_time": "2025-03-28T20:49:00.516Z"
   },
   {
    "duration": 134,
    "start_time": "2025-03-28T20:49:00.605Z"
   },
   {
    "duration": 652,
    "start_time": "2025-03-28T20:49:00.740Z"
   },
   {
    "duration": 2,
    "start_time": "2025-03-28T20:49:01.394Z"
   },
   {
    "duration": 3174,
    "start_time": "2025-03-28T20:49:01.397Z"
   },
   {
    "duration": 2,
    "start_time": "2025-03-28T20:49:04.573Z"
   },
   {
    "duration": 86,
    "start_time": "2025-03-28T20:49:04.577Z"
   },
   {
    "duration": 2094,
    "start_time": "2025-03-28T20:49:04.669Z"
   },
   {
    "duration": 93,
    "start_time": "2025-03-28T20:49:06.766Z"
   },
   {
    "duration": 98,
    "start_time": "2025-03-28T20:49:06.865Z"
   },
   {
    "duration": 11,
    "start_time": "2025-03-28T20:49:06.964Z"
   },
   {
    "duration": 15876,
    "start_time": "2025-03-28T20:49:06.977Z"
   },
   {
    "duration": 4121,
    "start_time": "2025-03-28T20:51:47.130Z"
   },
   {
    "duration": 6,
    "start_time": "2025-03-28T20:51:51.253Z"
   },
   {
    "duration": 1025,
    "start_time": "2025-03-28T20:51:51.261Z"
   },
   {
    "duration": 57,
    "start_time": "2025-03-28T20:51:52.288Z"
   },
   {
    "duration": 631,
    "start_time": "2025-03-28T20:51:52.357Z"
   },
   {
    "duration": 467,
    "start_time": "2025-03-28T20:51:52.990Z"
   },
   {
    "duration": 264,
    "start_time": "2025-03-28T20:51:53.459Z"
   },
   {
    "duration": 798,
    "start_time": "2025-03-28T20:51:53.725Z"
   },
   {
    "duration": 41,
    "start_time": "2025-03-28T20:51:54.525Z"
   },
   {
    "duration": 24,
    "start_time": "2025-03-28T20:51:54.569Z"
   },
   {
    "duration": 22,
    "start_time": "2025-03-28T20:51:54.594Z"
   },
   {
    "duration": 44,
    "start_time": "2025-03-28T20:51:54.618Z"
   },
   {
    "duration": 21,
    "start_time": "2025-03-28T20:51:54.663Z"
   },
   {
    "duration": 20,
    "start_time": "2025-03-28T20:51:54.685Z"
   },
   {
    "duration": 98,
    "start_time": "2025-03-28T20:51:54.707Z"
   },
   {
    "duration": 140,
    "start_time": "2025-03-28T20:51:54.806Z"
   },
   {
    "duration": 632,
    "start_time": "2025-03-28T20:51:54.948Z"
   },
   {
    "duration": 3,
    "start_time": "2025-03-28T20:51:55.581Z"
   },
   {
    "duration": 3089,
    "start_time": "2025-03-28T20:51:55.585Z"
   },
   {
    "duration": 3,
    "start_time": "2025-03-28T20:51:58.676Z"
   },
   {
    "duration": 87,
    "start_time": "2025-03-28T20:51:58.680Z"
   },
   {
    "duration": 1995,
    "start_time": "2025-03-28T20:51:58.770Z"
   },
   {
    "duration": 92,
    "start_time": "2025-03-28T20:52:00.767Z"
   },
   {
    "duration": 110,
    "start_time": "2025-03-28T20:52:00.861Z"
   },
   {
    "duration": 34,
    "start_time": "2025-03-28T20:52:00.972Z"
   },
   {
    "duration": 16079,
    "start_time": "2025-03-28T20:52:01.007Z"
   },
   {
    "duration": 17,
    "start_time": "2025-03-28T20:52:17.088Z"
   },
   {
    "duration": 303,
    "start_time": "2025-03-28T20:52:17.109Z"
   },
   {
    "duration": 3,
    "start_time": "2025-03-28T20:52:17.414Z"
   },
   {
    "duration": 11,
    "start_time": "2025-03-28T20:52:17.419Z"
   },
   {
    "duration": 0,
    "start_time": "2025-03-28T20:52:17.432Z"
   },
   {
    "duration": 0,
    "start_time": "2025-03-28T20:52:17.433Z"
   },
   {
    "duration": 0,
    "start_time": "2025-03-28T20:52:17.435Z"
   },
   {
    "duration": 0,
    "start_time": "2025-03-28T20:52:17.436Z"
   },
   {
    "duration": 4247,
    "start_time": "2025-03-28T20:53:59.805Z"
   },
   {
    "duration": 6,
    "start_time": "2025-03-28T20:54:04.057Z"
   },
   {
    "duration": 1028,
    "start_time": "2025-03-28T20:54:04.064Z"
   },
   {
    "duration": 64,
    "start_time": "2025-03-28T20:54:05.095Z"
   },
   {
    "duration": 727,
    "start_time": "2025-03-28T20:54:05.161Z"
   },
   {
    "duration": 619,
    "start_time": "2025-03-28T20:54:05.890Z"
   },
   {
    "duration": 278,
    "start_time": "2025-03-28T20:54:06.511Z"
   },
   {
    "duration": 843,
    "start_time": "2025-03-28T20:54:06.791Z"
   },
   {
    "duration": 42,
    "start_time": "2025-03-28T20:54:07.635Z"
   },
   {
    "duration": 23,
    "start_time": "2025-03-28T20:54:07.680Z"
   },
   {
    "duration": 22,
    "start_time": "2025-03-28T20:54:07.704Z"
   },
   {
    "duration": 38,
    "start_time": "2025-03-28T20:54:07.727Z"
   },
   {
    "duration": 22,
    "start_time": "2025-03-28T20:54:07.767Z"
   },
   {
    "duration": 21,
    "start_time": "2025-03-28T20:54:07.790Z"
   },
   {
    "duration": 108,
    "start_time": "2025-03-28T20:54:07.813Z"
   },
   {
    "duration": 154,
    "start_time": "2025-03-28T20:54:07.923Z"
   },
   {
    "duration": 698,
    "start_time": "2025-03-28T20:54:08.078Z"
   },
   {
    "duration": 3,
    "start_time": "2025-03-28T20:54:08.778Z"
   },
   {
    "duration": 3182,
    "start_time": "2025-03-28T20:54:08.782Z"
   },
   {
    "duration": 2,
    "start_time": "2025-03-28T20:54:11.966Z"
   },
   {
    "duration": 90,
    "start_time": "2025-03-28T20:54:11.970Z"
   },
   {
    "duration": 2195,
    "start_time": "2025-03-28T20:54:12.063Z"
   },
   {
    "duration": 3,
    "start_time": "2025-03-28T20:54:14.261Z"
   },
   {
    "duration": 91,
    "start_time": "2025-03-28T20:54:14.267Z"
   },
   {
    "duration": 10,
    "start_time": "2025-03-28T20:54:14.360Z"
   },
   {
    "duration": 15516,
    "start_time": "2025-03-28T20:54:14.371Z"
   },
   {
    "duration": 16,
    "start_time": "2025-03-28T20:54:29.888Z"
   },
   {
    "duration": 111986,
    "start_time": "2025-03-28T20:54:29.907Z"
   },
   {
    "duration": 3,
    "start_time": "2025-03-28T20:56:21.894Z"
   },
   {
    "duration": 482,
    "start_time": "2025-03-28T20:56:21.898Z"
   },
   {
    "duration": 4034,
    "start_time": "2025-03-28T20:56:26.115Z"
   },
   {
    "duration": 11,
    "start_time": "2025-03-28T20:56:30.151Z"
   },
   {
    "duration": 996,
    "start_time": "2025-03-28T20:56:30.163Z"
   },
   {
    "duration": 60,
    "start_time": "2025-03-28T20:56:31.160Z"
   },
   {
    "duration": 648,
    "start_time": "2025-03-28T20:56:31.223Z"
   },
   {
    "duration": 457,
    "start_time": "2025-03-28T20:56:31.873Z"
   },
   {
    "duration": 259,
    "start_time": "2025-03-28T20:56:32.332Z"
   },
   {
    "duration": 788,
    "start_time": "2025-03-28T20:56:32.593Z"
   },
   {
    "duration": 31,
    "start_time": "2025-03-28T20:56:33.382Z"
   },
   {
    "duration": 22,
    "start_time": "2025-03-28T20:56:33.414Z"
   },
   {
    "duration": 21,
    "start_time": "2025-03-28T20:56:33.457Z"
   },
   {
    "duration": 47,
    "start_time": "2025-03-28T20:56:33.479Z"
   },
   {
    "duration": 20,
    "start_time": "2025-03-28T20:56:33.528Z"
   },
   {
    "duration": 43,
    "start_time": "2025-03-28T20:56:33.550Z"
   },
   {
    "duration": 84,
    "start_time": "2025-03-28T20:56:33.594Z"
   },
   {
    "duration": 138,
    "start_time": "2025-03-28T20:56:33.680Z"
   },
   {
    "duration": 627,
    "start_time": "2025-03-28T20:56:33.819Z"
   },
   {
    "duration": 11,
    "start_time": "2025-03-28T20:56:34.447Z"
   },
   {
    "duration": 3208,
    "start_time": "2025-03-28T20:56:34.459Z"
   },
   {
    "duration": 3,
    "start_time": "2025-03-28T20:56:37.668Z"
   },
   {
    "duration": 89,
    "start_time": "2025-03-28T20:56:37.673Z"
   },
   {
    "duration": 1801,
    "start_time": "2025-03-28T20:56:37.764Z"
   },
   {
    "duration": 91,
    "start_time": "2025-03-28T20:56:39.568Z"
   },
   {
    "duration": 100,
    "start_time": "2025-03-28T20:56:39.661Z"
   },
   {
    "duration": 9,
    "start_time": "2025-03-28T20:56:39.762Z"
   },
   {
    "duration": 41248,
    "start_time": "2025-03-28T20:56:39.772Z"
   },
   {
    "duration": 16,
    "start_time": "2025-03-28T20:57:21.021Z"
   },
   {
    "duration": 4057,
    "start_time": "2025-03-28T20:57:53.283Z"
   },
   {
    "duration": 6,
    "start_time": "2025-03-28T20:57:57.342Z"
   },
   {
    "duration": 951,
    "start_time": "2025-03-28T20:57:57.349Z"
   },
   {
    "duration": 63,
    "start_time": "2025-03-28T20:57:58.302Z"
   },
   {
    "duration": 617,
    "start_time": "2025-03-28T20:57:58.367Z"
   },
   {
    "duration": 542,
    "start_time": "2025-03-28T20:57:58.985Z"
   },
   {
    "duration": 263,
    "start_time": "2025-03-28T20:57:59.529Z"
   },
   {
    "duration": 792,
    "start_time": "2025-03-28T20:57:59.794Z"
   },
   {
    "duration": 28,
    "start_time": "2025-03-28T20:58:00.587Z"
   },
   {
    "duration": 46,
    "start_time": "2025-03-28T20:58:00.617Z"
   },
   {
    "duration": 19,
    "start_time": "2025-03-28T20:58:00.664Z"
   },
   {
    "duration": 23,
    "start_time": "2025-03-28T20:58:00.684Z"
   },
   {
    "duration": 24,
    "start_time": "2025-03-28T20:58:00.708Z"
   },
   {
    "duration": 31,
    "start_time": "2025-03-28T20:58:00.733Z"
   },
   {
    "duration": 92,
    "start_time": "2025-03-28T20:58:00.766Z"
   },
   {
    "duration": 135,
    "start_time": "2025-03-28T20:58:00.860Z"
   },
   {
    "duration": 641,
    "start_time": "2025-03-28T20:58:00.996Z"
   },
   {
    "duration": 2,
    "start_time": "2025-03-28T20:58:01.639Z"
   },
   {
    "duration": 3127,
    "start_time": "2025-03-28T20:58:01.643Z"
   },
   {
    "duration": 3,
    "start_time": "2025-03-28T20:58:04.772Z"
   },
   {
    "duration": 91,
    "start_time": "2025-03-28T20:58:04.777Z"
   },
   {
    "duration": 2189,
    "start_time": "2025-03-28T20:58:04.874Z"
   },
   {
    "duration": 93,
    "start_time": "2025-03-28T20:58:07.066Z"
   },
   {
    "duration": 103,
    "start_time": "2025-03-28T20:58:07.162Z"
   },
   {
    "duration": 9,
    "start_time": "2025-03-28T20:58:07.267Z"
   },
   {
    "duration": 104653,
    "start_time": "2025-03-28T20:58:07.277Z"
   },
   {
    "duration": 8,
    "start_time": "2025-03-28T20:59:51.932Z"
   },
   {
    "duration": 108592,
    "start_time": "2025-03-28T20:59:51.943Z"
   },
   {
    "duration": 3,
    "start_time": "2025-03-28T21:01:40.537Z"
   },
   {
    "duration": 339,
    "start_time": "2025-03-28T21:01:40.542Z"
   },
   {
    "duration": 2660,
    "start_time": "2025-03-28T21:01:40.883Z"
   },
   {
    "duration": 3,
    "start_time": "2025-03-28T21:01:43.545Z"
   },
   {
    "duration": 4,
    "start_time": "2025-03-28T21:01:43.557Z"
   },
   {
    "duration": 12,
    "start_time": "2025-03-28T21:01:43.563Z"
   },
   {
    "duration": 95,
    "start_time": "2025-03-28T21:11:04.792Z"
   },
   {
    "duration": 9614,
    "start_time": "2025-03-28T21:11:31.857Z"
   },
   {
    "duration": 16710,
    "start_time": "2025-03-28T21:11:59.257Z"
   },
   {
    "duration": 4209,
    "start_time": "2025-03-28T21:14:37.145Z"
   },
   {
    "duration": 6,
    "start_time": "2025-03-28T21:14:41.357Z"
   },
   {
    "duration": 951,
    "start_time": "2025-03-28T21:14:41.365Z"
   },
   {
    "duration": 66,
    "start_time": "2025-03-28T21:14:42.318Z"
   },
   {
    "duration": 618,
    "start_time": "2025-03-28T21:14:42.385Z"
   },
   {
    "duration": 462,
    "start_time": "2025-03-28T21:14:43.004Z"
   },
   {
    "duration": 259,
    "start_time": "2025-03-28T21:14:43.468Z"
   },
   {
    "duration": 784,
    "start_time": "2025-03-28T21:14:43.729Z"
   },
   {
    "duration": 45,
    "start_time": "2025-03-28T21:14:44.514Z"
   },
   {
    "duration": 23,
    "start_time": "2025-03-28T21:14:44.561Z"
   },
   {
    "duration": 31,
    "start_time": "2025-03-28T21:14:44.586Z"
   },
   {
    "duration": 22,
    "start_time": "2025-03-28T21:14:44.618Z"
   },
   {
    "duration": 28,
    "start_time": "2025-03-28T21:14:44.642Z"
   },
   {
    "duration": 20,
    "start_time": "2025-03-28T21:14:44.672Z"
   },
   {
    "duration": 95,
    "start_time": "2025-03-28T21:14:44.694Z"
   },
   {
    "duration": 136,
    "start_time": "2025-03-28T21:14:44.791Z"
   },
   {
    "duration": 637,
    "start_time": "2025-03-28T21:14:44.929Z"
   },
   {
    "duration": 2,
    "start_time": "2025-03-28T21:14:45.568Z"
   },
   {
    "duration": 2992,
    "start_time": "2025-03-28T21:14:45.572Z"
   },
   {
    "duration": 4,
    "start_time": "2025-03-28T21:14:48.565Z"
   },
   {
    "duration": 87,
    "start_time": "2025-03-28T21:14:48.571Z"
   },
   {
    "duration": 17504,
    "start_time": "2025-03-28T21:14:48.661Z"
   },
   {
    "duration": 92,
    "start_time": "2025-03-28T21:15:06.167Z"
   },
   {
    "duration": 110,
    "start_time": "2025-03-28T21:15:06.262Z"
   },
   {
    "duration": 10,
    "start_time": "2025-03-28T21:15:06.374Z"
   },
   {
    "duration": 97033,
    "start_time": "2025-03-28T21:15:06.385Z"
   },
   {
    "duration": 7,
    "start_time": "2025-03-28T21:16:43.420Z"
   },
   {
    "duration": 4039,
    "start_time": "2025-03-28T21:16:56.324Z"
   },
   {
    "duration": 6,
    "start_time": "2025-03-28T21:17:00.365Z"
   },
   {
    "duration": 1015,
    "start_time": "2025-03-28T21:17:00.372Z"
   },
   {
    "duration": 56,
    "start_time": "2025-03-28T21:17:01.388Z"
   },
   {
    "duration": 629,
    "start_time": "2025-03-28T21:17:01.446Z"
   },
   {
    "duration": 534,
    "start_time": "2025-03-28T21:17:02.077Z"
   },
   {
    "duration": 280,
    "start_time": "2025-03-28T21:17:02.613Z"
   },
   {
    "duration": 806,
    "start_time": "2025-03-28T21:17:02.895Z"
   },
   {
    "duration": 28,
    "start_time": "2025-03-28T21:17:03.703Z"
   },
   {
    "duration": 47,
    "start_time": "2025-03-28T21:17:03.735Z"
   },
   {
    "duration": 23,
    "start_time": "2025-03-28T21:17:03.784Z"
   },
   {
    "duration": 29,
    "start_time": "2025-03-28T21:17:03.809Z"
   },
   {
    "duration": 29,
    "start_time": "2025-03-28T21:17:03.839Z"
   },
   {
    "duration": 28,
    "start_time": "2025-03-28T21:17:03.869Z"
   },
   {
    "duration": 100,
    "start_time": "2025-03-28T21:17:03.899Z"
   },
   {
    "duration": 153,
    "start_time": "2025-03-28T21:17:04.000Z"
   },
   {
    "duration": 672,
    "start_time": "2025-03-28T21:17:04.158Z"
   },
   {
    "duration": 3,
    "start_time": "2025-03-28T21:17:04.832Z"
   },
   {
    "duration": 3332,
    "start_time": "2025-03-28T21:17:04.837Z"
   },
   {
    "duration": 5,
    "start_time": "2025-03-28T21:17:08.171Z"
   },
   {
    "duration": 6,
    "start_time": "2025-03-28T21:17:08.257Z"
   },
   {
    "duration": 19493,
    "start_time": "2025-03-28T21:17:08.265Z"
   },
   {
    "duration": 4,
    "start_time": "2025-03-28T21:17:27.761Z"
   },
   {
    "duration": 93,
    "start_time": "2025-03-28T21:17:27.767Z"
   },
   {
    "duration": 8,
    "start_time": "2025-03-28T21:17:27.862Z"
   },
   {
    "duration": 100927,
    "start_time": "2025-03-28T21:17:27.871Z"
   },
   {
    "duration": 7,
    "start_time": "2025-03-28T21:19:08.800Z"
   },
   {
    "duration": 98721,
    "start_time": "2025-03-28T21:19:08.811Z"
   },
   {
    "duration": 2,
    "start_time": "2025-03-28T21:20:47.534Z"
   },
   {
    "duration": 327,
    "start_time": "2025-03-28T21:20:47.537Z"
   },
   {
    "duration": 2570,
    "start_time": "2025-03-28T21:20:47.865Z"
   },
   {
    "duration": 2,
    "start_time": "2025-03-28T21:20:50.437Z"
   },
   {
    "duration": 20,
    "start_time": "2025-03-28T21:20:50.440Z"
   },
   {
    "duration": 8,
    "start_time": "2025-03-28T21:20:50.462Z"
   },
   {
    "duration": 15094,
    "start_time": "2025-03-28T21:20:50.471Z"
   },
   {
    "duration": 4,
    "start_time": "2025-03-28T21:21:05.567Z"
   },
   {
    "duration": 43197,
    "start_time": "2025-03-28T21:21:05.573Z"
   },
   {
    "duration": 3,
    "start_time": "2025-03-28T21:21:48.857Z"
   },
   {
    "duration": 506,
    "start_time": "2025-03-28T21:21:48.861Z"
   },
   {
    "duration": 4100,
    "start_time": "2025-03-28T21:21:49.368Z"
   },
   {
    "duration": 3,
    "start_time": "2025-03-28T21:21:53.470Z"
   },
   {
    "duration": 5,
    "start_time": "2025-03-28T21:21:53.557Z"
   },
   {
    "duration": 30,
    "start_time": "2025-03-28T21:21:53.563Z"
   },
   {
    "duration": 78,
    "start_time": "2025-03-29T09:07:46.923Z"
   },
   {
    "duration": 13137,
    "start_time": "2025-03-29T09:07:52.608Z"
   },
   {
    "duration": 5215,
    "start_time": "2025-03-29T09:08:13.402Z"
   },
   {
    "duration": 7,
    "start_time": "2025-03-29T09:08:18.619Z"
   },
   {
    "duration": 962,
    "start_time": "2025-03-29T09:08:18.636Z"
   },
   {
    "duration": 64,
    "start_time": "2025-03-29T09:08:19.600Z"
   },
   {
    "duration": 616,
    "start_time": "2025-03-29T09:08:19.665Z"
   },
   {
    "duration": 505,
    "start_time": "2025-03-29T09:08:20.283Z"
   },
   {
    "duration": 264,
    "start_time": "2025-03-29T09:08:20.789Z"
   },
   {
    "duration": 768,
    "start_time": "2025-03-29T09:08:21.055Z"
   },
   {
    "duration": 36,
    "start_time": "2025-03-29T09:08:21.825Z"
   },
   {
    "duration": 26,
    "start_time": "2025-03-29T09:08:21.865Z"
   },
   {
    "duration": 26,
    "start_time": "2025-03-29T09:08:21.892Z"
   },
   {
    "duration": 73,
    "start_time": "2025-03-29T09:08:21.919Z"
   },
   {
    "duration": 20,
    "start_time": "2025-03-29T09:08:21.994Z"
   },
   {
    "duration": 20,
    "start_time": "2025-03-29T09:08:22.016Z"
   },
   {
    "duration": 97,
    "start_time": "2025-03-29T09:08:22.038Z"
   },
   {
    "duration": 144,
    "start_time": "2025-03-29T09:08:22.137Z"
   },
   {
    "duration": 678,
    "start_time": "2025-03-29T09:08:22.282Z"
   },
   {
    "duration": 3,
    "start_time": "2025-03-29T09:08:22.961Z"
   },
   {
    "duration": 3177,
    "start_time": "2025-03-29T09:08:22.965Z"
   },
   {
    "duration": 4,
    "start_time": "2025-03-29T09:08:26.144Z"
   },
   {
    "duration": 87,
    "start_time": "2025-03-29T09:08:26.150Z"
   },
   {
    "duration": 1795,
    "start_time": "2025-03-29T09:08:26.244Z"
   },
   {
    "duration": 4,
    "start_time": "2025-03-29T09:08:28.041Z"
   },
   {
    "duration": 99,
    "start_time": "2025-03-29T09:08:28.047Z"
   },
   {
    "duration": 12,
    "start_time": "2025-03-29T09:08:28.236Z"
   },
   {
    "duration": 96765,
    "start_time": "2025-03-29T09:08:28.250Z"
   },
   {
    "duration": 6,
    "start_time": "2025-03-29T09:10:05.016Z"
   },
   {
    "duration": 98476,
    "start_time": "2025-03-29T09:10:05.035Z"
   },
   {
    "duration": 2,
    "start_time": "2025-03-29T09:11:43.513Z"
   },
   {
    "duration": 343,
    "start_time": "2025-03-29T09:11:43.517Z"
   },
   {
    "duration": 2685,
    "start_time": "2025-03-29T09:11:43.862Z"
   },
   {
    "duration": 3,
    "start_time": "2025-03-29T09:11:46.549Z"
   },
   {
    "duration": 7,
    "start_time": "2025-03-29T09:11:46.554Z"
   },
   {
    "duration": 9,
    "start_time": "2025-03-29T09:11:46.562Z"
   },
   {
    "duration": 15468,
    "start_time": "2025-03-29T09:11:46.573Z"
   },
   {
    "duration": 2,
    "start_time": "2025-03-29T09:12:02.043Z"
   },
   {
    "duration": 47796,
    "start_time": "2025-03-29T09:12:02.047Z"
   },
   {
    "duration": 2,
    "start_time": "2025-03-29T09:12:49.845Z"
   },
   {
    "duration": 594,
    "start_time": "2025-03-29T09:12:49.848Z"
   },
   {
    "duration": 4408,
    "start_time": "2025-03-29T09:12:50.444Z"
   },
   {
    "duration": 3,
    "start_time": "2025-03-29T09:12:54.936Z"
   },
   {
    "duration": 73,
    "start_time": "2025-03-29T09:12:54.941Z"
   },
   {
    "duration": 9,
    "start_time": "2025-03-29T09:12:55.016Z"
   },
   {
    "duration": 83,
    "start_time": "2025-03-29T09:13:26.081Z"
   },
   {
    "duration": 0,
    "start_time": "2025-03-29T09:13:26.166Z"
   },
   {
    "duration": 0,
    "start_time": "2025-03-29T09:13:26.167Z"
   },
   {
    "duration": 0,
    "start_time": "2025-03-29T09:13:26.169Z"
   },
   {
    "duration": 0,
    "start_time": "2025-03-29T09:13:26.170Z"
   },
   {
    "duration": 0,
    "start_time": "2025-03-29T09:13:26.171Z"
   },
   {
    "duration": 0,
    "start_time": "2025-03-29T09:13:26.172Z"
   },
   {
    "duration": 0,
    "start_time": "2025-03-29T09:13:26.173Z"
   },
   {
    "duration": 0,
    "start_time": "2025-03-29T09:13:26.174Z"
   },
   {
    "duration": 0,
    "start_time": "2025-03-29T09:13:26.175Z"
   },
   {
    "duration": 0,
    "start_time": "2025-03-29T09:13:26.176Z"
   },
   {
    "duration": 0,
    "start_time": "2025-03-29T09:13:26.177Z"
   },
   {
    "duration": 0,
    "start_time": "2025-03-29T09:13:26.178Z"
   },
   {
    "duration": 0,
    "start_time": "2025-03-29T09:13:26.179Z"
   },
   {
    "duration": 0,
    "start_time": "2025-03-29T09:13:26.180Z"
   },
   {
    "duration": 0,
    "start_time": "2025-03-29T09:13:26.181Z"
   },
   {
    "duration": 0,
    "start_time": "2025-03-29T09:13:26.182Z"
   },
   {
    "duration": 0,
    "start_time": "2025-03-29T09:13:26.184Z"
   },
   {
    "duration": 0,
    "start_time": "2025-03-29T09:13:26.185Z"
   },
   {
    "duration": 0,
    "start_time": "2025-03-29T09:13:26.186Z"
   },
   {
    "duration": 0,
    "start_time": "2025-03-29T09:13:26.187Z"
   },
   {
    "duration": 0,
    "start_time": "2025-03-29T09:13:26.188Z"
   },
   {
    "duration": 0,
    "start_time": "2025-03-29T09:13:26.189Z"
   },
   {
    "duration": 0,
    "start_time": "2025-03-29T09:13:26.190Z"
   },
   {
    "duration": 0,
    "start_time": "2025-03-29T09:13:26.191Z"
   },
   {
    "duration": 0,
    "start_time": "2025-03-29T09:13:26.192Z"
   },
   {
    "duration": 0,
    "start_time": "2025-03-29T09:13:26.193Z"
   },
   {
    "duration": 0,
    "start_time": "2025-03-29T09:13:26.194Z"
   },
   {
    "duration": 0,
    "start_time": "2025-03-29T09:13:26.195Z"
   },
   {
    "duration": 0,
    "start_time": "2025-03-29T09:13:26.196Z"
   },
   {
    "duration": 0,
    "start_time": "2025-03-29T09:13:26.197Z"
   },
   {
    "duration": 0,
    "start_time": "2025-03-29T09:13:26.198Z"
   },
   {
    "duration": 0,
    "start_time": "2025-03-29T09:13:26.199Z"
   },
   {
    "duration": 0,
    "start_time": "2025-03-29T09:13:26.200Z"
   },
   {
    "duration": 0,
    "start_time": "2025-03-29T09:13:26.201Z"
   },
   {
    "duration": 0,
    "start_time": "2025-03-29T09:13:26.202Z"
   },
   {
    "duration": 0,
    "start_time": "2025-03-29T09:13:26.204Z"
   },
   {
    "duration": 0,
    "start_time": "2025-03-29T09:13:26.235Z"
   },
   {
    "duration": 0,
    "start_time": "2025-03-29T09:13:26.236Z"
   },
   {
    "duration": 0,
    "start_time": "2025-03-29T09:13:26.238Z"
   },
   {
    "duration": 0,
    "start_time": "2025-03-29T09:13:26.239Z"
   },
   {
    "duration": 0,
    "start_time": "2025-03-29T09:13:26.240Z"
   },
   {
    "duration": 0,
    "start_time": "2025-03-29T09:13:26.241Z"
   },
   {
    "duration": 71,
    "start_time": "2025-03-29T09:13:41.184Z"
   },
   {
    "duration": 80,
    "start_time": "2025-03-29T09:13:41.590Z"
   },
   {
    "duration": 70,
    "start_time": "2025-03-29T09:13:41.780Z"
   },
   {
    "duration": 101,
    "start_time": "2025-03-29T09:13:41.938Z"
   },
   {
    "duration": 13131,
    "start_time": "2025-03-29T09:13:49.714Z"
   },
   {
    "duration": 7621,
    "start_time": "2025-03-29T13:13:54.738Z"
   },
   {
    "duration": 9,
    "start_time": "2025-03-29T13:14:02.362Z"
   },
   {
    "duration": 997,
    "start_time": "2025-03-29T13:14:02.373Z"
   },
   {
    "duration": 64,
    "start_time": "2025-03-29T13:14:03.372Z"
   },
   {
    "duration": 600,
    "start_time": "2025-03-29T13:14:03.438Z"
   },
   {
    "duration": 511,
    "start_time": "2025-03-29T13:14:04.040Z"
   },
   {
    "duration": 258,
    "start_time": "2025-03-29T13:14:04.552Z"
   },
   {
    "duration": 782,
    "start_time": "2025-03-29T13:14:04.812Z"
   },
   {
    "duration": 40,
    "start_time": "2025-03-29T13:14:05.596Z"
   },
   {
    "duration": 26,
    "start_time": "2025-03-29T13:14:05.639Z"
   },
   {
    "duration": 23,
    "start_time": "2025-03-29T13:14:05.667Z"
   },
   {
    "duration": 24,
    "start_time": "2025-03-29T13:14:05.692Z"
   },
   {
    "duration": 156,
    "start_time": "2025-03-29T13:14:05.718Z"
   },
   {
    "duration": 108,
    "start_time": "2025-03-29T13:14:05.876Z"
   },
   {
    "duration": 98,
    "start_time": "2025-03-29T13:14:05.985Z"
   },
   {
    "duration": 161,
    "start_time": "2025-03-29T13:14:06.085Z"
   },
   {
    "duration": 647,
    "start_time": "2025-03-29T13:14:06.248Z"
   },
   {
    "duration": 3,
    "start_time": "2025-03-29T13:14:06.896Z"
   },
   {
    "duration": 3142,
    "start_time": "2025-03-29T13:14:06.900Z"
   },
   {
    "duration": 2,
    "start_time": "2025-03-29T13:14:10.044Z"
   },
   {
    "duration": 90,
    "start_time": "2025-03-29T13:14:10.048Z"
   },
   {
    "duration": 1702,
    "start_time": "2025-03-29T13:14:10.140Z"
   },
   {
    "duration": 96,
    "start_time": "2025-03-29T13:14:11.847Z"
   },
   {
    "duration": 96,
    "start_time": "2025-03-29T13:14:11.946Z"
   },
   {
    "duration": 8,
    "start_time": "2025-03-29T13:14:12.044Z"
   },
   {
    "duration": 101413,
    "start_time": "2025-03-29T13:14:12.054Z"
   },
   {
    "duration": 8,
    "start_time": "2025-03-29T13:15:53.468Z"
   },
   {
    "duration": 103409,
    "start_time": "2025-03-29T13:15:53.480Z"
   },
   {
    "duration": 2,
    "start_time": "2025-03-29T13:17:36.891Z"
   },
   {
    "duration": 351,
    "start_time": "2025-03-29T13:17:36.895Z"
   },
   {
    "duration": 2561,
    "start_time": "2025-03-29T13:17:37.248Z"
   },
   {
    "duration": 2,
    "start_time": "2025-03-29T13:17:39.811Z"
   },
   {
    "duration": 55,
    "start_time": "2025-03-29T13:17:39.815Z"
   },
   {
    "duration": 9,
    "start_time": "2025-03-29T13:17:39.872Z"
   },
   {
    "duration": 17356,
    "start_time": "2025-03-29T13:17:39.883Z"
   },
   {
    "duration": 3,
    "start_time": "2025-03-29T13:17:57.241Z"
   },
   {
    "duration": 48100,
    "start_time": "2025-03-29T13:17:57.245Z"
   },
   {
    "duration": 2,
    "start_time": "2025-03-29T13:18:45.347Z"
   },
   {
    "duration": 590,
    "start_time": "2025-03-29T13:18:45.351Z"
   },
   {
    "duration": 4193,
    "start_time": "2025-03-29T13:18:45.943Z"
   },
   {
    "duration": 3,
    "start_time": "2025-03-29T13:18:50.137Z"
   },
   {
    "duration": 7,
    "start_time": "2025-03-29T13:18:50.141Z"
   },
   {
    "duration": 13,
    "start_time": "2025-03-29T13:18:50.149Z"
   },
   {
    "duration": 3622,
    "start_time": "2025-03-31T09:16:13.637Z"
   },
   {
    "duration": 6767,
    "start_time": "2025-03-31T09:16:25.571Z"
   },
   {
    "duration": 4243,
    "start_time": "2025-03-31T09:16:40.313Z"
   },
   {
    "duration": 6,
    "start_time": "2025-03-31T09:16:44.559Z"
   },
   {
    "duration": 1049,
    "start_time": "2025-03-31T09:16:44.567Z"
   },
   {
    "duration": 56,
    "start_time": "2025-03-31T09:16:45.618Z"
   },
   {
    "duration": 641,
    "start_time": "2025-03-31T09:16:45.675Z"
   },
   {
    "duration": 486,
    "start_time": "2025-03-31T09:16:46.317Z"
   },
   {
    "duration": 273,
    "start_time": "2025-03-31T09:16:46.805Z"
   },
   {
    "duration": 872,
    "start_time": "2025-03-31T09:16:47.080Z"
   },
   {
    "duration": 32,
    "start_time": "2025-03-31T09:16:47.953Z"
   },
   {
    "duration": 33,
    "start_time": "2025-03-31T09:16:47.988Z"
   },
   {
    "duration": 42,
    "start_time": "2025-03-31T09:16:48.023Z"
   },
   {
    "duration": 36,
    "start_time": "2025-03-31T09:16:48.067Z"
   },
   {
    "duration": 35,
    "start_time": "2025-03-31T09:16:48.105Z"
   },
   {
    "duration": 25,
    "start_time": "2025-03-31T09:16:48.142Z"
   },
   {
    "duration": 103,
    "start_time": "2025-03-31T09:16:48.169Z"
   },
   {
    "duration": 144,
    "start_time": "2025-03-31T09:16:48.273Z"
   },
   {
    "duration": 699,
    "start_time": "2025-03-31T09:16:48.419Z"
   },
   {
    "duration": 2,
    "start_time": "2025-03-31T09:16:49.120Z"
   },
   {
    "duration": 3391,
    "start_time": "2025-03-31T09:16:49.124Z"
   },
   {
    "duration": 3,
    "start_time": "2025-03-31T09:16:52.517Z"
   },
   {
    "duration": 87,
    "start_time": "2025-03-31T09:16:52.521Z"
   },
   {
    "duration": 2089,
    "start_time": "2025-03-31T09:16:52.615Z"
   },
   {
    "duration": 3,
    "start_time": "2025-03-31T09:16:54.707Z"
   },
   {
    "duration": 143,
    "start_time": "2025-03-31T09:16:54.712Z"
   },
   {
    "duration": 64,
    "start_time": "2025-03-31T09:16:54.856Z"
   },
   {
    "duration": 102297,
    "start_time": "2025-03-31T09:16:54.922Z"
   },
   {
    "duration": 6,
    "start_time": "2025-03-31T09:18:37.221Z"
   },
   {
    "duration": 4399,
    "start_time": "2025-03-31T09:19:53.527Z"
   },
   {
    "duration": 8,
    "start_time": "2025-03-31T09:19:57.928Z"
   },
   {
    "duration": 1026,
    "start_time": "2025-03-31T09:19:57.937Z"
   },
   {
    "duration": 65,
    "start_time": "2025-03-31T09:19:58.966Z"
   },
   {
    "duration": 652,
    "start_time": "2025-03-31T09:19:59.033Z"
   },
   {
    "duration": 500,
    "start_time": "2025-03-31T09:19:59.687Z"
   },
   {
    "duration": 272,
    "start_time": "2025-03-31T09:20:00.189Z"
   },
   {
    "duration": 991,
    "start_time": "2025-03-31T09:20:00.463Z"
   },
   {
    "duration": 30,
    "start_time": "2025-03-31T09:20:01.455Z"
   },
   {
    "duration": 45,
    "start_time": "2025-03-31T09:20:01.504Z"
   },
   {
    "duration": 58,
    "start_time": "2025-03-31T09:20:01.550Z"
   },
   {
    "duration": 69,
    "start_time": "2025-03-31T09:20:01.610Z"
   },
   {
    "duration": 53,
    "start_time": "2025-03-31T09:20:01.680Z"
   },
   {
    "duration": 53,
    "start_time": "2025-03-31T09:20:01.734Z"
   },
   {
    "duration": 229,
    "start_time": "2025-03-31T09:20:01.788Z"
   },
   {
    "duration": 141,
    "start_time": "2025-03-31T09:20:02.019Z"
   },
   {
    "duration": 758,
    "start_time": "2025-03-31T09:20:02.162Z"
   },
   {
    "duration": 4,
    "start_time": "2025-03-31T09:20:02.921Z"
   },
   {
    "duration": 3289,
    "start_time": "2025-03-31T09:20:02.927Z"
   },
   {
    "duration": 4,
    "start_time": "2025-03-31T09:20:06.218Z"
   },
   {
    "duration": 85,
    "start_time": "2025-03-31T09:20:06.223Z"
   },
   {
    "duration": 15805,
    "start_time": "2025-03-31T09:20:06.310Z"
   },
   {
    "duration": 4,
    "start_time": "2025-03-31T09:20:22.208Z"
   },
   {
    "duration": 106,
    "start_time": "2025-03-31T09:20:22.213Z"
   },
   {
    "duration": 17,
    "start_time": "2025-03-31T09:20:22.320Z"
   },
   {
    "duration": 106102,
    "start_time": "2025-03-31T09:20:22.339Z"
   },
   {
    "duration": 7,
    "start_time": "2025-03-31T09:22:08.444Z"
   },
   {
    "duration": 110537,
    "start_time": "2025-03-31T09:22:08.455Z"
   },
   {
    "duration": 8,
    "start_time": "2025-03-31T09:23:58.996Z"
   },
   {
    "duration": 368,
    "start_time": "2025-03-31T09:23:59.007Z"
   },
   {
    "duration": 2831,
    "start_time": "2025-03-31T09:23:59.377Z"
   },
   {
    "duration": 3,
    "start_time": "2025-03-31T09:24:02.210Z"
   },
   {
    "duration": 26,
    "start_time": "2025-03-31T09:24:02.215Z"
   },
   {
    "duration": 17,
    "start_time": "2025-03-31T09:24:02.243Z"
   },
   {
    "duration": 16953,
    "start_time": "2025-03-31T09:24:02.261Z"
   },
   {
    "duration": 3,
    "start_time": "2025-03-31T09:24:19.216Z"
   },
   {
    "duration": 4571,
    "start_time": "2025-03-31T09:24:49.156Z"
   },
   {
    "duration": 7,
    "start_time": "2025-03-31T09:24:53.729Z"
   },
   {
    "duration": 1127,
    "start_time": "2025-03-31T09:24:53.738Z"
   },
   {
    "duration": 66,
    "start_time": "2025-03-31T09:24:54.867Z"
   },
   {
    "duration": 686,
    "start_time": "2025-03-31T09:24:54.934Z"
   },
   {
    "duration": 540,
    "start_time": "2025-03-31T09:24:55.622Z"
   },
   {
    "duration": 283,
    "start_time": "2025-03-31T09:24:56.164Z"
   },
   {
    "duration": 1005,
    "start_time": "2025-03-31T09:24:56.449Z"
   },
   {
    "duration": 155,
    "start_time": "2025-03-31T09:24:57.456Z"
   },
   {
    "duration": 0,
    "start_time": "2025-03-31T09:24:57.613Z"
   },
   {
    "duration": 0,
    "start_time": "2025-03-31T09:24:57.615Z"
   },
   {
    "duration": 0,
    "start_time": "2025-03-31T09:24:57.616Z"
   },
   {
    "duration": 0,
    "start_time": "2025-03-31T09:24:57.617Z"
   },
   {
    "duration": 0,
    "start_time": "2025-03-31T09:24:57.618Z"
   },
   {
    "duration": 0,
    "start_time": "2025-03-31T09:24:57.619Z"
   },
   {
    "duration": 0,
    "start_time": "2025-03-31T09:24:57.620Z"
   },
   {
    "duration": 0,
    "start_time": "2025-03-31T09:24:57.621Z"
   },
   {
    "duration": 0,
    "start_time": "2025-03-31T09:24:57.622Z"
   },
   {
    "duration": 0,
    "start_time": "2025-03-31T09:24:57.623Z"
   },
   {
    "duration": 0,
    "start_time": "2025-03-31T09:24:57.624Z"
   },
   {
    "duration": 0,
    "start_time": "2025-03-31T09:24:57.625Z"
   },
   {
    "duration": 0,
    "start_time": "2025-03-31T09:24:57.626Z"
   },
   {
    "duration": 0,
    "start_time": "2025-03-31T09:24:57.627Z"
   },
   {
    "duration": 0,
    "start_time": "2025-03-31T09:24:57.628Z"
   },
   {
    "duration": 0,
    "start_time": "2025-03-31T09:24:57.629Z"
   },
   {
    "duration": 0,
    "start_time": "2025-03-31T09:24:57.630Z"
   },
   {
    "duration": 0,
    "start_time": "2025-03-31T09:24:57.632Z"
   },
   {
    "duration": 0,
    "start_time": "2025-03-31T09:24:57.633Z"
   },
   {
    "duration": 0,
    "start_time": "2025-03-31T09:24:57.634Z"
   },
   {
    "duration": 0,
    "start_time": "2025-03-31T09:24:57.635Z"
   },
   {
    "duration": 0,
    "start_time": "2025-03-31T09:24:57.637Z"
   },
   {
    "duration": 0,
    "start_time": "2025-03-31T09:24:57.638Z"
   },
   {
    "duration": 0,
    "start_time": "2025-03-31T09:24:57.639Z"
   },
   {
    "duration": 0,
    "start_time": "2025-03-31T09:24:57.640Z"
   },
   {
    "duration": 0,
    "start_time": "2025-03-31T09:24:57.641Z"
   },
   {
    "duration": 0,
    "start_time": "2025-03-31T09:24:57.642Z"
   },
   {
    "duration": 0,
    "start_time": "2025-03-31T09:24:57.643Z"
   },
   {
    "duration": 0,
    "start_time": "2025-03-31T09:24:57.645Z"
   },
   {
    "duration": 0,
    "start_time": "2025-03-31T09:24:57.646Z"
   },
   {
    "duration": 0,
    "start_time": "2025-03-31T09:24:57.647Z"
   },
   {
    "duration": 0,
    "start_time": "2025-03-31T09:24:57.704Z"
   },
   {
    "duration": 0,
    "start_time": "2025-03-31T09:24:57.705Z"
   },
   {
    "duration": 0,
    "start_time": "2025-03-31T09:24:57.706Z"
   },
   {
    "duration": 0,
    "start_time": "2025-03-31T09:24:57.708Z"
   },
   {
    "duration": 16,
    "start_time": "2025-03-31T09:25:25.719Z"
   },
   {
    "duration": 13,
    "start_time": "2025-03-31T09:25:49.650Z"
   },
   {
    "duration": 26,
    "start_time": "2025-03-31T09:26:11.418Z"
   },
   {
    "duration": 33,
    "start_time": "2025-03-31T09:26:21.128Z"
   },
   {
    "duration": 39,
    "start_time": "2025-03-31T09:26:38.276Z"
   },
   {
    "duration": 1174,
    "start_time": "2025-03-31T09:32:38.247Z"
   },
   {
    "duration": 33,
    "start_time": "2025-03-31T09:32:54.533Z"
   },
   {
    "duration": 29,
    "start_time": "2025-03-31T09:33:48.673Z"
   },
   {
    "duration": 30,
    "start_time": "2025-03-31T09:36:38.503Z"
   },
   {
    "duration": 26,
    "start_time": "2025-03-31T09:38:22.658Z"
   },
   {
    "duration": 41,
    "start_time": "2025-03-31T09:38:27.537Z"
   },
   {
    "duration": 32,
    "start_time": "2025-03-31T09:39:47.431Z"
   },
   {
    "duration": 31,
    "start_time": "2025-03-31T09:40:17.464Z"
   },
   {
    "duration": 30,
    "start_time": "2025-03-31T09:41:51.504Z"
   },
   {
    "duration": 14,
    "start_time": "2025-03-31T10:08:23.622Z"
   },
   {
    "duration": 113,
    "start_time": "2025-03-31T10:11:02.520Z"
   },
   {
    "duration": 99,
    "start_time": "2025-03-31T10:11:18.787Z"
   },
   {
    "duration": 91,
    "start_time": "2025-03-31T10:13:57.417Z"
   },
   {
    "duration": 88,
    "start_time": "2025-03-31T10:14:09.146Z"
   },
   {
    "duration": 90,
    "start_time": "2025-03-31T10:15:30.168Z"
   },
   {
    "duration": 88,
    "start_time": "2025-03-31T10:15:36.612Z"
   },
   {
    "duration": 104,
    "start_time": "2025-03-31T10:16:09.643Z"
   },
   {
    "duration": 66,
    "start_time": "2025-03-31T10:18:43.955Z"
   },
   {
    "duration": 23,
    "start_time": "2025-03-31T10:22:08.911Z"
   },
   {
    "duration": 45,
    "start_time": "2025-03-31T10:22:24.268Z"
   },
   {
    "duration": 30,
    "start_time": "2025-03-31T10:22:44.896Z"
   },
   {
    "duration": 44,
    "start_time": "2025-03-31T10:22:58.673Z"
   },
   {
    "duration": 44,
    "start_time": "2025-03-31T10:23:32.253Z"
   },
   {
    "duration": 43,
    "start_time": "2025-03-31T10:23:38.672Z"
   },
   {
    "duration": 30,
    "start_time": "2025-03-31T10:25:41.012Z"
   },
   {
    "duration": 14,
    "start_time": "2025-03-31T10:26:06.147Z"
   },
   {
    "duration": 40,
    "start_time": "2025-03-31T10:28:30.593Z"
   },
   {
    "duration": 79,
    "start_time": "2025-03-31T10:30:30.534Z"
   },
   {
    "duration": 33,
    "start_time": "2025-03-31T10:31:12.279Z"
   },
   {
    "duration": 10,
    "start_time": "2025-03-31T10:53:42.693Z"
   },
   {
    "duration": 99,
    "start_time": "2025-03-31T10:53:46.219Z"
   },
   {
    "duration": 1568,
    "start_time": "2025-03-31T10:53:49.492Z"
   },
   {
    "duration": 153,
    "start_time": "2025-03-31T10:58:00.539Z"
   },
   {
    "duration": 1551,
    "start_time": "2025-03-31T10:58:03.729Z"
   },
   {
    "duration": 172,
    "start_time": "2025-03-31T10:59:04.834Z"
   },
   {
    "duration": 1544,
    "start_time": "2025-03-31T10:59:07.054Z"
   },
   {
    "duration": 1801,
    "start_time": "2025-03-31T11:01:46.975Z"
   },
   {
    "duration": 1653,
    "start_time": "2025-03-31T11:02:04.900Z"
   },
   {
    "duration": 112,
    "start_time": "2025-03-31T11:10:33.113Z"
   },
   {
    "duration": 138,
    "start_time": "2025-03-31T11:27:02.170Z"
   },
   {
    "duration": 102,
    "start_time": "2025-03-31T11:28:00.312Z"
   },
   {
    "duration": 4438,
    "start_time": "2025-03-31T11:28:55.547Z"
   },
   {
    "duration": 4145,
    "start_time": "2025-03-31T11:29:37.854Z"
   },
   {
    "duration": 4175,
    "start_time": "2025-03-31T11:30:39.230Z"
   },
   {
    "duration": 1722,
    "start_time": "2025-03-31T11:31:43.239Z"
   },
   {
    "duration": 6035,
    "start_time": "2025-03-31T11:32:17.724Z"
   },
   {
    "duration": 4258,
    "start_time": "2025-03-31T11:33:35.228Z"
   },
   {
    "duration": 4588,
    "start_time": "2025-03-31T14:51:49.087Z"
   },
   {
    "duration": 7,
    "start_time": "2025-03-31T14:51:53.677Z"
   },
   {
    "duration": 1140,
    "start_time": "2025-03-31T14:51:53.685Z"
   },
   {
    "duration": 83,
    "start_time": "2025-03-31T14:51:54.827Z"
   },
   {
    "duration": 672,
    "start_time": "2025-03-31T14:51:54.911Z"
   },
   {
    "duration": 582,
    "start_time": "2025-03-31T14:51:55.584Z"
   },
   {
    "duration": 296,
    "start_time": "2025-03-31T14:51:56.167Z"
   },
   {
    "duration": 1059,
    "start_time": "2025-03-31T14:51:56.465Z"
   },
   {
    "duration": 31,
    "start_time": "2025-03-31T14:51:57.526Z"
   },
   {
    "duration": 216,
    "start_time": "2025-03-31T14:51:57.560Z"
   },
   {
    "duration": 1650,
    "start_time": "2025-03-31T14:51:57.778Z"
   },
   {
    "duration": 4213,
    "start_time": "2025-03-31T14:51:59.429Z"
   },
   {
    "duration": 25,
    "start_time": "2025-03-31T14:52:03.644Z"
   },
   {
    "duration": 80,
    "start_time": "2025-03-31T14:52:03.670Z"
   },
   {
    "duration": 36,
    "start_time": "2025-03-31T14:52:03.751Z"
   },
   {
    "duration": 44,
    "start_time": "2025-03-31T14:52:03.788Z"
   },
   {
    "duration": 30,
    "start_time": "2025-03-31T14:52:03.834Z"
   },
   {
    "duration": 70,
    "start_time": "2025-03-31T14:52:03.866Z"
   },
   {
    "duration": 95,
    "start_time": "2025-03-31T14:52:03.938Z"
   },
   {
    "duration": 129,
    "start_time": "2025-03-31T14:52:04.035Z"
   },
   {
    "duration": 709,
    "start_time": "2025-03-31T14:52:04.166Z"
   },
   {
    "duration": 2876,
    "start_time": "2025-03-31T14:52:04.877Z"
   },
   {
    "duration": 122,
    "start_time": "2025-03-31T14:52:07.755Z"
   },
   {
    "duration": 0,
    "start_time": "2025-03-31T14:52:07.879Z"
   },
   {
    "duration": 0,
    "start_time": "2025-03-31T14:52:07.881Z"
   },
   {
    "duration": 0,
    "start_time": "2025-03-31T14:52:07.882Z"
   },
   {
    "duration": 0,
    "start_time": "2025-03-31T14:52:07.884Z"
   },
   {
    "duration": 0,
    "start_time": "2025-03-31T14:52:07.884Z"
   },
   {
    "duration": 0,
    "start_time": "2025-03-31T14:52:07.886Z"
   },
   {
    "duration": 0,
    "start_time": "2025-03-31T14:52:07.904Z"
   },
   {
    "duration": 0,
    "start_time": "2025-03-31T14:52:07.905Z"
   },
   {
    "duration": 0,
    "start_time": "2025-03-31T14:52:07.906Z"
   },
   {
    "duration": 0,
    "start_time": "2025-03-31T14:52:07.908Z"
   },
   {
    "duration": 0,
    "start_time": "2025-03-31T14:52:07.909Z"
   },
   {
    "duration": 0,
    "start_time": "2025-03-31T14:52:07.910Z"
   },
   {
    "duration": 0,
    "start_time": "2025-03-31T14:52:07.911Z"
   },
   {
    "duration": 0,
    "start_time": "2025-03-31T14:52:07.913Z"
   },
   {
    "duration": 0,
    "start_time": "2025-03-31T14:52:07.914Z"
   },
   {
    "duration": 0,
    "start_time": "2025-03-31T14:52:07.915Z"
   },
   {
    "duration": 0,
    "start_time": "2025-03-31T14:52:07.916Z"
   },
   {
    "duration": 0,
    "start_time": "2025-03-31T14:52:07.917Z"
   },
   {
    "duration": 0,
    "start_time": "2025-03-31T14:52:07.918Z"
   },
   {
    "duration": 0,
    "start_time": "2025-03-31T14:52:07.919Z"
   },
   {
    "duration": 0,
    "start_time": "2025-03-31T14:52:07.921Z"
   },
   {
    "duration": 0,
    "start_time": "2025-03-31T14:52:07.922Z"
   },
   {
    "duration": 0,
    "start_time": "2025-03-31T14:52:07.923Z"
   },
   {
    "duration": 0,
    "start_time": "2025-03-31T14:52:07.924Z"
   },
   {
    "duration": 0,
    "start_time": "2025-03-31T14:52:07.925Z"
   },
   {
    "duration": 0,
    "start_time": "2025-03-31T14:52:07.926Z"
   },
   {
    "duration": 4282,
    "start_time": "2025-03-31T14:52:40.168Z"
   },
   {
    "duration": 7,
    "start_time": "2025-03-31T14:52:44.452Z"
   },
   {
    "duration": 1065,
    "start_time": "2025-03-31T14:52:44.461Z"
   },
   {
    "duration": 59,
    "start_time": "2025-03-31T14:52:45.529Z"
   },
   {
    "duration": 681,
    "start_time": "2025-03-31T14:52:45.590Z"
   },
   {
    "duration": 503,
    "start_time": "2025-03-31T14:52:46.272Z"
   },
   {
    "duration": 278,
    "start_time": "2025-03-31T14:52:46.777Z"
   },
   {
    "duration": 1060,
    "start_time": "2025-03-31T14:52:47.057Z"
   },
   {
    "duration": 33,
    "start_time": "2025-03-31T14:52:48.118Z"
   },
   {
    "duration": 175,
    "start_time": "2025-03-31T14:52:48.153Z"
   },
   {
    "duration": 1635,
    "start_time": "2025-03-31T14:52:48.331Z"
   },
   {
    "duration": 4077,
    "start_time": "2025-03-31T14:52:49.968Z"
   },
   {
    "duration": 27,
    "start_time": "2025-03-31T14:52:54.048Z"
   },
   {
    "duration": 43,
    "start_time": "2025-03-31T14:52:54.077Z"
   },
   {
    "duration": 23,
    "start_time": "2025-03-31T14:52:54.121Z"
   },
   {
    "duration": 59,
    "start_time": "2025-03-31T14:52:54.146Z"
   },
   {
    "duration": 22,
    "start_time": "2025-03-31T14:52:54.207Z"
   },
   {
    "duration": 21,
    "start_time": "2025-03-31T14:52:54.231Z"
   },
   {
    "duration": 113,
    "start_time": "2025-03-31T14:52:54.254Z"
   },
   {
    "duration": 130,
    "start_time": "2025-03-31T14:52:54.368Z"
   },
   {
    "duration": 706,
    "start_time": "2025-03-31T14:52:54.503Z"
   },
   {
    "duration": 2120,
    "start_time": "2025-03-31T14:52:55.211Z"
   },
   {
    "duration": 3,
    "start_time": "2025-03-31T14:52:57.333Z"
   },
   {
    "duration": 156876,
    "start_time": "2025-03-31T14:52:57.337Z"
   },
   {
    "duration": 4,
    "start_time": "2025-03-31T14:55:34.216Z"
   },
   {
    "duration": 85,
    "start_time": "2025-03-31T14:55:34.221Z"
   },
   {
    "duration": 13503,
    "start_time": "2025-03-31T14:55:34.309Z"
   },
   {
    "duration": 96,
    "start_time": "2025-03-31T14:55:47.908Z"
   },
   {
    "duration": 6,
    "start_time": "2025-03-31T14:55:48.006Z"
   },
   {
    "duration": 28,
    "start_time": "2025-03-31T14:55:48.013Z"
   },
   {
    "duration": 107641,
    "start_time": "2025-03-31T14:55:48.042Z"
   },
   {
    "duration": 6,
    "start_time": "2025-03-31T14:57:35.685Z"
   },
   {
    "duration": 107436,
    "start_time": "2025-03-31T14:57:35.704Z"
   },
   {
    "duration": 3,
    "start_time": "2025-03-31T14:59:23.141Z"
   },
   {
    "duration": 373,
    "start_time": "2025-03-31T14:59:23.146Z"
   },
   {
    "duration": 2777,
    "start_time": "2025-03-31T14:59:23.520Z"
   },
   {
    "duration": 5,
    "start_time": "2025-03-31T14:59:26.298Z"
   },
   {
    "duration": 4,
    "start_time": "2025-03-31T14:59:26.305Z"
   },
   {
    "duration": 8,
    "start_time": "2025-03-31T14:59:26.310Z"
   },
   {
    "duration": 19788,
    "start_time": "2025-03-31T14:59:26.319Z"
   },
   {
    "duration": 3,
    "start_time": "2025-03-31T14:59:46.110Z"
   },
   {
    "duration": 58898,
    "start_time": "2025-03-31T14:59:46.115Z"
   },
   {
    "duration": 2,
    "start_time": "2025-03-31T15:00:45.015Z"
   },
   {
    "duration": 593,
    "start_time": "2025-03-31T15:00:45.019Z"
   },
   {
    "duration": 4492,
    "start_time": "2025-03-31T15:00:45.614Z"
   },
   {
    "duration": 3,
    "start_time": "2025-03-31T15:00:50.108Z"
   },
   {
    "duration": 75,
    "start_time": "2025-03-31T15:00:50.113Z"
   },
   {
    "duration": 62,
    "start_time": "2025-03-31T15:00:50.189Z"
   },
   {
    "duration": 4399,
    "start_time": "2025-03-31T15:05:05.781Z"
   },
   {
    "duration": 7,
    "start_time": "2025-03-31T15:05:10.183Z"
   },
   {
    "duration": 1152,
    "start_time": "2025-03-31T15:05:10.203Z"
   },
   {
    "duration": 70,
    "start_time": "2025-03-31T15:05:11.357Z"
   },
   {
    "duration": 714,
    "start_time": "2025-03-31T15:05:11.428Z"
   },
   {
    "duration": 565,
    "start_time": "2025-03-31T15:05:12.144Z"
   },
   {
    "duration": 263,
    "start_time": "2025-03-31T15:05:12.711Z"
   },
   {
    "duration": 1011,
    "start_time": "2025-03-31T15:05:12.976Z"
   },
   {
    "duration": 41,
    "start_time": "2025-03-31T15:05:13.989Z"
   },
   {
    "duration": 179,
    "start_time": "2025-03-31T15:05:14.033Z"
   },
   {
    "duration": 1630,
    "start_time": "2025-03-31T15:05:14.213Z"
   },
   {
    "duration": 4110,
    "start_time": "2025-03-31T15:05:15.845Z"
   },
   {
    "duration": 27,
    "start_time": "2025-03-31T15:05:19.957Z"
   },
   {
    "duration": 40,
    "start_time": "2025-03-31T15:05:19.985Z"
   },
   {
    "duration": 28,
    "start_time": "2025-03-31T15:05:20.027Z"
   },
   {
    "duration": 31,
    "start_time": "2025-03-31T15:05:20.058Z"
   },
   {
    "duration": 40,
    "start_time": "2025-03-31T15:05:20.090Z"
   },
   {
    "duration": 39,
    "start_time": "2025-03-31T15:05:20.132Z"
   },
   {
    "duration": 94,
    "start_time": "2025-03-31T15:05:20.172Z"
   },
   {
    "duration": 140,
    "start_time": "2025-03-31T15:05:20.268Z"
   },
   {
    "duration": 737,
    "start_time": "2025-03-31T15:05:20.409Z"
   },
   {
    "duration": 2248,
    "start_time": "2025-03-31T15:05:21.147Z"
   },
   {
    "duration": 7,
    "start_time": "2025-03-31T15:05:23.397Z"
   },
   {
    "duration": 175802,
    "start_time": "2025-03-31T15:05:23.405Z"
   },
   {
    "duration": 4,
    "start_time": "2025-03-31T15:08:19.209Z"
   },
   {
    "duration": 98,
    "start_time": "2025-03-31T15:08:19.215Z"
   },
   {
    "duration": 13990,
    "start_time": "2025-03-31T15:08:19.315Z"
   },
   {
    "duration": 89,
    "start_time": "2025-03-31T15:08:33.316Z"
   },
   {
    "duration": 17,
    "start_time": "2025-03-31T15:08:33.407Z"
   },
   {
    "duration": 20,
    "start_time": "2025-03-31T15:08:33.427Z"
   },
   {
    "duration": 123725,
    "start_time": "2025-03-31T15:08:33.503Z"
   },
   {
    "duration": 7,
    "start_time": "2025-03-31T15:10:37.229Z"
   },
   {
    "duration": 127224,
    "start_time": "2025-03-31T15:10:37.237Z"
   },
   {
    "duration": 2,
    "start_time": "2025-03-31T15:12:44.463Z"
   },
   {
    "duration": 356,
    "start_time": "2025-03-31T15:12:44.467Z"
   },
   {
    "duration": 2781,
    "start_time": "2025-03-31T15:12:44.824Z"
   },
   {
    "duration": 3,
    "start_time": "2025-03-31T15:12:47.606Z"
   },
   {
    "duration": 24,
    "start_time": "2025-03-31T15:12:47.611Z"
   },
   {
    "duration": 28,
    "start_time": "2025-03-31T15:12:47.636Z"
   },
   {
    "duration": 168,
    "start_time": "2025-03-31T15:12:47.665Z"
   },
   {
    "duration": 0,
    "start_time": "2025-03-31T15:12:47.835Z"
   },
   {
    "duration": 0,
    "start_time": "2025-03-31T15:12:47.836Z"
   },
   {
    "duration": 0,
    "start_time": "2025-03-31T15:12:47.837Z"
   },
   {
    "duration": 0,
    "start_time": "2025-03-31T15:12:47.838Z"
   },
   {
    "duration": 0,
    "start_time": "2025-03-31T15:12:47.839Z"
   },
   {
    "duration": 0,
    "start_time": "2025-03-31T15:12:47.840Z"
   },
   {
    "duration": 0,
    "start_time": "2025-03-31T15:12:47.841Z"
   },
   {
    "duration": 0,
    "start_time": "2025-03-31T15:12:47.842Z"
   },
   {
    "duration": 4356,
    "start_time": "2025-03-31T15:20:00.108Z"
   },
   {
    "duration": 7,
    "start_time": "2025-03-31T15:20:04.466Z"
   },
   {
    "duration": 1181,
    "start_time": "2025-03-31T15:20:04.475Z"
   },
   {
    "duration": 77,
    "start_time": "2025-03-31T15:20:05.658Z"
   },
   {
    "duration": 717,
    "start_time": "2025-03-31T15:20:05.737Z"
   },
   {
    "duration": 504,
    "start_time": "2025-03-31T15:20:06.456Z"
   },
   {
    "duration": 288,
    "start_time": "2025-03-31T15:20:06.962Z"
   },
   {
    "duration": 1065,
    "start_time": "2025-03-31T15:20:07.252Z"
   },
   {
    "duration": 33,
    "start_time": "2025-03-31T15:20:08.319Z"
   },
   {
    "duration": 172,
    "start_time": "2025-03-31T15:20:08.355Z"
   },
   {
    "duration": 1674,
    "start_time": "2025-03-31T15:20:08.529Z"
   },
   {
    "duration": 4030,
    "start_time": "2025-03-31T15:20:10.205Z"
   },
   {
    "duration": 26,
    "start_time": "2025-03-31T15:20:14.237Z"
   },
   {
    "duration": 42,
    "start_time": "2025-03-31T15:20:14.265Z"
   },
   {
    "duration": 20,
    "start_time": "2025-03-31T15:20:14.309Z"
   },
   {
    "duration": 29,
    "start_time": "2025-03-31T15:20:14.331Z"
   },
   {
    "duration": 31,
    "start_time": "2025-03-31T15:20:14.361Z"
   },
   {
    "duration": 35,
    "start_time": "2025-03-31T15:20:14.393Z"
   },
   {
    "duration": 117,
    "start_time": "2025-03-31T15:20:14.429Z"
   },
   {
    "duration": 145,
    "start_time": "2025-03-31T15:20:14.548Z"
   },
   {
    "duration": 727,
    "start_time": "2025-03-31T15:20:14.694Z"
   },
   {
    "duration": 2426,
    "start_time": "2025-03-31T15:20:15.422Z"
   },
   {
    "duration": 2,
    "start_time": "2025-03-31T15:20:17.850Z"
   },
   {
    "duration": 155750,
    "start_time": "2025-03-31T15:20:17.854Z"
   },
   {
    "duration": 3,
    "start_time": "2025-03-31T15:22:53.606Z"
   },
   {
    "duration": 96,
    "start_time": "2025-03-31T15:22:53.611Z"
   },
   {
    "duration": 13699,
    "start_time": "2025-03-31T15:22:53.715Z"
   },
   {
    "duration": 87,
    "start_time": "2025-03-31T15:23:07.418Z"
   },
   {
    "duration": 108,
    "start_time": "2025-03-31T15:23:07.507Z"
   },
   {
    "duration": 16,
    "start_time": "2025-03-31T15:23:07.617Z"
   },
   {
    "duration": 117592,
    "start_time": "2025-03-31T15:23:07.634Z"
   },
   {
    "duration": 2,
    "start_time": "2025-03-31T15:25:05.228Z"
   },
   {
    "duration": 106971,
    "start_time": "2025-03-31T15:25:05.232Z"
   },
   {
    "duration": 3,
    "start_time": "2025-03-31T15:26:52.205Z"
   },
   {
    "duration": 358,
    "start_time": "2025-03-31T15:26:52.209Z"
   },
   {
    "duration": 2746,
    "start_time": "2025-03-31T15:26:52.569Z"
   },
   {
    "duration": 3,
    "start_time": "2025-03-31T15:26:55.317Z"
   },
   {
    "duration": 17,
    "start_time": "2025-03-31T15:26:55.321Z"
   },
   {
    "duration": 23,
    "start_time": "2025-03-31T15:26:55.339Z"
   },
   {
    "duration": 148144,
    "start_time": "2025-03-31T15:26:55.363Z"
   },
   {
    "duration": 3,
    "start_time": "2025-03-31T15:29:23.509Z"
   },
   {
    "duration": 54398,
    "start_time": "2025-03-31T15:29:23.514Z"
   },
   {
    "duration": 3,
    "start_time": "2025-03-31T15:30:17.914Z"
   },
   {
    "duration": 593,
    "start_time": "2025-03-31T15:30:17.918Z"
   },
   {
    "duration": 4300,
    "start_time": "2025-03-31T15:30:18.513Z"
   },
   {
    "duration": 3,
    "start_time": "2025-03-31T15:30:22.815Z"
   },
   {
    "duration": 8,
    "start_time": "2025-03-31T15:30:22.819Z"
   },
   {
    "duration": 13,
    "start_time": "2025-03-31T15:30:22.828Z"
   },
   {
    "duration": 169,
    "start_time": "2025-03-31T15:30:22.842Z"
   },
   {
    "duration": 0,
    "start_time": "2025-03-31T15:30:23.013Z"
   },
   {
    "duration": 0,
    "start_time": "2025-03-31T15:30:23.014Z"
   },
   {
    "duration": 349,
    "start_time": "2025-03-31T15:35:49.007Z"
   },
   {
    "duration": 349,
    "start_time": "2025-03-31T15:35:55.961Z"
   },
   {
    "duration": 407,
    "start_time": "2025-03-31T15:36:40.322Z"
   },
   {
    "duration": 628,
    "start_time": "2025-03-31T15:36:42.870Z"
   },
   {
    "duration": 549,
    "start_time": "2025-03-31T15:36:46.347Z"
   },
   {
    "duration": 664,
    "start_time": "2025-03-31T15:39:40.242Z"
   },
   {
    "duration": 636,
    "start_time": "2025-03-31T15:40:10.908Z"
   },
   {
    "duration": 692,
    "start_time": "2025-03-31T15:43:49.829Z"
   },
   {
    "duration": 531,
    "start_time": "2025-03-31T15:44:05.502Z"
   },
   {
    "duration": 323,
    "start_time": "2025-03-31T15:44:15.467Z"
   },
   {
    "duration": 2711,
    "start_time": "2025-03-31T15:45:05.282Z"
   },
   {
    "duration": 2698,
    "start_time": "2025-03-31T15:45:20.324Z"
   },
   {
    "duration": 652,
    "start_time": "2025-03-31T15:45:31.631Z"
   },
   {
    "duration": 576,
    "start_time": "2025-03-31T16:09:01.734Z"
   },
   {
    "duration": 557,
    "start_time": "2025-03-31T16:09:13.005Z"
   },
   {
    "duration": 8733,
    "start_time": "2025-04-01T18:44:39.686Z"
   },
   {
    "duration": 7,
    "start_time": "2025-04-01T18:44:48.421Z"
   },
   {
    "duration": 1011,
    "start_time": "2025-04-01T18:44:48.429Z"
   },
   {
    "duration": 59,
    "start_time": "2025-04-01T18:44:49.442Z"
   },
   {
    "duration": 658,
    "start_time": "2025-04-01T18:44:49.503Z"
   },
   {
    "duration": 522,
    "start_time": "2025-04-01T18:44:50.163Z"
   },
   {
    "duration": 317,
    "start_time": "2025-04-01T18:44:50.687Z"
   },
   {
    "duration": 1017,
    "start_time": "2025-04-01T18:44:51.005Z"
   },
   {
    "duration": 40,
    "start_time": "2025-04-01T18:44:52.024Z"
   },
   {
    "duration": 219,
    "start_time": "2025-04-01T18:44:52.067Z"
   },
   {
    "duration": 0,
    "start_time": "2025-04-01T18:44:52.290Z"
   },
   {
    "duration": 0,
    "start_time": "2025-04-01T18:44:52.291Z"
   },
   {
    "duration": 0,
    "start_time": "2025-04-01T18:44:52.292Z"
   },
   {
    "duration": 0,
    "start_time": "2025-04-01T18:44:52.294Z"
   },
   {
    "duration": 0,
    "start_time": "2025-04-01T18:44:52.295Z"
   },
   {
    "duration": 0,
    "start_time": "2025-04-01T18:44:52.296Z"
   },
   {
    "duration": 0,
    "start_time": "2025-04-01T18:44:52.298Z"
   },
   {
    "duration": 0,
    "start_time": "2025-04-01T18:44:52.299Z"
   },
   {
    "duration": 0,
    "start_time": "2025-04-01T18:44:52.301Z"
   },
   {
    "duration": 0,
    "start_time": "2025-04-01T18:44:52.302Z"
   },
   {
    "duration": 0,
    "start_time": "2025-04-01T18:44:52.304Z"
   },
   {
    "duration": 0,
    "start_time": "2025-04-01T18:44:52.305Z"
   },
   {
    "duration": 0,
    "start_time": "2025-04-01T18:44:52.307Z"
   },
   {
    "duration": 0,
    "start_time": "2025-04-01T18:44:52.308Z"
   },
   {
    "duration": 0,
    "start_time": "2025-04-01T18:44:52.309Z"
   },
   {
    "duration": 0,
    "start_time": "2025-04-01T18:44:52.311Z"
   },
   {
    "duration": 0,
    "start_time": "2025-04-01T18:44:52.312Z"
   },
   {
    "duration": 0,
    "start_time": "2025-04-01T18:44:52.313Z"
   },
   {
    "duration": 0,
    "start_time": "2025-04-01T18:44:52.314Z"
   },
   {
    "duration": 0,
    "start_time": "2025-04-01T18:44:52.316Z"
   },
   {
    "duration": 0,
    "start_time": "2025-04-01T18:44:52.355Z"
   },
   {
    "duration": 0,
    "start_time": "2025-04-01T18:44:52.356Z"
   },
   {
    "duration": 0,
    "start_time": "2025-04-01T18:44:52.358Z"
   },
   {
    "duration": 0,
    "start_time": "2025-04-01T18:44:52.359Z"
   },
   {
    "duration": 0,
    "start_time": "2025-04-01T18:44:52.360Z"
   },
   {
    "duration": 0,
    "start_time": "2025-04-01T18:44:52.361Z"
   },
   {
    "duration": 0,
    "start_time": "2025-04-01T18:44:52.362Z"
   },
   {
    "duration": 1,
    "start_time": "2025-04-01T18:44:52.363Z"
   },
   {
    "duration": 0,
    "start_time": "2025-04-01T18:44:52.365Z"
   },
   {
    "duration": 0,
    "start_time": "2025-04-01T18:44:52.366Z"
   },
   {
    "duration": 0,
    "start_time": "2025-04-01T18:44:52.367Z"
   },
   {
    "duration": 0,
    "start_time": "2025-04-01T18:44:52.368Z"
   },
   {
    "duration": 0,
    "start_time": "2025-04-01T18:44:52.369Z"
   },
   {
    "duration": 0,
    "start_time": "2025-04-01T18:44:52.371Z"
   },
   {
    "duration": 0,
    "start_time": "2025-04-01T18:44:52.372Z"
   },
   {
    "duration": 0,
    "start_time": "2025-04-01T18:44:52.372Z"
   },
   {
    "duration": 0,
    "start_time": "2025-04-01T18:44:52.373Z"
   },
   {
    "duration": 0,
    "start_time": "2025-04-01T18:44:52.374Z"
   },
   {
    "duration": 0,
    "start_time": "2025-04-01T18:44:52.375Z"
   },
   {
    "duration": 0,
    "start_time": "2025-04-01T18:44:52.375Z"
   },
   {
    "duration": 0,
    "start_time": "2025-04-01T18:44:52.376Z"
   },
   {
    "duration": 0,
    "start_time": "2025-04-01T18:44:52.377Z"
   },
   {
    "duration": 174,
    "start_time": "2025-04-01T18:46:13.909Z"
   },
   {
    "duration": 133,
    "start_time": "2025-04-01T18:47:39.954Z"
   },
   {
    "duration": 154,
    "start_time": "2025-04-01T18:49:24.082Z"
   },
   {
    "duration": 75,
    "start_time": "2025-04-01T18:50:30.004Z"
   },
   {
    "duration": 136,
    "start_time": "2025-04-01T18:51:44.046Z"
   },
   {
    "duration": 4358,
    "start_time": "2025-04-01T18:51:53.555Z"
   },
   {
    "duration": 7,
    "start_time": "2025-04-01T18:51:57.915Z"
   },
   {
    "duration": 1066,
    "start_time": "2025-04-01T18:51:57.924Z"
   },
   {
    "duration": 72,
    "start_time": "2025-04-01T18:51:58.993Z"
   },
   {
    "duration": 642,
    "start_time": "2025-04-01T18:51:59.067Z"
   },
   {
    "duration": 488,
    "start_time": "2025-04-01T18:51:59.710Z"
   },
   {
    "duration": 293,
    "start_time": "2025-04-01T18:52:00.200Z"
   },
   {
    "duration": 1077,
    "start_time": "2025-04-01T18:52:00.495Z"
   },
   {
    "duration": 32,
    "start_time": "2025-04-01T18:52:01.574Z"
   },
   {
    "duration": 295,
    "start_time": "2025-04-01T18:52:01.609Z"
   },
   {
    "duration": 152,
    "start_time": "2025-04-01T18:52:01.906Z"
   },
   {
    "duration": 1533,
    "start_time": "2025-04-01T18:52:02.059Z"
   },
   {
    "duration": 4115,
    "start_time": "2025-04-01T18:52:03.594Z"
   },
   {
    "duration": 25,
    "start_time": "2025-04-01T18:52:07.710Z"
   },
   {
    "duration": 34,
    "start_time": "2025-04-01T18:52:07.737Z"
   },
   {
    "duration": 27,
    "start_time": "2025-04-01T18:52:07.772Z"
   },
   {
    "duration": 22,
    "start_time": "2025-04-01T18:52:07.801Z"
   },
   {
    "duration": 38,
    "start_time": "2025-04-01T18:52:07.824Z"
   },
   {
    "duration": 21,
    "start_time": "2025-04-01T18:52:07.864Z"
   },
   {
    "duration": 109,
    "start_time": "2025-04-01T18:52:07.887Z"
   },
   {
    "duration": 137,
    "start_time": "2025-04-01T18:52:07.997Z"
   },
   {
    "duration": 694,
    "start_time": "2025-04-01T18:52:08.135Z"
   },
   {
    "duration": 2117,
    "start_time": "2025-04-01T18:52:08.831Z"
   },
   {
    "duration": 6,
    "start_time": "2025-04-01T18:52:10.949Z"
   },
   {
    "duration": 153599,
    "start_time": "2025-04-01T18:52:10.956Z"
   },
   {
    "duration": 3,
    "start_time": "2025-04-01T18:54:44.556Z"
   },
   {
    "duration": 97,
    "start_time": "2025-04-01T18:54:44.561Z"
   },
   {
    "duration": 13493,
    "start_time": "2025-04-01T18:54:44.663Z"
   },
   {
    "duration": 3,
    "start_time": "2025-04-01T18:54:58.159Z"
   },
   {
    "duration": 98,
    "start_time": "2025-04-01T18:54:58.164Z"
   },
   {
    "duration": 94,
    "start_time": "2025-04-01T18:54:58.264Z"
   },
   {
    "duration": 9215,
    "start_time": "2025-04-01T19:28:22.047Z"
   },
   {
    "duration": 8,
    "start_time": "2025-04-01T19:28:31.264Z"
   },
   {
    "duration": 1167,
    "start_time": "2025-04-01T19:28:31.273Z"
   },
   {
    "duration": 73,
    "start_time": "2025-04-01T19:28:32.446Z"
   },
   {
    "duration": 811,
    "start_time": "2025-04-01T19:28:32.520Z"
   },
   {
    "duration": 615,
    "start_time": "2025-04-01T19:28:33.333Z"
   },
   {
    "duration": 289,
    "start_time": "2025-04-01T19:28:33.950Z"
   },
   {
    "duration": 1090,
    "start_time": "2025-04-01T19:28:34.240Z"
   },
   {
    "duration": 30,
    "start_time": "2025-04-01T19:28:35.331Z"
   },
   {
    "duration": 247,
    "start_time": "2025-04-01T19:28:35.366Z"
   },
   {
    "duration": 149,
    "start_time": "2025-04-01T19:28:35.615Z"
   },
   {
    "duration": 1486,
    "start_time": "2025-04-01T19:28:35.765Z"
   },
   {
    "duration": 4357,
    "start_time": "2025-04-01T19:28:37.252Z"
   },
   {
    "duration": 26,
    "start_time": "2025-04-01T19:28:41.611Z"
   },
   {
    "duration": 23,
    "start_time": "2025-04-01T19:28:41.639Z"
   },
   {
    "duration": 45,
    "start_time": "2025-04-01T19:28:41.664Z"
   },
   {
    "duration": 22,
    "start_time": "2025-04-01T19:28:41.711Z"
   },
   {
    "duration": 22,
    "start_time": "2025-04-01T19:28:41.735Z"
   },
   {
    "duration": 45,
    "start_time": "2025-04-01T19:28:41.759Z"
   },
   {
    "duration": 99,
    "start_time": "2025-04-01T19:28:41.805Z"
   },
   {
    "duration": 132,
    "start_time": "2025-04-01T19:28:41.906Z"
   },
   {
    "duration": 708,
    "start_time": "2025-04-01T19:28:42.040Z"
   },
   {
    "duration": 2837,
    "start_time": "2025-04-01T19:28:42.750Z"
   },
   {
    "duration": 2,
    "start_time": "2025-04-01T19:28:45.589Z"
   },
   {
    "duration": 153916,
    "start_time": "2025-04-01T19:28:45.592Z"
   },
   {
    "duration": 3,
    "start_time": "2025-04-01T19:31:19.511Z"
   },
   {
    "duration": 91,
    "start_time": "2025-04-01T19:31:19.516Z"
   },
   {
    "duration": 13506,
    "start_time": "2025-04-01T19:31:19.703Z"
   },
   {
    "duration": 93,
    "start_time": "2025-04-01T19:31:33.212Z"
   },
   {
    "duration": 99,
    "start_time": "2025-04-01T19:31:33.307Z"
   },
   {
    "duration": 73,
    "start_time": "2025-04-01T19:31:33.408Z"
   },
   {
    "duration": 113259,
    "start_time": "2025-04-01T19:31:33.483Z"
   },
   {
    "duration": 3,
    "start_time": "2025-04-01T19:33:26.744Z"
   },
   {
    "duration": 122120,
    "start_time": "2025-04-01T19:33:26.748Z"
   },
   {
    "duration": 4,
    "start_time": "2025-04-01T19:35:28.871Z"
   },
   {
    "duration": 361,
    "start_time": "2025-04-01T19:35:28.876Z"
   },
   {
    "duration": 2728,
    "start_time": "2025-04-01T19:35:29.239Z"
   },
   {
    "duration": 3,
    "start_time": "2025-04-01T19:35:31.969Z"
   },
   {
    "duration": 9,
    "start_time": "2025-04-01T19:35:31.973Z"
   },
   {
    "duration": 22,
    "start_time": "2025-04-01T19:35:31.983Z"
   },
   {
    "duration": 17298,
    "start_time": "2025-04-01T19:35:32.007Z"
   },
   {
    "duration": 3,
    "start_time": "2025-04-01T19:35:49.307Z"
   },
   {
    "duration": 50900,
    "start_time": "2025-04-01T19:35:49.313Z"
   },
   {
    "duration": 3,
    "start_time": "2025-04-01T19:36:40.214Z"
   },
   {
    "duration": 694,
    "start_time": "2025-04-01T19:36:40.219Z"
   },
   {
    "duration": 4998,
    "start_time": "2025-04-01T19:36:40.915Z"
   },
   {
    "duration": 3,
    "start_time": "2025-04-01T19:36:45.915Z"
   },
   {
    "duration": 89,
    "start_time": "2025-04-01T19:36:45.919Z"
   },
   {
    "duration": 42,
    "start_time": "2025-04-01T19:36:46.009Z"
   },
   {
    "duration": 372,
    "start_time": "2025-04-01T19:36:46.052Z"
   },
   {
    "duration": 704,
    "start_time": "2025-04-01T19:36:46.426Z"
   },
   {
    "duration": 660,
    "start_time": "2025-04-01T19:36:47.132Z"
   }
  ],
  "kernelspec": {
   "display_name": "Python 3 (ipykernel)",
   "language": "python",
   "name": "python3"
  },
  "language_info": {
   "codemirror_mode": {
    "name": "ipython",
    "version": 3
   },
   "file_extension": ".py",
   "mimetype": "text/x-python",
   "name": "python",
   "nbconvert_exporter": "python",
   "pygments_lexer": "ipython3",
   "version": "3.9.5"
  },
  "toc": {
   "base_numbering": 1,
   "nav_menu": {},
   "number_sections": true,
   "sideBar": true,
   "skip_h1_title": true,
   "title_cell": "Table of Contents",
   "title_sidebar": "Contents",
   "toc_cell": false,
   "toc_position": {},
   "toc_section_display": true,
   "toc_window_display": false
  }
 },
 "nbformat": 4,
 "nbformat_minor": 2
}
