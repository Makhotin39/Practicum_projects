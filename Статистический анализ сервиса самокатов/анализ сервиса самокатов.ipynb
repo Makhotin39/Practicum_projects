{
 "cells": [
  {
   "cell_type": "markdown",
   "id": "d5249811",
   "metadata": {},
   "source": [
    "# Исследование работы сервиса GoFast."
   ]
  },
  {
   "cell_type": "markdown",
   "id": "8e042da9",
   "metadata": {},
   "source": [
    "Нам предоставлены три набора данных: о пользователях сервиса, о поездках на самокатах и о подписках. Качество данных  заранее неизвестно. Необходимо будет проанализировать качество данных и объеденить их, чтобы ответить на поставленные ниже вопросы. "
   ]
  },
  {
   "cell_type": "markdown",
   "id": "b5b0932b",
   "metadata": {},
   "source": [
    "**Цели исследования:**"
   ]
  },
  {
   "cell_type": "markdown",
   "id": "1cb832b3",
   "metadata": {},
   "source": [
    "\n",
    "1.) Выявить есть ли разница в приносимой выручке между пользователями с подпиской и без подписки.\n",
    "\n",
    "2.) Есть ли риск понесения дополнительных расходов сервисом от превышения оптимальной границы заезда пользователями. "
   ]
  },
  {
   "cell_type": "markdown",
   "id": "56e0709c",
   "metadata": {},
   "source": [
    "Данные состоят из трёх датафреймов. Приведу их описание. "
   ]
  },
  {
   "cell_type": "markdown",
   "id": "1e867774",
   "metadata": {},
   "source": [
    "Данные о пользователях (users_go.csv):\n",
    "\n",
    "\n",
    "* user_id — уникальный идентификатор пользователя\n",
    "* name — имя пользователя\n",
    "* age — возраст\n",
    "* city — город\n",
    "* subscription_type — тип подписки (free, ultra)"
   ]
  },
  {
   "cell_type": "markdown",
   "id": "478d05e9",
   "metadata": {},
   "source": [
    "Данные о поездках (rides_go.csv):\n",
    "\n",
    "* user_id — уникальный идентификатор пользователя\n",
    "* distance — расстояние, которое пользователь проехал в текущей сессии (в метрах)\n",
    "* duration — продолжительность сессии (в минутах) — время с того момента, как пользователь нажал кнопку «Начать поездку» до момента, как он нажал кнопку «Завершить поездку»\n",
    "* date — дата совершения поездки"
   ]
  },
  {
   "cell_type": "markdown",
   "id": "b93cd597",
   "metadata": {},
   "source": [
    "Данные о тарифах (subscriptions_go.csv):\n",
    "    \n",
    "* subscription_type — тип подписки\n",
    "* minute_price — стоимость одной минуты поездки по данной подписке\n",
    "* start_ride_price — стоимость начала поездки\n",
    "* subscription_fee — стоимость ежемесячного платежа"
   ]
  },
  {
   "cell_type": "markdown",
   "id": "fa896922",
   "metadata": {},
   "source": [
    "Подключим все необходимые для дальнейшей работы библиотеки. "
   ]
  },
  {
   "cell_type": "code",
   "execution_count": 1,
   "id": "72576667",
   "metadata": {},
   "outputs": [],
   "source": [
    "import pandas as pd\n",
    "import matplotlib.pyplot as plt\n",
    "import seaborn as sns\n",
    "import numpy as np\n",
    "from scipy import stats as st\n",
    "from statsmodels.tsa.stattools import adfuller"
   ]
  },
  {
   "cell_type": "markdown",
   "id": "c42cbe00",
   "metadata": {},
   "source": [
    "#### Шаг 1. Загрузка данных"
   ]
  },
  {
   "cell_type": "markdown",
   "id": "7c4a15b8",
   "metadata": {},
   "source": [
    "**Первоначальное знакомство с данными.**"
   ]
  },
  {
   "cell_type": "code",
   "execution_count": 2,
   "id": "eff9f206",
   "metadata": {},
   "outputs": [],
   "source": [
    "users = pd.read_csv('/datasets/users_go.csv')\n",
    "rides_go = pd.read_csv('/datasets/rides_go.csv')\n",
    "subs_go = pd.read_csv('/datasets/subscriptions_go.csv')"
   ]
  },
  {
   "cell_type": "markdown",
   "id": "7777f500",
   "metadata": {},
   "source": [
    "1.) Рассмотрим дата фрейм с данными пользователей. "
   ]
  },
  {
   "cell_type": "code",
   "execution_count": 3,
   "id": "9cfdc58f",
   "metadata": {},
   "outputs": [
    {
     "data": {
      "text/html": [
       "<div>\n",
       "<style scoped>\n",
       "    .dataframe tbody tr th:only-of-type {\n",
       "        vertical-align: middle;\n",
       "    }\n",
       "\n",
       "    .dataframe tbody tr th {\n",
       "        vertical-align: top;\n",
       "    }\n",
       "\n",
       "    .dataframe thead th {\n",
       "        text-align: right;\n",
       "    }\n",
       "</style>\n",
       "<table border=\"1\" class=\"dataframe\">\n",
       "  <thead>\n",
       "    <tr style=\"text-align: right;\">\n",
       "      <th></th>\n",
       "      <th>user_id</th>\n",
       "      <th>name</th>\n",
       "      <th>age</th>\n",
       "      <th>city</th>\n",
       "      <th>subscription_type</th>\n",
       "    </tr>\n",
       "  </thead>\n",
       "  <tbody>\n",
       "    <tr>\n",
       "      <th>0</th>\n",
       "      <td>1</td>\n",
       "      <td>Кира</td>\n",
       "      <td>22</td>\n",
       "      <td>Тюмень</td>\n",
       "      <td>ultra</td>\n",
       "    </tr>\n",
       "    <tr>\n",
       "      <th>1</th>\n",
       "      <td>2</td>\n",
       "      <td>Станислав</td>\n",
       "      <td>31</td>\n",
       "      <td>Омск</td>\n",
       "      <td>ultra</td>\n",
       "    </tr>\n",
       "    <tr>\n",
       "      <th>2</th>\n",
       "      <td>3</td>\n",
       "      <td>Алексей</td>\n",
       "      <td>20</td>\n",
       "      <td>Москва</td>\n",
       "      <td>ultra</td>\n",
       "    </tr>\n",
       "    <tr>\n",
       "      <th>3</th>\n",
       "      <td>4</td>\n",
       "      <td>Константин</td>\n",
       "      <td>26</td>\n",
       "      <td>Ростов-на-Дону</td>\n",
       "      <td>ultra</td>\n",
       "    </tr>\n",
       "    <tr>\n",
       "      <th>4</th>\n",
       "      <td>5</td>\n",
       "      <td>Адель</td>\n",
       "      <td>28</td>\n",
       "      <td>Омск</td>\n",
       "      <td>ultra</td>\n",
       "    </tr>\n",
       "    <tr>\n",
       "      <th>5</th>\n",
       "      <td>6</td>\n",
       "      <td>Регина</td>\n",
       "      <td>25</td>\n",
       "      <td>Краснодар</td>\n",
       "      <td>ultra</td>\n",
       "    </tr>\n",
       "    <tr>\n",
       "      <th>6</th>\n",
       "      <td>7</td>\n",
       "      <td>Игорь</td>\n",
       "      <td>23</td>\n",
       "      <td>Омск</td>\n",
       "      <td>ultra</td>\n",
       "    </tr>\n",
       "    <tr>\n",
       "      <th>7</th>\n",
       "      <td>8</td>\n",
       "      <td>Юрий</td>\n",
       "      <td>23</td>\n",
       "      <td>Краснодар</td>\n",
       "      <td>ultra</td>\n",
       "    </tr>\n",
       "    <tr>\n",
       "      <th>8</th>\n",
       "      <td>9</td>\n",
       "      <td>Ян</td>\n",
       "      <td>21</td>\n",
       "      <td>Пятигорск</td>\n",
       "      <td>ultra</td>\n",
       "    </tr>\n",
       "    <tr>\n",
       "      <th>9</th>\n",
       "      <td>10</td>\n",
       "      <td>Валерий</td>\n",
       "      <td>18</td>\n",
       "      <td>Екатеринбург</td>\n",
       "      <td>ultra</td>\n",
       "    </tr>\n",
       "    <tr>\n",
       "      <th>10</th>\n",
       "      <td>11</td>\n",
       "      <td>Агата</td>\n",
       "      <td>31</td>\n",
       "      <td>Краснодар</td>\n",
       "      <td>ultra</td>\n",
       "    </tr>\n",
       "    <tr>\n",
       "      <th>11</th>\n",
       "      <td>12</td>\n",
       "      <td>Марк</td>\n",
       "      <td>27</td>\n",
       "      <td>Тюмень</td>\n",
       "      <td>ultra</td>\n",
       "    </tr>\n",
       "    <tr>\n",
       "      <th>12</th>\n",
       "      <td>13</td>\n",
       "      <td>Ева</td>\n",
       "      <td>24</td>\n",
       "      <td>Краснодар</td>\n",
       "      <td>ultra</td>\n",
       "    </tr>\n",
       "    <tr>\n",
       "      <th>13</th>\n",
       "      <td>14</td>\n",
       "      <td>Антонина</td>\n",
       "      <td>18</td>\n",
       "      <td>Пятигорск</td>\n",
       "      <td>ultra</td>\n",
       "    </tr>\n",
       "    <tr>\n",
       "      <th>14</th>\n",
       "      <td>15</td>\n",
       "      <td>Валерия</td>\n",
       "      <td>24</td>\n",
       "      <td>Тюмень</td>\n",
       "      <td>ultra</td>\n",
       "    </tr>\n",
       "  </tbody>\n",
       "</table>\n",
       "</div>"
      ],
      "text/plain": [
       "    user_id        name  age            city subscription_type\n",
       "0         1        Кира   22          Тюмень             ultra\n",
       "1         2   Станислав   31            Омск             ultra\n",
       "2         3     Алексей   20          Москва             ultra\n",
       "3         4  Константин   26  Ростов-на-Дону             ultra\n",
       "4         5       Адель   28            Омск             ultra\n",
       "5         6      Регина   25       Краснодар             ultra\n",
       "6         7       Игорь   23            Омск             ultra\n",
       "7         8        Юрий   23       Краснодар             ultra\n",
       "8         9          Ян   21       Пятигорск             ultra\n",
       "9        10     Валерий   18    Екатеринбург             ultra\n",
       "10       11       Агата   31       Краснодар             ultra\n",
       "11       12        Марк   27          Тюмень             ultra\n",
       "12       13         Ева   24       Краснодар             ultra\n",
       "13       14    Антонина   18       Пятигорск             ultra\n",
       "14       15     Валерия   24          Тюмень             ultra"
      ]
     },
     "execution_count": 3,
     "metadata": {},
     "output_type": "execute_result"
    }
   ],
   "source": [
    "users.head(15)"
   ]
  },
  {
   "cell_type": "code",
   "execution_count": 4,
   "id": "77ac0042",
   "metadata": {},
   "outputs": [
    {
     "name": "stdout",
     "output_type": "stream",
     "text": [
      "<class 'pandas.core.frame.DataFrame'>\n",
      "RangeIndex: 1565 entries, 0 to 1564\n",
      "Data columns (total 5 columns):\n",
      " #   Column             Non-Null Count  Dtype \n",
      "---  ------             --------------  ----- \n",
      " 0   user_id            1565 non-null   int64 \n",
      " 1   name               1565 non-null   object\n",
      " 2   age                1565 non-null   int64 \n",
      " 3   city               1565 non-null   object\n",
      " 4   subscription_type  1565 non-null   object\n",
      "dtypes: int64(2), object(3)\n",
      "memory usage: 61.3+ KB\n"
     ]
    }
   ],
   "source": [
    "users.info()"
   ]
  },
  {
   "cell_type": "markdown",
   "id": "bb071278",
   "metadata": {},
   "source": [
    "2.) Рассмотрим дата фрейм с данными по поездкам."
   ]
  },
  {
   "cell_type": "code",
   "execution_count": 5,
   "id": "4eed560d",
   "metadata": {},
   "outputs": [
    {
     "data": {
      "text/html": [
       "<div>\n",
       "<style scoped>\n",
       "    .dataframe tbody tr th:only-of-type {\n",
       "        vertical-align: middle;\n",
       "    }\n",
       "\n",
       "    .dataframe tbody tr th {\n",
       "        vertical-align: top;\n",
       "    }\n",
       "\n",
       "    .dataframe thead th {\n",
       "        text-align: right;\n",
       "    }\n",
       "</style>\n",
       "<table border=\"1\" class=\"dataframe\">\n",
       "  <thead>\n",
       "    <tr style=\"text-align: right;\">\n",
       "      <th></th>\n",
       "      <th>user_id</th>\n",
       "      <th>distance</th>\n",
       "      <th>duration</th>\n",
       "      <th>date</th>\n",
       "    </tr>\n",
       "  </thead>\n",
       "  <tbody>\n",
       "    <tr>\n",
       "      <th>0</th>\n",
       "      <td>1</td>\n",
       "      <td>4409.919140</td>\n",
       "      <td>25.599769</td>\n",
       "      <td>2021-01-01</td>\n",
       "    </tr>\n",
       "    <tr>\n",
       "      <th>1</th>\n",
       "      <td>1</td>\n",
       "      <td>2617.592153</td>\n",
       "      <td>15.816871</td>\n",
       "      <td>2021-01-18</td>\n",
       "    </tr>\n",
       "    <tr>\n",
       "      <th>2</th>\n",
       "      <td>1</td>\n",
       "      <td>754.159807</td>\n",
       "      <td>6.232113</td>\n",
       "      <td>2021-04-20</td>\n",
       "    </tr>\n",
       "    <tr>\n",
       "      <th>3</th>\n",
       "      <td>1</td>\n",
       "      <td>2694.783254</td>\n",
       "      <td>18.511000</td>\n",
       "      <td>2021-08-11</td>\n",
       "    </tr>\n",
       "    <tr>\n",
       "      <th>4</th>\n",
       "      <td>1</td>\n",
       "      <td>4028.687306</td>\n",
       "      <td>26.265803</td>\n",
       "      <td>2021-08-28</td>\n",
       "    </tr>\n",
       "    <tr>\n",
       "      <th>5</th>\n",
       "      <td>1</td>\n",
       "      <td>2770.890808</td>\n",
       "      <td>16.650138</td>\n",
       "      <td>2021-10-09</td>\n",
       "    </tr>\n",
       "    <tr>\n",
       "      <th>6</th>\n",
       "      <td>1</td>\n",
       "      <td>3039.020292</td>\n",
       "      <td>14.927879</td>\n",
       "      <td>2021-10-19</td>\n",
       "    </tr>\n",
       "    <tr>\n",
       "      <th>7</th>\n",
       "      <td>1</td>\n",
       "      <td>2842.118050</td>\n",
       "      <td>23.117468</td>\n",
       "      <td>2021-11-06</td>\n",
       "    </tr>\n",
       "    <tr>\n",
       "      <th>8</th>\n",
       "      <td>1</td>\n",
       "      <td>3412.690668</td>\n",
       "      <td>15.238072</td>\n",
       "      <td>2021-11-14</td>\n",
       "    </tr>\n",
       "    <tr>\n",
       "      <th>9</th>\n",
       "      <td>1</td>\n",
       "      <td>748.690645</td>\n",
       "      <td>15.041884</td>\n",
       "      <td>2021-11-22</td>\n",
       "    </tr>\n",
       "    <tr>\n",
       "      <th>10</th>\n",
       "      <td>1</td>\n",
       "      <td>4031.020195</td>\n",
       "      <td>17.674448</td>\n",
       "      <td>2021-12-14</td>\n",
       "    </tr>\n",
       "    <tr>\n",
       "      <th>11</th>\n",
       "      <td>1</td>\n",
       "      <td>2720.609748</td>\n",
       "      <td>9.529463</td>\n",
       "      <td>2021-12-22</td>\n",
       "    </tr>\n",
       "    <tr>\n",
       "      <th>12</th>\n",
       "      <td>2</td>\n",
       "      <td>3105.086678</td>\n",
       "      <td>24.307514</td>\n",
       "      <td>2021-03-15</td>\n",
       "    </tr>\n",
       "    <tr>\n",
       "      <th>13</th>\n",
       "      <td>2</td>\n",
       "      <td>3053.519401</td>\n",
       "      <td>11.543256</td>\n",
       "      <td>2021-03-18</td>\n",
       "    </tr>\n",
       "    <tr>\n",
       "      <th>14</th>\n",
       "      <td>2</td>\n",
       "      <td>4029.116927</td>\n",
       "      <td>25.109188</td>\n",
       "      <td>2021-03-23</td>\n",
       "    </tr>\n",
       "  </tbody>\n",
       "</table>\n",
       "</div>"
      ],
      "text/plain": [
       "    user_id     distance   duration        date\n",
       "0         1  4409.919140  25.599769  2021-01-01\n",
       "1         1  2617.592153  15.816871  2021-01-18\n",
       "2         1   754.159807   6.232113  2021-04-20\n",
       "3         1  2694.783254  18.511000  2021-08-11\n",
       "4         1  4028.687306  26.265803  2021-08-28\n",
       "5         1  2770.890808  16.650138  2021-10-09\n",
       "6         1  3039.020292  14.927879  2021-10-19\n",
       "7         1  2842.118050  23.117468  2021-11-06\n",
       "8         1  3412.690668  15.238072  2021-11-14\n",
       "9         1   748.690645  15.041884  2021-11-22\n",
       "10        1  4031.020195  17.674448  2021-12-14\n",
       "11        1  2720.609748   9.529463  2021-12-22\n",
       "12        2  3105.086678  24.307514  2021-03-15\n",
       "13        2  3053.519401  11.543256  2021-03-18\n",
       "14        2  4029.116927  25.109188  2021-03-23"
      ]
     },
     "execution_count": 5,
     "metadata": {},
     "output_type": "execute_result"
    }
   ],
   "source": [
    "rides_go.head(15)"
   ]
  },
  {
   "cell_type": "code",
   "execution_count": 6,
   "id": "1a0d04fe",
   "metadata": {},
   "outputs": [
    {
     "name": "stdout",
     "output_type": "stream",
     "text": [
      "<class 'pandas.core.frame.DataFrame'>\n",
      "RangeIndex: 18068 entries, 0 to 18067\n",
      "Data columns (total 4 columns):\n",
      " #   Column    Non-Null Count  Dtype  \n",
      "---  ------    --------------  -----  \n",
      " 0   user_id   18068 non-null  int64  \n",
      " 1   distance  18068 non-null  float64\n",
      " 2   duration  18068 non-null  float64\n",
      " 3   date      18068 non-null  object \n",
      "dtypes: float64(2), int64(1), object(1)\n",
      "memory usage: 564.8+ KB\n"
     ]
    }
   ],
   "source": [
    "rides_go.info()"
   ]
  },
  {
   "cell_type": "markdown",
   "id": "0c2f0728",
   "metadata": {},
   "source": [
    "3.) Рассмотрим дата фрейм с данными по подпискам."
   ]
  },
  {
   "cell_type": "code",
   "execution_count": 7,
   "id": "3c910c8f",
   "metadata": {},
   "outputs": [
    {
     "data": {
      "text/html": [
       "<div>\n",
       "<style scoped>\n",
       "    .dataframe tbody tr th:only-of-type {\n",
       "        vertical-align: middle;\n",
       "    }\n",
       "\n",
       "    .dataframe tbody tr th {\n",
       "        vertical-align: top;\n",
       "    }\n",
       "\n",
       "    .dataframe thead th {\n",
       "        text-align: right;\n",
       "    }\n",
       "</style>\n",
       "<table border=\"1\" class=\"dataframe\">\n",
       "  <thead>\n",
       "    <tr style=\"text-align: right;\">\n",
       "      <th></th>\n",
       "      <th>subscription_type</th>\n",
       "      <th>minute_price</th>\n",
       "      <th>start_ride_price</th>\n",
       "      <th>subscription_fee</th>\n",
       "    </tr>\n",
       "  </thead>\n",
       "  <tbody>\n",
       "    <tr>\n",
       "      <th>0</th>\n",
       "      <td>free</td>\n",
       "      <td>8</td>\n",
       "      <td>50</td>\n",
       "      <td>0</td>\n",
       "    </tr>\n",
       "    <tr>\n",
       "      <th>1</th>\n",
       "      <td>ultra</td>\n",
       "      <td>6</td>\n",
       "      <td>0</td>\n",
       "      <td>199</td>\n",
       "    </tr>\n",
       "  </tbody>\n",
       "</table>\n",
       "</div>"
      ],
      "text/plain": [
       "  subscription_type  minute_price  start_ride_price  subscription_fee\n",
       "0              free             8                50                 0\n",
       "1             ultra             6                 0               199"
      ]
     },
     "execution_count": 7,
     "metadata": {},
     "output_type": "execute_result"
    }
   ],
   "source": [
    "subs_go.head(15)"
   ]
  },
  {
   "cell_type": "code",
   "execution_count": 8,
   "id": "250c1e23",
   "metadata": {},
   "outputs": [
    {
     "name": "stdout",
     "output_type": "stream",
     "text": [
      "<class 'pandas.core.frame.DataFrame'>\n",
      "RangeIndex: 2 entries, 0 to 1\n",
      "Data columns (total 4 columns):\n",
      " #   Column             Non-Null Count  Dtype \n",
      "---  ------             --------------  ----- \n",
      " 0   subscription_type  2 non-null      object\n",
      " 1   minute_price       2 non-null      int64 \n",
      " 2   start_ride_price   2 non-null      int64 \n",
      " 3   subscription_fee   2 non-null      int64 \n",
      "dtypes: int64(3), object(1)\n",
      "memory usage: 192.0+ bytes\n"
     ]
    }
   ],
   "source": [
    "subs_go.info()"
   ]
  },
  {
   "cell_type": "markdown",
   "id": "d11e6e9d",
   "metadata": {},
   "source": [
    "На первый взгляд данные выгледят качественными. Названия колонок выполнены в едином стиле, пропусков, дубликатов и аномальных значений не видно. Нужно только поменять тип данных в колонке date на временной. "
   ]
  },
  {
   "cell_type": "markdown",
   "id": "e95ebca7",
   "metadata": {},
   "source": [
    "#### Шаг 2. Предобработка данных"
   ]
  },
  {
   "cell_type": "markdown",
   "id": "2eea107c",
   "metadata": {},
   "source": [
    "**Выявление наличия столбцов с неверным типом данных, явных дубликатов и пропусков, добавление нового столбца.**"
   ]
  },
  {
   "cell_type": "markdown",
   "id": "145a92ce",
   "metadata": {},
   "source": [
    "1.) Проверим наличие пропусков в данных. "
   ]
  },
  {
   "cell_type": "code",
   "execution_count": 9,
   "id": "09444183",
   "metadata": {},
   "outputs": [
    {
     "data": {
      "text/plain": [
       "user_id              0\n",
       "name                 0\n",
       "age                  0\n",
       "city                 0\n",
       "subscription_type    0\n",
       "dtype: int64"
      ]
     },
     "execution_count": 9,
     "metadata": {},
     "output_type": "execute_result"
    }
   ],
   "source": [
    "users.isnull().sum()"
   ]
  },
  {
   "cell_type": "code",
   "execution_count": 10,
   "id": "84c4a3d3",
   "metadata": {},
   "outputs": [
    {
     "data": {
      "text/plain": [
       "user_id     0\n",
       "distance    0\n",
       "duration    0\n",
       "date        0\n",
       "dtype: int64"
      ]
     },
     "execution_count": 10,
     "metadata": {},
     "output_type": "execute_result"
    }
   ],
   "source": [
    "rides_go.isnull().sum()"
   ]
  },
  {
   "cell_type": "code",
   "execution_count": 11,
   "id": "2fd3852a",
   "metadata": {},
   "outputs": [
    {
     "data": {
      "text/plain": [
       "subscription_type    0\n",
       "minute_price         0\n",
       "start_ride_price     0\n",
       "subscription_fee     0\n",
       "dtype: int64"
      ]
     },
     "execution_count": 11,
     "metadata": {},
     "output_type": "execute_result"
    }
   ],
   "source": [
    "subs_go.isnull().sum()"
   ]
  },
  {
   "cell_type": "markdown",
   "id": "a60a6e4c",
   "metadata": {},
   "source": [
    "Пропусков не обнаружено. "
   ]
  },
  {
   "cell_type": "markdown",
   "id": "50af00a6",
   "metadata": {},
   "source": [
    "2.) Выявление явных дубликатов."
   ]
  },
  {
   "cell_type": "code",
   "execution_count": 12,
   "id": "5751cabb",
   "metadata": {},
   "outputs": [
    {
     "data": {
      "text/plain": [
       "False    1534\n",
       "True       31\n",
       "dtype: int64"
      ]
     },
     "execution_count": 12,
     "metadata": {},
     "output_type": "execute_result"
    }
   ],
   "source": [
    "users.duplicated().value_counts()"
   ]
  },
  {
   "cell_type": "code",
   "execution_count": 13,
   "id": "db91a11d",
   "metadata": {},
   "outputs": [
    {
     "data": {
      "text/plain": [
       "False    18068\n",
       "dtype: int64"
      ]
     },
     "execution_count": 13,
     "metadata": {},
     "output_type": "execute_result"
    }
   ],
   "source": [
    "rides_go.duplicated().value_counts()"
   ]
  },
  {
   "cell_type": "markdown",
   "id": "155999ee",
   "metadata": {},
   "source": [
    "Обнаружены дубликаты в датафрейме пользователей, но так как доля дубликатов всего"
   ]
  },
  {
   "cell_type": "code",
   "execution_count": 14,
   "id": "86cc7c6f",
   "metadata": {},
   "outputs": [
    {
     "name": "stdout",
     "output_type": "stream",
     "text": [
      "Доля дубликатов: 0.019808306709265176\n"
     ]
    }
   ],
   "source": [
    "print('Доля дубликатов:', 31/(1534+31))"
   ]
  },
  {
   "cell_type": "markdown",
   "id": "7e14b813",
   "metadata": {},
   "source": [
    "можно безболезнено удалить дубликаты. "
   ]
  },
  {
   "cell_type": "code",
   "execution_count": 15,
   "id": "19c42723",
   "metadata": {},
   "outputs": [],
   "source": [
    "users.drop_duplicates(inplace=True)\n"
   ]
  },
  {
   "cell_type": "markdown",
   "id": "5d721303",
   "metadata": {},
   "source": [
    "3.) Корректировка типов данных и добавление столбца."
   ]
  },
  {
   "cell_type": "markdown",
   "id": "591c7e17",
   "metadata": {},
   "source": [
    "Видно, что даты во втором дата фрейме имеют неверный тип данных. Приведём его к нужному и проверим результат."
   ]
  },
  {
   "cell_type": "code",
   "execution_count": 16,
   "id": "0b59b5d8",
   "metadata": {},
   "outputs": [
    {
     "name": "stdout",
     "output_type": "stream",
     "text": [
      "<class 'pandas.core.frame.DataFrame'>\n",
      "RangeIndex: 18068 entries, 0 to 18067\n",
      "Data columns (total 4 columns):\n",
      " #   Column    Non-Null Count  Dtype         \n",
      "---  ------    --------------  -----         \n",
      " 0   user_id   18068 non-null  int64         \n",
      " 1   distance  18068 non-null  float64       \n",
      " 2   duration  18068 non-null  float64       \n",
      " 3   date      18068 non-null  datetime64[ns]\n",
      "dtypes: datetime64[ns](1), float64(2), int64(1)\n",
      "memory usage: 564.8 KB\n"
     ]
    }
   ],
   "source": [
    "rides_go['date'] = pd.to_datetime(rides_go['date'], format = '%Y-%m-%dT')\n",
    "rides_go.info()"
   ]
  },
  {
   "cell_type": "markdown",
   "id": "35bebb9e",
   "metadata": {},
   "source": [
    "Добавим столбец с номером месяца и проверим результат. "
   ]
  },
  {
   "cell_type": "code",
   "execution_count": 17,
   "id": "af6d202c",
   "metadata": {},
   "outputs": [
    {
     "data": {
      "text/html": [
       "<div>\n",
       "<style scoped>\n",
       "    .dataframe tbody tr th:only-of-type {\n",
       "        vertical-align: middle;\n",
       "    }\n",
       "\n",
       "    .dataframe tbody tr th {\n",
       "        vertical-align: top;\n",
       "    }\n",
       "\n",
       "    .dataframe thead th {\n",
       "        text-align: right;\n",
       "    }\n",
       "</style>\n",
       "<table border=\"1\" class=\"dataframe\">\n",
       "  <thead>\n",
       "    <tr style=\"text-align: right;\">\n",
       "      <th></th>\n",
       "      <th>user_id</th>\n",
       "      <th>distance</th>\n",
       "      <th>duration</th>\n",
       "      <th>date</th>\n",
       "      <th>month</th>\n",
       "    </tr>\n",
       "  </thead>\n",
       "  <tbody>\n",
       "    <tr>\n",
       "      <th>0</th>\n",
       "      <td>1</td>\n",
       "      <td>4409.919140</td>\n",
       "      <td>25.599769</td>\n",
       "      <td>2021-01-01</td>\n",
       "      <td>1</td>\n",
       "    </tr>\n",
       "    <tr>\n",
       "      <th>1</th>\n",
       "      <td>1</td>\n",
       "      <td>2617.592153</td>\n",
       "      <td>15.816871</td>\n",
       "      <td>2021-01-18</td>\n",
       "      <td>1</td>\n",
       "    </tr>\n",
       "    <tr>\n",
       "      <th>2</th>\n",
       "      <td>1</td>\n",
       "      <td>754.159807</td>\n",
       "      <td>6.232113</td>\n",
       "      <td>2021-04-20</td>\n",
       "      <td>4</td>\n",
       "    </tr>\n",
       "    <tr>\n",
       "      <th>3</th>\n",
       "      <td>1</td>\n",
       "      <td>2694.783254</td>\n",
       "      <td>18.511000</td>\n",
       "      <td>2021-08-11</td>\n",
       "      <td>8</td>\n",
       "    </tr>\n",
       "    <tr>\n",
       "      <th>4</th>\n",
       "      <td>1</td>\n",
       "      <td>4028.687306</td>\n",
       "      <td>26.265803</td>\n",
       "      <td>2021-08-28</td>\n",
       "      <td>8</td>\n",
       "    </tr>\n",
       "    <tr>\n",
       "      <th>5</th>\n",
       "      <td>1</td>\n",
       "      <td>2770.890808</td>\n",
       "      <td>16.650138</td>\n",
       "      <td>2021-10-09</td>\n",
       "      <td>10</td>\n",
       "    </tr>\n",
       "    <tr>\n",
       "      <th>6</th>\n",
       "      <td>1</td>\n",
       "      <td>3039.020292</td>\n",
       "      <td>14.927879</td>\n",
       "      <td>2021-10-19</td>\n",
       "      <td>10</td>\n",
       "    </tr>\n",
       "    <tr>\n",
       "      <th>7</th>\n",
       "      <td>1</td>\n",
       "      <td>2842.118050</td>\n",
       "      <td>23.117468</td>\n",
       "      <td>2021-11-06</td>\n",
       "      <td>11</td>\n",
       "    </tr>\n",
       "    <tr>\n",
       "      <th>8</th>\n",
       "      <td>1</td>\n",
       "      <td>3412.690668</td>\n",
       "      <td>15.238072</td>\n",
       "      <td>2021-11-14</td>\n",
       "      <td>11</td>\n",
       "    </tr>\n",
       "    <tr>\n",
       "      <th>9</th>\n",
       "      <td>1</td>\n",
       "      <td>748.690645</td>\n",
       "      <td>15.041884</td>\n",
       "      <td>2021-11-22</td>\n",
       "      <td>11</td>\n",
       "    </tr>\n",
       "    <tr>\n",
       "      <th>10</th>\n",
       "      <td>1</td>\n",
       "      <td>4031.020195</td>\n",
       "      <td>17.674448</td>\n",
       "      <td>2021-12-14</td>\n",
       "      <td>12</td>\n",
       "    </tr>\n",
       "    <tr>\n",
       "      <th>11</th>\n",
       "      <td>1</td>\n",
       "      <td>2720.609748</td>\n",
       "      <td>9.529463</td>\n",
       "      <td>2021-12-22</td>\n",
       "      <td>12</td>\n",
       "    </tr>\n",
       "    <tr>\n",
       "      <th>12</th>\n",
       "      <td>2</td>\n",
       "      <td>3105.086678</td>\n",
       "      <td>24.307514</td>\n",
       "      <td>2021-03-15</td>\n",
       "      <td>3</td>\n",
       "    </tr>\n",
       "    <tr>\n",
       "      <th>13</th>\n",
       "      <td>2</td>\n",
       "      <td>3053.519401</td>\n",
       "      <td>11.543256</td>\n",
       "      <td>2021-03-18</td>\n",
       "      <td>3</td>\n",
       "    </tr>\n",
       "    <tr>\n",
       "      <th>14</th>\n",
       "      <td>2</td>\n",
       "      <td>4029.116927</td>\n",
       "      <td>25.109188</td>\n",
       "      <td>2021-03-23</td>\n",
       "      <td>3</td>\n",
       "    </tr>\n",
       "  </tbody>\n",
       "</table>\n",
       "</div>"
      ],
      "text/plain": [
       "    user_id     distance   duration       date  month\n",
       "0         1  4409.919140  25.599769 2021-01-01      1\n",
       "1         1  2617.592153  15.816871 2021-01-18      1\n",
       "2         1   754.159807   6.232113 2021-04-20      4\n",
       "3         1  2694.783254  18.511000 2021-08-11      8\n",
       "4         1  4028.687306  26.265803 2021-08-28      8\n",
       "5         1  2770.890808  16.650138 2021-10-09     10\n",
       "6         1  3039.020292  14.927879 2021-10-19     10\n",
       "7         1  2842.118050  23.117468 2021-11-06     11\n",
       "8         1  3412.690668  15.238072 2021-11-14     11\n",
       "9         1   748.690645  15.041884 2021-11-22     11\n",
       "10        1  4031.020195  17.674448 2021-12-14     12\n",
       "11        1  2720.609748   9.529463 2021-12-22     12\n",
       "12        2  3105.086678  24.307514 2021-03-15      3\n",
       "13        2  3053.519401  11.543256 2021-03-18      3\n",
       "14        2  4029.116927  25.109188 2021-03-23      3"
      ]
     },
     "execution_count": 17,
     "metadata": {},
     "output_type": "execute_result"
    }
   ],
   "source": [
    "rides_go['month'] = rides_go['date'].dt.month\n",
    "rides_go.head(15)"
   ]
  },
  {
   "cell_type": "markdown",
   "id": "3c0ef0c4",
   "metadata": {},
   "source": [
    "**Вывод:**\n",
    "\n",
    "Исходные данные предоставлены в достаточно высоком качестве. Требовалось лишь заменить тип данных на временной и удалить небольшое количество дубликатов. "
   ]
  },
  {
   "cell_type": "markdown",
   "id": "212593c7",
   "metadata": {},
   "source": [
    "#### Шаг 3. Исследовательский анализ данных"
   ]
  },
  {
   "cell_type": "markdown",
   "id": "e595b0d3",
   "metadata": {},
   "source": [
    "1.) Рассмотрим дата фрейм с данными пользователей. "
   ]
  },
  {
   "cell_type": "markdown",
   "id": "1dd2ad29",
   "metadata": {},
   "source": [
    "Визуализируем данные и рассмотрим статистические показатели. "
   ]
  },
  {
   "cell_type": "code",
   "execution_count": 18,
   "id": "3204afb9",
   "metadata": {},
   "outputs": [
    {
     "data": {
      "image/png": "[encoded data removed]",
      "text/plain": [
       "<Figure size 720x360 with 1 Axes>"
      ]
     },
     "metadata": {
      "needs_background": "light"
     },
     "output_type": "display_data"
    }
   ],
   "source": [
    "users['age'].value_counts(sort = False).plot(kind = 'bar', figsize = (10,5))\n",
    "plt.xlabel('Возраст')\n",
    "plt.ylabel('Представителей возрастной группы')\n",
    "plt.title('Распределение пользователей по возрастам')\n",
    "plt.show()"
   ]
  },
  {
   "cell_type": "code",
   "execution_count": 19,
   "id": "d39d166f",
   "metadata": {},
   "outputs": [
    {
     "data": {
      "text/plain": [
       "count    1534.000000\n",
       "mean       24.903520\n",
       "std         4.572367\n",
       "min        12.000000\n",
       "25%        22.000000\n",
       "50%        25.000000\n",
       "75%        28.000000\n",
       "max        43.000000\n",
       "Name: age, dtype: float64"
      ]
     },
     "execution_count": 19,
     "metadata": {},
     "output_type": "execute_result"
    }
   ],
   "source": [
    "users['age'].describe()"
   ]
  },
  {
   "cell_type": "code",
   "execution_count": 20,
   "id": "a85884ee",
   "metadata": {},
   "outputs": [
    {
     "data": {
      "text/plain": [
       "Text(0.5, 1.0, 'Диаграмма размаха возраста')"
      ]
     },
     "execution_count": 20,
     "metadata": {},
     "output_type": "execute_result"
    },
    {
     "data": {
      "image/png": "[encoded data removed]",
      "text/plain": [
       "<Figure size 720x360 with 1 Axes>"
      ]
     },
     "metadata": {
      "needs_background": "light"
     },
     "output_type": "display_data"
    }
   ],
   "source": [
    "users.boxplot(column = 'age',figsize = (10,5))\n",
    "plt.title('Диаграмма размаха возраста')"
   ]
  },
  {
   "cell_type": "code",
   "execution_count": 21,
   "id": "2190458c",
   "metadata": {},
   "outputs": [
    {
     "data": {
      "image/png": "[encoded data removed]",
      "text/plain": [
       "<Figure size 720x720 with 1 Axes>"
      ]
     },
     "metadata": {},
     "output_type": "display_data"
    }
   ],
   "source": [
    "users['city'].value_counts().plot(kind = 'pie', autopct = '%1.0f%%', figsize=(10,10))\n",
    "plt.title('Относительное распределение пользователей по городам')\n",
    "plt.show()"
   ]
  },
  {
   "cell_type": "markdown",
   "id": "6ebd6421",
   "metadata": {},
   "source": [
    "Рассмотрим абсолютные значения пользователей по городам."
   ]
  },
  {
   "cell_type": "code",
   "execution_count": 22,
   "id": "e818ff04",
   "metadata": {},
   "outputs": [
    {
     "data": {
      "text/plain": [
       "Пятигорск         219\n",
       "Екатеринбург      204\n",
       "Ростов-на-Дону    198\n",
       "Краснодар         193\n",
       "Сочи              189\n",
       "Омск              183\n",
       "Тюмень            180\n",
       "Москва            168\n",
       "Name: city, dtype: int64"
      ]
     },
     "execution_count": 22,
     "metadata": {},
     "output_type": "execute_result"
    }
   ],
   "source": [
    "users_city= users['city'].value_counts()\n",
    "users_city"
   ]
  },
  {
   "cell_type": "code",
   "execution_count": 23,
   "id": "1ee72095",
   "metadata": {},
   "outputs": [
    {
     "data": {
      "text/plain": [
       "Text(0.5, 1.0, 'Распределение пользователей по городам')"
      ]
     },
     "execution_count": 23,
     "metadata": {},
     "output_type": "execute_result"
    },
    {
     "data": {
      "image/png": "[encoded data removed]",
      "text/plain": [
       "<Figure size 720x360 with 1 Axes>"
      ]
     },
     "metadata": {
      "needs_background": "light"
     },
     "output_type": "display_data"
    }
   ],
   "source": [
    "users_city.plot(kind = 'bar', figsize = (10,5))\n",
    "plt.xlabel('Города')\n",
    "plt.ylabel('К-во пользователей')\n",
    "plt.title('Распределение пользователей по городам')"
   ]
  },
  {
   "cell_type": "code",
   "execution_count": 24,
   "id": "1d8959a6",
   "metadata": {},
   "outputs": [
    {
     "data": {
      "image/png": "[encoded data removed]",
      "text/plain": [
       "<Figure size 720x720 with 1 Axes>"
      ]
     },
     "metadata": {},
     "output_type": "display_data"
    }
   ],
   "source": [
    "users['subscription_type'].value_counts().plot(kind = 'pie', figsize = (10,10), autopct = '%1.0f%%')\n",
    "plt.title(\"Распределение пользователей по типу подписки\")\n",
    "plt.show()"
   ]
  },
  {
   "cell_type": "markdown",
   "id": "3f1e664d",
   "metadata": {},
   "source": [
    "Рассмотрим абсолютные значения пользователей с подпиской и без. "
   ]
  },
  {
   "cell_type": "code",
   "execution_count": 25,
   "id": "fd7ae0c2",
   "metadata": {},
   "outputs": [
    {
     "data": {
      "text/plain": [
       "free     835\n",
       "ultra    699\n",
       "Name: subscription_type, dtype: int64"
      ]
     },
     "execution_count": 25,
     "metadata": {},
     "output_type": "execute_result"
    }
   ],
   "source": [
    "users_type_subs= users['subscription_type'].value_counts()\n",
    "users_type_subs"
   ]
  },
  {
   "cell_type": "code",
   "execution_count": 26,
   "id": "32cf9788",
   "metadata": {},
   "outputs": [
    {
     "data": {
      "text/plain": [
       "Text(0, 0.5, 'Количество пользователей')"
      ]
     },
     "execution_count": 26,
     "metadata": {},
     "output_type": "execute_result"
    },
    {
     "data": {
      "image/png": "[encoded data removed]",
      "text/plain": [
       "<Figure size 720x360 with 1 Axes>"
      ]
     },
     "metadata": {
      "needs_background": "light"
     },
     "output_type": "display_data"
    }
   ],
   "source": [
    "users_type_subs.plot(kind = 'bar', figsize = (10,5))\n",
    "plt.title('Распределение пользователей по типу подписки')\n",
    "plt.ylabel('Количество пользователей')"
   ]
  },
  {
   "cell_type": "markdown",
   "id": "89d03233",
   "metadata": {},
   "source": [
    "Выводы о пользователях:\n",
    "* Пользователи почти равномерно распределены между городами. В Пятигорске их больше всего, а в Москве меньше всего.\n",
    "* Подавляющее число пользователей имеет возраст от 20 до 30 лет. Больше всего 25-летних пользователей. Самым молодым пользователям 12, а самым старшим 43. \n",
    "* Больше пользователей без подписки, их на 4% больше. "
   ]
  },
  {
   "cell_type": "markdown",
   "id": "1ec6c24e",
   "metadata": {},
   "source": [
    "2.) Рассмотрим дата фрейм с данными по поездкам."
   ]
  },
  {
   "cell_type": "markdown",
   "id": "605c0e3d",
   "metadata": {},
   "source": [
    "Визуализируем данные и рассмотрим статистические показатели. "
   ]
  },
  {
   "cell_type": "code",
   "execution_count": 27,
   "id": "d85f79f9",
   "metadata": {},
   "outputs": [
    {
     "data": {
      "image/png": "[encoded data removed]",
      "text/plain": [
       "<Figure size 720x360 with 1 Axes>"
      ]
     },
     "metadata": {
      "needs_background": "light"
     },
     "output_type": "display_data"
    }
   ],
   "source": [
    "rides_go['distance'].hist(bins = 15, figsize = (10, 5))\n",
    "plt.xlabel('Дистанция')\n",
    "plt.ylabel('Число пользователей с данной дистанцией поездки')\n",
    "plt.show()"
   ]
  },
  {
   "cell_type": "code",
   "execution_count": 28,
   "id": "efbdc56a",
   "metadata": {},
   "outputs": [
    {
     "data": {
      "text/plain": [
       "count    18068.000000\n",
       "mean      3070.659976\n",
       "std       1116.831209\n",
       "min          0.855683\n",
       "25%       2543.226360\n",
       "50%       3133.609994\n",
       "75%       3776.222735\n",
       "max       7211.007745\n",
       "Name: distance, dtype: float64"
      ]
     },
     "execution_count": 28,
     "metadata": {},
     "output_type": "execute_result"
    }
   ],
   "source": [
    "rides_go['distance'].describe()"
   ]
  },
  {
   "cell_type": "code",
   "execution_count": 29,
   "id": "fb16f808",
   "metadata": {},
   "outputs": [
    {
     "data": {
      "image/png": "[encoded data removed]",
      "text/plain": [
       "<Figure size 720x360 with 1 Axes>"
      ]
     },
     "metadata": {
      "needs_background": "light"
     },
     "output_type": "display_data"
    }
   ],
   "source": [
    "rides_go['duration'].hist(bins = 15, figsize = (10, 5))\n",
    "plt.xlabel('Продолжительность поездки')\n",
    "plt.ylabel('Число пользователей с данной продолжительностью')\n",
    "plt.show()"
   ]
  },
  {
   "cell_type": "code",
   "execution_count": 30,
   "id": "a25b4f79",
   "metadata": {},
   "outputs": [
    {
     "data": {
      "text/plain": [
       "count    18068.000000\n",
       "mean        17.805011\n",
       "std          6.091051\n",
       "min          0.500000\n",
       "25%         13.597563\n",
       "50%         17.678395\n",
       "75%         21.724800\n",
       "max         40.823963\n",
       "Name: duration, dtype: float64"
      ]
     },
     "execution_count": 30,
     "metadata": {},
     "output_type": "execute_result"
    }
   ],
   "source": [
    "rides_go['duration'].describe()"
   ]
  },
  {
   "cell_type": "markdown",
   "id": "1b082156",
   "metadata": {},
   "source": [
    "Узнаем какое количество раз пользователи прибегают к услугами самоката. Для этого сначала выясним какой промежуток времени нам дан. "
   ]
  },
  {
   "cell_type": "code",
   "execution_count": 31,
   "id": "26a1b3a7",
   "metadata": {},
   "outputs": [
    {
     "data": {
      "text/plain": [
       "array([2021])"
      ]
     },
     "execution_count": 31,
     "metadata": {},
     "output_type": "execute_result"
    }
   ],
   "source": [
    "rides_go['date'].dt.year.unique()"
   ]
  },
  {
   "cell_type": "markdown",
   "id": "21691f19",
   "metadata": {},
   "source": [
    "Визуализируем количество поездок, которые совершались пользователями за 2021 год. Выведем статистические данные. "
   ]
  },
  {
   "cell_type": "code",
   "execution_count": 32,
   "id": "18bc0492",
   "metadata": {},
   "outputs": [
    {
     "data": {
      "text/plain": [
       "Text(0, 0.5, 'Количество пользователей с данными количеством поездок')"
      ]
     },
     "execution_count": 32,
     "metadata": {},
     "output_type": "execute_result"
    },
    {
     "data": {
      "image/png": "[encoded data removed]",
      "text/plain": [
       "<Figure size 720x360 with 1 Axes>"
      ]
     },
     "metadata": {
      "needs_background": "light"
     },
     "output_type": "display_data"
    }
   ],
   "source": [
    "number_trips = rides_go.groupby('user_id').count()['distance'].value_counts().sort_index()\n",
    "number_trips.plot(kind = 'bar', figsize = (10,5))\n",
    "plt.xlabel(\"Поездок за год\")  \n",
    "plt.ylabel(\"Количество пользователей с данными количеством поездок\")  "
   ]
  },
  {
   "cell_type": "code",
   "execution_count": 33,
   "id": "e7f11da2",
   "metadata": {},
   "outputs": [
    {
     "data": {
      "text/plain": [
       "count     25.000000\n",
       "mean      61.360000\n",
       "std       52.286773\n",
       "min        1.000000\n",
       "25%       14.000000\n",
       "50%       54.000000\n",
       "75%      109.000000\n",
       "max      162.000000\n",
       "Name: distance, dtype: float64"
      ]
     },
     "execution_count": 33,
     "metadata": {},
     "output_type": "execute_result"
    }
   ],
   "source": [
    "number_trips.describe()"
   ]
  },
  {
   "cell_type": "markdown",
   "id": "97a23d0e",
   "metadata": {},
   "source": [
    "Выводы о поездках:\n",
    "* В основном пользователи проезжают от 2,5 до 3,7 километров. Самая короткая поездка - меньше 1 метра, а самая длинная - чуть больше 7 километров. \n",
    "* В основном люди тратят от 13 до 20 минут на дорогу. Самая длительная поездка длилась 40 минут, а самая короткая менее минуты. с учетом предыдущих данных о расстояниях, можно предположить, что это тот же пользователь, и он скорее всего просто передумал ехать на самокате. \n",
    "* В основном пользователи ездят от 14 до 109 раз в год. Самой большое зафиксированное количество поездок у пользователя за 2021 год - 162 поездки. "
   ]
  },
  {
   "cell_type": "markdown",
   "id": "85fcb181",
   "metadata": {},
   "source": [
    "3.) Рассмотрим дата фрейм с данными по подпискам."
   ]
  },
  {
   "cell_type": "code",
   "execution_count": 34,
   "id": "988e43f1",
   "metadata": {},
   "outputs": [
    {
     "data": {
      "text/html": [
       "<div>\n",
       "<style scoped>\n",
       "    .dataframe tbody tr th:only-of-type {\n",
       "        vertical-align: middle;\n",
       "    }\n",
       "\n",
       "    .dataframe tbody tr th {\n",
       "        vertical-align: top;\n",
       "    }\n",
       "\n",
       "    .dataframe thead th {\n",
       "        text-align: right;\n",
       "    }\n",
       "</style>\n",
       "<table border=\"1\" class=\"dataframe\">\n",
       "  <thead>\n",
       "    <tr style=\"text-align: right;\">\n",
       "      <th></th>\n",
       "      <th>subscription_type</th>\n",
       "      <th>minute_price</th>\n",
       "      <th>start_ride_price</th>\n",
       "      <th>subscription_fee</th>\n",
       "    </tr>\n",
       "  </thead>\n",
       "  <tbody>\n",
       "    <tr>\n",
       "      <th>0</th>\n",
       "      <td>free</td>\n",
       "      <td>8</td>\n",
       "      <td>50</td>\n",
       "      <td>0</td>\n",
       "    </tr>\n",
       "    <tr>\n",
       "      <th>1</th>\n",
       "      <td>ultra</td>\n",
       "      <td>6</td>\n",
       "      <td>0</td>\n",
       "      <td>199</td>\n",
       "    </tr>\n",
       "  </tbody>\n",
       "</table>\n",
       "</div>"
      ],
      "text/plain": [
       "  subscription_type  minute_price  start_ride_price  subscription_fee\n",
       "0              free             8                50                 0\n",
       "1             ultra             6                 0               199"
      ]
     },
     "execution_count": 34,
     "metadata": {},
     "output_type": "execute_result"
    }
   ],
   "source": [
    "subs_go"
   ]
  },
  {
   "cell_type": "markdown",
   "id": "bf77bbbe",
   "metadata": {},
   "source": [
    "Выводы о подписке:\n",
    "* Очевидно, что покупка подписки будет выгоднее тем, кто ездит долго и/или часто. Решение простейшего неравенства"
   ]
  },
  {
   "cell_type": "markdown",
   "id": "f2c5beb3",
   "metadata": {},
   "source": [
    "$6x+199>8x+50y$"
   ]
  },
  {
   "cell_type": "markdown",
   "id": "61f096a4",
   "metadata": {},
   "source": [
    "в неотрицательных числах показывает, что область выгодности отсуствия подписки очень мала и приблизительно ограничена прямой с точками (0,4) и (100,0), где первая координата - количество затраченных минут на поездки, а вторая - количество поездок. "
   ]
  },
  {
   "cell_type": "markdown",
   "id": "d6e57836",
   "metadata": {},
   "source": [
    "Дальнейших анализ проведём после объединения данных и подсчёта выручки. "
   ]
  },
  {
   "cell_type": "markdown",
   "id": "4ef51331",
   "metadata": {},
   "source": [
    "#### Шаг 4. Объединение данных"
   ]
  },
  {
   "cell_type": "markdown",
   "id": "99b4c963",
   "metadata": {},
   "source": [
    "Предворительно подготовленные функции для анализа временной составляющей данных:"
   ]
  },
  {
   "cell_type": "code",
   "execution_count": 35,
   "id": "c78e3cad",
   "metadata": {},
   "outputs": [],
   "source": [
    "def analysis_time(df):\n",
    "    plt.figure(figsize=(15, 8))\n",
    "    df.plot( \n",
    "    linewidth=2,\n",
    "    marker='o',\n",
    "    markersize=4,\n",
    "    linestyle='-')\n",
    "    \n",
    "\n",
    "def adf_test(series):\n",
    "    result = adfuller(series.dropna())\n",
    "    print(f'ADF Statistic: {result[0]}')\n",
    "    print(f'p-value: {result[1]}')\n",
    "    print(f'Critical Values: {result[4]}')"
   ]
  },
  {
   "cell_type": "markdown",
   "id": "16763525",
   "metadata": {},
   "source": [
    "\n",
    "Проверим размеры датасетов до объединения: "
   ]
  },
  {
   "cell_type": "code",
   "execution_count": 36,
   "id": "11ffae6a",
   "metadata": {},
   "outputs": [
    {
     "name": "stdout",
     "output_type": "stream",
     "text": [
      "Размер таблицы с данными с пользователях: (1534, 5)\n"
     ]
    }
   ],
   "source": [
    "print('Размер таблицы с данными с пользователях:', users.shape)\n"
   ]
  },
  {
   "cell_type": "code",
   "execution_count": 37,
   "id": "fc91ace6",
   "metadata": {},
   "outputs": [
    {
     "name": "stdout",
     "output_type": "stream",
     "text": [
      "Размер таблицы данными о поездках: (18068, 5)\n"
     ]
    }
   ],
   "source": [
    "print('Размер таблицы данными о поездках:', rides_go.shape)"
   ]
  },
  {
   "cell_type": "code",
   "execution_count": 38,
   "id": "30cd3502",
   "metadata": {},
   "outputs": [
    {
     "name": "stdout",
     "output_type": "stream",
     "text": [
      "Размер таблицы данными о подписках: (2, 4)\n"
     ]
    }
   ],
   "source": [
    "print('Размер таблицы данными о подписках:', subs_go.shape)\n"
   ]
  },
  {
   "cell_type": "markdown",
   "id": "63cb5d66",
   "metadata": {},
   "source": [
    "\n",
    "Столбцов должно получиться 12, так как есть два совпадения столбцов: в таблицах два раза упоминается id и тип подписки. Таким образом $14-2=12$. Строк должно быть 18068, то есть каждая строка - зарегистрованная поездка пользователя на самокате. "
   ]
  },
  {
   "cell_type": "markdown",
   "id": "e9c905fb",
   "metadata": {},
   "source": [
    "Объединим данные о пользователях, поездках и подписках в один датафрейм. Сверим теоретическую и фактическую размерность объединённого датафрейма. "
   ]
  },
  {
   "cell_type": "code",
   "execution_count": 39,
   "id": "6bf288b5",
   "metadata": {},
   "outputs": [
    {
     "data": {
      "text/html": [
       "<div>\n",
       "<style scoped>\n",
       "    .dataframe tbody tr th:only-of-type {\n",
       "        vertical-align: middle;\n",
       "    }\n",
       "\n",
       "    .dataframe tbody tr th {\n",
       "        vertical-align: top;\n",
       "    }\n",
       "\n",
       "    .dataframe thead th {\n",
       "        text-align: right;\n",
       "    }\n",
       "</style>\n",
       "<table border=\"1\" class=\"dataframe\">\n",
       "  <thead>\n",
       "    <tr style=\"text-align: right;\">\n",
       "      <th></th>\n",
       "      <th>user_id</th>\n",
       "      <th>name</th>\n",
       "      <th>age</th>\n",
       "      <th>city</th>\n",
       "      <th>subscription_type</th>\n",
       "      <th>distance</th>\n",
       "      <th>duration</th>\n",
       "      <th>date</th>\n",
       "      <th>month</th>\n",
       "      <th>minute_price</th>\n",
       "      <th>start_ride_price</th>\n",
       "      <th>subscription_fee</th>\n",
       "    </tr>\n",
       "  </thead>\n",
       "  <tbody>\n",
       "    <tr>\n",
       "      <th>0</th>\n",
       "      <td>1</td>\n",
       "      <td>Кира</td>\n",
       "      <td>22</td>\n",
       "      <td>Тюмень</td>\n",
       "      <td>ultra</td>\n",
       "      <td>4409.919140</td>\n",
       "      <td>25.599769</td>\n",
       "      <td>2021-01-01</td>\n",
       "      <td>1</td>\n",
       "      <td>6</td>\n",
       "      <td>0</td>\n",
       "      <td>199</td>\n",
       "    </tr>\n",
       "    <tr>\n",
       "      <th>1</th>\n",
       "      <td>1</td>\n",
       "      <td>Кира</td>\n",
       "      <td>22</td>\n",
       "      <td>Тюмень</td>\n",
       "      <td>ultra</td>\n",
       "      <td>2617.592153</td>\n",
       "      <td>15.816871</td>\n",
       "      <td>2021-01-18</td>\n",
       "      <td>1</td>\n",
       "      <td>6</td>\n",
       "      <td>0</td>\n",
       "      <td>199</td>\n",
       "    </tr>\n",
       "    <tr>\n",
       "      <th>2</th>\n",
       "      <td>1</td>\n",
       "      <td>Кира</td>\n",
       "      <td>22</td>\n",
       "      <td>Тюмень</td>\n",
       "      <td>ultra</td>\n",
       "      <td>754.159807</td>\n",
       "      <td>6.232113</td>\n",
       "      <td>2021-04-20</td>\n",
       "      <td>4</td>\n",
       "      <td>6</td>\n",
       "      <td>0</td>\n",
       "      <td>199</td>\n",
       "    </tr>\n",
       "    <tr>\n",
       "      <th>3</th>\n",
       "      <td>1</td>\n",
       "      <td>Кира</td>\n",
       "      <td>22</td>\n",
       "      <td>Тюмень</td>\n",
       "      <td>ultra</td>\n",
       "      <td>2694.783254</td>\n",
       "      <td>18.511000</td>\n",
       "      <td>2021-08-11</td>\n",
       "      <td>8</td>\n",
       "      <td>6</td>\n",
       "      <td>0</td>\n",
       "      <td>199</td>\n",
       "    </tr>\n",
       "    <tr>\n",
       "      <th>4</th>\n",
       "      <td>1</td>\n",
       "      <td>Кира</td>\n",
       "      <td>22</td>\n",
       "      <td>Тюмень</td>\n",
       "      <td>ultra</td>\n",
       "      <td>4028.687306</td>\n",
       "      <td>26.265803</td>\n",
       "      <td>2021-08-28</td>\n",
       "      <td>8</td>\n",
       "      <td>6</td>\n",
       "      <td>0</td>\n",
       "      <td>199</td>\n",
       "    </tr>\n",
       "    <tr>\n",
       "      <th>5</th>\n",
       "      <td>1</td>\n",
       "      <td>Кира</td>\n",
       "      <td>22</td>\n",
       "      <td>Тюмень</td>\n",
       "      <td>ultra</td>\n",
       "      <td>2770.890808</td>\n",
       "      <td>16.650138</td>\n",
       "      <td>2021-10-09</td>\n",
       "      <td>10</td>\n",
       "      <td>6</td>\n",
       "      <td>0</td>\n",
       "      <td>199</td>\n",
       "    </tr>\n",
       "    <tr>\n",
       "      <th>6</th>\n",
       "      <td>1</td>\n",
       "      <td>Кира</td>\n",
       "      <td>22</td>\n",
       "      <td>Тюмень</td>\n",
       "      <td>ultra</td>\n",
       "      <td>3039.020292</td>\n",
       "      <td>14.927879</td>\n",
       "      <td>2021-10-19</td>\n",
       "      <td>10</td>\n",
       "      <td>6</td>\n",
       "      <td>0</td>\n",
       "      <td>199</td>\n",
       "    </tr>\n",
       "    <tr>\n",
       "      <th>7</th>\n",
       "      <td>1</td>\n",
       "      <td>Кира</td>\n",
       "      <td>22</td>\n",
       "      <td>Тюмень</td>\n",
       "      <td>ultra</td>\n",
       "      <td>2842.118050</td>\n",
       "      <td>23.117468</td>\n",
       "      <td>2021-11-06</td>\n",
       "      <td>11</td>\n",
       "      <td>6</td>\n",
       "      <td>0</td>\n",
       "      <td>199</td>\n",
       "    </tr>\n",
       "    <tr>\n",
       "      <th>8</th>\n",
       "      <td>1</td>\n",
       "      <td>Кира</td>\n",
       "      <td>22</td>\n",
       "      <td>Тюмень</td>\n",
       "      <td>ultra</td>\n",
       "      <td>3412.690668</td>\n",
       "      <td>15.238072</td>\n",
       "      <td>2021-11-14</td>\n",
       "      <td>11</td>\n",
       "      <td>6</td>\n",
       "      <td>0</td>\n",
       "      <td>199</td>\n",
       "    </tr>\n",
       "    <tr>\n",
       "      <th>9</th>\n",
       "      <td>1</td>\n",
       "      <td>Кира</td>\n",
       "      <td>22</td>\n",
       "      <td>Тюмень</td>\n",
       "      <td>ultra</td>\n",
       "      <td>748.690645</td>\n",
       "      <td>15.041884</td>\n",
       "      <td>2021-11-22</td>\n",
       "      <td>11</td>\n",
       "      <td>6</td>\n",
       "      <td>0</td>\n",
       "      <td>199</td>\n",
       "    </tr>\n",
       "  </tbody>\n",
       "</table>\n",
       "</div>"
      ],
      "text/plain": [
       "   user_id  name  age    city subscription_type     distance   duration  \\\n",
       "0        1  Кира   22  Тюмень             ultra  4409.919140  25.599769   \n",
       "1        1  Кира   22  Тюмень             ultra  2617.592153  15.816871   \n",
       "2        1  Кира   22  Тюмень             ultra   754.159807   6.232113   \n",
       "3        1  Кира   22  Тюмень             ultra  2694.783254  18.511000   \n",
       "4        1  Кира   22  Тюмень             ultra  4028.687306  26.265803   \n",
       "5        1  Кира   22  Тюмень             ultra  2770.890808  16.650138   \n",
       "6        1  Кира   22  Тюмень             ultra  3039.020292  14.927879   \n",
       "7        1  Кира   22  Тюмень             ultra  2842.118050  23.117468   \n",
       "8        1  Кира   22  Тюмень             ultra  3412.690668  15.238072   \n",
       "9        1  Кира   22  Тюмень             ultra   748.690645  15.041884   \n",
       "\n",
       "        date  month  minute_price  start_ride_price  subscription_fee  \n",
       "0 2021-01-01      1             6                 0               199  \n",
       "1 2021-01-18      1             6                 0               199  \n",
       "2 2021-04-20      4             6                 0               199  \n",
       "3 2021-08-11      8             6                 0               199  \n",
       "4 2021-08-28      8             6                 0               199  \n",
       "5 2021-10-09     10             6                 0               199  \n",
       "6 2021-10-19     10             6                 0               199  \n",
       "7 2021-11-06     11             6                 0               199  \n",
       "8 2021-11-14     11             6                 0               199  \n",
       "9 2021-11-22     11             6                 0               199  "
      ]
     },
     "execution_count": 39,
     "metadata": {},
     "output_type": "execute_result"
    }
   ],
   "source": [
    "full_data = users.merge(rides_go, how='outer')\n",
    "full_data = full_data.merge(subs_go, how='outer')\n",
    "full_data.head(10)\n"
   ]
  },
  {
   "cell_type": "markdown",
   "id": "929fa8b2",
   "metadata": {},
   "source": [
    "Теоретическая размерность объединённого датафрейма совпала с фактическим. "
   ]
  },
  {
   "cell_type": "markdown",
   "id": "e816776d",
   "metadata": {},
   "source": [
    "Создадим датафрейм с данными о пользователях без подписки. "
   ]
  },
  {
   "cell_type": "code",
   "execution_count": 40,
   "id": "73af13aa",
   "metadata": {},
   "outputs": [
    {
     "data": {
      "text/html": [
       "<div>\n",
       "<style scoped>\n",
       "    .dataframe tbody tr th:only-of-type {\n",
       "        vertical-align: middle;\n",
       "    }\n",
       "\n",
       "    .dataframe tbody tr th {\n",
       "        vertical-align: top;\n",
       "    }\n",
       "\n",
       "    .dataframe thead th {\n",
       "        text-align: right;\n",
       "    }\n",
       "</style>\n",
       "<table border=\"1\" class=\"dataframe\">\n",
       "  <thead>\n",
       "    <tr style=\"text-align: right;\">\n",
       "      <th></th>\n",
       "      <th>user_id</th>\n",
       "      <th>name</th>\n",
       "      <th>age</th>\n",
       "      <th>city</th>\n",
       "      <th>subscription_type</th>\n",
       "      <th>distance</th>\n",
       "      <th>duration</th>\n",
       "      <th>date</th>\n",
       "      <th>month</th>\n",
       "      <th>minute_price</th>\n",
       "      <th>start_ride_price</th>\n",
       "      <th>subscription_fee</th>\n",
       "    </tr>\n",
       "  </thead>\n",
       "  <tbody>\n",
       "    <tr>\n",
       "      <th>6500</th>\n",
       "      <td>700</td>\n",
       "      <td>Айдар</td>\n",
       "      <td>22</td>\n",
       "      <td>Омск</td>\n",
       "      <td>free</td>\n",
       "      <td>2515.690719</td>\n",
       "      <td>14.944286</td>\n",
       "      <td>2021-01-02</td>\n",
       "      <td>1</td>\n",
       "      <td>8</td>\n",
       "      <td>50</td>\n",
       "      <td>0</td>\n",
       "    </tr>\n",
       "    <tr>\n",
       "      <th>6501</th>\n",
       "      <td>700</td>\n",
       "      <td>Айдар</td>\n",
       "      <td>22</td>\n",
       "      <td>Омск</td>\n",
       "      <td>free</td>\n",
       "      <td>846.932642</td>\n",
       "      <td>16.234663</td>\n",
       "      <td>2021-02-01</td>\n",
       "      <td>2</td>\n",
       "      <td>8</td>\n",
       "      <td>50</td>\n",
       "      <td>0</td>\n",
       "    </tr>\n",
       "    <tr>\n",
       "      <th>6502</th>\n",
       "      <td>700</td>\n",
       "      <td>Айдар</td>\n",
       "      <td>22</td>\n",
       "      <td>Омск</td>\n",
       "      <td>free</td>\n",
       "      <td>4004.434142</td>\n",
       "      <td>20.016628</td>\n",
       "      <td>2021-02-04</td>\n",
       "      <td>2</td>\n",
       "      <td>8</td>\n",
       "      <td>50</td>\n",
       "      <td>0</td>\n",
       "    </tr>\n",
       "    <tr>\n",
       "      <th>6503</th>\n",
       "      <td>700</td>\n",
       "      <td>Айдар</td>\n",
       "      <td>22</td>\n",
       "      <td>Омск</td>\n",
       "      <td>free</td>\n",
       "      <td>1205.911290</td>\n",
       "      <td>9.782872</td>\n",
       "      <td>2021-02-10</td>\n",
       "      <td>2</td>\n",
       "      <td>8</td>\n",
       "      <td>50</td>\n",
       "      <td>0</td>\n",
       "    </tr>\n",
       "    <tr>\n",
       "      <th>6504</th>\n",
       "      <td>700</td>\n",
       "      <td>Айдар</td>\n",
       "      <td>22</td>\n",
       "      <td>Омск</td>\n",
       "      <td>free</td>\n",
       "      <td>3047.379435</td>\n",
       "      <td>17.427673</td>\n",
       "      <td>2021-02-14</td>\n",
       "      <td>2</td>\n",
       "      <td>8</td>\n",
       "      <td>50</td>\n",
       "      <td>0</td>\n",
       "    </tr>\n",
       "    <tr>\n",
       "      <th>6505</th>\n",
       "      <td>700</td>\n",
       "      <td>Айдар</td>\n",
       "      <td>22</td>\n",
       "      <td>Омск</td>\n",
       "      <td>free</td>\n",
       "      <td>4342.002254</td>\n",
       "      <td>22.368009</td>\n",
       "      <td>2021-02-23</td>\n",
       "      <td>2</td>\n",
       "      <td>8</td>\n",
       "      <td>50</td>\n",
       "      <td>0</td>\n",
       "    </tr>\n",
       "    <tr>\n",
       "      <th>6506</th>\n",
       "      <td>700</td>\n",
       "      <td>Айдар</td>\n",
       "      <td>22</td>\n",
       "      <td>Омск</td>\n",
       "      <td>free</td>\n",
       "      <td>3798.334905</td>\n",
       "      <td>18.243756</td>\n",
       "      <td>2021-03-03</td>\n",
       "      <td>3</td>\n",
       "      <td>8</td>\n",
       "      <td>50</td>\n",
       "      <td>0</td>\n",
       "    </tr>\n",
       "    <tr>\n",
       "      <th>6507</th>\n",
       "      <td>700</td>\n",
       "      <td>Айдар</td>\n",
       "      <td>22</td>\n",
       "      <td>Омск</td>\n",
       "      <td>free</td>\n",
       "      <td>2984.551206</td>\n",
       "      <td>15.424899</td>\n",
       "      <td>2021-04-09</td>\n",
       "      <td>4</td>\n",
       "      <td>8</td>\n",
       "      <td>50</td>\n",
       "      <td>0</td>\n",
       "    </tr>\n",
       "    <tr>\n",
       "      <th>6508</th>\n",
       "      <td>700</td>\n",
       "      <td>Айдар</td>\n",
       "      <td>22</td>\n",
       "      <td>Омск</td>\n",
       "      <td>free</td>\n",
       "      <td>3360.107141</td>\n",
       "      <td>16.765497</td>\n",
       "      <td>2021-06-12</td>\n",
       "      <td>6</td>\n",
       "      <td>8</td>\n",
       "      <td>50</td>\n",
       "      <td>0</td>\n",
       "    </tr>\n",
       "    <tr>\n",
       "      <th>6509</th>\n",
       "      <td>700</td>\n",
       "      <td>Айдар</td>\n",
       "      <td>22</td>\n",
       "      <td>Омск</td>\n",
       "      <td>free</td>\n",
       "      <td>2567.543847</td>\n",
       "      <td>11.312160</td>\n",
       "      <td>2021-06-23</td>\n",
       "      <td>6</td>\n",
       "      <td>8</td>\n",
       "      <td>50</td>\n",
       "      <td>0</td>\n",
       "    </tr>\n",
       "  </tbody>\n",
       "</table>\n",
       "</div>"
      ],
      "text/plain": [
       "      user_id   name  age  city subscription_type     distance   duration  \\\n",
       "6500      700  Айдар   22  Омск              free  2515.690719  14.944286   \n",
       "6501      700  Айдар   22  Омск              free   846.932642  16.234663   \n",
       "6502      700  Айдар   22  Омск              free  4004.434142  20.016628   \n",
       "6503      700  Айдар   22  Омск              free  1205.911290   9.782872   \n",
       "6504      700  Айдар   22  Омск              free  3047.379435  17.427673   \n",
       "6505      700  Айдар   22  Омск              free  4342.002254  22.368009   \n",
       "6506      700  Айдар   22  Омск              free  3798.334905  18.243756   \n",
       "6507      700  Айдар   22  Омск              free  2984.551206  15.424899   \n",
       "6508      700  Айдар   22  Омск              free  3360.107141  16.765497   \n",
       "6509      700  Айдар   22  Омск              free  2567.543847  11.312160   \n",
       "\n",
       "           date  month  minute_price  start_ride_price  subscription_fee  \n",
       "6500 2021-01-02      1             8                50                 0  \n",
       "6501 2021-02-01      2             8                50                 0  \n",
       "6502 2021-02-04      2             8                50                 0  \n",
       "6503 2021-02-10      2             8                50                 0  \n",
       "6504 2021-02-14      2             8                50                 0  \n",
       "6505 2021-02-23      2             8                50                 0  \n",
       "6506 2021-03-03      3             8                50                 0  \n",
       "6507 2021-04-09      4             8                50                 0  \n",
       "6508 2021-06-12      6             8                50                 0  \n",
       "6509 2021-06-23      6             8                50                 0  "
      ]
     },
     "execution_count": 40,
     "metadata": {},
     "output_type": "execute_result"
    }
   ],
   "source": [
    "free_sub = full_data.query(\"`subscription_type` == 'free'\")\n",
    "free_sub.head(10)"
   ]
  },
  {
   "cell_type": "markdown",
   "id": "50b44568",
   "metadata": {},
   "source": [
    "\n",
    "Визуализируем информацию о расстоянии у пользователей без подписки."
   ]
  },
  {
   "cell_type": "code",
   "execution_count": 41,
   "id": "56a3a723",
   "metadata": {},
   "outputs": [
    {
     "data": {
      "image/png": "[encoded data removed]",
      "text/plain": [
       "<Figure size 432x288 with 1 Axes>"
      ]
     },
     "metadata": {
      "needs_background": "light"
     },
     "output_type": "display_data"
    },
    {
     "data": {
      "text/plain": [
       "<Figure size 720x360 with 0 Axes>"
      ]
     },
     "metadata": {},
     "output_type": "display_data"
    }
   ],
   "source": [
    "plt.hist(free_sub['distance'], bins=40)\n",
    "plt.title('Расстояние (без подписки)')\n",
    "plt.xlabel('Расстояние')\n",
    "plt.ylabel('Количество поездок')\n",
    "plt.figure(figsize=(10,5))\n",
    "plt.show()"
   ]
  },
  {
   "cell_type": "markdown",
   "id": "e24a6c85",
   "metadata": {},
   "source": [
    "Визуализируем информацию о времени у пользователей без подписки."
   ]
  },
  {
   "cell_type": "code",
   "execution_count": 42,
   "id": "8351dd7a",
   "metadata": {},
   "outputs": [
    {
     "data": {
      "image/png": "[encoded data removed]",
      "text/plain": [
       "<Figure size 432x288 with 1 Axes>"
      ]
     },
     "metadata": {
      "needs_background": "light"
     },
     "output_type": "display_data"
    },
    {
     "data": {
      "text/plain": [
       "<Figure size 720x360 with 0 Axes>"
      ]
     },
     "metadata": {},
     "output_type": "display_data"
    }
   ],
   "source": [
    "plt.hist(free_sub['duration'], bins=30)\n",
    "plt.title('Время (без подписки)')\n",
    "plt.xlabel('Время поездки')\n",
    "plt.ylabel('Количество поездок')\n",
    "plt.figure(figsize=(10,5))\n",
    "plt.show()"
   ]
  },
  {
   "cell_type": "markdown",
   "id": "43fc2497",
   "metadata": {},
   "source": [
    "Создадим датафрейм с данными о пользователях с подпиской. "
   ]
  },
  {
   "cell_type": "code",
   "execution_count": 43,
   "id": "a8824299",
   "metadata": {},
   "outputs": [
    {
     "data": {
      "text/html": [
       "<div>\n",
       "<style scoped>\n",
       "    .dataframe tbody tr th:only-of-type {\n",
       "        vertical-align: middle;\n",
       "    }\n",
       "\n",
       "    .dataframe tbody tr th {\n",
       "        vertical-align: top;\n",
       "    }\n",
       "\n",
       "    .dataframe thead th {\n",
       "        text-align: right;\n",
       "    }\n",
       "</style>\n",
       "<table border=\"1\" class=\"dataframe\">\n",
       "  <thead>\n",
       "    <tr style=\"text-align: right;\">\n",
       "      <th></th>\n",
       "      <th>user_id</th>\n",
       "      <th>name</th>\n",
       "      <th>age</th>\n",
       "      <th>city</th>\n",
       "      <th>subscription_type</th>\n",
       "      <th>distance</th>\n",
       "      <th>duration</th>\n",
       "      <th>date</th>\n",
       "      <th>month</th>\n",
       "      <th>minute_price</th>\n",
       "      <th>start_ride_price</th>\n",
       "      <th>subscription_fee</th>\n",
       "    </tr>\n",
       "  </thead>\n",
       "  <tbody>\n",
       "    <tr>\n",
       "      <th>0</th>\n",
       "      <td>1</td>\n",
       "      <td>Кира</td>\n",
       "      <td>22</td>\n",
       "      <td>Тюмень</td>\n",
       "      <td>ultra</td>\n",
       "      <td>4409.919140</td>\n",
       "      <td>25.599769</td>\n",
       "      <td>2021-01-01</td>\n",
       "      <td>1</td>\n",
       "      <td>6</td>\n",
       "      <td>0</td>\n",
       "      <td>199</td>\n",
       "    </tr>\n",
       "    <tr>\n",
       "      <th>1</th>\n",
       "      <td>1</td>\n",
       "      <td>Кира</td>\n",
       "      <td>22</td>\n",
       "      <td>Тюмень</td>\n",
       "      <td>ultra</td>\n",
       "      <td>2617.592153</td>\n",
       "      <td>15.816871</td>\n",
       "      <td>2021-01-18</td>\n",
       "      <td>1</td>\n",
       "      <td>6</td>\n",
       "      <td>0</td>\n",
       "      <td>199</td>\n",
       "    </tr>\n",
       "    <tr>\n",
       "      <th>2</th>\n",
       "      <td>1</td>\n",
       "      <td>Кира</td>\n",
       "      <td>22</td>\n",
       "      <td>Тюмень</td>\n",
       "      <td>ultra</td>\n",
       "      <td>754.159807</td>\n",
       "      <td>6.232113</td>\n",
       "      <td>2021-04-20</td>\n",
       "      <td>4</td>\n",
       "      <td>6</td>\n",
       "      <td>0</td>\n",
       "      <td>199</td>\n",
       "    </tr>\n",
       "    <tr>\n",
       "      <th>3</th>\n",
       "      <td>1</td>\n",
       "      <td>Кира</td>\n",
       "      <td>22</td>\n",
       "      <td>Тюмень</td>\n",
       "      <td>ultra</td>\n",
       "      <td>2694.783254</td>\n",
       "      <td>18.511000</td>\n",
       "      <td>2021-08-11</td>\n",
       "      <td>8</td>\n",
       "      <td>6</td>\n",
       "      <td>0</td>\n",
       "      <td>199</td>\n",
       "    </tr>\n",
       "    <tr>\n",
       "      <th>4</th>\n",
       "      <td>1</td>\n",
       "      <td>Кира</td>\n",
       "      <td>22</td>\n",
       "      <td>Тюмень</td>\n",
       "      <td>ultra</td>\n",
       "      <td>4028.687306</td>\n",
       "      <td>26.265803</td>\n",
       "      <td>2021-08-28</td>\n",
       "      <td>8</td>\n",
       "      <td>6</td>\n",
       "      <td>0</td>\n",
       "      <td>199</td>\n",
       "    </tr>\n",
       "    <tr>\n",
       "      <th>5</th>\n",
       "      <td>1</td>\n",
       "      <td>Кира</td>\n",
       "      <td>22</td>\n",
       "      <td>Тюмень</td>\n",
       "      <td>ultra</td>\n",
       "      <td>2770.890808</td>\n",
       "      <td>16.650138</td>\n",
       "      <td>2021-10-09</td>\n",
       "      <td>10</td>\n",
       "      <td>6</td>\n",
       "      <td>0</td>\n",
       "      <td>199</td>\n",
       "    </tr>\n",
       "    <tr>\n",
       "      <th>6</th>\n",
       "      <td>1</td>\n",
       "      <td>Кира</td>\n",
       "      <td>22</td>\n",
       "      <td>Тюмень</td>\n",
       "      <td>ultra</td>\n",
       "      <td>3039.020292</td>\n",
       "      <td>14.927879</td>\n",
       "      <td>2021-10-19</td>\n",
       "      <td>10</td>\n",
       "      <td>6</td>\n",
       "      <td>0</td>\n",
       "      <td>199</td>\n",
       "    </tr>\n",
       "    <tr>\n",
       "      <th>7</th>\n",
       "      <td>1</td>\n",
       "      <td>Кира</td>\n",
       "      <td>22</td>\n",
       "      <td>Тюмень</td>\n",
       "      <td>ultra</td>\n",
       "      <td>2842.118050</td>\n",
       "      <td>23.117468</td>\n",
       "      <td>2021-11-06</td>\n",
       "      <td>11</td>\n",
       "      <td>6</td>\n",
       "      <td>0</td>\n",
       "      <td>199</td>\n",
       "    </tr>\n",
       "    <tr>\n",
       "      <th>8</th>\n",
       "      <td>1</td>\n",
       "      <td>Кира</td>\n",
       "      <td>22</td>\n",
       "      <td>Тюмень</td>\n",
       "      <td>ultra</td>\n",
       "      <td>3412.690668</td>\n",
       "      <td>15.238072</td>\n",
       "      <td>2021-11-14</td>\n",
       "      <td>11</td>\n",
       "      <td>6</td>\n",
       "      <td>0</td>\n",
       "      <td>199</td>\n",
       "    </tr>\n",
       "    <tr>\n",
       "      <th>9</th>\n",
       "      <td>1</td>\n",
       "      <td>Кира</td>\n",
       "      <td>22</td>\n",
       "      <td>Тюмень</td>\n",
       "      <td>ultra</td>\n",
       "      <td>748.690645</td>\n",
       "      <td>15.041884</td>\n",
       "      <td>2021-11-22</td>\n",
       "      <td>11</td>\n",
       "      <td>6</td>\n",
       "      <td>0</td>\n",
       "      <td>199</td>\n",
       "    </tr>\n",
       "  </tbody>\n",
       "</table>\n",
       "</div>"
      ],
      "text/plain": [
       "   user_id  name  age    city subscription_type     distance   duration  \\\n",
       "0        1  Кира   22  Тюмень             ultra  4409.919140  25.599769   \n",
       "1        1  Кира   22  Тюмень             ultra  2617.592153  15.816871   \n",
       "2        1  Кира   22  Тюмень             ultra   754.159807   6.232113   \n",
       "3        1  Кира   22  Тюмень             ultra  2694.783254  18.511000   \n",
       "4        1  Кира   22  Тюмень             ultra  4028.687306  26.265803   \n",
       "5        1  Кира   22  Тюмень             ultra  2770.890808  16.650138   \n",
       "6        1  Кира   22  Тюмень             ultra  3039.020292  14.927879   \n",
       "7        1  Кира   22  Тюмень             ultra  2842.118050  23.117468   \n",
       "8        1  Кира   22  Тюмень             ultra  3412.690668  15.238072   \n",
       "9        1  Кира   22  Тюмень             ultra   748.690645  15.041884   \n",
       "\n",
       "        date  month  minute_price  start_ride_price  subscription_fee  \n",
       "0 2021-01-01      1             6                 0               199  \n",
       "1 2021-01-18      1             6                 0               199  \n",
       "2 2021-04-20      4             6                 0               199  \n",
       "3 2021-08-11      8             6                 0               199  \n",
       "4 2021-08-28      8             6                 0               199  \n",
       "5 2021-10-09     10             6                 0               199  \n",
       "6 2021-10-19     10             6                 0               199  \n",
       "7 2021-11-06     11             6                 0               199  \n",
       "8 2021-11-14     11             6                 0               199  \n",
       "9 2021-11-22     11             6                 0               199  "
      ]
     },
     "execution_count": 43,
     "metadata": {},
     "output_type": "execute_result"
    }
   ],
   "source": [
    "ultra_sub = full_data.query(\"`subscription_type` == 'ultra'\")\n",
    "ultra_sub.head(10)"
   ]
  },
  {
   "cell_type": "markdown",
   "id": "25e52eb3",
   "metadata": {},
   "source": [
    "Визуализируем информацию о расстоянии у пользователей с подпиской. "
   ]
  },
  {
   "cell_type": "code",
   "execution_count": 44,
   "id": "151330ba",
   "metadata": {},
   "outputs": [
    {
     "data": {
      "image/png": "[encoded data removed]",
      "text/plain": [
       "<Figure size 432x288 with 1 Axes>"
      ]
     },
     "metadata": {
      "needs_background": "light"
     },
     "output_type": "display_data"
    },
    {
     "data": {
      "text/plain": [
       "<Figure size 720x360 with 0 Axes>"
      ]
     },
     "metadata": {},
     "output_type": "display_data"
    }
   ],
   "source": [
    "plt.hist(ultra_sub['distance'], bins=40)\n",
    "plt.title('Расстояние (с подпиской)')\n",
    "plt.xlabel('Расстояние')\n",
    "plt.ylabel('Количество поездок')\n",
    "plt.figure(figsize=(10,5))\n",
    "plt.show()"
   ]
  },
  {
   "cell_type": "markdown",
   "id": "3b377219",
   "metadata": {},
   "source": [
    "Визуализируем информацию о времени у пользователей с подпиской."
   ]
  },
  {
   "cell_type": "code",
   "execution_count": 45,
   "id": "38ab4363",
   "metadata": {},
   "outputs": [
    {
     "data": {
      "image/png": "[encoded data removed]",
      "text/plain": [
       "<Figure size 432x288 with 1 Axes>"
      ]
     },
     "metadata": {
      "needs_background": "light"
     },
     "output_type": "display_data"
    },
    {
     "data": {
      "text/plain": [
       "<Figure size 720x360 with 0 Axes>"
      ]
     },
     "metadata": {},
     "output_type": "display_data"
    }
   ],
   "source": [
    "plt.hist(ultra_sub['duration'], bins=30)\n",
    "plt.title('Время (с подпиской)')\n",
    "plt.xlabel('Время поездки')\n",
    "plt.ylabel('Количество поездок')\n",
    "plt.figure(figsize=(10,5))\n",
    "plt.show()"
   ]
  },
  {
   "cell_type": "markdown",
   "id": "1cf3cb42",
   "metadata": {},
   "source": [
    "Посмотрим на статические данные по времени и расстоянию у пользователей с подпиской и без. "
   ]
  },
  {
   "cell_type": "code",
   "execution_count": 46,
   "id": "249f6308",
   "metadata": {},
   "outputs": [
    {
     "name": "stdout",
     "output_type": "stream",
     "text": [
      "Без подписки:\n"
     ]
    },
    {
     "data": {
      "text/html": [
       "<div>\n",
       "<style scoped>\n",
       "    .dataframe tbody tr th:only-of-type {\n",
       "        vertical-align: middle;\n",
       "    }\n",
       "\n",
       "    .dataframe tbody tr th {\n",
       "        vertical-align: top;\n",
       "    }\n",
       "\n",
       "    .dataframe thead th {\n",
       "        text-align: right;\n",
       "    }\n",
       "</style>\n",
       "<table border=\"1\" class=\"dataframe\">\n",
       "  <thead>\n",
       "    <tr style=\"text-align: right;\">\n",
       "      <th></th>\n",
       "      <th>distance</th>\n",
       "      <th>duration</th>\n",
       "    </tr>\n",
       "  </thead>\n",
       "  <tbody>\n",
       "    <tr>\n",
       "      <th>count</th>\n",
       "      <td>11568.000000</td>\n",
       "      <td>11568.000000</td>\n",
       "    </tr>\n",
       "    <tr>\n",
       "      <th>mean</th>\n",
       "      <td>3045.495282</td>\n",
       "      <td>17.390909</td>\n",
       "    </tr>\n",
       "    <tr>\n",
       "      <th>std</th>\n",
       "      <td>1246.173806</td>\n",
       "      <td>6.326803</td>\n",
       "    </tr>\n",
       "    <tr>\n",
       "      <th>min</th>\n",
       "      <td>0.855683</td>\n",
       "      <td>0.500000</td>\n",
       "    </tr>\n",
       "    <tr>\n",
       "      <th>25%</th>\n",
       "      <td>2366.562689</td>\n",
       "      <td>12.958437</td>\n",
       "    </tr>\n",
       "    <tr>\n",
       "      <th>50%</th>\n",
       "      <td>3114.648465</td>\n",
       "      <td>17.326890</td>\n",
       "    </tr>\n",
       "    <tr>\n",
       "      <th>75%</th>\n",
       "      <td>3905.697894</td>\n",
       "      <td>21.594071</td>\n",
       "    </tr>\n",
       "    <tr>\n",
       "      <th>max</th>\n",
       "      <td>7211.007745</td>\n",
       "      <td>34.948498</td>\n",
       "    </tr>\n",
       "  </tbody>\n",
       "</table>\n",
       "</div>"
      ],
      "text/plain": [
       "           distance      duration\n",
       "count  11568.000000  11568.000000\n",
       "mean    3045.495282     17.390909\n",
       "std     1246.173806      6.326803\n",
       "min        0.855683      0.500000\n",
       "25%     2366.562689     12.958437\n",
       "50%     3114.648465     17.326890\n",
       "75%     3905.697894     21.594071\n",
       "max     7211.007745     34.948498"
      ]
     },
     "execution_count": 46,
     "metadata": {},
     "output_type": "execute_result"
    }
   ],
   "source": [
    "print('Без подписки:')\n",
    "free_sub[['distance','duration']].describe()"
   ]
  },
  {
   "cell_type": "code",
   "execution_count": 47,
   "id": "ae308286",
   "metadata": {},
   "outputs": [
    {
     "name": "stdout",
     "output_type": "stream",
     "text": [
      "С подпиской:\n"
     ]
    },
    {
     "data": {
      "text/html": [
       "<div>\n",
       "<style scoped>\n",
       "    .dataframe tbody tr th:only-of-type {\n",
       "        vertical-align: middle;\n",
       "    }\n",
       "\n",
       "    .dataframe tbody tr th {\n",
       "        vertical-align: top;\n",
       "    }\n",
       "\n",
       "    .dataframe thead th {\n",
       "        text-align: right;\n",
       "    }\n",
       "</style>\n",
       "<table border=\"1\" class=\"dataframe\">\n",
       "  <thead>\n",
       "    <tr style=\"text-align: right;\">\n",
       "      <th></th>\n",
       "      <th>distance</th>\n",
       "      <th>duration</th>\n",
       "    </tr>\n",
       "  </thead>\n",
       "  <tbody>\n",
       "    <tr>\n",
       "      <th>count</th>\n",
       "      <td>6500.000000</td>\n",
       "      <td>6500.000000</td>\n",
       "    </tr>\n",
       "    <tr>\n",
       "      <th>mean</th>\n",
       "      <td>3115.445388</td>\n",
       "      <td>18.541985</td>\n",
       "    </tr>\n",
       "    <tr>\n",
       "      <th>std</th>\n",
       "      <td>836.895330</td>\n",
       "      <td>5.572048</td>\n",
       "    </tr>\n",
       "    <tr>\n",
       "      <th>min</th>\n",
       "      <td>244.210438</td>\n",
       "      <td>3.760353</td>\n",
       "    </tr>\n",
       "    <tr>\n",
       "      <th>25%</th>\n",
       "      <td>2785.444017</td>\n",
       "      <td>14.524654</td>\n",
       "    </tr>\n",
       "    <tr>\n",
       "      <th>50%</th>\n",
       "      <td>3148.637229</td>\n",
       "      <td>18.178153</td>\n",
       "    </tr>\n",
       "    <tr>\n",
       "      <th>75%</th>\n",
       "      <td>3560.574425</td>\n",
       "      <td>21.884129</td>\n",
       "    </tr>\n",
       "    <tr>\n",
       "      <th>max</th>\n",
       "      <td>5699.769662</td>\n",
       "      <td>40.823963</td>\n",
       "    </tr>\n",
       "  </tbody>\n",
       "</table>\n",
       "</div>"
      ],
      "text/plain": [
       "          distance     duration\n",
       "count  6500.000000  6500.000000\n",
       "mean   3115.445388    18.541985\n",
       "std     836.895330     5.572048\n",
       "min     244.210438     3.760353\n",
       "25%    2785.444017    14.524654\n",
       "50%    3148.637229    18.178153\n",
       "75%    3560.574425    21.884129\n",
       "max    5699.769662    40.823963"
      ]
     },
     "execution_count": 47,
     "metadata": {},
     "output_type": "execute_result"
    }
   ],
   "source": [
    "print('С подпиской:')\n",
    "ultra_sub[['distance','duration']].describe()"
   ]
  },
  {
   "cell_type": "markdown",
   "id": "0c16433a",
   "metadata": {},
   "source": [
    "Теперь посмотрим есть ли в данных сезонность или тренд, который могли бы исказить результаты анализа времени пользователей в пути. Достаточно будет проанализировать как ведёт себя суммарное временя в пути для всех пользователей, чтобы уловить есть ли снижение или повышение в разные участки времени.   "
   ]
  },
  {
   "cell_type": "code",
   "execution_count": 48,
   "id": "0cf09ba6",
   "metadata": {},
   "outputs": [
    {
     "data": {
      "text/plain": [
       "Text(0.5, 1.0, 'Распределение суммарного времени в пути по дням всех пользователей сервиса')"
      ]
     },
     "execution_count": 48,
     "metadata": {},
     "output_type": "execute_result"
    },
    {
     "data": {
      "image/png": "[encoded data removed]",
      "text/plain": [
       "<Figure size 1080x576 with 1 Axes>"
      ]
     },
     "metadata": {
      "needs_background": "light"
     },
     "output_type": "display_data"
    }
   ],
   "source": [
    "full_data.set_index('date', inplace = True)\n",
    "full_data.sort_index(inplace = True)\n",
    "full_time_dist = full_data.resample('1D')['duration'].sum()\n",
    "analysis_time(full_time_dist)\n",
    "plt.title('Распределение суммарного времени в пути по дням всех пользователей сервиса')"
   ]
  },
  {
   "cell_type": "markdown",
   "id": "0a817e57",
   "metadata": {},
   "source": [
    "Визуальный показ показывает, что ряд стационарен, то есть не имеет тренда или сезонности. Убедимся в этом проведя тест Дики-Фуллера на стационарность. "
   ]
  },
  {
   "cell_type": "code",
   "execution_count": 49,
   "id": "65377c1e",
   "metadata": {},
   "outputs": [
    {
     "name": "stdout",
     "output_type": "stream",
     "text": [
      "ADF Statistic: -7.416561055022463\n",
      "p-value: 6.910753489969357e-11\n",
      "Critical Values: {'1%': -3.4486972813047574, '5%': -2.8696246923288418, '10%': -2.571077032068342}\n"
     ]
    }
   ],
   "source": [
    "adf_test(full_time_dist)"
   ]
  },
  {
   "cell_type": "markdown",
   "id": "cc1dc9ed",
   "metadata": {},
   "source": [
    "При любом разумном уровне значимости тест отвергает нулевую гипотезу о нестационарности ряда. "
   ]
  },
  {
   "cell_type": "markdown",
   "id": "d7d12971",
   "metadata": {},
   "source": [
    "Вывод после объединения:\n",
    "    \n",
    "1.) И средняя, и медиана по преодолённым расстояниям выше у пользователей с подпиской.\n",
    "\n",
    "2.) И средняя, и медиана по времени поездки выше у пользователей с подпиской. \n",
    "\n",
    "3.) Временной фактор не влияет на время пользователей в пути и не окажет воздействия на проверку гипотез. "
   ]
  },
  {
   "cell_type": "markdown",
   "id": "402d620f",
   "metadata": {},
   "source": [
    "#### Шаг 5. Подсчёт выручки"
   ]
  },
  {
   "cell_type": "markdown",
   "id": "7b7d71d3",
   "metadata": {},
   "source": [
    "Найдем суммарное расстояние, количество поeздок и суммарное время для каждого пользователя за каждый месяц. "
   ]
  },
  {
   "cell_type": "markdown",
   "id": "102960e4",
   "metadata": {},
   "source": [
    "Перед агрегацией округлим данные по времени в большую сторону до минуты."
   ]
  },
  {
   "cell_type": "code",
   "execution_count": 50,
   "id": "3d4c4e42",
   "metadata": {},
   "outputs": [],
   "source": [
    "full_data['duration'] = np.ceil(full_data['duration'])"
   ]
  },
  {
   "cell_type": "code",
   "execution_count": 51,
   "id": "53049e0a",
   "metadata": {},
   "outputs": [
    {
     "data": {
      "text/html": [
       "<div>\n",
       "<style scoped>\n",
       "    .dataframe tbody tr th:only-of-type {\n",
       "        vertical-align: middle;\n",
       "    }\n",
       "\n",
       "    .dataframe tbody tr th {\n",
       "        vertical-align: top;\n",
       "    }\n",
       "\n",
       "    .dataframe thead th {\n",
       "        text-align: right;\n",
       "    }\n",
       "</style>\n",
       "<table border=\"1\" class=\"dataframe\">\n",
       "  <thead>\n",
       "    <tr style=\"text-align: right;\">\n",
       "      <th></th>\n",
       "      <th></th>\n",
       "      <th>distance</th>\n",
       "      <th>duration</th>\n",
       "      <th>count_tips</th>\n",
       "      <th>subscription_type</th>\n",
       "    </tr>\n",
       "    <tr>\n",
       "      <th>month</th>\n",
       "      <th>user_id</th>\n",
       "      <th></th>\n",
       "      <th></th>\n",
       "      <th></th>\n",
       "      <th></th>\n",
       "    </tr>\n",
       "  </thead>\n",
       "  <tbody>\n",
       "    <tr>\n",
       "      <th rowspan=\"10\" valign=\"top\">1</th>\n",
       "      <th>1</th>\n",
       "      <td>7027.511294</td>\n",
       "      <td>42.0</td>\n",
       "      <td>2</td>\n",
       "      <td>ultra</td>\n",
       "    </tr>\n",
       "    <tr>\n",
       "      <th>3</th>\n",
       "      <td>3061.777147</td>\n",
       "      <td>13.0</td>\n",
       "      <td>1</td>\n",
       "      <td>ultra</td>\n",
       "    </tr>\n",
       "    <tr>\n",
       "      <th>5</th>\n",
       "      <td>3914.646990</td>\n",
       "      <td>13.0</td>\n",
       "      <td>1</td>\n",
       "      <td>ultra</td>\n",
       "    </tr>\n",
       "    <tr>\n",
       "      <th>7</th>\n",
       "      <td>6478.080979</td>\n",
       "      <td>28.0</td>\n",
       "      <td>2</td>\n",
       "      <td>ultra</td>\n",
       "    </tr>\n",
       "    <tr>\n",
       "      <th>12</th>\n",
       "      <td>3577.151148</td>\n",
       "      <td>33.0</td>\n",
       "      <td>1</td>\n",
       "      <td>ultra</td>\n",
       "    </tr>\n",
       "    <tr>\n",
       "      <th>13</th>\n",
       "      <td>6687.987446</td>\n",
       "      <td>42.0</td>\n",
       "      <td>2</td>\n",
       "      <td>ultra</td>\n",
       "    </tr>\n",
       "    <tr>\n",
       "      <th>14</th>\n",
       "      <td>7699.643820</td>\n",
       "      <td>35.0</td>\n",
       "      <td>2</td>\n",
       "      <td>ultra</td>\n",
       "    </tr>\n",
       "    <tr>\n",
       "      <th>15</th>\n",
       "      <td>4187.621459</td>\n",
       "      <td>39.0</td>\n",
       "      <td>1</td>\n",
       "      <td>ultra</td>\n",
       "    </tr>\n",
       "    <tr>\n",
       "      <th>20</th>\n",
       "      <td>3516.719208</td>\n",
       "      <td>29.0</td>\n",
       "      <td>1</td>\n",
       "      <td>ultra</td>\n",
       "    </tr>\n",
       "    <tr>\n",
       "      <th>22</th>\n",
       "      <td>3058.692225</td>\n",
       "      <td>13.0</td>\n",
       "      <td>1</td>\n",
       "      <td>ultra</td>\n",
       "    </tr>\n",
       "  </tbody>\n",
       "</table>\n",
       "</div>"
      ],
      "text/plain": [
       "                  distance  duration  count_tips subscription_type\n",
       "month user_id                                                     \n",
       "1     1        7027.511294      42.0           2             ultra\n",
       "      3        3061.777147      13.0           1             ultra\n",
       "      5        3914.646990      13.0           1             ultra\n",
       "      7        6478.080979      28.0           2             ultra\n",
       "      12       3577.151148      33.0           1             ultra\n",
       "      13       6687.987446      42.0           2             ultra\n",
       "      14       7699.643820      35.0           2             ultra\n",
       "      15       4187.621459      39.0           1             ultra\n",
       "      20       3516.719208      29.0           1             ultra\n",
       "      22       3058.692225      13.0           1             ultra"
      ]
     },
     "execution_count": 51,
     "metadata": {},
     "output_type": "execute_result"
    }
   ],
   "source": [
    "total_data = pd.pivot_table(full_data,\n",
    "                           index=['month', 'user_id'],\n",
    "                           values = ['distance', 'duration', 'name', 'subscription_type'],\n",
    "                           aggfunc = {'distance': sum, \n",
    "                                      'duration' : sum, \n",
    "                                      'name' : len, \n",
    "                                      'subscription_type' : min})\n",
    "\n",
    "total_data.rename(columns = {'name' : 'count_tips'}, inplace = True)\n",
    "total_data.sort_values(by='month').head(20)\n",
    "total_data.head(10)"
   ]
  },
  {
   "cell_type": "markdown",
   "id": "d9210d03",
   "metadata": {},
   "source": [
    "Проверим нет ли пропусков в сводной таблице. Если нет, то считаем выручку.\n"
   ]
  },
  {
   "cell_type": "code",
   "execution_count": 52,
   "id": "7823fbfe",
   "metadata": {},
   "outputs": [
    {
     "data": {
      "text/plain": [
       "distance             0\n",
       "duration             0\n",
       "count_tips           0\n",
       "subscription_type    0\n",
       "dtype: int64"
      ]
     },
     "execution_count": 52,
     "metadata": {},
     "output_type": "execute_result"
    }
   ],
   "source": [
    "total_data.isnull().sum()"
   ]
  },
  {
   "cell_type": "markdown",
   "id": "d7d9f137",
   "metadata": {},
   "source": [
    "Добавим столбец с помесячной выручкой. "
   ]
  },
  {
   "cell_type": "code",
   "execution_count": 53,
   "id": "862109c4",
   "metadata": {
    "scrolled": true
   },
   "outputs": [
    {
     "data": {
      "text/html": [
       "<div>\n",
       "<style scoped>\n",
       "    .dataframe tbody tr th:only-of-type {\n",
       "        vertical-align: middle;\n",
       "    }\n",
       "\n",
       "    .dataframe tbody tr th {\n",
       "        vertical-align: top;\n",
       "    }\n",
       "\n",
       "    .dataframe thead th {\n",
       "        text-align: right;\n",
       "    }\n",
       "</style>\n",
       "<table border=\"1\" class=\"dataframe\">\n",
       "  <thead>\n",
       "    <tr style=\"text-align: right;\">\n",
       "      <th></th>\n",
       "      <th></th>\n",
       "      <th>distance</th>\n",
       "      <th>duration</th>\n",
       "      <th>count_tips</th>\n",
       "      <th>subscription_type</th>\n",
       "      <th>income_per_month</th>\n",
       "    </tr>\n",
       "    <tr>\n",
       "      <th>month</th>\n",
       "      <th>user_id</th>\n",
       "      <th></th>\n",
       "      <th></th>\n",
       "      <th></th>\n",
       "      <th></th>\n",
       "      <th></th>\n",
       "    </tr>\n",
       "  </thead>\n",
       "  <tbody>\n",
       "    <tr>\n",
       "      <th rowspan=\"30\" valign=\"top\">1</th>\n",
       "      <th>1</th>\n",
       "      <td>7027.511294</td>\n",
       "      <td>42.0</td>\n",
       "      <td>2</td>\n",
       "      <td>ultra</td>\n",
       "      <td>451.0</td>\n",
       "    </tr>\n",
       "    <tr>\n",
       "      <th>3</th>\n",
       "      <td>3061.777147</td>\n",
       "      <td>13.0</td>\n",
       "      <td>1</td>\n",
       "      <td>ultra</td>\n",
       "      <td>277.0</td>\n",
       "    </tr>\n",
       "    <tr>\n",
       "      <th>5</th>\n",
       "      <td>3914.646990</td>\n",
       "      <td>13.0</td>\n",
       "      <td>1</td>\n",
       "      <td>ultra</td>\n",
       "      <td>277.0</td>\n",
       "    </tr>\n",
       "    <tr>\n",
       "      <th>7</th>\n",
       "      <td>6478.080979</td>\n",
       "      <td>28.0</td>\n",
       "      <td>2</td>\n",
       "      <td>ultra</td>\n",
       "      <td>367.0</td>\n",
       "    </tr>\n",
       "    <tr>\n",
       "      <th>12</th>\n",
       "      <td>3577.151148</td>\n",
       "      <td>33.0</td>\n",
       "      <td>1</td>\n",
       "      <td>ultra</td>\n",
       "      <td>397.0</td>\n",
       "    </tr>\n",
       "    <tr>\n",
       "      <th>13</th>\n",
       "      <td>6687.987446</td>\n",
       "      <td>42.0</td>\n",
       "      <td>2</td>\n",
       "      <td>ultra</td>\n",
       "      <td>451.0</td>\n",
       "    </tr>\n",
       "    <tr>\n",
       "      <th>14</th>\n",
       "      <td>7699.643820</td>\n",
       "      <td>35.0</td>\n",
       "      <td>2</td>\n",
       "      <td>ultra</td>\n",
       "      <td>409.0</td>\n",
       "    </tr>\n",
       "    <tr>\n",
       "      <th>15</th>\n",
       "      <td>4187.621459</td>\n",
       "      <td>39.0</td>\n",
       "      <td>1</td>\n",
       "      <td>ultra</td>\n",
       "      <td>433.0</td>\n",
       "    </tr>\n",
       "    <tr>\n",
       "      <th>20</th>\n",
       "      <td>3516.719208</td>\n",
       "      <td>29.0</td>\n",
       "      <td>1</td>\n",
       "      <td>ultra</td>\n",
       "      <td>373.0</td>\n",
       "    </tr>\n",
       "    <tr>\n",
       "      <th>22</th>\n",
       "      <td>3058.692225</td>\n",
       "      <td>13.0</td>\n",
       "      <td>1</td>\n",
       "      <td>ultra</td>\n",
       "      <td>277.0</td>\n",
       "    </tr>\n",
       "    <tr>\n",
       "      <th>25</th>\n",
       "      <td>3440.353053</td>\n",
       "      <td>17.0</td>\n",
       "      <td>1</td>\n",
       "      <td>ultra</td>\n",
       "      <td>301.0</td>\n",
       "    </tr>\n",
       "    <tr>\n",
       "      <th>26</th>\n",
       "      <td>6545.964099</td>\n",
       "      <td>28.0</td>\n",
       "      <td>2</td>\n",
       "      <td>ultra</td>\n",
       "      <td>367.0</td>\n",
       "    </tr>\n",
       "    <tr>\n",
       "      <th>30</th>\n",
       "      <td>7774.720501</td>\n",
       "      <td>25.0</td>\n",
       "      <td>2</td>\n",
       "      <td>ultra</td>\n",
       "      <td>349.0</td>\n",
       "    </tr>\n",
       "    <tr>\n",
       "      <th>32</th>\n",
       "      <td>3734.993902</td>\n",
       "      <td>25.0</td>\n",
       "      <td>1</td>\n",
       "      <td>ultra</td>\n",
       "      <td>349.0</td>\n",
       "    </tr>\n",
       "    <tr>\n",
       "      <th>35</th>\n",
       "      <td>9707.810053</td>\n",
       "      <td>57.0</td>\n",
       "      <td>3</td>\n",
       "      <td>ultra</td>\n",
       "      <td>541.0</td>\n",
       "    </tr>\n",
       "    <tr>\n",
       "      <th>42</th>\n",
       "      <td>4329.769187</td>\n",
       "      <td>23.0</td>\n",
       "      <td>1</td>\n",
       "      <td>ultra</td>\n",
       "      <td>337.0</td>\n",
       "    </tr>\n",
       "    <tr>\n",
       "      <th>43</th>\n",
       "      <td>6322.206034</td>\n",
       "      <td>48.0</td>\n",
       "      <td>2</td>\n",
       "      <td>ultra</td>\n",
       "      <td>487.0</td>\n",
       "    </tr>\n",
       "    <tr>\n",
       "      <th>44</th>\n",
       "      <td>2944.410629</td>\n",
       "      <td>19.0</td>\n",
       "      <td>2</td>\n",
       "      <td>ultra</td>\n",
       "      <td>313.0</td>\n",
       "    </tr>\n",
       "    <tr>\n",
       "      <th>45</th>\n",
       "      <td>3702.424319</td>\n",
       "      <td>27.0</td>\n",
       "      <td>2</td>\n",
       "      <td>ultra</td>\n",
       "      <td>361.0</td>\n",
       "    </tr>\n",
       "    <tr>\n",
       "      <th>46</th>\n",
       "      <td>3242.092435</td>\n",
       "      <td>20.0</td>\n",
       "      <td>1</td>\n",
       "      <td>ultra</td>\n",
       "      <td>319.0</td>\n",
       "    </tr>\n",
       "    <tr>\n",
       "      <th>51</th>\n",
       "      <td>7285.366019</td>\n",
       "      <td>55.0</td>\n",
       "      <td>2</td>\n",
       "      <td>ultra</td>\n",
       "      <td>529.0</td>\n",
       "    </tr>\n",
       "    <tr>\n",
       "      <th>54</th>\n",
       "      <td>2600.277031</td>\n",
       "      <td>19.0</td>\n",
       "      <td>1</td>\n",
       "      <td>ultra</td>\n",
       "      <td>313.0</td>\n",
       "    </tr>\n",
       "    <tr>\n",
       "      <th>55</th>\n",
       "      <td>6353.654177</td>\n",
       "      <td>37.0</td>\n",
       "      <td>2</td>\n",
       "      <td>ultra</td>\n",
       "      <td>421.0</td>\n",
       "    </tr>\n",
       "    <tr>\n",
       "      <th>56</th>\n",
       "      <td>3494.685027</td>\n",
       "      <td>21.0</td>\n",
       "      <td>1</td>\n",
       "      <td>ultra</td>\n",
       "      <td>325.0</td>\n",
       "    </tr>\n",
       "    <tr>\n",
       "      <th>57</th>\n",
       "      <td>3417.126834</td>\n",
       "      <td>26.0</td>\n",
       "      <td>1</td>\n",
       "      <td>ultra</td>\n",
       "      <td>355.0</td>\n",
       "    </tr>\n",
       "    <tr>\n",
       "      <th>60</th>\n",
       "      <td>5293.063577</td>\n",
       "      <td>31.0</td>\n",
       "      <td>2</td>\n",
       "      <td>ultra</td>\n",
       "      <td>385.0</td>\n",
       "    </tr>\n",
       "    <tr>\n",
       "      <th>61</th>\n",
       "      <td>8167.266069</td>\n",
       "      <td>59.0</td>\n",
       "      <td>4</td>\n",
       "      <td>ultra</td>\n",
       "      <td>553.0</td>\n",
       "    </tr>\n",
       "    <tr>\n",
       "      <th>63</th>\n",
       "      <td>2948.688257</td>\n",
       "      <td>22.0</td>\n",
       "      <td>1</td>\n",
       "      <td>ultra</td>\n",
       "      <td>331.0</td>\n",
       "    </tr>\n",
       "    <tr>\n",
       "      <th>64</th>\n",
       "      <td>4585.303566</td>\n",
       "      <td>25.0</td>\n",
       "      <td>1</td>\n",
       "      <td>ultra</td>\n",
       "      <td>349.0</td>\n",
       "    </tr>\n",
       "    <tr>\n",
       "      <th>66</th>\n",
       "      <td>5532.118721</td>\n",
       "      <td>48.0</td>\n",
       "      <td>3</td>\n",
       "      <td>ultra</td>\n",
       "      <td>487.0</td>\n",
       "    </tr>\n",
       "  </tbody>\n",
       "</table>\n",
       "</div>"
      ],
      "text/plain": [
       "                  distance  duration  count_tips subscription_type  \\\n",
       "month user_id                                                        \n",
       "1     1        7027.511294      42.0           2             ultra   \n",
       "      3        3061.777147      13.0           1             ultra   \n",
       "      5        3914.646990      13.0           1             ultra   \n",
       "      7        6478.080979      28.0           2             ultra   \n",
       "      12       3577.151148      33.0           1             ultra   \n",
       "      13       6687.987446      42.0           2             ultra   \n",
       "      14       7699.643820      35.0           2             ultra   \n",
       "      15       4187.621459      39.0           1             ultra   \n",
       "      20       3516.719208      29.0           1             ultra   \n",
       "      22       3058.692225      13.0           1             ultra   \n",
       "      25       3440.353053      17.0           1             ultra   \n",
       "      26       6545.964099      28.0           2             ultra   \n",
       "      30       7774.720501      25.0           2             ultra   \n",
       "      32       3734.993902      25.0           1             ultra   \n",
       "      35       9707.810053      57.0           3             ultra   \n",
       "      42       4329.769187      23.0           1             ultra   \n",
       "      43       6322.206034      48.0           2             ultra   \n",
       "      44       2944.410629      19.0           2             ultra   \n",
       "      45       3702.424319      27.0           2             ultra   \n",
       "      46       3242.092435      20.0           1             ultra   \n",
       "      51       7285.366019      55.0           2             ultra   \n",
       "      54       2600.277031      19.0           1             ultra   \n",
       "      55       6353.654177      37.0           2             ultra   \n",
       "      56       3494.685027      21.0           1             ultra   \n",
       "      57       3417.126834      26.0           1             ultra   \n",
       "      60       5293.063577      31.0           2             ultra   \n",
       "      61       8167.266069      59.0           4             ultra   \n",
       "      63       2948.688257      22.0           1             ultra   \n",
       "      64       4585.303566      25.0           1             ultra   \n",
       "      66       5532.118721      48.0           3             ultra   \n",
       "\n",
       "               income_per_month  \n",
       "month user_id                    \n",
       "1     1                   451.0  \n",
       "      3                   277.0  \n",
       "      5                   277.0  \n",
       "      7                   367.0  \n",
       "      12                  397.0  \n",
       "      13                  451.0  \n",
       "      14                  409.0  \n",
       "      15                  433.0  \n",
       "      20                  373.0  \n",
       "      22                  277.0  \n",
       "      25                  301.0  \n",
       "      26                  367.0  \n",
       "      30                  349.0  \n",
       "      32                  349.0  \n",
       "      35                  541.0  \n",
       "      42                  337.0  \n",
       "      43                  487.0  \n",
       "      44                  313.0  \n",
       "      45                  361.0  \n",
       "      46                  319.0  \n",
       "      51                  529.0  \n",
       "      54                  313.0  \n",
       "      55                  421.0  \n",
       "      56                  325.0  \n",
       "      57                  355.0  \n",
       "      60                  385.0  \n",
       "      61                  553.0  \n",
       "      63                  331.0  \n",
       "      64                  349.0  \n",
       "      66                  487.0  "
      ]
     },
     "execution_count": 53,
     "metadata": {},
     "output_type": "execute_result"
    }
   ],
   "source": [
    "def income(row):\n",
    "    if row['subscription_type'] == 'ultra':\n",
    "        return 6 * row['duration'] + 199\n",
    "    elif row['subscription_type'] == 'free':\n",
    "        return 8 * row['duration'] + 50 * row['count_tips']\n",
    "    \n",
    "    \n",
    "total_data['income_per_month'] = total_data.apply(income, axis=1)\n",
    "total_data.head(30)"
   ]
  },
  {
   "cell_type": "markdown",
   "id": "41545ac0",
   "metadata": {},
   "source": [
    "#### Шаг 6. Проверка гипотез"
   ]
  },
  {
   "cell_type": "markdown",
   "id": "92b161aa",
   "metadata": {},
   "source": [
    "***Тратят ли больше времени на поездки пользователи с подпиской, чем пользователи без неё?***"
   ]
  },
  {
   "cell_type": "markdown",
   "id": "35097387",
   "metadata": {},
   "source": [
    "На этапе анализа дата фрейма с условиями поездок с подпиской и без мы установили, что при длительных и/или частых поездках рациональнее покупать подписку. Таким образом логично предположить, что большинство пользователей с длительными и/или частыми поездками, будут иметь подписку. "
   ]
  },
  {
   "cell_type": "markdown",
   "id": "b0f160eb",
   "metadata": {},
   "source": [
    "Сформулируем систему гипотез, чтобы формализовать наш вопрос. \n",
    "* H_0: Пользователи с подпиской в среднем тратят столько же времени на поездки, что и пользователи без подписки. \n",
    "* H_1: Пользователи с подпиской в среднем тратят больше времени на поездки, чем пользователи без подписки. "
   ]
  },
  {
   "cell_type": "markdown",
   "id": "74924058",
   "metadata": {},
   "source": [
    "Для проверки гипотез напрашивается двухвыборочный t-тест. В качестве статистики будем использовать среднее, так что предпосылки о нормальности распределения статистики выполяются. Также наблюдения являются независимыми. "
   ]
  },
  {
   "cell_type": "markdown",
   "id": "d8985b3f",
   "metadata": {},
   "source": [
    "Для проверки нулевой гипотезы воспользуемся двухвыборочным t-тестом в предположении, что выборки независимы и могут иметь разную дисперсию. Последнее предположение понижает чуствительность теста, но снижает шанс ошибки, если дисперсии не равны. В качестве уровня значимости возьмём 5%."
   ]
  },
  {
   "cell_type": "code",
   "execution_count": 54,
   "id": "10e9884c",
   "metadata": {},
   "outputs": [
    {
     "name": "stdout",
     "output_type": "stream",
     "text": [
      "p-value: 1.2804098316645618e-34\n",
      "Отвергаем нулевую гипотезу\n"
     ]
    }
   ],
   "source": [
    "alpha = 0.05\n",
    "\n",
    "ultra = ultra_sub['duration'] \n",
    "\n",
    "free = free_sub['duration']\n",
    "\n",
    "results = st.ttest_ind(ultra, \n",
    "                       free,\n",
    "                       equal_var = 'unequal',\n",
    "                       alternative = 'greater')\n",
    "\n",
    "\n",
    "print('p-value:', results.pvalue)\n",
    "\n",
    "if results.pvalue < alpha:\n",
    "    print('Отвергаем нулевую гипотезу')\n",
    "else:\n",
    "    print('Принимаем нулевую гипотезу')"
   ]
  },
  {
   "cell_type": "code",
   "execution_count": 55,
   "id": "e5dfb4ea",
   "metadata": {},
   "outputs": [
    {
     "data": {
      "image/png": "[encoded data removed]",
      "text/plain": [
       "<Figure size 432x288 with 1 Axes>"
      ]
     },
     "metadata": {
      "needs_background": "light"
     },
     "output_type": "display_data"
    }
   ],
   "source": [
    "ax = sns.barplot(x = 'month',\n",
    "            y = 'duration',\n",
    "            hue = \"subscription_type\",\n",
    "            data = full_data,\n",
    "            palette = ['green', 'blue'])\n",
    "ax.set_title('Распределение продолжительности поездок по видам подписок и месяцам')\n",
    "ax.set(xlabel='Номер месяца', ylabel='Продолжительность поездок');"
   ]
  },
  {
   "cell_type": "markdown",
   "id": "ef785d62",
   "metadata": {},
   "source": [
    "Значение p-value оказалось меньше уровня значимости. Отвергаем нулевую гипотезу в пользу альтернативной: люди с подпиской тратят больше времени на поездки, чем без подписки. "
   ]
  },
  {
   "cell_type": "markdown",
   "id": "f92dcc2e",
   "metadata": {},
   "source": [
    "***Верно ли, что помесячная выручка от пользователей с подпиской выше, чем выручка от пользователей без подписки?***"
   ]
  },
  {
   "cell_type": "markdown",
   "id": "502a0449",
   "metadata": {},
   "source": [
    "Сформулируем систему гипотез, чтобы формализовать наш вопрос. \n",
    "* H_0: Пользователи с подпиской в среднем приносят столько же выручки по месячно, что и пользователи без подписки. \n",
    "* H_1: Пользователи с подпиской в среднем приносят больше выручки по месячно, чем пользователи без подписки. "
   ]
  },
  {
   "cell_type": "markdown",
   "id": "b1aca586",
   "metadata": {},
   "source": [
    "Для проверки нулевой гипотезы воспользуемся двухвыборочным t-тестом в предположении, что выборки независимы и имеют равную дисперсию. В качестве уровня значимости возьмём 5%."
   ]
  },
  {
   "cell_type": "code",
   "execution_count": 56,
   "id": "c0d15d4e",
   "metadata": {},
   "outputs": [
    {
     "name": "stdout",
     "output_type": "stream",
     "text": [
      "p-value: 1.8850394384715216e-31\n",
      "Отвергаем нулевую гипотезу\n"
     ]
    }
   ],
   "source": [
    "ultra_per_month = total_data.loc[total_data.subscription_type == 'ultra', 'income_per_month'] \n",
    "\n",
    "free_per_month = total_data.loc[total_data.subscription_type == 'free', 'income_per_month'] \n",
    "\n",
    "\n",
    "results = st.ttest_ind(ultra_per_month, \n",
    "                       free_per_month,\n",
    "                       equal_var = 'unequal',\n",
    "                       alternative = 'greater')\n",
    "\n",
    "alpha = 0.05\n",
    "\n",
    "print('p-value:',results.pvalue)\n",
    "\n",
    "if results.pvalue < alpha:\n",
    "    print('Отвергаем нулевую гипотезу')\n",
    "else:\n",
    "    print('Не удалось отвергнуть нулевую гипотезу')"
   ]
  },
  {
   "cell_type": "markdown",
   "id": "e9964525",
   "metadata": {},
   "source": [
    "Значение p-value оказалось меньше уровня значимости. Отвергаем нулевую гипотезу в пользу альтернативной: люди с подпиской помесячно приносят больше выручки, чем люди без подписки. "
   ]
  },
  {
   "cell_type": "markdown",
   "id": "732ba160",
   "metadata": {},
   "source": [
    "***Вывод по ответам на первые два вопроса:***"
   ]
  },
  {
   "cell_type": "markdown",
   "id": "e06d92d0",
   "metadata": {},
   "source": [
    "Как было установлено ранее, фирме было бы выгоднее, чтобы люди ездили только без подписки. Однако в действительности, если убрать подписку, какое-то количество людей перестанет использовать сервис так часто и/или продолжительно. Таким образом снижение цены поездки для людей, которые часто и/или подолгу используют сервис, с помощью подписки мотивируют их продолжать использовать сервис. Таким образом GoFast может потенциально выигрывыть за счёт более высокой интенсивности использования их сервиса при более низкой цене за поездки. "
   ]
  },
  {
   "cell_type": "markdown",
   "id": "15c31f45",
   "metadata": {},
   "source": [
    "И мы в действительности наблюдаем как более высокую продолжительность поездок у пользователей с подпиской, так и более высокую по месячную выручку у данной категории пользователей. "
   ]
  },
  {
   "cell_type": "markdown",
   "id": "cee6a4cb",
   "metadata": {},
   "source": [
    "Вместе с тем оценка оптимальности такой ценновой стратегии требует дополнительного исследования. К примеру, не известно, какое количество людей может потенциально отказаться от длительных поездок, если убрать опцию подписки или повысить цену на неё. "
   ]
  },
  {
   "cell_type": "markdown",
   "id": "707985ff",
   "metadata": {},
   "source": [
    "***Верно ли, что пользователи с подпиской в основном проезжают расстояние, не превышающее 3130 метров за одну поездку?***"
   ]
  },
  {
   "cell_type": "markdown",
   "id": "81a83ecf",
   "metadata": {},
   "source": [
    "Сформулируем систему гипотез, чтобы формализовать наш вопрос. \n",
    " * H_0: Пользователи с подпиской в среднем проезжают 3130 метров.\n",
    " * H_1: Пользователи с подпиской в среднем проезжают больше 3130 метров. "
   ]
  },
  {
   "cell_type": "markdown",
   "id": "8ae3048c",
   "metadata": {},
   "source": [
    "Для проверки нулевой гипотезы воспользуемся одновыборочным t-тестом. В качестве уровня значимости возьмём 5%."
   ]
  },
  {
   "cell_type": "code",
   "execution_count": 57,
   "id": "3586881c",
   "metadata": {},
   "outputs": [
    {
     "name": "stdout",
     "output_type": "stream",
     "text": [
      "p-value: 0.9195368847849785\n",
      "Не удалось отвергнуть нулевую гипотезу\n"
     ]
    }
   ],
   "source": [
    "ultra_dist = ultra_sub['distance']\n",
    "\n",
    "interested_value = 3130.0\n",
    "\n",
    "alpha = 0.05\n",
    "\n",
    "results = st.ttest_1samp(\n",
    "    ultra_dist, \n",
    "    interested_value,\n",
    "    alternative='greater')\n",
    "    \n",
    "print('p-value:',results.pvalue)\n",
    "\n",
    "if (results.pvalue < alpha):\n",
    "    print('Отвергаем нулевую гипотезу')\n",
    "else:\n",
    "    print('Не удалось отвергнуть нулевую гипотезу')"
   ]
  },
  {
   "cell_type": "markdown",
   "id": "fd6f1db3",
   "metadata": {},
   "source": [
    "***Вывод о проезжаемом расстоянии пользователями с подпиской:***"
   ]
  },
  {
   "cell_type": "markdown",
   "id": "da37bae7",
   "metadata": {},
   "source": [
    "С помощью одновыборочного t-теста нами было установлено, что в среднем пользователи с подпиской проезжают не больше 3130 метров. Это хорошая новость, так как минимализирует риск дополнительных трат из-за износа самокатов. "
   ]
  },
  {
   "cell_type": "markdown",
   "id": "6d552d61",
   "metadata": {},
   "source": [
    "***Общий вывод и последовательность действий:***"
   ]
  },
  {
   "cell_type": "markdown",
   "id": "a2641299",
   "metadata": {},
   "source": [
    "1.) Предобработка данных:\n",
    "* Удалили дубликаты.\n",
    "* Проверили наличие пропусков и аномальных значений в данных. \n",
    "* Добавили столбец с номером месяца.\n",
    "* Проверена единообразность названий столбцов. \n",
    "* Тип данных в столбце date приведён к временному типу данных. \n",
    "\n",
    "2.) Исследовательский анализ данных:\n",
    "\n",
    "Выводы о пользователях:\n",
    "* Пользователи почти равномерно распределены между городами. В Пятигорске их больше всего, а в Москве меньше всего.\n",
    "* Подавляющее число пользователей имеет возраст от 20 до 30 лет. Больше всего 25-летних пользователей. Самым молодым пользователям 12, а самым старшим 43. \n",
    "* Больше пользователей без подписки, их на 4% больше. \n",
    "\n",
    "Выводы о поездках:\n",
    "* В основном пользователи проезжают от 2,5 до 3,7 километров. Самая короткая поездка - меньше 1 метра, а самая длинная - чуть больше 7 километров. \n",
    "* В основном люди тратят от 13 до 20 минут на дорогу. Самая длительная поездка длилась 40 минут, а самая короткая менее минуты. с учетом предыдущих данных о расстояниях, можно предположить, что это тот же пользователь, и он скорее всего просто передумал ехать на самокате. \n",
    "* В основном пользователи ездят от 14 до 109 раз в год. Самой большое зафиксированное количество поездок у пользователя за 2021 год - 162 поездки. \n",
    "\n",
    "Выводы о подписке:\n",
    "* Очевидно, что покупка подписки будет выгоднее тем, кто ездит долго и/или часто. Решение простейшего неравенства\n",
    "\n",
    "$6x+199>8x+50y$\n",
    "\n",
    "в неотрицательных числах показывает, что область выгодности отсуствия подписки очень мала и приблизительно ограничена прямой с точками (0,4) и (100,0), где первая координата - количество затраченных минут на поездки, а вторая - количество поездок. Достаточно очевидно, чтобы сервису было бы выгодно, что как можно большее число пользователей ездили без подписки. \n",
    "\n",
    "3.) Объединили данные трёх датафреймов для дальнейшего компклесного анализа и создали ещё два датафрейма, в одном из которых данные по пользователям с подпиской, а в другом - данные пользователей без подписки.\n",
    "\n",
    "4.) Подсчитали суммарную выручку от пользователей с подпиской и без. Плюс, подсчитали количество поездок, их суммарное расстояние и время для пользователей с подпиской и без. \n",
    "\n",
    "5.) Проверили гипотезы:\n",
    "\n",
    "1. Выявлено, что пользователи с подпиской в среднем тратят больше времени на поездки, чем пользователи без подписки. \n",
    "2. Помесячный доход от пользователей с подпиской оказался статистически значимо более высоким, чем от пользователей без подписки. \n",
    "* Вместе с тем, не ясно, насколько целесообразно существование опции подписки. И если целосообразно, то насколько хорошо подобраны параметры ценового тарифа. Требуются дополнительные исследования. \n",
    "\n",
    "3. Пользователи с подпиской в среднем ездят 3130 метров за одну поездку. \n",
    "\n",
    "***Рекомендации по улучшению сервиса:***\n",
    "\n",
    "* Стоит обратить внимание на очень маленькое абсолютное количество пользователей в Москве. Вряд ли рынок услуг самокатов такого крупного и очень густонаселённого города полностью освоен. Возможно, стоит приложить дополнительные усилия для расширения сервиса в этом городе. \n"
   ]
  }
 ],
 "metadata": {
  "ExecuteTimeLog": [
   {
    "duration": 426,
    "start_time": "2024-09-14T09:22:03.023Z"
   },
   {
    "duration": 3,
    "start_time": "2024-09-14T09:22:09.303Z"
   },
   {
    "duration": 406,
    "start_time": "2024-09-14T09:22:29.057Z"
   },
   {
    "duration": 461,
    "start_time": "2024-09-14T09:25:47.400Z"
   },
   {
    "duration": 282,
    "start_time": "2024-09-14T09:25:47.863Z"
   },
   {
    "duration": 16,
    "start_time": "2024-09-14T09:25:48.147Z"
   },
   {
    "duration": 31,
    "start_time": "2024-09-14T09:25:48.165Z"
   },
   {
    "duration": 44,
    "start_time": "2024-09-14T09:25:48.197Z"
   },
   {
    "duration": 84,
    "start_time": "2024-09-14T09:26:54.834Z"
   },
   {
    "duration": 9,
    "start_time": "2024-09-14T09:27:06.448Z"
   },
   {
    "duration": 8,
    "start_time": "2024-09-14T09:27:12.266Z"
   },
   {
    "duration": 10,
    "start_time": "2024-09-14T09:27:16.168Z"
   },
   {
    "duration": 15,
    "start_time": "2024-09-14T09:27:39.030Z"
   },
   {
    "duration": 14,
    "start_time": "2024-09-14T09:27:51.040Z"
   },
   {
    "duration": 908,
    "start_time": "2024-09-14T09:29:51.986Z"
   },
   {
    "duration": 79,
    "start_time": "2024-09-14T09:29:52.900Z"
   },
   {
    "duration": 20,
    "start_time": "2024-09-14T09:29:52.981Z"
   },
   {
    "duration": 13,
    "start_time": "2024-09-14T09:29:53.003Z"
   },
   {
    "duration": 14,
    "start_time": "2024-09-14T09:29:53.018Z"
   },
   {
    "duration": 46,
    "start_time": "2024-09-14T09:29:53.034Z"
   },
   {
    "duration": 15,
    "start_time": "2024-09-14T09:29:53.082Z"
   },
   {
    "duration": 95,
    "start_time": "2024-09-14T09:29:53.099Z"
   },
   {
    "duration": 870,
    "start_time": "2024-09-14T09:38:24.620Z"
   },
   {
    "duration": 69,
    "start_time": "2024-09-14T09:38:25.492Z"
   },
   {
    "duration": 16,
    "start_time": "2024-09-14T09:38:25.562Z"
   },
   {
    "duration": 11,
    "start_time": "2024-09-14T09:38:25.580Z"
   },
   {
    "duration": 10,
    "start_time": "2024-09-14T09:38:25.593Z"
   },
   {
    "duration": 11,
    "start_time": "2024-09-14T09:38:25.605Z"
   },
   {
    "duration": 6,
    "start_time": "2024-09-14T09:38:25.618Z"
   },
   {
    "duration": 13,
    "start_time": "2024-09-14T09:38:25.626Z"
   },
   {
    "duration": 131,
    "start_time": "2024-09-14T09:38:25.641Z"
   },
   {
    "duration": 889,
    "start_time": "2024-09-14T09:38:50.462Z"
   },
   {
    "duration": 69,
    "start_time": "2024-09-14T09:38:51.353Z"
   },
   {
    "duration": 16,
    "start_time": "2024-09-14T09:38:51.424Z"
   },
   {
    "duration": 14,
    "start_time": "2024-09-14T09:38:51.443Z"
   },
   {
    "duration": 19,
    "start_time": "2024-09-14T09:38:51.459Z"
   },
   {
    "duration": 23,
    "start_time": "2024-09-14T09:38:51.479Z"
   },
   {
    "duration": 66,
    "start_time": "2024-09-14T09:38:51.504Z"
   },
   {
    "duration": 10,
    "start_time": "2024-09-14T09:38:51.572Z"
   },
   {
    "duration": 1330,
    "start_time": "2024-09-14T09:38:51.584Z"
   },
   {
    "duration": 8,
    "start_time": "2024-09-14T09:39:18.661Z"
   },
   {
    "duration": 24,
    "start_time": "2024-09-14T09:39:34.753Z"
   },
   {
    "duration": 28,
    "start_time": "2024-09-14T09:39:45.666Z"
   },
   {
    "duration": 24,
    "start_time": "2024-09-14T09:43:06.807Z"
   },
   {
    "duration": 913,
    "start_time": "2024-09-14T09:50:04.684Z"
   },
   {
    "duration": 70,
    "start_time": "2024-09-14T09:50:05.600Z"
   },
   {
    "duration": 19,
    "start_time": "2024-09-14T09:50:05.674Z"
   },
   {
    "duration": 49,
    "start_time": "2024-09-14T09:50:05.696Z"
   },
   {
    "duration": 36,
    "start_time": "2024-09-14T09:50:05.748Z"
   },
   {
    "duration": 31,
    "start_time": "2024-09-14T09:50:05.786Z"
   },
   {
    "duration": 28,
    "start_time": "2024-09-14T09:50:05.819Z"
   },
   {
    "duration": 51,
    "start_time": "2024-09-14T09:50:05.849Z"
   },
   {
    "duration": 51,
    "start_time": "2024-09-14T09:50:05.902Z"
   },
   {
    "duration": 44,
    "start_time": "2024-09-14T09:50:05.958Z"
   },
   {
    "duration": 820,
    "start_time": "2024-09-14T09:51:27.942Z"
   },
   {
    "duration": 81,
    "start_time": "2024-09-14T09:51:28.764Z"
   },
   {
    "duration": 20,
    "start_time": "2024-09-14T09:51:28.846Z"
   },
   {
    "duration": 13,
    "start_time": "2024-09-14T09:51:28.868Z"
   },
   {
    "duration": 23,
    "start_time": "2024-09-14T09:51:28.882Z"
   },
   {
    "duration": 11,
    "start_time": "2024-09-14T09:51:28.907Z"
   },
   {
    "duration": 15,
    "start_time": "2024-09-14T09:51:28.920Z"
   },
   {
    "duration": 18,
    "start_time": "2024-09-14T09:51:28.936Z"
   },
   {
    "duration": 8,
    "start_time": "2024-09-14T09:51:28.956Z"
   },
   {
    "duration": 38,
    "start_time": "2024-09-14T09:51:28.967Z"
   },
   {
    "duration": 7,
    "start_time": "2024-09-14T09:51:29.007Z"
   },
   {
    "duration": 20,
    "start_time": "2024-09-14T09:51:29.016Z"
   },
   {
    "duration": 87,
    "start_time": "2024-09-14T09:52:13.885Z"
   },
   {
    "duration": 110,
    "start_time": "2024-09-14T09:53:59.818Z"
   },
   {
    "duration": 9,
    "start_time": "2024-09-14T09:54:05.798Z"
   },
   {
    "duration": 8,
    "start_time": "2024-09-14T09:54:32.579Z"
   },
   {
    "duration": 7,
    "start_time": "2024-09-14T09:59:13.594Z"
   },
   {
    "duration": 11,
    "start_time": "2024-09-14T09:59:28.118Z"
   },
   {
    "duration": 10,
    "start_time": "2024-09-14T09:59:33.088Z"
   },
   {
    "duration": 8,
    "start_time": "2024-09-14T10:00:01.389Z"
   },
   {
    "duration": 824,
    "start_time": "2024-09-15T10:14:02.691Z"
   },
   {
    "duration": 405,
    "start_time": "2024-09-15T10:14:03.516Z"
   },
   {
    "duration": 15,
    "start_time": "2024-09-15T10:14:03.923Z"
   },
   {
    "duration": 10,
    "start_time": "2024-09-15T10:14:03.939Z"
   },
   {
    "duration": 657,
    "start_time": "2024-09-15T10:14:03.951Z"
   },
   {
    "duration": 9,
    "start_time": "2024-09-15T10:14:04.609Z"
   },
   {
    "duration": 21,
    "start_time": "2024-09-15T10:14:04.620Z"
   },
   {
    "duration": 6,
    "start_time": "2024-09-15T10:14:04.643Z"
   },
   {
    "duration": 11,
    "start_time": "2024-09-15T10:14:04.650Z"
   },
   {
    "duration": 7,
    "start_time": "2024-09-15T10:14:04.662Z"
   },
   {
    "duration": 5,
    "start_time": "2024-09-15T10:14:04.690Z"
   },
   {
    "duration": 7,
    "start_time": "2024-09-15T10:14:04.697Z"
   },
   {
    "duration": 7,
    "start_time": "2024-09-15T10:14:04.705Z"
   },
   {
    "duration": 24,
    "start_time": "2024-09-15T10:14:04.714Z"
   },
   {
    "duration": 1075,
    "start_time": "2024-09-15T10:20:20.323Z"
   },
   {
    "duration": 78,
    "start_time": "2024-09-15T10:20:21.400Z"
   },
   {
    "duration": 13,
    "start_time": "2024-09-15T10:20:21.479Z"
   },
   {
    "duration": 10,
    "start_time": "2024-09-15T10:20:21.494Z"
   },
   {
    "duration": 252,
    "start_time": "2024-09-15T10:20:21.505Z"
   },
   {
    "duration": 9,
    "start_time": "2024-09-15T10:20:21.759Z"
   },
   {
    "duration": 27,
    "start_time": "2024-09-15T10:20:21.770Z"
   },
   {
    "duration": 7,
    "start_time": "2024-09-15T10:20:21.799Z"
   },
   {
    "duration": 16,
    "start_time": "2024-09-15T10:20:21.808Z"
   },
   {
    "duration": 6,
    "start_time": "2024-09-15T10:20:21.827Z"
   },
   {
    "duration": 11,
    "start_time": "2024-09-15T10:20:21.834Z"
   },
   {
    "duration": 6,
    "start_time": "2024-09-15T10:20:21.846Z"
   },
   {
    "duration": 7,
    "start_time": "2024-09-15T10:20:21.853Z"
   },
   {
    "duration": 16,
    "start_time": "2024-09-15T10:20:21.889Z"
   },
   {
    "duration": 1098,
    "start_time": "2024-09-15T10:21:49.593Z"
   },
   {
    "duration": 77,
    "start_time": "2024-09-15T10:21:50.693Z"
   },
   {
    "duration": 12,
    "start_time": "2024-09-15T10:21:50.771Z"
   },
   {
    "duration": 17,
    "start_time": "2024-09-15T10:21:50.784Z"
   },
   {
    "duration": 250,
    "start_time": "2024-09-15T10:21:50.803Z"
   },
   {
    "duration": 9,
    "start_time": "2024-09-15T10:21:51.055Z"
   },
   {
    "duration": 26,
    "start_time": "2024-09-15T10:21:51.065Z"
   },
   {
    "duration": 28,
    "start_time": "2024-09-15T10:21:51.093Z"
   },
   {
    "duration": 10,
    "start_time": "2024-09-15T10:21:51.123Z"
   },
   {
    "duration": 7,
    "start_time": "2024-09-15T10:21:51.134Z"
   },
   {
    "duration": 10,
    "start_time": "2024-09-15T10:21:51.142Z"
   },
   {
    "duration": 31,
    "start_time": "2024-09-15T10:21:51.154Z"
   },
   {
    "duration": 28,
    "start_time": "2024-09-15T10:21:51.186Z"
   },
   {
    "duration": 13,
    "start_time": "2024-09-15T10:21:51.216Z"
   },
   {
    "duration": 1075,
    "start_time": "2024-09-15T10:23:45.822Z"
   },
   {
    "duration": 77,
    "start_time": "2024-09-15T10:23:46.899Z"
   },
   {
    "duration": 12,
    "start_time": "2024-09-15T10:23:46.977Z"
   },
   {
    "duration": 11,
    "start_time": "2024-09-15T10:23:46.991Z"
   },
   {
    "duration": 268,
    "start_time": "2024-09-15T10:23:47.003Z"
   },
   {
    "duration": 10,
    "start_time": "2024-09-15T10:23:47.272Z"
   },
   {
    "duration": 12,
    "start_time": "2024-09-15T10:23:47.290Z"
   },
   {
    "duration": 8,
    "start_time": "2024-09-15T10:23:47.304Z"
   },
   {
    "duration": 14,
    "start_time": "2024-09-15T10:23:47.313Z"
   },
   {
    "duration": 14,
    "start_time": "2024-09-15T10:23:47.329Z"
   },
   {
    "duration": 9,
    "start_time": "2024-09-15T10:23:47.345Z"
   },
   {
    "duration": 18,
    "start_time": "2024-09-15T10:23:47.356Z"
   },
   {
    "duration": 14,
    "start_time": "2024-09-15T10:23:47.376Z"
   },
   {
    "duration": 15,
    "start_time": "2024-09-15T10:23:47.392Z"
   },
   {
    "duration": 1109,
    "start_time": "2024-09-15T10:36:25.576Z"
   },
   {
    "duration": 77,
    "start_time": "2024-09-15T10:36:26.686Z"
   },
   {
    "duration": 12,
    "start_time": "2024-09-15T10:36:26.765Z"
   },
   {
    "duration": 10,
    "start_time": "2024-09-15T10:36:26.779Z"
   },
   {
    "duration": 261,
    "start_time": "2024-09-15T10:36:26.790Z"
   },
   {
    "duration": 98,
    "start_time": "2024-09-15T10:36:27.052Z"
   },
   {
    "duration": 0,
    "start_time": "2024-09-15T10:36:27.152Z"
   },
   {
    "duration": 0,
    "start_time": "2024-09-15T10:36:27.153Z"
   },
   {
    "duration": 0,
    "start_time": "2024-09-15T10:36:27.153Z"
   },
   {
    "duration": 0,
    "start_time": "2024-09-15T10:36:27.154Z"
   },
   {
    "duration": 0,
    "start_time": "2024-09-15T10:36:27.155Z"
   },
   {
    "duration": 0,
    "start_time": "2024-09-15T10:36:27.156Z"
   },
   {
    "duration": 0,
    "start_time": "2024-09-15T10:36:27.157Z"
   },
   {
    "duration": 0,
    "start_time": "2024-09-15T10:36:27.158Z"
   },
   {
    "duration": 0,
    "start_time": "2024-09-15T10:36:27.158Z"
   },
   {
    "duration": 1121,
    "start_time": "2024-09-15T10:36:45.912Z"
   },
   {
    "duration": 77,
    "start_time": "2024-09-15T10:36:47.034Z"
   },
   {
    "duration": 12,
    "start_time": "2024-09-15T10:36:47.112Z"
   },
   {
    "duration": 13,
    "start_time": "2024-09-15T10:36:47.126Z"
   },
   {
    "duration": 273,
    "start_time": "2024-09-15T10:36:47.140Z"
   },
   {
    "duration": 145,
    "start_time": "2024-09-15T10:36:47.414Z"
   },
   {
    "duration": 9,
    "start_time": "2024-09-15T10:36:47.560Z"
   },
   {
    "duration": 22,
    "start_time": "2024-09-15T10:36:47.570Z"
   },
   {
    "duration": 10,
    "start_time": "2024-09-15T10:36:47.594Z"
   },
   {
    "duration": 19,
    "start_time": "2024-09-15T10:36:47.605Z"
   },
   {
    "duration": 20,
    "start_time": "2024-09-15T10:36:47.625Z"
   },
   {
    "duration": 10,
    "start_time": "2024-09-15T10:36:47.646Z"
   },
   {
    "duration": 5,
    "start_time": "2024-09-15T10:36:47.658Z"
   },
   {
    "duration": 39,
    "start_time": "2024-09-15T10:36:47.665Z"
   },
   {
    "duration": 25,
    "start_time": "2024-09-15T10:36:47.706Z"
   },
   {
    "duration": 153,
    "start_time": "2024-09-15T10:37:09.357Z"
   },
   {
    "duration": 1038,
    "start_time": "2024-09-15T10:41:25.347Z"
   },
   {
    "duration": 80,
    "start_time": "2024-09-15T10:41:26.387Z"
   },
   {
    "duration": 12,
    "start_time": "2024-09-15T10:41:26.469Z"
   },
   {
    "duration": 11,
    "start_time": "2024-09-15T10:41:26.483Z"
   },
   {
    "duration": 272,
    "start_time": "2024-09-15T10:41:26.495Z"
   },
   {
    "duration": 163,
    "start_time": "2024-09-15T10:41:26.769Z"
   },
   {
    "duration": 117,
    "start_time": "2024-09-15T10:41:26.934Z"
   },
   {
    "duration": 9,
    "start_time": "2024-09-15T10:41:27.053Z"
   },
   {
    "duration": 26,
    "start_time": "2024-09-15T10:41:27.064Z"
   },
   {
    "duration": 7,
    "start_time": "2024-09-15T10:41:27.092Z"
   },
   {
    "duration": 10,
    "start_time": "2024-09-15T10:41:27.100Z"
   },
   {
    "duration": 6,
    "start_time": "2024-09-15T10:41:27.112Z"
   },
   {
    "duration": 7,
    "start_time": "2024-09-15T10:41:27.119Z"
   },
   {
    "duration": 6,
    "start_time": "2024-09-15T10:41:27.128Z"
   },
   {
    "duration": 7,
    "start_time": "2024-09-15T10:41:27.135Z"
   },
   {
    "duration": 56,
    "start_time": "2024-09-15T10:41:27.143Z"
   },
   {
    "duration": 13,
    "start_time": "2024-09-15T10:42:29.357Z"
   },
   {
    "duration": 1091,
    "start_time": "2024-09-15T10:42:36.529Z"
   },
   {
    "duration": 84,
    "start_time": "2024-09-15T10:42:37.621Z"
   },
   {
    "duration": 17,
    "start_time": "2024-09-15T10:42:37.707Z"
   },
   {
    "duration": 13,
    "start_time": "2024-09-15T10:42:37.727Z"
   },
   {
    "duration": 16,
    "start_time": "2024-09-15T10:42:37.742Z"
   },
   {
    "duration": 259,
    "start_time": "2024-09-15T10:42:37.759Z"
   },
   {
    "duration": 167,
    "start_time": "2024-09-15T10:42:38.019Z"
   },
   {
    "duration": 119,
    "start_time": "2024-09-15T10:42:38.188Z"
   },
   {
    "duration": 9,
    "start_time": "2024-09-15T10:42:38.309Z"
   },
   {
    "duration": 13,
    "start_time": "2024-09-15T10:42:38.321Z"
   },
   {
    "duration": 6,
    "start_time": "2024-09-15T10:42:38.336Z"
   },
   {
    "duration": 9,
    "start_time": "2024-09-15T10:42:38.343Z"
   },
   {
    "duration": 5,
    "start_time": "2024-09-15T10:42:38.353Z"
   },
   {
    "duration": 40,
    "start_time": "2024-09-15T10:42:38.359Z"
   },
   {
    "duration": 5,
    "start_time": "2024-09-15T10:42:38.400Z"
   },
   {
    "duration": 8,
    "start_time": "2024-09-15T10:42:38.407Z"
   },
   {
    "duration": 35,
    "start_time": "2024-09-15T10:42:38.416Z"
   },
   {
    "duration": 1102,
    "start_time": "2024-09-15T10:43:35.791Z"
   },
   {
    "duration": 77,
    "start_time": "2024-09-15T10:43:36.895Z"
   },
   {
    "duration": 13,
    "start_time": "2024-09-15T10:43:36.973Z"
   },
   {
    "duration": 10,
    "start_time": "2024-09-15T10:43:36.988Z"
   },
   {
    "duration": 16,
    "start_time": "2024-09-15T10:43:36.999Z"
   },
   {
    "duration": 266,
    "start_time": "2024-09-15T10:43:37.017Z"
   },
   {
    "duration": 159,
    "start_time": "2024-09-15T10:43:37.285Z"
   },
   {
    "duration": 113,
    "start_time": "2024-09-15T10:43:37.445Z"
   },
   {
    "duration": 9,
    "start_time": "2024-09-15T10:43:37.559Z"
   },
   {
    "duration": 28,
    "start_time": "2024-09-15T10:43:37.570Z"
   },
   {
    "duration": 6,
    "start_time": "2024-09-15T10:43:37.599Z"
   },
   {
    "duration": 15,
    "start_time": "2024-09-15T10:43:37.606Z"
   },
   {
    "duration": 6,
    "start_time": "2024-09-15T10:43:37.623Z"
   },
   {
    "duration": 8,
    "start_time": "2024-09-15T10:43:37.630Z"
   },
   {
    "duration": 6,
    "start_time": "2024-09-15T10:43:37.639Z"
   },
   {
    "duration": 35,
    "start_time": "2024-09-15T10:43:37.646Z"
   },
   {
    "duration": 19,
    "start_time": "2024-09-15T10:43:37.682Z"
   },
   {
    "duration": 1042,
    "start_time": "2024-09-15T11:02:08.850Z"
   },
   {
    "duration": 78,
    "start_time": "2024-09-15T11:02:09.894Z"
   },
   {
    "duration": 12,
    "start_time": "2024-09-15T11:02:09.974Z"
   },
   {
    "duration": 25,
    "start_time": "2024-09-15T11:02:09.988Z"
   },
   {
    "duration": 285,
    "start_time": "2024-09-15T11:02:10.016Z"
   },
   {
    "duration": 170,
    "start_time": "2024-09-15T11:02:10.304Z"
   },
   {
    "duration": 121,
    "start_time": "2024-09-15T11:02:10.476Z"
   },
   {
    "duration": 11,
    "start_time": "2024-09-15T11:02:10.599Z"
   },
   {
    "duration": 40,
    "start_time": "2024-09-15T11:02:10.611Z"
   },
   {
    "duration": 59,
    "start_time": "2024-09-15T11:02:10.652Z"
   },
   {
    "duration": 0,
    "start_time": "2024-09-15T11:02:10.713Z"
   },
   {
    "duration": 0,
    "start_time": "2024-09-15T11:02:10.714Z"
   },
   {
    "duration": 0,
    "start_time": "2024-09-15T11:02:10.715Z"
   },
   {
    "duration": 0,
    "start_time": "2024-09-15T11:02:10.716Z"
   },
   {
    "duration": 0,
    "start_time": "2024-09-15T11:02:10.717Z"
   },
   {
    "duration": 0,
    "start_time": "2024-09-15T11:02:10.718Z"
   },
   {
    "duration": 0,
    "start_time": "2024-09-15T11:02:10.719Z"
   },
   {
    "duration": 1050,
    "start_time": "2024-09-15T11:02:33.843Z"
   },
   {
    "duration": 77,
    "start_time": "2024-09-15T11:02:34.895Z"
   },
   {
    "duration": 13,
    "start_time": "2024-09-15T11:02:34.973Z"
   },
   {
    "duration": 14,
    "start_time": "2024-09-15T11:02:34.989Z"
   },
   {
    "duration": 273,
    "start_time": "2024-09-15T11:02:35.005Z"
   },
   {
    "duration": 162,
    "start_time": "2024-09-15T11:02:35.280Z"
   },
   {
    "duration": 116,
    "start_time": "2024-09-15T11:02:35.444Z"
   },
   {
    "duration": 10,
    "start_time": "2024-09-15T11:02:35.562Z"
   },
   {
    "duration": 28,
    "start_time": "2024-09-15T11:02:35.574Z"
   },
   {
    "duration": 52,
    "start_time": "2024-09-15T11:02:35.605Z"
   },
   {
    "duration": 0,
    "start_time": "2024-09-15T11:02:35.658Z"
   },
   {
    "duration": 0,
    "start_time": "2024-09-15T11:02:35.660Z"
   },
   {
    "duration": 0,
    "start_time": "2024-09-15T11:02:35.661Z"
   },
   {
    "duration": 0,
    "start_time": "2024-09-15T11:02:35.662Z"
   },
   {
    "duration": 0,
    "start_time": "2024-09-15T11:02:35.664Z"
   },
   {
    "duration": 0,
    "start_time": "2024-09-15T11:02:35.665Z"
   },
   {
    "duration": 0,
    "start_time": "2024-09-15T11:02:35.667Z"
   },
   {
    "duration": 1131,
    "start_time": "2024-09-15T11:02:54.475Z"
   },
   {
    "duration": 78,
    "start_time": "2024-09-15T11:02:55.608Z"
   },
   {
    "duration": 12,
    "start_time": "2024-09-15T11:02:55.688Z"
   },
   {
    "duration": 11,
    "start_time": "2024-09-15T11:02:55.702Z"
   },
   {
    "duration": 276,
    "start_time": "2024-09-15T11:02:55.714Z"
   },
   {
    "duration": 175,
    "start_time": "2024-09-15T11:02:55.991Z"
   },
   {
    "duration": 127,
    "start_time": "2024-09-15T11:02:56.168Z"
   },
   {
    "duration": 14,
    "start_time": "2024-09-15T11:02:56.297Z"
   },
   {
    "duration": 66,
    "start_time": "2024-09-15T11:02:56.312Z"
   },
   {
    "duration": 160,
    "start_time": "2024-09-15T11:02:56.381Z"
   },
   {
    "duration": 7,
    "start_time": "2024-09-15T11:02:56.542Z"
   },
   {
    "duration": 9,
    "start_time": "2024-09-15T11:02:56.550Z"
   },
   {
    "duration": 6,
    "start_time": "2024-09-15T11:02:56.561Z"
   },
   {
    "duration": 28,
    "start_time": "2024-09-15T11:02:56.568Z"
   },
   {
    "duration": 6,
    "start_time": "2024-09-15T11:02:56.597Z"
   },
   {
    "duration": 13,
    "start_time": "2024-09-15T11:02:56.604Z"
   },
   {
    "duration": 18,
    "start_time": "2024-09-15T11:02:56.619Z"
   },
   {
    "duration": 1132,
    "start_time": "2024-09-15T11:05:32.075Z"
   },
   {
    "duration": 79,
    "start_time": "2024-09-15T11:05:33.209Z"
   },
   {
    "duration": 13,
    "start_time": "2024-09-15T11:05:33.290Z"
   },
   {
    "duration": 27,
    "start_time": "2024-09-15T11:05:33.305Z"
   },
   {
    "duration": 272,
    "start_time": "2024-09-15T11:05:33.333Z"
   },
   {
    "duration": 161,
    "start_time": "2024-09-15T11:05:33.607Z"
   },
   {
    "duration": 114,
    "start_time": "2024-09-15T11:05:33.770Z"
   },
   {
    "duration": 9,
    "start_time": "2024-09-15T11:05:33.890Z"
   },
   {
    "duration": 15,
    "start_time": "2024-09-15T11:05:33.901Z"
   },
   {
    "duration": 177,
    "start_time": "2024-09-15T11:05:33.919Z"
   },
   {
    "duration": 174,
    "start_time": "2024-09-15T11:05:34.097Z"
   },
   {
    "duration": 6,
    "start_time": "2024-09-15T11:05:34.273Z"
   },
   {
    "duration": 27,
    "start_time": "2024-09-15T11:05:34.280Z"
   },
   {
    "duration": 50,
    "start_time": "2024-09-15T11:05:34.308Z"
   },
   {
    "duration": 13,
    "start_time": "2024-09-15T11:05:34.359Z"
   },
   {
    "duration": 22,
    "start_time": "2024-09-15T11:05:34.373Z"
   },
   {
    "duration": 30,
    "start_time": "2024-09-15T11:05:34.396Z"
   },
   {
    "duration": 12,
    "start_time": "2024-09-15T11:05:34.427Z"
   },
   {
    "duration": 1149,
    "start_time": "2024-09-15T11:41:34.631Z"
   },
   {
    "duration": 0,
    "start_time": "2024-09-15T11:41:35.782Z"
   },
   {
    "duration": 0,
    "start_time": "2024-09-15T11:41:35.783Z"
   },
   {
    "duration": 0,
    "start_time": "2024-09-15T11:41:35.784Z"
   },
   {
    "duration": 0,
    "start_time": "2024-09-15T11:41:35.785Z"
   },
   {
    "duration": 0,
    "start_time": "2024-09-15T11:41:35.789Z"
   },
   {
    "duration": 0,
    "start_time": "2024-09-15T11:41:35.791Z"
   },
   {
    "duration": 0,
    "start_time": "2024-09-15T11:41:35.791Z"
   },
   {
    "duration": 0,
    "start_time": "2024-09-15T11:41:35.793Z"
   },
   {
    "duration": 0,
    "start_time": "2024-09-15T11:41:35.794Z"
   },
   {
    "duration": 0,
    "start_time": "2024-09-15T11:41:35.795Z"
   },
   {
    "duration": 0,
    "start_time": "2024-09-15T11:41:35.796Z"
   },
   {
    "duration": 0,
    "start_time": "2024-09-15T11:41:35.797Z"
   },
   {
    "duration": 0,
    "start_time": "2024-09-15T11:41:35.798Z"
   },
   {
    "duration": 0,
    "start_time": "2024-09-15T11:41:35.799Z"
   },
   {
    "duration": 0,
    "start_time": "2024-09-15T11:41:35.800Z"
   },
   {
    "duration": 0,
    "start_time": "2024-09-15T11:41:35.801Z"
   },
   {
    "duration": 0,
    "start_time": "2024-09-15T11:41:35.802Z"
   },
   {
    "duration": 1106,
    "start_time": "2024-09-15T11:42:24.168Z"
   },
   {
    "duration": 78,
    "start_time": "2024-09-15T11:42:25.276Z"
   },
   {
    "duration": 13,
    "start_time": "2024-09-15T11:42:25.355Z"
   },
   {
    "duration": 10,
    "start_time": "2024-09-15T11:42:25.369Z"
   },
   {
    "duration": 267,
    "start_time": "2024-09-15T11:42:25.381Z"
   },
   {
    "duration": 162,
    "start_time": "2024-09-15T11:42:25.649Z"
   },
   {
    "duration": 113,
    "start_time": "2024-09-15T11:42:25.812Z"
   },
   {
    "duration": 9,
    "start_time": "2024-09-15T11:42:25.926Z"
   },
   {
    "duration": 30,
    "start_time": "2024-09-15T11:42:25.936Z"
   },
   {
    "duration": 165,
    "start_time": "2024-09-15T11:42:25.968Z"
   },
   {
    "duration": 160,
    "start_time": "2024-09-15T11:42:26.134Z"
   },
   {
    "duration": 7,
    "start_time": "2024-09-15T11:42:26.295Z"
   },
   {
    "duration": 25,
    "start_time": "2024-09-15T11:42:26.303Z"
   },
   {
    "duration": 12,
    "start_time": "2024-09-15T11:42:26.330Z"
   },
   {
    "duration": 7,
    "start_time": "2024-09-15T11:42:26.343Z"
   },
   {
    "duration": 11,
    "start_time": "2024-09-15T11:42:26.351Z"
   },
   {
    "duration": 9,
    "start_time": "2024-09-15T11:42:26.364Z"
   },
   {
    "duration": 20,
    "start_time": "2024-09-15T11:42:26.374Z"
   },
   {
    "duration": 1057,
    "start_time": "2024-09-15T11:53:57.730Z"
   },
   {
    "duration": 79,
    "start_time": "2024-09-15T11:53:58.790Z"
   },
   {
    "duration": 13,
    "start_time": "2024-09-15T11:53:58.870Z"
   },
   {
    "duration": 10,
    "start_time": "2024-09-15T11:53:58.886Z"
   },
   {
    "duration": 262,
    "start_time": "2024-09-15T11:53:58.898Z"
   },
   {
    "duration": 159,
    "start_time": "2024-09-15T11:53:59.161Z"
   },
   {
    "duration": 119,
    "start_time": "2024-09-15T11:53:59.321Z"
   },
   {
    "duration": 10,
    "start_time": "2024-09-15T11:53:59.442Z"
   },
   {
    "duration": 11,
    "start_time": "2024-09-15T11:53:59.453Z"
   },
   {
    "duration": 185,
    "start_time": "2024-09-15T11:53:59.467Z"
   },
   {
    "duration": 164,
    "start_time": "2024-09-15T11:53:59.654Z"
   },
   {
    "duration": 7,
    "start_time": "2024-09-15T11:53:59.820Z"
   },
   {
    "duration": 10,
    "start_time": "2024-09-15T11:53:59.828Z"
   },
   {
    "duration": 6,
    "start_time": "2024-09-15T11:53:59.840Z"
   },
   {
    "duration": 14,
    "start_time": "2024-09-15T11:53:59.847Z"
   },
   {
    "duration": 5,
    "start_time": "2024-09-15T11:53:59.863Z"
   },
   {
    "duration": 6,
    "start_time": "2024-09-15T11:53:59.889Z"
   },
   {
    "duration": 15,
    "start_time": "2024-09-15T11:53:59.897Z"
   },
   {
    "duration": 6,
    "start_time": "2024-09-15T11:53:59.913Z"
   },
   {
    "duration": 13,
    "start_time": "2024-09-15T11:53:59.920Z"
   },
   {
    "duration": 3,
    "start_time": "2024-09-15T11:59:28.413Z"
   },
   {
    "duration": 1062,
    "start_time": "2024-09-15T11:59:37.043Z"
   },
   {
    "duration": 80,
    "start_time": "2024-09-15T11:59:38.107Z"
   },
   {
    "duration": 21,
    "start_time": "2024-09-15T11:59:38.189Z"
   },
   {
    "duration": 21,
    "start_time": "2024-09-15T11:59:38.213Z"
   },
   {
    "duration": 299,
    "start_time": "2024-09-15T11:59:38.235Z"
   },
   {
    "duration": 175,
    "start_time": "2024-09-15T11:59:38.536Z"
   },
   {
    "duration": 142,
    "start_time": "2024-09-15T11:59:38.713Z"
   },
   {
    "duration": 10,
    "start_time": "2024-09-15T11:59:38.857Z"
   },
   {
    "duration": 22,
    "start_time": "2024-09-15T11:59:38.869Z"
   },
   {
    "duration": 189,
    "start_time": "2024-09-15T11:59:38.897Z"
   },
   {
    "duration": 164,
    "start_time": "2024-09-15T11:59:39.089Z"
   },
   {
    "duration": 8,
    "start_time": "2024-09-15T11:59:39.254Z"
   },
   {
    "duration": 21,
    "start_time": "2024-09-15T11:59:39.263Z"
   },
   {
    "duration": 10,
    "start_time": "2024-09-15T11:59:39.290Z"
   },
   {
    "duration": 16,
    "start_time": "2024-09-15T11:59:39.302Z"
   },
   {
    "duration": 10,
    "start_time": "2024-09-15T11:59:39.319Z"
   },
   {
    "duration": 8,
    "start_time": "2024-09-15T11:59:39.330Z"
   },
   {
    "duration": 15,
    "start_time": "2024-09-15T11:59:39.339Z"
   },
   {
    "duration": 19,
    "start_time": "2024-09-15T11:59:39.356Z"
   },
   {
    "duration": 14,
    "start_time": "2024-09-15T11:59:39.376Z"
   },
   {
    "duration": 1171,
    "start_time": "2024-09-15T12:00:01.608Z"
   },
   {
    "duration": 79,
    "start_time": "2024-09-15T12:00:02.781Z"
   },
   {
    "duration": 13,
    "start_time": "2024-09-15T12:00:02.862Z"
   },
   {
    "duration": 20,
    "start_time": "2024-09-15T12:00:02.878Z"
   },
   {
    "duration": 327,
    "start_time": "2024-09-15T12:00:02.901Z"
   },
   {
    "duration": 182,
    "start_time": "2024-09-15T12:00:03.230Z"
   },
   {
    "duration": 124,
    "start_time": "2024-09-15T12:00:03.414Z"
   },
   {
    "duration": 10,
    "start_time": "2024-09-15T12:00:03.540Z"
   },
   {
    "duration": 13,
    "start_time": "2024-09-15T12:00:03.552Z"
   },
   {
    "duration": 201,
    "start_time": "2024-09-15T12:00:03.568Z"
   },
   {
    "duration": 181,
    "start_time": "2024-09-15T12:00:03.771Z"
   },
   {
    "duration": 6,
    "start_time": "2024-09-15T12:00:03.953Z"
   },
   {
    "duration": 15,
    "start_time": "2024-09-15T12:00:03.961Z"
   },
   {
    "duration": 25,
    "start_time": "2024-09-15T12:00:03.977Z"
   },
   {
    "duration": 29,
    "start_time": "2024-09-15T12:00:04.004Z"
   },
   {
    "duration": 4,
    "start_time": "2024-09-15T12:00:04.035Z"
   },
   {
    "duration": 11,
    "start_time": "2024-09-15T12:00:04.041Z"
   },
   {
    "duration": 12,
    "start_time": "2024-09-15T12:00:04.053Z"
   },
   {
    "duration": 3,
    "start_time": "2024-09-15T12:00:04.066Z"
   },
   {
    "duration": 52,
    "start_time": "2024-09-15T12:00:04.070Z"
   },
   {
    "duration": 55,
    "start_time": "2024-09-15T12:01:05.054Z"
   },
   {
    "duration": 1135,
    "start_time": "2024-09-15T12:02:20.555Z"
   },
   {
    "duration": 78,
    "start_time": "2024-09-15T12:02:21.692Z"
   },
   {
    "duration": 13,
    "start_time": "2024-09-15T12:02:21.771Z"
   },
   {
    "duration": 12,
    "start_time": "2024-09-15T12:02:21.785Z"
   },
   {
    "duration": 282,
    "start_time": "2024-09-15T12:02:21.798Z"
   },
   {
    "duration": 161,
    "start_time": "2024-09-15T12:02:22.082Z"
   },
   {
    "duration": 124,
    "start_time": "2024-09-15T12:02:22.245Z"
   },
   {
    "duration": 10,
    "start_time": "2024-09-15T12:02:22.370Z"
   },
   {
    "duration": 17,
    "start_time": "2024-09-15T12:02:22.382Z"
   },
   {
    "duration": 167,
    "start_time": "2024-09-15T12:02:22.401Z"
   },
   {
    "duration": 222,
    "start_time": "2024-09-15T12:02:22.570Z"
   },
   {
    "duration": 7,
    "start_time": "2024-09-15T12:02:22.793Z"
   },
   {
    "duration": 36,
    "start_time": "2024-09-15T12:02:22.801Z"
   },
   {
    "duration": 19,
    "start_time": "2024-09-15T12:02:22.839Z"
   },
   {
    "duration": 35,
    "start_time": "2024-09-15T12:02:22.859Z"
   },
   {
    "duration": 24,
    "start_time": "2024-09-15T12:02:22.896Z"
   },
   {
    "duration": 10,
    "start_time": "2024-09-15T12:02:22.921Z"
   },
   {
    "duration": 24,
    "start_time": "2024-09-15T12:02:22.932Z"
   },
   {
    "duration": 10,
    "start_time": "2024-09-15T12:02:22.957Z"
   },
   {
    "duration": 4,
    "start_time": "2024-09-15T12:02:22.969Z"
   },
   {
    "duration": 96,
    "start_time": "2024-09-15T12:02:22.975Z"
   },
   {
    "duration": 0,
    "start_time": "2024-09-15T12:02:23.072Z"
   },
   {
    "duration": 1144,
    "start_time": "2024-09-15T12:03:59.174Z"
   },
   {
    "duration": 81,
    "start_time": "2024-09-15T12:04:00.319Z"
   },
   {
    "duration": 13,
    "start_time": "2024-09-15T12:04:00.401Z"
   },
   {
    "duration": 19,
    "start_time": "2024-09-15T12:04:00.416Z"
   },
   {
    "duration": 259,
    "start_time": "2024-09-15T12:04:00.437Z"
   },
   {
    "duration": 159,
    "start_time": "2024-09-15T12:04:00.698Z"
   },
   {
    "duration": 111,
    "start_time": "2024-09-15T12:04:00.859Z"
   },
   {
    "duration": 9,
    "start_time": "2024-09-15T12:04:00.972Z"
   },
   {
    "duration": 10,
    "start_time": "2024-09-15T12:04:00.990Z"
   },
   {
    "duration": 170,
    "start_time": "2024-09-15T12:04:01.003Z"
   },
   {
    "duration": 165,
    "start_time": "2024-09-15T12:04:01.174Z"
   },
   {
    "duration": 7,
    "start_time": "2024-09-15T12:04:01.341Z"
   },
   {
    "duration": 11,
    "start_time": "2024-09-15T12:04:01.349Z"
   },
   {
    "duration": 11,
    "start_time": "2024-09-15T12:04:01.361Z"
   },
   {
    "duration": 21,
    "start_time": "2024-09-15T12:04:01.373Z"
   },
   {
    "duration": 37,
    "start_time": "2024-09-15T12:04:01.395Z"
   },
   {
    "duration": 35,
    "start_time": "2024-09-15T12:04:01.434Z"
   },
   {
    "duration": 9,
    "start_time": "2024-09-15T12:04:01.471Z"
   },
   {
    "duration": 5,
    "start_time": "2024-09-15T12:04:01.481Z"
   },
   {
    "duration": 7,
    "start_time": "2024-09-15T12:04:01.487Z"
   },
   {
    "duration": 126,
    "start_time": "2024-09-15T12:04:01.495Z"
   },
   {
    "duration": 0,
    "start_time": "2024-09-15T12:04:01.622Z"
   },
   {
    "duration": 9,
    "start_time": "2024-09-15T12:05:45.538Z"
   },
   {
    "duration": 4,
    "start_time": "2024-09-15T12:06:20.086Z"
   },
   {
    "duration": 1106,
    "start_time": "2024-09-15T12:06:25.775Z"
   },
   {
    "duration": 77,
    "start_time": "2024-09-15T12:06:26.883Z"
   },
   {
    "duration": 12,
    "start_time": "2024-09-15T12:06:26.961Z"
   },
   {
    "duration": 10,
    "start_time": "2024-09-15T12:06:26.974Z"
   },
   {
    "duration": 255,
    "start_time": "2024-09-15T12:06:26.985Z"
   },
   {
    "duration": 163,
    "start_time": "2024-09-15T12:06:27.241Z"
   },
   {
    "duration": 112,
    "start_time": "2024-09-15T12:06:27.405Z"
   },
   {
    "duration": 9,
    "start_time": "2024-09-15T12:06:27.518Z"
   },
   {
    "duration": 16,
    "start_time": "2024-09-15T12:06:27.528Z"
   },
   {
    "duration": 176,
    "start_time": "2024-09-15T12:06:27.546Z"
   },
   {
    "duration": 170,
    "start_time": "2024-09-15T12:06:27.723Z"
   },
   {
    "duration": 7,
    "start_time": "2024-09-15T12:06:27.894Z"
   },
   {
    "duration": 10,
    "start_time": "2024-09-15T12:06:27.902Z"
   },
   {
    "duration": 13,
    "start_time": "2024-09-15T12:06:27.914Z"
   },
   {
    "duration": 8,
    "start_time": "2024-09-15T12:06:27.928Z"
   },
   {
    "duration": 5,
    "start_time": "2024-09-15T12:06:27.937Z"
   },
   {
    "duration": 6,
    "start_time": "2024-09-15T12:06:27.944Z"
   },
   {
    "duration": 17,
    "start_time": "2024-09-15T12:06:27.951Z"
   },
   {
    "duration": 6,
    "start_time": "2024-09-15T12:06:27.989Z"
   },
   {
    "duration": 3,
    "start_time": "2024-09-15T12:06:27.996Z"
   },
   {
    "duration": 6,
    "start_time": "2024-09-15T12:06:28.001Z"
   },
   {
    "duration": 12,
    "start_time": "2024-09-15T12:06:28.008Z"
   },
   {
    "duration": 1087,
    "start_time": "2024-09-15T12:07:24.903Z"
   },
   {
    "duration": 78,
    "start_time": "2024-09-15T12:07:25.991Z"
   },
   {
    "duration": 12,
    "start_time": "2024-09-15T12:07:26.070Z"
   },
   {
    "duration": 10,
    "start_time": "2024-09-15T12:07:26.083Z"
   },
   {
    "duration": 254,
    "start_time": "2024-09-15T12:07:26.095Z"
   },
   {
    "duration": 158,
    "start_time": "2024-09-15T12:07:26.351Z"
   },
   {
    "duration": 111,
    "start_time": "2024-09-15T12:07:26.511Z"
   },
   {
    "duration": 9,
    "start_time": "2024-09-15T12:07:26.624Z"
   },
   {
    "duration": 41,
    "start_time": "2024-09-15T12:07:26.634Z"
   },
   {
    "duration": 161,
    "start_time": "2024-09-15T12:07:26.676Z"
   },
   {
    "duration": 167,
    "start_time": "2024-09-15T12:07:26.839Z"
   },
   {
    "duration": 7,
    "start_time": "2024-09-15T12:07:27.007Z"
   },
   {
    "duration": 20,
    "start_time": "2024-09-15T12:07:27.016Z"
   },
   {
    "duration": 23,
    "start_time": "2024-09-15T12:07:27.039Z"
   },
   {
    "duration": 11,
    "start_time": "2024-09-15T12:07:27.064Z"
   },
   {
    "duration": 6,
    "start_time": "2024-09-15T12:07:27.077Z"
   },
   {
    "duration": 17,
    "start_time": "2024-09-15T12:07:27.084Z"
   },
   {
    "duration": 8,
    "start_time": "2024-09-15T12:07:27.103Z"
   },
   {
    "duration": 3,
    "start_time": "2024-09-15T12:07:27.112Z"
   },
   {
    "duration": 13,
    "start_time": "2024-09-15T12:07:27.117Z"
   },
   {
    "duration": 22,
    "start_time": "2024-09-15T12:07:27.131Z"
   },
   {
    "duration": 17,
    "start_time": "2024-09-15T12:07:27.154Z"
   },
   {
    "duration": 12,
    "start_time": "2024-09-15T12:13:57.415Z"
   },
   {
    "duration": 1217,
    "start_time": "2024-09-15T14:54:18.211Z"
   },
   {
    "duration": 93,
    "start_time": "2024-09-15T14:54:19.431Z"
   },
   {
    "duration": 15,
    "start_time": "2024-09-15T14:54:19.525Z"
   },
   {
    "duration": 11,
    "start_time": "2024-09-15T14:54:19.542Z"
   },
   {
    "duration": 12,
    "start_time": "2024-09-15T14:54:19.554Z"
   },
   {
    "duration": 16,
    "start_time": "2024-09-15T14:54:19.567Z"
   },
   {
    "duration": 17,
    "start_time": "2024-09-15T14:54:19.585Z"
   },
   {
    "duration": 15,
    "start_time": "2024-09-15T14:54:19.604Z"
   },
   {
    "duration": 17,
    "start_time": "2024-09-15T14:54:19.620Z"
   },
   {
    "duration": 14,
    "start_time": "2024-09-15T14:54:19.639Z"
   },
   {
    "duration": 7,
    "start_time": "2024-09-15T14:54:19.655Z"
   },
   {
    "duration": 8,
    "start_time": "2024-09-15T14:54:19.663Z"
   },
   {
    "duration": 25,
    "start_time": "2024-09-15T14:54:19.672Z"
   },
   {
    "duration": 3,
    "start_time": "2024-09-15T14:54:19.699Z"
   },
   {
    "duration": 8,
    "start_time": "2024-09-15T14:54:19.705Z"
   },
   {
    "duration": 21,
    "start_time": "2024-09-15T14:54:19.714Z"
   },
   {
    "duration": 11,
    "start_time": "2024-09-15T14:54:19.739Z"
   },
   {
    "duration": 318,
    "start_time": "2024-09-15T14:54:19.752Z"
   },
   {
    "duration": 205,
    "start_time": "2024-09-15T14:54:20.071Z"
   },
   {
    "duration": 160,
    "start_time": "2024-09-15T14:54:20.278Z"
   },
   {
    "duration": 202,
    "start_time": "2024-09-15T14:54:20.440Z"
   },
   {
    "duration": 203,
    "start_time": "2024-09-15T14:54:20.643Z"
   },
   {
    "duration": 53,
    "start_time": "2024-09-15T15:02:17.929Z"
   },
   {
    "duration": 1206,
    "start_time": "2024-09-15T15:05:00.134Z"
   },
   {
    "duration": 95,
    "start_time": "2024-09-15T15:05:01.342Z"
   },
   {
    "duration": 12,
    "start_time": "2024-09-15T15:05:01.439Z"
   },
   {
    "duration": 10,
    "start_time": "2024-09-15T15:05:01.453Z"
   },
   {
    "duration": 16,
    "start_time": "2024-09-15T15:05:01.465Z"
   },
   {
    "duration": 13,
    "start_time": "2024-09-15T15:05:01.482Z"
   },
   {
    "duration": 26,
    "start_time": "2024-09-15T15:05:01.505Z"
   },
   {
    "duration": 16,
    "start_time": "2024-09-15T15:05:01.533Z"
   },
   {
    "duration": 12,
    "start_time": "2024-09-15T15:05:01.559Z"
   },
   {
    "duration": 19,
    "start_time": "2024-09-15T15:05:01.574Z"
   },
   {
    "duration": 35,
    "start_time": "2024-09-15T15:05:01.595Z"
   },
   {
    "duration": 23,
    "start_time": "2024-09-15T15:05:01.634Z"
   },
   {
    "duration": 10,
    "start_time": "2024-09-15T15:05:01.659Z"
   },
   {
    "duration": 14,
    "start_time": "2024-09-15T15:05:01.671Z"
   },
   {
    "duration": 43,
    "start_time": "2024-09-15T15:05:01.687Z"
   },
   {
    "duration": 16,
    "start_time": "2024-09-15T15:05:01.734Z"
   },
   {
    "duration": 11,
    "start_time": "2024-09-15T15:05:01.752Z"
   },
   {
    "duration": 326,
    "start_time": "2024-09-15T15:05:01.765Z"
   },
   {
    "duration": 15,
    "start_time": "2024-09-15T15:05:02.108Z"
   },
   {
    "duration": 213,
    "start_time": "2024-09-15T15:05:02.125Z"
   },
   {
    "duration": 134,
    "start_time": "2024-09-15T15:05:02.340Z"
   },
   {
    "duration": 207,
    "start_time": "2024-09-15T15:05:02.476Z"
   },
   {
    "duration": 184,
    "start_time": "2024-09-15T15:05:02.685Z"
   },
   {
    "duration": 1172,
    "start_time": "2024-09-15T15:06:55.014Z"
   },
   {
    "duration": 79,
    "start_time": "2024-09-15T15:06:56.189Z"
   },
   {
    "duration": 13,
    "start_time": "2024-09-15T15:06:56.269Z"
   },
   {
    "duration": 17,
    "start_time": "2024-09-15T15:06:56.284Z"
   },
   {
    "duration": 20,
    "start_time": "2024-09-15T15:06:56.303Z"
   },
   {
    "duration": 18,
    "start_time": "2024-09-15T15:06:56.325Z"
   },
   {
    "duration": 6,
    "start_time": "2024-09-15T15:06:56.344Z"
   },
   {
    "duration": 9,
    "start_time": "2024-09-15T15:06:56.351Z"
   },
   {
    "duration": 19,
    "start_time": "2024-09-15T15:06:56.362Z"
   },
   {
    "duration": 15,
    "start_time": "2024-09-15T15:06:56.383Z"
   },
   {
    "duration": 6,
    "start_time": "2024-09-15T15:06:56.400Z"
   },
   {
    "duration": 16,
    "start_time": "2024-09-15T15:06:56.413Z"
   },
   {
    "duration": 9,
    "start_time": "2024-09-15T15:06:56.430Z"
   },
   {
    "duration": 2,
    "start_time": "2024-09-15T15:06:56.441Z"
   },
   {
    "duration": 4,
    "start_time": "2024-09-15T15:06:56.445Z"
   },
   {
    "duration": 13,
    "start_time": "2024-09-15T15:06:56.450Z"
   },
   {
    "duration": 34,
    "start_time": "2024-09-15T15:06:56.464Z"
   },
   {
    "duration": 305,
    "start_time": "2024-09-15T15:06:56.499Z"
   },
   {
    "duration": 22,
    "start_time": "2024-09-15T15:06:56.805Z"
   },
   {
    "duration": 112,
    "start_time": "2024-09-15T15:06:56.830Z"
   },
   {
    "duration": 0,
    "start_time": "2024-09-15T15:06:56.943Z"
   },
   {
    "duration": 0,
    "start_time": "2024-09-15T15:06:56.944Z"
   },
   {
    "duration": 0,
    "start_time": "2024-09-15T15:06:56.946Z"
   },
   {
    "duration": 0,
    "start_time": "2024-09-15T15:06:56.947Z"
   },
   {
    "duration": 124,
    "start_time": "2024-09-15T15:08:37.061Z"
   },
   {
    "duration": 107,
    "start_time": "2024-09-15T15:08:54.755Z"
   },
   {
    "duration": 1347,
    "start_time": "2024-09-15T15:09:01.689Z"
   },
   {
    "duration": 94,
    "start_time": "2024-09-15T15:09:03.038Z"
   },
   {
    "duration": 12,
    "start_time": "2024-09-15T15:09:03.134Z"
   },
   {
    "duration": 10,
    "start_time": "2024-09-15T15:09:03.147Z"
   },
   {
    "duration": 23,
    "start_time": "2024-09-15T15:09:03.159Z"
   },
   {
    "duration": 33,
    "start_time": "2024-09-15T15:09:03.183Z"
   },
   {
    "duration": 20,
    "start_time": "2024-09-15T15:09:03.218Z"
   },
   {
    "duration": 15,
    "start_time": "2024-09-15T15:09:03.240Z"
   },
   {
    "duration": 12,
    "start_time": "2024-09-15T15:09:03.257Z"
   },
   {
    "duration": 12,
    "start_time": "2024-09-15T15:09:03.272Z"
   },
   {
    "duration": 22,
    "start_time": "2024-09-15T15:09:03.285Z"
   },
   {
    "duration": 23,
    "start_time": "2024-09-15T15:09:03.308Z"
   },
   {
    "duration": 10,
    "start_time": "2024-09-15T15:09:03.333Z"
   },
   {
    "duration": 3,
    "start_time": "2024-09-15T15:09:03.345Z"
   },
   {
    "duration": 4,
    "start_time": "2024-09-15T15:09:03.350Z"
   },
   {
    "duration": 16,
    "start_time": "2024-09-15T15:09:03.356Z"
   },
   {
    "duration": 10,
    "start_time": "2024-09-15T15:09:03.374Z"
   },
   {
    "duration": 326,
    "start_time": "2024-09-15T15:09:03.394Z"
   },
   {
    "duration": 20,
    "start_time": "2024-09-15T15:09:03.721Z"
   },
   {
    "duration": 124,
    "start_time": "2024-09-15T15:09:03.743Z"
   },
   {
    "duration": 189,
    "start_time": "2024-09-15T15:09:03.869Z"
   },
   {
    "duration": 144,
    "start_time": "2024-09-15T15:09:04.059Z"
   },
   {
    "duration": 217,
    "start_time": "2024-09-15T15:09:04.214Z"
   },
   {
    "duration": 198,
    "start_time": "2024-09-15T15:09:04.433Z"
   },
   {
    "duration": 1217,
    "start_time": "2024-09-15T15:13:55.639Z"
   },
   {
    "duration": 89,
    "start_time": "2024-09-15T15:13:56.858Z"
   },
   {
    "duration": 13,
    "start_time": "2024-09-15T15:13:56.948Z"
   },
   {
    "duration": 10,
    "start_time": "2024-09-15T15:13:56.962Z"
   },
   {
    "duration": 29,
    "start_time": "2024-09-15T15:13:56.973Z"
   },
   {
    "duration": 52,
    "start_time": "2024-09-15T15:13:57.004Z"
   },
   {
    "duration": 7,
    "start_time": "2024-09-15T15:13:57.057Z"
   },
   {
    "duration": 37,
    "start_time": "2024-09-15T15:13:57.065Z"
   },
   {
    "duration": 19,
    "start_time": "2024-09-15T15:13:57.113Z"
   },
   {
    "duration": 8,
    "start_time": "2024-09-15T15:13:57.137Z"
   },
   {
    "duration": 10,
    "start_time": "2024-09-15T15:13:57.146Z"
   },
   {
    "duration": 7,
    "start_time": "2024-09-15T15:13:57.158Z"
   },
   {
    "duration": 9,
    "start_time": "2024-09-15T15:13:57.166Z"
   },
   {
    "duration": 3,
    "start_time": "2024-09-15T15:13:57.177Z"
   },
   {
    "duration": 25,
    "start_time": "2024-09-15T15:13:57.189Z"
   },
   {
    "duration": 31,
    "start_time": "2024-09-15T15:13:57.221Z"
   },
   {
    "duration": 18,
    "start_time": "2024-09-15T15:13:57.254Z"
   },
   {
    "duration": 321,
    "start_time": "2024-09-15T15:13:57.274Z"
   },
   {
    "duration": 33,
    "start_time": "2024-09-15T15:13:57.602Z"
   },
   {
    "duration": 119,
    "start_time": "2024-09-15T15:13:57.636Z"
   },
   {
    "duration": 200,
    "start_time": "2024-09-15T15:13:57.756Z"
   },
   {
    "duration": 142,
    "start_time": "2024-09-15T15:13:57.958Z"
   },
   {
    "duration": 218,
    "start_time": "2024-09-15T15:13:58.101Z"
   },
   {
    "duration": 17,
    "start_time": "2024-09-15T15:13:58.321Z"
   },
   {
    "duration": 203,
    "start_time": "2024-09-15T15:13:58.340Z"
   },
   {
    "duration": 8,
    "start_time": "2024-09-15T15:13:58.545Z"
   },
   {
    "duration": 1175,
    "start_time": "2024-09-15T15:14:48.308Z"
   },
   {
    "duration": 85,
    "start_time": "2024-09-15T15:14:49.484Z"
   },
   {
    "duration": 12,
    "start_time": "2024-09-15T15:14:49.571Z"
   },
   {
    "duration": 23,
    "start_time": "2024-09-15T15:14:49.584Z"
   },
   {
    "duration": 21,
    "start_time": "2024-09-15T15:14:49.609Z"
   },
   {
    "duration": 17,
    "start_time": "2024-09-15T15:14:49.632Z"
   },
   {
    "duration": 12,
    "start_time": "2024-09-15T15:14:49.650Z"
   },
   {
    "duration": 11,
    "start_time": "2024-09-15T15:14:49.663Z"
   },
   {
    "duration": 8,
    "start_time": "2024-09-15T15:14:49.676Z"
   },
   {
    "duration": 35,
    "start_time": "2024-09-15T15:14:49.685Z"
   },
   {
    "duration": 23,
    "start_time": "2024-09-15T15:14:49.721Z"
   },
   {
    "duration": 10,
    "start_time": "2024-09-15T15:14:49.747Z"
   },
   {
    "duration": 20,
    "start_time": "2024-09-15T15:14:49.758Z"
   },
   {
    "duration": 3,
    "start_time": "2024-09-15T15:14:49.780Z"
   },
   {
    "duration": 7,
    "start_time": "2024-09-15T15:14:49.785Z"
   },
   {
    "duration": 37,
    "start_time": "2024-09-15T15:14:49.793Z"
   },
   {
    "duration": 12,
    "start_time": "2024-09-15T15:14:49.832Z"
   },
   {
    "duration": 306,
    "start_time": "2024-09-15T15:14:49.846Z"
   },
   {
    "duration": 7,
    "start_time": "2024-09-15T15:14:50.154Z"
   },
   {
    "duration": 179,
    "start_time": "2024-09-15T15:14:50.163Z"
   },
   {
    "duration": 181,
    "start_time": "2024-09-15T15:14:50.344Z"
   },
   {
    "duration": 131,
    "start_time": "2024-09-15T15:14:50.527Z"
   },
   {
    "duration": 200,
    "start_time": "2024-09-15T15:14:50.659Z"
   },
   {
    "duration": 8,
    "start_time": "2024-09-15T15:14:50.861Z"
   },
   {
    "duration": 206,
    "start_time": "2024-09-15T15:14:50.870Z"
   },
   {
    "duration": 25,
    "start_time": "2024-09-15T15:14:51.077Z"
   },
   {
    "duration": 11,
    "start_time": "2024-09-15T15:14:51.104Z"
   },
   {
    "duration": 117,
    "start_time": "2024-09-15T15:32:10.762Z"
   },
   {
    "duration": 6,
    "start_time": "2024-09-15T15:32:41.271Z"
   },
   {
    "duration": 18,
    "start_time": "2024-09-15T15:38:02.384Z"
   },
   {
    "duration": 16,
    "start_time": "2024-09-15T15:38:25.507Z"
   },
   {
    "duration": 14,
    "start_time": "2024-09-15T15:40:01.329Z"
   },
   {
    "duration": 15,
    "start_time": "2024-09-15T15:40:49.122Z"
   },
   {
    "duration": 802,
    "start_time": "2024-09-15T15:41:25.867Z"
   },
   {
    "duration": 16,
    "start_time": "2024-09-15T15:41:37.172Z"
   },
   {
    "duration": 11,
    "start_time": "2024-09-15T15:41:53.111Z"
   },
   {
    "duration": 65,
    "start_time": "2024-09-15T15:42:11.682Z"
   },
   {
    "duration": 15,
    "start_time": "2024-09-15T15:42:15.144Z"
   },
   {
    "duration": 11,
    "start_time": "2024-09-15T15:43:05.022Z"
   },
   {
    "duration": 13,
    "start_time": "2024-09-15T15:43:58.156Z"
   },
   {
    "duration": 11,
    "start_time": "2024-09-15T15:44:12.368Z"
   },
   {
    "duration": 51,
    "start_time": "2024-09-15T15:44:30.320Z"
   },
   {
    "duration": 9,
    "start_time": "2024-09-15T15:44:34.661Z"
   },
   {
    "duration": 20266,
    "start_time": "2024-09-15T15:45:17.173Z"
   },
   {
    "duration": 16,
    "start_time": "2024-09-15T15:46:27.501Z"
   },
   {
    "duration": 1251,
    "start_time": "2024-09-15T15:46:36.713Z"
   },
   {
    "duration": 87,
    "start_time": "2024-09-15T15:46:37.965Z"
   },
   {
    "duration": 13,
    "start_time": "2024-09-15T15:46:38.054Z"
   },
   {
    "duration": 12,
    "start_time": "2024-09-15T15:46:38.069Z"
   },
   {
    "duration": 27,
    "start_time": "2024-09-15T15:46:38.082Z"
   },
   {
    "duration": 35,
    "start_time": "2024-09-15T15:46:38.112Z"
   },
   {
    "duration": 7,
    "start_time": "2024-09-15T15:46:38.149Z"
   },
   {
    "duration": 17,
    "start_time": "2024-09-15T15:46:38.158Z"
   },
   {
    "duration": 8,
    "start_time": "2024-09-15T15:46:38.177Z"
   },
   {
    "duration": 15,
    "start_time": "2024-09-15T15:46:38.188Z"
   },
   {
    "duration": 20,
    "start_time": "2024-09-15T15:46:38.205Z"
   },
   {
    "duration": 11,
    "start_time": "2024-09-15T15:46:38.227Z"
   },
   {
    "duration": 24,
    "start_time": "2024-09-15T15:46:38.239Z"
   },
   {
    "duration": 3,
    "start_time": "2024-09-15T15:46:38.265Z"
   },
   {
    "duration": 11,
    "start_time": "2024-09-15T15:46:38.270Z"
   },
   {
    "duration": 18,
    "start_time": "2024-09-15T15:46:38.283Z"
   },
   {
    "duration": 17,
    "start_time": "2024-09-15T15:46:38.303Z"
   },
   {
    "duration": 337,
    "start_time": "2024-09-15T15:46:38.322Z"
   },
   {
    "duration": 8,
    "start_time": "2024-09-15T15:46:38.660Z"
   },
   {
    "duration": 147,
    "start_time": "2024-09-15T15:46:38.670Z"
   },
   {
    "duration": 184,
    "start_time": "2024-09-15T15:46:38.819Z"
   },
   {
    "duration": 130,
    "start_time": "2024-09-15T15:46:39.006Z"
   },
   {
    "duration": 208,
    "start_time": "2024-09-15T15:46:39.138Z"
   },
   {
    "duration": 10,
    "start_time": "2024-09-15T15:46:39.348Z"
   },
   {
    "duration": 207,
    "start_time": "2024-09-15T15:46:39.359Z"
   },
   {
    "duration": 11,
    "start_time": "2024-09-15T15:46:39.567Z"
   },
   {
    "duration": 18,
    "start_time": "2024-09-15T15:46:39.580Z"
   },
   {
    "duration": 15,
    "start_time": "2024-09-15T15:46:39.602Z"
   },
   {
    "duration": 11,
    "start_time": "2024-09-15T15:46:39.618Z"
   },
   {
    "duration": 9,
    "start_time": "2024-09-15T15:46:54.735Z"
   },
   {
    "duration": 13,
    "start_time": "2024-09-15T15:47:00.386Z"
   },
   {
    "duration": 8,
    "start_time": "2024-09-15T15:47:27.531Z"
   },
   {
    "duration": 13495,
    "start_time": "2024-09-15T15:49:15.948Z"
   },
   {
    "duration": 106,
    "start_time": "2024-09-15T15:50:15.959Z"
   },
   {
    "duration": 8,
    "start_time": "2024-09-15T15:50:34.654Z"
   },
   {
    "duration": 7,
    "start_time": "2024-09-15T15:52:11.182Z"
   },
   {
    "duration": 11,
    "start_time": "2024-09-15T15:52:42.876Z"
   },
   {
    "duration": 19,
    "start_time": "2024-09-15T15:52:55.283Z"
   },
   {
    "duration": 10,
    "start_time": "2024-09-15T16:03:17.008Z"
   },
   {
    "duration": 6,
    "start_time": "2024-09-15T16:03:52.329Z"
   },
   {
    "duration": 210,
    "start_time": "2024-09-15T16:05:56.295Z"
   },
   {
    "duration": 6,
    "start_time": "2024-09-15T16:08:22.640Z"
   },
   {
    "duration": 8,
    "start_time": "2024-09-15T16:08:28.023Z"
   },
   {
    "duration": 8,
    "start_time": "2024-09-15T16:08:48.247Z"
   },
   {
    "duration": 205,
    "start_time": "2024-09-15T16:09:35.342Z"
   },
   {
    "duration": 203,
    "start_time": "2024-09-15T16:09:58.164Z"
   },
   {
    "duration": 201,
    "start_time": "2024-09-15T16:10:04.713Z"
   },
   {
    "duration": 204,
    "start_time": "2024-09-15T16:11:15.618Z"
   },
   {
    "duration": 10,
    "start_time": "2024-09-15T16:13:37.786Z"
   },
   {
    "duration": 6,
    "start_time": "2024-09-15T16:29:04.109Z"
   },
   {
    "duration": 117,
    "start_time": "2024-09-15T16:29:31.849Z"
   },
   {
    "duration": 10,
    "start_time": "2024-09-15T16:32:53.759Z"
   },
   {
    "duration": 1150,
    "start_time": "2024-09-15T16:33:02.940Z"
   },
   {
    "duration": 79,
    "start_time": "2024-09-15T16:33:04.091Z"
   },
   {
    "duration": 13,
    "start_time": "2024-09-15T16:33:04.171Z"
   },
   {
    "duration": 15,
    "start_time": "2024-09-15T16:33:04.186Z"
   },
   {
    "duration": 22,
    "start_time": "2024-09-15T16:33:04.202Z"
   },
   {
    "duration": 11,
    "start_time": "2024-09-15T16:33:04.225Z"
   },
   {
    "duration": 6,
    "start_time": "2024-09-15T16:33:04.237Z"
   },
   {
    "duration": 10,
    "start_time": "2024-09-15T16:33:04.244Z"
   },
   {
    "duration": 5,
    "start_time": "2024-09-15T16:33:04.255Z"
   },
   {
    "duration": 6,
    "start_time": "2024-09-15T16:33:04.263Z"
   },
   {
    "duration": 21,
    "start_time": "2024-09-15T16:33:04.270Z"
   },
   {
    "duration": 6,
    "start_time": "2024-09-15T16:33:04.292Z"
   },
   {
    "duration": 9,
    "start_time": "2024-09-15T16:33:04.299Z"
   },
   {
    "duration": 3,
    "start_time": "2024-09-15T16:33:04.309Z"
   },
   {
    "duration": 18,
    "start_time": "2024-09-15T16:33:04.313Z"
   },
   {
    "duration": 21,
    "start_time": "2024-09-15T16:33:04.332Z"
   },
   {
    "duration": 11,
    "start_time": "2024-09-15T16:33:04.354Z"
   },
   {
    "duration": 266,
    "start_time": "2024-09-15T16:33:04.366Z"
   },
   {
    "duration": 7,
    "start_time": "2024-09-15T16:33:04.634Z"
   },
   {
    "duration": 111,
    "start_time": "2024-09-15T16:33:04.642Z"
   },
   {
    "duration": 159,
    "start_time": "2024-09-15T16:33:04.754Z"
   },
   {
    "duration": 122,
    "start_time": "2024-09-15T16:33:04.915Z"
   },
   {
    "duration": 126,
    "start_time": "2024-09-15T16:33:05.039Z"
   },
   {
    "duration": 5,
    "start_time": "2024-09-15T16:33:05.167Z"
   },
   {
    "duration": 181,
    "start_time": "2024-09-15T16:33:05.173Z"
   },
   {
    "duration": 8,
    "start_time": "2024-09-15T16:33:05.355Z"
   },
   {
    "duration": 175,
    "start_time": "2024-09-15T16:33:05.364Z"
   },
   {
    "duration": 7,
    "start_time": "2024-09-15T16:33:05.542Z"
   },
   {
    "duration": 15,
    "start_time": "2024-09-15T16:33:05.550Z"
   },
   {
    "duration": 288,
    "start_time": "2024-09-15T16:33:05.566Z"
   },
   {
    "duration": 96,
    "start_time": "2024-09-15T16:33:05.855Z"
   },
   {
    "duration": 0,
    "start_time": "2024-09-15T16:33:05.952Z"
   },
   {
    "duration": 1184,
    "start_time": "2024-09-15T16:37:45.006Z"
   },
   {
    "duration": 78,
    "start_time": "2024-09-15T16:37:46.192Z"
   },
   {
    "duration": 12,
    "start_time": "2024-09-15T16:37:46.272Z"
   },
   {
    "duration": 19,
    "start_time": "2024-09-15T16:37:46.286Z"
   },
   {
    "duration": 29,
    "start_time": "2024-09-15T16:37:46.307Z"
   },
   {
    "duration": 21,
    "start_time": "2024-09-15T16:37:46.337Z"
   },
   {
    "duration": 6,
    "start_time": "2024-09-15T16:37:46.359Z"
   },
   {
    "duration": 17,
    "start_time": "2024-09-15T16:37:46.367Z"
   },
   {
    "duration": 5,
    "start_time": "2024-09-15T16:37:46.386Z"
   },
   {
    "duration": 19,
    "start_time": "2024-09-15T16:37:46.393Z"
   },
   {
    "duration": 6,
    "start_time": "2024-09-15T16:37:46.414Z"
   },
   {
    "duration": 44,
    "start_time": "2024-09-15T16:37:46.422Z"
   },
   {
    "duration": 32,
    "start_time": "2024-09-15T16:37:46.467Z"
   },
   {
    "duration": 19,
    "start_time": "2024-09-15T16:37:46.500Z"
   },
   {
    "duration": 15,
    "start_time": "2024-09-15T16:37:46.521Z"
   },
   {
    "duration": 23,
    "start_time": "2024-09-15T16:37:46.537Z"
   },
   {
    "duration": 12,
    "start_time": "2024-09-15T16:37:46.561Z"
   },
   {
    "duration": 266,
    "start_time": "2024-09-15T16:37:46.574Z"
   },
   {
    "duration": 8,
    "start_time": "2024-09-15T16:37:46.842Z"
   },
   {
    "duration": 116,
    "start_time": "2024-09-15T16:37:46.851Z"
   },
   {
    "duration": 174,
    "start_time": "2024-09-15T16:37:46.969Z"
   },
   {
    "duration": 114,
    "start_time": "2024-09-15T16:37:47.145Z"
   },
   {
    "duration": 5,
    "start_time": "2024-09-15T16:37:47.261Z"
   },
   {
    "duration": 168,
    "start_time": "2024-09-15T16:37:47.268Z"
   },
   {
    "duration": 180,
    "start_time": "2024-09-15T16:37:47.437Z"
   },
   {
    "duration": 7,
    "start_time": "2024-09-15T16:37:47.619Z"
   },
   {
    "duration": 176,
    "start_time": "2024-09-15T16:37:47.628Z"
   },
   {
    "duration": 8,
    "start_time": "2024-09-15T16:37:47.806Z"
   },
   {
    "duration": 5,
    "start_time": "2024-09-15T16:37:47.815Z"
   },
   {
    "duration": 307,
    "start_time": "2024-09-15T16:37:47.822Z"
   },
   {
    "duration": 101,
    "start_time": "2024-09-15T16:37:48.131Z"
   },
   {
    "duration": 0,
    "start_time": "2024-09-15T16:37:48.234Z"
   },
   {
    "duration": 5,
    "start_time": "2024-09-15T16:40:50.555Z"
   },
   {
    "duration": 109,
    "start_time": "2024-09-15T16:40:52.410Z"
   },
   {
    "duration": 125,
    "start_time": "2024-09-15T16:41:04.011Z"
   },
   {
    "duration": 1096,
    "start_time": "2024-09-15T16:41:57.395Z"
   },
   {
    "duration": 79,
    "start_time": "2024-09-15T16:41:58.492Z"
   },
   {
    "duration": 13,
    "start_time": "2024-09-15T16:41:58.572Z"
   },
   {
    "duration": 12,
    "start_time": "2024-09-15T16:41:58.586Z"
   },
   {
    "duration": 9,
    "start_time": "2024-09-15T16:41:58.599Z"
   },
   {
    "duration": 11,
    "start_time": "2024-09-15T16:41:58.609Z"
   },
   {
    "duration": 7,
    "start_time": "2024-09-15T16:41:58.622Z"
   },
   {
    "duration": 10,
    "start_time": "2024-09-15T16:41:58.630Z"
   },
   {
    "duration": 15,
    "start_time": "2024-09-15T16:41:58.641Z"
   },
   {
    "duration": 31,
    "start_time": "2024-09-15T16:41:58.659Z"
   },
   {
    "duration": 6,
    "start_time": "2024-09-15T16:41:58.692Z"
   },
   {
    "duration": 8,
    "start_time": "2024-09-15T16:41:58.699Z"
   },
   {
    "duration": 17,
    "start_time": "2024-09-15T16:41:58.708Z"
   },
   {
    "duration": 3,
    "start_time": "2024-09-15T16:41:58.726Z"
   },
   {
    "duration": 6,
    "start_time": "2024-09-15T16:41:58.730Z"
   },
   {
    "duration": 13,
    "start_time": "2024-09-15T16:41:58.738Z"
   },
   {
    "duration": 11,
    "start_time": "2024-09-15T16:41:58.753Z"
   },
   {
    "duration": 301,
    "start_time": "2024-09-15T16:41:58.765Z"
   },
   {
    "duration": 8,
    "start_time": "2024-09-15T16:41:59.067Z"
   },
   {
    "duration": 115,
    "start_time": "2024-09-15T16:41:59.076Z"
   },
   {
    "duration": 160,
    "start_time": "2024-09-15T16:41:59.193Z"
   },
   {
    "duration": 5,
    "start_time": "2024-09-15T16:41:59.354Z"
   },
   {
    "duration": 145,
    "start_time": "2024-09-15T16:41:59.361Z"
   },
   {
    "duration": 111,
    "start_time": "2024-09-15T16:41:59.507Z"
   },
   {
    "duration": 5,
    "start_time": "2024-09-15T16:41:59.620Z"
   },
   {
    "duration": 129,
    "start_time": "2024-09-15T16:41:59.626Z"
   },
   {
    "duration": 178,
    "start_time": "2024-09-15T16:41:59.756Z"
   },
   {
    "duration": 8,
    "start_time": "2024-09-15T16:41:59.937Z"
   },
   {
    "duration": 245,
    "start_time": "2024-09-15T16:41:59.946Z"
   },
   {
    "duration": 14,
    "start_time": "2024-09-15T16:42:00.193Z"
   },
   {
    "duration": 38,
    "start_time": "2024-09-15T16:42:00.209Z"
   },
   {
    "duration": 222,
    "start_time": "2024-09-15T16:42:00.249Z"
   },
   {
    "duration": 8,
    "start_time": "2024-09-15T16:42:00.472Z"
   },
   {
    "duration": 22,
    "start_time": "2024-09-15T16:42:00.489Z"
   },
   {
    "duration": 26,
    "start_time": "2024-09-15T16:56:27.046Z"
   },
   {
    "duration": 32,
    "start_time": "2024-09-15T17:00:04.372Z"
   },
   {
    "duration": 222,
    "start_time": "2024-09-15T17:08:01.810Z"
   },
   {
    "duration": 211,
    "start_time": "2024-09-15T17:08:12.308Z"
   },
   {
    "duration": 216,
    "start_time": "2024-09-15T17:08:35.403Z"
   },
   {
    "duration": 1077,
    "start_time": "2024-09-15T17:08:45.218Z"
   },
   {
    "duration": 78,
    "start_time": "2024-09-15T17:08:46.297Z"
   },
   {
    "duration": 12,
    "start_time": "2024-09-15T17:08:46.376Z"
   },
   {
    "duration": 17,
    "start_time": "2024-09-15T17:08:46.389Z"
   },
   {
    "duration": 18,
    "start_time": "2024-09-15T17:08:46.408Z"
   },
   {
    "duration": 20,
    "start_time": "2024-09-15T17:08:46.428Z"
   },
   {
    "duration": 16,
    "start_time": "2024-09-15T17:08:46.450Z"
   },
   {
    "duration": 10,
    "start_time": "2024-09-15T17:08:46.467Z"
   },
   {
    "duration": 9,
    "start_time": "2024-09-15T17:08:46.478Z"
   },
   {
    "duration": 37,
    "start_time": "2024-09-15T17:08:46.489Z"
   },
   {
    "duration": 4,
    "start_time": "2024-09-15T17:08:46.528Z"
   },
   {
    "duration": 20,
    "start_time": "2024-09-15T17:08:46.534Z"
   },
   {
    "duration": 11,
    "start_time": "2024-09-15T17:08:46.555Z"
   },
   {
    "duration": 3,
    "start_time": "2024-09-15T17:08:46.569Z"
   },
   {
    "duration": 12,
    "start_time": "2024-09-15T17:08:46.574Z"
   },
   {
    "duration": 31,
    "start_time": "2024-09-15T17:08:46.587Z"
   },
   {
    "duration": 26,
    "start_time": "2024-09-15T17:08:46.619Z"
   },
   {
    "duration": 269,
    "start_time": "2024-09-15T17:08:46.646Z"
   },
   {
    "duration": 7,
    "start_time": "2024-09-15T17:08:46.917Z"
   },
   {
    "duration": 108,
    "start_time": "2024-09-15T17:08:46.926Z"
   },
   {
    "duration": 159,
    "start_time": "2024-09-15T17:08:47.036Z"
   },
   {
    "duration": 5,
    "start_time": "2024-09-15T17:08:47.196Z"
   },
   {
    "duration": 150,
    "start_time": "2024-09-15T17:08:47.203Z"
   },
   {
    "duration": 114,
    "start_time": "2024-09-15T17:08:47.355Z"
   },
   {
    "duration": 5,
    "start_time": "2024-09-15T17:08:47.470Z"
   },
   {
    "duration": 129,
    "start_time": "2024-09-15T17:08:47.477Z"
   },
   {
    "duration": 167,
    "start_time": "2024-09-15T17:08:47.607Z"
   },
   {
    "duration": 16,
    "start_time": "2024-09-15T17:08:47.776Z"
   },
   {
    "duration": 232,
    "start_time": "2024-09-15T17:08:47.794Z"
   },
   {
    "duration": 9,
    "start_time": "2024-09-15T17:08:48.027Z"
   },
   {
    "duration": 6,
    "start_time": "2024-09-15T17:08:48.037Z"
   },
   {
    "duration": 258,
    "start_time": "2024-09-15T17:08:48.044Z"
   },
   {
    "duration": 7,
    "start_time": "2024-09-15T17:08:48.304Z"
   },
   {
    "duration": 7,
    "start_time": "2024-09-15T17:08:48.313Z"
   },
   {
    "duration": 30,
    "start_time": "2024-09-15T17:08:48.321Z"
   },
   {
    "duration": 44,
    "start_time": "2024-09-15T17:08:48.353Z"
   },
   {
    "duration": 186,
    "start_time": "2024-09-15T17:08:48.399Z"
   },
   {
    "duration": 273,
    "start_time": "2024-09-15T17:15:40.151Z"
   },
   {
    "duration": 1052,
    "start_time": "2024-09-15T17:16:08.038Z"
   },
   {
    "duration": 78,
    "start_time": "2024-09-15T17:16:09.091Z"
   },
   {
    "duration": 13,
    "start_time": "2024-09-15T17:16:09.171Z"
   },
   {
    "duration": 15,
    "start_time": "2024-09-15T17:16:09.186Z"
   },
   {
    "duration": 15,
    "start_time": "2024-09-15T17:16:09.202Z"
   },
   {
    "duration": 14,
    "start_time": "2024-09-15T17:16:09.219Z"
   },
   {
    "duration": 6,
    "start_time": "2024-09-15T17:16:09.235Z"
   },
   {
    "duration": 15,
    "start_time": "2024-09-15T17:16:09.242Z"
   },
   {
    "duration": 17,
    "start_time": "2024-09-15T17:16:09.259Z"
   },
   {
    "duration": 15,
    "start_time": "2024-09-15T17:16:09.279Z"
   },
   {
    "duration": 21,
    "start_time": "2024-09-15T17:16:09.295Z"
   },
   {
    "duration": 36,
    "start_time": "2024-09-15T17:16:09.317Z"
   },
   {
    "duration": 68,
    "start_time": "2024-09-15T17:16:09.354Z"
   },
   {
    "duration": 30,
    "start_time": "2024-09-15T17:16:09.423Z"
   },
   {
    "duration": 10,
    "start_time": "2024-09-15T17:16:09.454Z"
   },
   {
    "duration": 18,
    "start_time": "2024-09-15T17:16:09.465Z"
   },
   {
    "duration": 15,
    "start_time": "2024-09-15T17:16:09.484Z"
   },
   {
    "duration": 287,
    "start_time": "2024-09-15T17:16:09.500Z"
   },
   {
    "duration": 8,
    "start_time": "2024-09-15T17:16:09.789Z"
   },
   {
    "duration": 127,
    "start_time": "2024-09-15T17:16:09.798Z"
   },
   {
    "duration": 166,
    "start_time": "2024-09-15T17:16:09.926Z"
   },
   {
    "duration": 6,
    "start_time": "2024-09-15T17:16:10.093Z"
   },
   {
    "duration": 164,
    "start_time": "2024-09-15T17:16:10.100Z"
   },
   {
    "duration": 116,
    "start_time": "2024-09-15T17:16:10.266Z"
   },
   {
    "duration": 10,
    "start_time": "2024-09-15T17:16:10.383Z"
   },
   {
    "duration": 119,
    "start_time": "2024-09-15T17:16:10.395Z"
   },
   {
    "duration": 175,
    "start_time": "2024-09-15T17:16:10.516Z"
   },
   {
    "duration": 8,
    "start_time": "2024-09-15T17:16:10.694Z"
   },
   {
    "duration": 233,
    "start_time": "2024-09-15T17:16:10.704Z"
   },
   {
    "duration": 8,
    "start_time": "2024-09-15T17:16:10.939Z"
   },
   {
    "duration": 21,
    "start_time": "2024-09-15T17:16:10.948Z"
   },
   {
    "duration": 238,
    "start_time": "2024-09-15T17:16:10.970Z"
   },
   {
    "duration": 7,
    "start_time": "2024-09-15T17:16:11.210Z"
   },
   {
    "duration": 12,
    "start_time": "2024-09-15T17:16:11.219Z"
   },
   {
    "duration": 45,
    "start_time": "2024-09-15T17:16:11.232Z"
   },
   {
    "duration": 22,
    "start_time": "2024-09-15T17:16:11.278Z"
   },
   {
    "duration": 271,
    "start_time": "2024-09-15T17:16:11.302Z"
   },
   {
    "duration": 0,
    "start_time": "2024-09-15T17:16:11.575Z"
   },
   {
    "duration": 156,
    "start_time": "2024-09-15T17:16:23.510Z"
   },
   {
    "duration": 1046,
    "start_time": "2024-09-15T17:18:20.346Z"
   },
   {
    "duration": 77,
    "start_time": "2024-09-15T17:18:21.393Z"
   },
   {
    "duration": 13,
    "start_time": "2024-09-15T17:18:21.471Z"
   },
   {
    "duration": 16,
    "start_time": "2024-09-15T17:18:21.485Z"
   },
   {
    "duration": 9,
    "start_time": "2024-09-15T17:18:21.503Z"
   },
   {
    "duration": 14,
    "start_time": "2024-09-15T17:18:21.513Z"
   },
   {
    "duration": 8,
    "start_time": "2024-09-15T17:18:21.528Z"
   },
   {
    "duration": 10,
    "start_time": "2024-09-15T17:18:21.537Z"
   },
   {
    "duration": 6,
    "start_time": "2024-09-15T17:18:21.549Z"
   },
   {
    "duration": 17,
    "start_time": "2024-09-15T17:18:21.557Z"
   },
   {
    "duration": 17,
    "start_time": "2024-09-15T17:18:21.575Z"
   },
   {
    "duration": 8,
    "start_time": "2024-09-15T17:18:21.594Z"
   },
   {
    "duration": 8,
    "start_time": "2024-09-15T17:18:21.603Z"
   },
   {
    "duration": 3,
    "start_time": "2024-09-15T17:18:21.612Z"
   },
   {
    "duration": 6,
    "start_time": "2024-09-15T17:18:21.617Z"
   },
   {
    "duration": 14,
    "start_time": "2024-09-15T17:18:21.624Z"
   },
   {
    "duration": 10,
    "start_time": "2024-09-15T17:18:21.640Z"
   },
   {
    "duration": 306,
    "start_time": "2024-09-15T17:18:21.652Z"
   },
   {
    "duration": 7,
    "start_time": "2024-09-15T17:18:21.960Z"
   },
   {
    "duration": 127,
    "start_time": "2024-09-15T17:18:21.968Z"
   },
   {
    "duration": 164,
    "start_time": "2024-09-15T17:18:22.097Z"
   },
   {
    "duration": 5,
    "start_time": "2024-09-15T17:18:22.262Z"
   },
   {
    "duration": 173,
    "start_time": "2024-09-15T17:18:22.269Z"
   },
   {
    "duration": 150,
    "start_time": "2024-09-15T17:18:22.444Z"
   },
   {
    "duration": 5,
    "start_time": "2024-09-15T17:18:22.596Z"
   },
   {
    "duration": 123,
    "start_time": "2024-09-15T17:18:22.602Z"
   },
   {
    "duration": 168,
    "start_time": "2024-09-15T17:18:22.726Z"
   },
   {
    "duration": 8,
    "start_time": "2024-09-15T17:18:22.896Z"
   },
   {
    "duration": 232,
    "start_time": "2024-09-15T17:18:22.906Z"
   },
   {
    "duration": 9,
    "start_time": "2024-09-15T17:18:23.141Z"
   },
   {
    "duration": 5,
    "start_time": "2024-09-15T17:18:23.152Z"
   },
   {
    "duration": 263,
    "start_time": "2024-09-15T17:18:23.159Z"
   },
   {
    "duration": 8,
    "start_time": "2024-09-15T17:18:23.423Z"
   },
   {
    "duration": 9,
    "start_time": "2024-09-15T17:18:23.432Z"
   },
   {
    "duration": 43,
    "start_time": "2024-09-15T17:18:23.442Z"
   },
   {
    "duration": 21,
    "start_time": "2024-09-15T17:18:23.490Z"
   },
   {
    "duration": 189,
    "start_time": "2024-09-15T17:18:23.513Z"
   },
   {
    "duration": 178,
    "start_time": "2024-09-15T17:18:23.704Z"
   },
   {
    "duration": 93,
    "start_time": "2024-09-15T17:19:12.913Z"
   },
   {
    "duration": 19,
    "start_time": "2024-09-15T17:19:28.833Z"
   },
   {
    "duration": 1132,
    "start_time": "2024-09-15T17:27:39.324Z"
   },
   {
    "duration": 77,
    "start_time": "2024-09-15T17:27:40.458Z"
   },
   {
    "duration": 11,
    "start_time": "2024-09-15T17:27:40.537Z"
   },
   {
    "duration": 15,
    "start_time": "2024-09-15T17:27:40.550Z"
   },
   {
    "duration": 14,
    "start_time": "2024-09-15T17:27:40.567Z"
   },
   {
    "duration": 17,
    "start_time": "2024-09-15T17:27:40.583Z"
   },
   {
    "duration": 10,
    "start_time": "2024-09-15T17:27:40.602Z"
   },
   {
    "duration": 21,
    "start_time": "2024-09-15T17:27:40.613Z"
   },
   {
    "duration": 10,
    "start_time": "2024-09-15T17:27:40.636Z"
   },
   {
    "duration": 6,
    "start_time": "2024-09-15T17:27:40.650Z"
   },
   {
    "duration": 17,
    "start_time": "2024-09-15T17:27:40.658Z"
   },
   {
    "duration": 18,
    "start_time": "2024-09-15T17:27:40.677Z"
   },
   {
    "duration": 16,
    "start_time": "2024-09-15T17:27:40.697Z"
   },
   {
    "duration": 9,
    "start_time": "2024-09-15T17:27:40.714Z"
   },
   {
    "duration": 6,
    "start_time": "2024-09-15T17:27:40.724Z"
   },
   {
    "duration": 24,
    "start_time": "2024-09-15T17:27:40.731Z"
   },
   {
    "duration": 11,
    "start_time": "2024-09-15T17:27:40.757Z"
   },
   {
    "duration": 288,
    "start_time": "2024-09-15T17:27:40.770Z"
   },
   {
    "duration": 8,
    "start_time": "2024-09-15T17:27:41.060Z"
   },
   {
    "duration": 106,
    "start_time": "2024-09-15T17:27:41.069Z"
   },
   {
    "duration": 165,
    "start_time": "2024-09-15T17:27:41.177Z"
   },
   {
    "duration": 6,
    "start_time": "2024-09-15T17:27:41.344Z"
   },
   {
    "duration": 143,
    "start_time": "2024-09-15T17:27:41.352Z"
   },
   {
    "duration": 111,
    "start_time": "2024-09-15T17:27:41.496Z"
   },
   {
    "duration": 5,
    "start_time": "2024-09-15T17:27:41.609Z"
   },
   {
    "duration": 123,
    "start_time": "2024-09-15T17:27:41.616Z"
   },
   {
    "duration": 184,
    "start_time": "2024-09-15T17:27:41.741Z"
   },
   {
    "duration": 8,
    "start_time": "2024-09-15T17:27:41.929Z"
   },
   {
    "duration": 241,
    "start_time": "2024-09-15T17:27:41.939Z"
   },
   {
    "duration": 14,
    "start_time": "2024-09-15T17:27:42.181Z"
   },
   {
    "duration": 6,
    "start_time": "2024-09-15T17:27:42.197Z"
   },
   {
    "duration": 244,
    "start_time": "2024-09-15T17:27:42.204Z"
   },
   {
    "duration": 7,
    "start_time": "2024-09-15T17:27:42.450Z"
   },
   {
    "duration": 18,
    "start_time": "2024-09-15T17:27:42.458Z"
   },
   {
    "duration": 38,
    "start_time": "2024-09-15T17:27:42.477Z"
   },
   {
    "duration": 21,
    "start_time": "2024-09-15T17:27:42.516Z"
   },
   {
    "duration": 184,
    "start_time": "2024-09-15T17:27:42.538Z"
   },
   {
    "duration": 169,
    "start_time": "2024-09-15T17:27:42.724Z"
   },
   {
    "duration": 19,
    "start_time": "2024-09-15T17:27:42.895Z"
   },
   {
    "duration": 179,
    "start_time": "2024-09-15T17:27:42.915Z"
   },
   {
    "duration": 175,
    "start_time": "2024-09-15T17:27:43.095Z"
   },
   {
    "duration": 38,
    "start_time": "2024-09-15T17:27:43.272Z"
   },
   {
    "duration": 28,
    "start_time": "2024-09-15T17:27:43.311Z"
   },
   {
    "duration": 37,
    "start_time": "2024-09-15T17:28:41.679Z"
   },
   {
    "duration": 31,
    "start_time": "2024-09-15T17:28:45.047Z"
   },
   {
    "duration": 55,
    "start_time": "2024-09-15T17:41:00.747Z"
   },
   {
    "duration": 98,
    "start_time": "2024-09-15T17:42:50.001Z"
   },
   {
    "duration": 583,
    "start_time": "2024-09-15T17:43:01.756Z"
   },
   {
    "duration": 602,
    "start_time": "2024-09-15T17:43:12.806Z"
   },
   {
    "duration": 9,
    "start_time": "2024-09-15T17:43:21.676Z"
   },
   {
    "duration": 816,
    "start_time": "2024-09-15T17:43:36.234Z"
   },
   {
    "duration": 11,
    "start_time": "2024-09-15T17:43:43.537Z"
   },
   {
    "duration": 28,
    "start_time": "2024-09-15T18:24:11.515Z"
   },
   {
    "duration": 19,
    "start_time": "2024-09-15T18:24:37.772Z"
   },
   {
    "duration": 17,
    "start_time": "2024-09-15T18:25:21.793Z"
   },
   {
    "duration": 15,
    "start_time": "2024-09-15T18:25:24.536Z"
   },
   {
    "duration": 1357,
    "start_time": "2024-09-16T08:05:41.779Z"
   },
   {
    "duration": 354,
    "start_time": "2024-09-16T08:05:43.138Z"
   },
   {
    "duration": 13,
    "start_time": "2024-09-16T08:05:43.495Z"
   },
   {
    "duration": 11,
    "start_time": "2024-09-16T08:05:43.510Z"
   },
   {
    "duration": 24,
    "start_time": "2024-09-16T08:05:43.522Z"
   },
   {
    "duration": 18,
    "start_time": "2024-09-16T08:05:43.547Z"
   },
   {
    "duration": 24,
    "start_time": "2024-09-16T08:05:43.567Z"
   },
   {
    "duration": 19,
    "start_time": "2024-09-16T08:05:43.593Z"
   },
   {
    "duration": 37,
    "start_time": "2024-09-16T08:05:43.614Z"
   },
   {
    "duration": 15,
    "start_time": "2024-09-16T08:05:43.654Z"
   },
   {
    "duration": 7,
    "start_time": "2024-09-16T08:05:43.670Z"
   },
   {
    "duration": 7,
    "start_time": "2024-09-16T08:05:43.678Z"
   },
   {
    "duration": 9,
    "start_time": "2024-09-16T08:05:43.687Z"
   },
   {
    "duration": 11,
    "start_time": "2024-09-16T08:05:43.697Z"
   },
   {
    "duration": 8,
    "start_time": "2024-09-16T08:05:43.710Z"
   },
   {
    "duration": 19,
    "start_time": "2024-09-16T08:05:43.719Z"
   },
   {
    "duration": 11,
    "start_time": "2024-09-16T08:05:43.752Z"
   },
   {
    "duration": 336,
    "start_time": "2024-09-16T08:05:43.765Z"
   },
   {
    "duration": 8,
    "start_time": "2024-09-16T08:05:44.103Z"
   },
   {
    "duration": 121,
    "start_time": "2024-09-16T08:05:44.113Z"
   },
   {
    "duration": 175,
    "start_time": "2024-09-16T08:05:44.236Z"
   },
   {
    "duration": 6,
    "start_time": "2024-09-16T08:05:44.413Z"
   },
   {
    "duration": 161,
    "start_time": "2024-09-16T08:05:44.422Z"
   },
   {
    "duration": 127,
    "start_time": "2024-09-16T08:05:44.585Z"
   },
   {
    "duration": 5,
    "start_time": "2024-09-16T08:05:44.714Z"
   },
   {
    "duration": 137,
    "start_time": "2024-09-16T08:05:44.721Z"
   },
   {
    "duration": 185,
    "start_time": "2024-09-16T08:05:44.860Z"
   },
   {
    "duration": 10,
    "start_time": "2024-09-16T08:05:45.048Z"
   },
   {
    "duration": 255,
    "start_time": "2024-09-16T08:05:45.059Z"
   },
   {
    "duration": 9,
    "start_time": "2024-09-16T08:05:45.315Z"
   },
   {
    "duration": 31,
    "start_time": "2024-09-16T08:05:45.325Z"
   },
   {
    "duration": 256,
    "start_time": "2024-09-16T08:05:45.358Z"
   },
   {
    "duration": 7,
    "start_time": "2024-09-16T08:05:45.616Z"
   },
   {
    "duration": 32,
    "start_time": "2024-09-16T08:05:45.625Z"
   },
   {
    "duration": 50,
    "start_time": "2024-09-16T08:05:45.659Z"
   },
   {
    "duration": 23,
    "start_time": "2024-09-16T08:05:45.710Z"
   },
   {
    "duration": 204,
    "start_time": "2024-09-16T08:05:45.735Z"
   },
   {
    "duration": 189,
    "start_time": "2024-09-16T08:05:45.941Z"
   },
   {
    "duration": 28,
    "start_time": "2024-09-16T08:05:46.131Z"
   },
   {
    "duration": 180,
    "start_time": "2024-09-16T08:05:46.160Z"
   },
   {
    "duration": 177,
    "start_time": "2024-09-16T08:05:46.342Z"
   },
   {
    "duration": 17,
    "start_time": "2024-09-16T08:05:46.520Z"
   },
   {
    "duration": 29,
    "start_time": "2024-09-16T08:05:46.538Z"
   },
   {
    "duration": 908,
    "start_time": "2024-09-16T08:05:46.568Z"
   },
   {
    "duration": 902,
    "start_time": "2024-09-16T08:06:05.804Z"
   },
   {
    "duration": 877,
    "start_time": "2024-09-16T08:10:19.968Z"
   },
   {
    "duration": 134,
    "start_time": "2024-09-16T08:13:53.848Z"
   },
   {
    "duration": 4,
    "start_time": "2024-09-16T08:14:04.234Z"
   },
   {
    "duration": 121,
    "start_time": "2024-09-16T08:14:36.379Z"
   },
   {
    "duration": 103,
    "start_time": "2024-09-16T08:14:41.730Z"
   },
   {
    "duration": 923,
    "start_time": "2024-09-16T08:14:48.924Z"
   },
   {
    "duration": 934,
    "start_time": "2024-09-16T08:15:31.686Z"
   },
   {
    "duration": 959,
    "start_time": "2024-09-16T08:21:44.569Z"
   },
   {
    "duration": 10,
    "start_time": "2024-09-16T08:24:23.023Z"
   },
   {
    "duration": 198,
    "start_time": "2024-09-16T08:24:33.716Z"
   },
   {
    "duration": 177,
    "start_time": "2024-09-16T08:24:46.418Z"
   },
   {
    "duration": 1201,
    "start_time": "2024-09-16T08:25:15.263Z"
   },
   {
    "duration": 72,
    "start_time": "2024-09-16T08:25:16.466Z"
   },
   {
    "duration": 14,
    "start_time": "2024-09-16T08:25:16.540Z"
   },
   {
    "duration": 13,
    "start_time": "2024-09-16T08:25:16.557Z"
   },
   {
    "duration": 12,
    "start_time": "2024-09-16T08:25:16.571Z"
   },
   {
    "duration": 10,
    "start_time": "2024-09-16T08:25:16.585Z"
   },
   {
    "duration": 12,
    "start_time": "2024-09-16T08:25:16.596Z"
   },
   {
    "duration": 26,
    "start_time": "2024-09-16T08:25:16.610Z"
   },
   {
    "duration": 16,
    "start_time": "2024-09-16T08:25:16.638Z"
   },
   {
    "duration": 7,
    "start_time": "2024-09-16T08:25:16.659Z"
   },
   {
    "duration": 11,
    "start_time": "2024-09-16T08:25:16.668Z"
   },
   {
    "duration": 69,
    "start_time": "2024-09-16T08:25:16.680Z"
   },
   {
    "duration": 16,
    "start_time": "2024-09-16T08:25:16.751Z"
   },
   {
    "duration": 4,
    "start_time": "2024-09-16T08:25:16.769Z"
   },
   {
    "duration": 6,
    "start_time": "2024-09-16T08:25:16.775Z"
   },
   {
    "duration": 17,
    "start_time": "2024-09-16T08:25:16.782Z"
   },
   {
    "duration": 12,
    "start_time": "2024-09-16T08:25:16.801Z"
   },
   {
    "duration": 326,
    "start_time": "2024-09-16T08:25:16.815Z"
   },
   {
    "duration": 18,
    "start_time": "2024-09-16T08:25:17.143Z"
   },
   {
    "duration": 119,
    "start_time": "2024-09-16T08:25:17.163Z"
   },
   {
    "duration": 168,
    "start_time": "2024-09-16T08:25:17.284Z"
   },
   {
    "duration": 7,
    "start_time": "2024-09-16T08:25:17.453Z"
   },
   {
    "duration": 158,
    "start_time": "2024-09-16T08:25:17.461Z"
   },
   {
    "duration": 134,
    "start_time": "2024-09-16T08:25:17.620Z"
   },
   {
    "duration": 8,
    "start_time": "2024-09-16T08:25:17.756Z"
   },
   {
    "duration": 128,
    "start_time": "2024-09-16T08:25:17.766Z"
   },
   {
    "duration": 178,
    "start_time": "2024-09-16T08:25:17.895Z"
   },
   {
    "duration": 9,
    "start_time": "2024-09-16T08:25:18.078Z"
   },
   {
    "duration": 284,
    "start_time": "2024-09-16T08:25:18.089Z"
   },
   {
    "duration": 8,
    "start_time": "2024-09-16T08:25:18.375Z"
   },
   {
    "duration": 5,
    "start_time": "2024-09-16T08:25:18.385Z"
   },
   {
    "duration": 277,
    "start_time": "2024-09-16T08:25:18.392Z"
   },
   {
    "duration": 8,
    "start_time": "2024-09-16T08:25:18.671Z"
   },
   {
    "duration": 56,
    "start_time": "2024-09-16T08:25:18.681Z"
   },
   {
    "duration": 37,
    "start_time": "2024-09-16T08:25:18.739Z"
   },
   {
    "duration": 24,
    "start_time": "2024-09-16T08:25:18.778Z"
   },
   {
    "duration": 208,
    "start_time": "2024-09-16T08:25:18.804Z"
   },
   {
    "duration": 193,
    "start_time": "2024-09-16T08:25:19.014Z"
   },
   {
    "duration": 19,
    "start_time": "2024-09-16T08:25:19.208Z"
   },
   {
    "duration": 194,
    "start_time": "2024-09-16T08:25:19.229Z"
   },
   {
    "duration": 187,
    "start_time": "2024-09-16T08:25:19.425Z"
   },
   {
    "duration": 16,
    "start_time": "2024-09-16T08:25:19.613Z"
   },
   {
    "duration": 35,
    "start_time": "2024-09-16T08:25:19.630Z"
   },
   {
    "duration": 990,
    "start_time": "2024-09-16T08:25:19.667Z"
   },
   {
    "duration": 186,
    "start_time": "2024-09-16T08:25:20.659Z"
   },
   {
    "duration": 7,
    "start_time": "2024-09-16T10:34:33.435Z"
   },
   {
    "duration": 869,
    "start_time": "2024-09-16T10:35:42.489Z"
   },
   {
    "duration": 7,
    "start_time": "2024-09-16T10:36:43.054Z"
   },
   {
    "duration": 5,
    "start_time": "2024-09-16T10:37:08.044Z"
   },
   {
    "duration": 108,
    "start_time": "2024-09-16T11:05:24.284Z"
   },
   {
    "duration": 11,
    "start_time": "2024-09-16T11:05:32.804Z"
   },
   {
    "duration": 10,
    "start_time": "2024-09-16T11:05:52.560Z"
   },
   {
    "duration": 14,
    "start_time": "2024-09-16T11:08:04.348Z"
   },
   {
    "duration": 7,
    "start_time": "2024-09-16T11:36:05.989Z"
   },
   {
    "duration": 61,
    "start_time": "2024-09-16T11:39:26.667Z"
   },
   {
    "duration": 7,
    "start_time": "2024-09-16T13:30:11.566Z"
   },
   {
    "duration": 5,
    "start_time": "2024-09-16T13:39:58.875Z"
   },
   {
    "duration": 5,
    "start_time": "2024-09-16T13:40:06.798Z"
   },
   {
    "duration": 4,
    "start_time": "2024-09-16T13:40:13.159Z"
   },
   {
    "duration": 5,
    "start_time": "2024-09-16T13:44:56.125Z"
   },
   {
    "duration": 5,
    "start_time": "2024-09-16T13:53:11.491Z"
   },
   {
    "duration": 4,
    "start_time": "2024-09-16T13:53:24.309Z"
   },
   {
    "duration": 6,
    "start_time": "2024-09-16T13:53:30.229Z"
   },
   {
    "duration": 4,
    "start_time": "2024-09-16T13:54:37.161Z"
   },
   {
    "duration": 5,
    "start_time": "2024-09-16T13:54:52.621Z"
   },
   {
    "duration": 5,
    "start_time": "2024-09-16T13:55:05.785Z"
   },
   {
    "duration": 5,
    "start_time": "2024-09-16T13:55:08.779Z"
   },
   {
    "duration": 5,
    "start_time": "2024-09-16T13:55:31.063Z"
   },
   {
    "duration": 4,
    "start_time": "2024-09-16T13:55:37.504Z"
   },
   {
    "duration": 4,
    "start_time": "2024-09-16T13:55:41.540Z"
   },
   {
    "duration": 4,
    "start_time": "2024-09-16T13:55:45.460Z"
   },
   {
    "duration": 4,
    "start_time": "2024-09-16T13:55:50.091Z"
   },
   {
    "duration": 5,
    "start_time": "2024-09-16T13:55:57.886Z"
   },
   {
    "duration": 5,
    "start_time": "2024-09-16T13:56:14.254Z"
   },
   {
    "duration": 5,
    "start_time": "2024-09-16T13:56:23.077Z"
   },
   {
    "duration": 5,
    "start_time": "2024-09-16T13:56:30.987Z"
   },
   {
    "duration": 4,
    "start_time": "2024-09-16T13:56:38.159Z"
   },
   {
    "duration": 5,
    "start_time": "2024-09-16T13:56:42.196Z"
   },
   {
    "duration": 5,
    "start_time": "2024-09-16T13:56:46.467Z"
   },
   {
    "duration": 5,
    "start_time": "2024-09-16T13:56:50.578Z"
   },
   {
    "duration": 5,
    "start_time": "2024-09-16T13:56:55.118Z"
   },
   {
    "duration": 5,
    "start_time": "2024-09-16T13:57:04.268Z"
   },
   {
    "duration": 4,
    "start_time": "2024-09-16T13:57:06.904Z"
   },
   {
    "duration": 5,
    "start_time": "2024-09-16T13:57:12.180Z"
   },
   {
    "duration": 4,
    "start_time": "2024-09-16T13:57:14.727Z"
   },
   {
    "duration": 5,
    "start_time": "2024-09-16T13:57:17.816Z"
   },
   {
    "duration": 4,
    "start_time": "2024-09-16T13:57:20.882Z"
   },
   {
    "duration": 5,
    "start_time": "2024-09-16T13:57:25.158Z"
   },
   {
    "duration": 5,
    "start_time": "2024-09-16T13:57:29.042Z"
   },
   {
    "duration": 4,
    "start_time": "2024-09-16T13:57:33.437Z"
   },
   {
    "duration": 5,
    "start_time": "2024-09-16T13:57:37.679Z"
   },
   {
    "duration": 4,
    "start_time": "2024-09-16T13:57:41.387Z"
   },
   {
    "duration": 6,
    "start_time": "2024-09-16T13:57:43.919Z"
   },
   {
    "duration": 5,
    "start_time": "2024-09-16T13:58:46.909Z"
   },
   {
    "duration": 5,
    "start_time": "2024-09-16T14:00:51.777Z"
   },
   {
    "duration": 5,
    "start_time": "2024-09-16T14:01:05.037Z"
   },
   {
    "duration": 5,
    "start_time": "2024-09-16T14:01:11.813Z"
   },
   {
    "duration": 5,
    "start_time": "2024-09-16T14:01:18.742Z"
   },
   {
    "duration": 5,
    "start_time": "2024-09-16T14:03:11.720Z"
   },
   {
    "duration": 5,
    "start_time": "2024-09-16T14:03:20.864Z"
   },
   {
    "duration": 5,
    "start_time": "2024-09-16T14:03:25.169Z"
   },
   {
    "duration": 5,
    "start_time": "2024-09-16T14:03:29.571Z"
   },
   {
    "duration": 5,
    "start_time": "2024-09-16T14:03:32.801Z"
   },
   {
    "duration": 5,
    "start_time": "2024-09-16T14:03:36.155Z"
   },
   {
    "duration": 4,
    "start_time": "2024-09-16T14:03:46.553Z"
   },
   {
    "duration": 5,
    "start_time": "2024-09-16T14:03:54.573Z"
   },
   {
    "duration": 4,
    "start_time": "2024-09-16T14:04:11.023Z"
   },
   {
    "duration": 4,
    "start_time": "2024-09-16T14:04:25.626Z"
   },
   {
    "duration": 4,
    "start_time": "2024-09-16T14:04:32.738Z"
   },
   {
    "duration": 4,
    "start_time": "2024-09-16T14:04:37.968Z"
   },
   {
    "duration": 4,
    "start_time": "2024-09-16T14:04:42.066Z"
   },
   {
    "duration": 4,
    "start_time": "2024-09-16T14:04:46.164Z"
   },
   {
    "duration": 5,
    "start_time": "2024-09-16T14:04:50.136Z"
   },
   {
    "duration": 5,
    "start_time": "2024-09-16T14:04:54.872Z"
   },
   {
    "duration": 4,
    "start_time": "2024-09-16T14:04:57.852Z"
   },
   {
    "duration": 5,
    "start_time": "2024-09-16T14:05:03.231Z"
   },
   {
    "duration": 4,
    "start_time": "2024-09-16T14:05:18.341Z"
   },
   {
    "duration": 5,
    "start_time": "2024-09-16T14:06:51.470Z"
   },
   {
    "duration": 5,
    "start_time": "2024-09-16T14:07:00.965Z"
   },
   {
    "duration": 5,
    "start_time": "2024-09-16T14:08:33.741Z"
   },
   {
    "duration": 7,
    "start_time": "2024-09-16T14:08:45.599Z"
   },
   {
    "duration": 4,
    "start_time": "2024-09-16T14:11:41.538Z"
   },
   {
    "duration": 5,
    "start_time": "2024-09-16T14:12:30.942Z"
   },
   {
    "duration": 5,
    "start_time": "2024-09-16T14:12:38.739Z"
   },
   {
    "duration": 5,
    "start_time": "2024-09-16T14:12:42.785Z"
   },
   {
    "duration": 4,
    "start_time": "2024-09-16T14:12:46.483Z"
   },
   {
    "duration": 5,
    "start_time": "2024-09-16T14:12:52.743Z"
   },
   {
    "duration": 5,
    "start_time": "2024-09-16T14:13:05.388Z"
   },
   {
    "duration": 5,
    "start_time": "2024-09-16T14:13:37.382Z"
   },
   {
    "duration": 4,
    "start_time": "2024-09-16T14:13:44.158Z"
   },
   {
    "duration": 5,
    "start_time": "2024-09-16T14:13:48.206Z"
   },
   {
    "duration": 5,
    "start_time": "2024-09-16T14:13:52.601Z"
   },
   {
    "duration": 4,
    "start_time": "2024-09-16T14:13:55.339Z"
   },
   {
    "duration": 4,
    "start_time": "2024-09-16T14:13:59.091Z"
   },
   {
    "duration": 5,
    "start_time": "2024-09-16T14:14:01.841Z"
   },
   {
    "duration": 4,
    "start_time": "2024-09-16T14:14:05.047Z"
   },
   {
    "duration": 5,
    "start_time": "2024-09-16T14:14:08.153Z"
   },
   {
    "duration": 5,
    "start_time": "2024-09-16T14:14:10.943Z"
   },
   {
    "duration": 5,
    "start_time": "2024-09-16T14:19:37.983Z"
   },
   {
    "duration": 5,
    "start_time": "2024-09-16T14:19:48.149Z"
   },
   {
    "duration": 5,
    "start_time": "2024-09-16T14:19:56.127Z"
   },
   {
    "duration": 4,
    "start_time": "2024-09-16T14:20:01.913Z"
   },
   {
    "duration": 4,
    "start_time": "2024-09-16T14:20:42.535Z"
   },
   {
    "duration": 5,
    "start_time": "2024-09-16T14:24:24.153Z"
   },
   {
    "duration": 4,
    "start_time": "2024-09-16T14:24:32.804Z"
   },
   {
    "duration": 5,
    "start_time": "2024-09-16T14:24:32.877Z"
   },
   {
    "duration": 6,
    "start_time": "2024-09-16T14:25:10.660Z"
   },
   {
    "duration": 1066,
    "start_time": "2024-09-16T16:40:42.344Z"
   },
   {
    "duration": 71,
    "start_time": "2024-09-16T16:40:43.412Z"
   },
   {
    "duration": 12,
    "start_time": "2024-09-16T16:40:43.484Z"
   },
   {
    "duration": 10,
    "start_time": "2024-09-16T16:40:43.498Z"
   },
   {
    "duration": 17,
    "start_time": "2024-09-16T16:40:43.509Z"
   },
   {
    "duration": 17,
    "start_time": "2024-09-16T16:40:43.527Z"
   },
   {
    "duration": 11,
    "start_time": "2024-09-16T16:40:43.545Z"
   },
   {
    "duration": 9,
    "start_time": "2024-09-16T16:40:43.557Z"
   },
   {
    "duration": 6,
    "start_time": "2024-09-16T16:40:43.567Z"
   },
   {
    "duration": 7,
    "start_time": "2024-09-16T16:40:43.589Z"
   },
   {
    "duration": 19,
    "start_time": "2024-09-16T16:40:43.597Z"
   },
   {
    "duration": 7,
    "start_time": "2024-09-16T16:40:43.618Z"
   },
   {
    "duration": 10,
    "start_time": "2024-09-16T16:40:43.627Z"
   },
   {
    "duration": 4,
    "start_time": "2024-09-16T16:40:43.638Z"
   },
   {
    "duration": 6,
    "start_time": "2024-09-16T16:40:43.644Z"
   },
   {
    "duration": 44,
    "start_time": "2024-09-16T16:40:43.652Z"
   },
   {
    "duration": 13,
    "start_time": "2024-09-16T16:40:43.697Z"
   },
   {
    "duration": 274,
    "start_time": "2024-09-16T16:40:43.711Z"
   },
   {
    "duration": 7,
    "start_time": "2024-09-16T16:40:43.989Z"
   },
   {
    "duration": 103,
    "start_time": "2024-09-16T16:40:43.997Z"
   },
   {
    "duration": 159,
    "start_time": "2024-09-16T16:40:44.102Z"
   },
   {
    "duration": 5,
    "start_time": "2024-09-16T16:40:44.262Z"
   },
   {
    "duration": 144,
    "start_time": "2024-09-16T16:40:44.269Z"
   },
   {
    "duration": 109,
    "start_time": "2024-09-16T16:40:44.414Z"
   },
   {
    "duration": 4,
    "start_time": "2024-09-16T16:40:44.525Z"
   },
   {
    "duration": 119,
    "start_time": "2024-09-16T16:40:44.530Z"
   },
   {
    "duration": 165,
    "start_time": "2024-09-16T16:40:44.650Z"
   },
   {
    "duration": 8,
    "start_time": "2024-09-16T16:40:44.818Z"
   },
   {
    "duration": 241,
    "start_time": "2024-09-16T16:40:44.827Z"
   },
   {
    "duration": 7,
    "start_time": "2024-09-16T16:40:45.070Z"
   },
   {
    "duration": 15,
    "start_time": "2024-09-16T16:40:45.078Z"
   },
   {
    "duration": 239,
    "start_time": "2024-09-16T16:40:45.095Z"
   },
   {
    "duration": 7,
    "start_time": "2024-09-16T16:40:45.335Z"
   },
   {
    "duration": 22,
    "start_time": "2024-09-16T16:40:45.344Z"
   },
   {
    "duration": 33,
    "start_time": "2024-09-16T16:40:45.367Z"
   },
   {
    "duration": 20,
    "start_time": "2024-09-16T16:40:45.401Z"
   },
   {
    "duration": 180,
    "start_time": "2024-09-16T16:40:45.422Z"
   },
   {
    "duration": 170,
    "start_time": "2024-09-16T16:40:45.603Z"
   },
   {
    "duration": 27,
    "start_time": "2024-09-16T16:40:45.774Z"
   },
   {
    "duration": 170,
    "start_time": "2024-09-16T16:40:45.802Z"
   },
   {
    "duration": 163,
    "start_time": "2024-09-16T16:40:45.973Z"
   },
   {
    "duration": 14,
    "start_time": "2024-09-16T16:40:46.138Z"
   },
   {
    "duration": 22,
    "start_time": "2024-09-16T16:40:46.154Z"
   },
   {
    "duration": 845,
    "start_time": "2024-09-16T16:40:46.190Z"
   },
   {
    "duration": 145,
    "start_time": "2024-09-16T16:40:47.036Z"
   },
   {
    "duration": 10,
    "start_time": "2024-09-16T16:40:47.182Z"
   },
   {
    "duration": 767,
    "start_time": "2024-09-16T16:40:47.193Z"
   },
   {
    "duration": 8,
    "start_time": "2024-09-16T16:40:47.962Z"
   },
   {
    "duration": 19,
    "start_time": "2024-09-16T16:40:47.971Z"
   },
   {
    "duration": 14,
    "start_time": "2024-09-16T16:45:40.762Z"
   },
   {
    "duration": 41,
    "start_time": "2024-09-17T07:01:13.318Z"
   },
   {
    "duration": 1195,
    "start_time": "2024-09-17T07:01:20.913Z"
   },
   {
    "duration": 288,
    "start_time": "2024-09-17T07:01:22.113Z"
   },
   {
    "duration": 10,
    "start_time": "2024-09-17T07:01:22.404Z"
   },
   {
    "duration": 18,
    "start_time": "2024-09-17T07:01:22.415Z"
   },
   {
    "duration": 12,
    "start_time": "2024-09-17T07:01:22.434Z"
   },
   {
    "duration": 12,
    "start_time": "2024-09-17T07:01:22.447Z"
   },
   {
    "duration": 6,
    "start_time": "2024-09-17T07:01:22.460Z"
   },
   {
    "duration": 12,
    "start_time": "2024-09-17T07:01:22.467Z"
   },
   {
    "duration": 36,
    "start_time": "2024-09-17T07:01:22.481Z"
   },
   {
    "duration": 15,
    "start_time": "2024-09-17T07:01:22.518Z"
   },
   {
    "duration": 8,
    "start_time": "2024-09-17T07:01:22.534Z"
   },
   {
    "duration": 8,
    "start_time": "2024-09-17T07:01:22.544Z"
   },
   {
    "duration": 8,
    "start_time": "2024-09-17T07:01:22.554Z"
   },
   {
    "duration": 3,
    "start_time": "2024-09-17T07:01:22.563Z"
   },
   {
    "duration": 6,
    "start_time": "2024-09-17T07:01:22.567Z"
   },
   {
    "duration": 25,
    "start_time": "2024-09-17T07:01:22.575Z"
   },
   {
    "duration": 13,
    "start_time": "2024-09-17T07:01:22.602Z"
   },
   {
    "duration": 233,
    "start_time": "2024-09-17T07:01:22.616Z"
   },
   {
    "duration": 7,
    "start_time": "2024-09-17T07:01:22.850Z"
   },
   {
    "duration": 94,
    "start_time": "2024-09-17T07:01:22.857Z"
   },
   {
    "duration": 137,
    "start_time": "2024-09-17T07:01:22.952Z"
   },
   {
    "duration": 4,
    "start_time": "2024-09-17T07:01:23.090Z"
   },
   {
    "duration": 127,
    "start_time": "2024-09-17T07:01:23.096Z"
   },
   {
    "duration": 101,
    "start_time": "2024-09-17T07:01:23.224Z"
   },
   {
    "duration": 5,
    "start_time": "2024-09-17T07:01:23.326Z"
   },
   {
    "duration": 119,
    "start_time": "2024-09-17T07:01:23.332Z"
   },
   {
    "duration": 182,
    "start_time": "2024-09-17T07:01:23.454Z"
   },
   {
    "duration": 8,
    "start_time": "2024-09-17T07:01:23.637Z"
   },
   {
    "duration": 200,
    "start_time": "2024-09-17T07:01:23.646Z"
   },
   {
    "duration": 7,
    "start_time": "2024-09-17T07:01:23.847Z"
   },
   {
    "duration": 8,
    "start_time": "2024-09-17T07:01:23.855Z"
   },
   {
    "duration": 202,
    "start_time": "2024-09-17T07:01:23.864Z"
   },
   {
    "duration": 5,
    "start_time": "2024-09-17T07:01:24.067Z"
   },
   {
    "duration": 97,
    "start_time": "2024-09-17T07:01:24.074Z"
   },
   {
    "duration": 92,
    "start_time": "2024-09-17T07:01:24.172Z"
   },
   {
    "duration": 18,
    "start_time": "2024-09-17T07:01:24.265Z"
   },
   {
    "duration": 138,
    "start_time": "2024-09-17T07:01:24.284Z"
   },
   {
    "duration": 139,
    "start_time": "2024-09-17T07:01:24.423Z"
   },
   {
    "duration": 16,
    "start_time": "2024-09-17T07:01:24.563Z"
   },
   {
    "duration": 149,
    "start_time": "2024-09-17T07:01:24.581Z"
   },
   {
    "duration": 133,
    "start_time": "2024-09-17T07:01:24.732Z"
   },
   {
    "duration": 13,
    "start_time": "2024-09-17T07:01:24.867Z"
   },
   {
    "duration": 26,
    "start_time": "2024-09-17T07:01:24.881Z"
   },
   {
    "duration": 820,
    "start_time": "2024-09-17T07:01:24.909Z"
   },
   {
    "duration": 135,
    "start_time": "2024-09-17T07:01:25.730Z"
   },
   {
    "duration": 4,
    "start_time": "2024-09-17T07:01:25.866Z"
   },
   {
    "duration": 643,
    "start_time": "2024-09-17T07:01:25.871Z"
   },
   {
    "duration": 8,
    "start_time": "2024-09-17T07:01:26.515Z"
   },
   {
    "duration": 10,
    "start_time": "2024-09-17T07:01:26.524Z"
   },
   {
    "duration": 209,
    "start_time": "2024-09-17T07:17:12.968Z"
   },
   {
    "duration": 66,
    "start_time": "2024-09-17T09:54:21.850Z"
   },
   {
    "duration": 212,
    "start_time": "2024-09-17T09:55:44.711Z"
   },
   {
    "duration": 187,
    "start_time": "2024-09-17T09:56:15.687Z"
   },
   {
    "duration": 86,
    "start_time": "2024-09-17T10:00:09.032Z"
   },
   {
    "duration": 103,
    "start_time": "2024-09-17T10:00:14.559Z"
   },
   {
    "duration": 104,
    "start_time": "2024-09-17T10:01:37.415Z"
   },
   {
    "duration": 7,
    "start_time": "2024-09-17T10:12:57.431Z"
   },
   {
    "duration": 3,
    "start_time": "2024-09-17T10:13:09.059Z"
   },
   {
    "duration": 3,
    "start_time": "2024-09-17T10:13:23.118Z"
   },
   {
    "duration": 4,
    "start_time": "2024-09-17T10:13:39.763Z"
   },
   {
    "duration": 26,
    "start_time": "2024-09-17T10:25:42.287Z"
   },
   {
    "duration": 3,
    "start_time": "2024-09-17T10:30:12.987Z"
   },
   {
    "duration": 3,
    "start_time": "2024-09-17T10:30:15.243Z"
   },
   {
    "duration": 4,
    "start_time": "2024-09-17T10:30:19.279Z"
   },
   {
    "duration": 3,
    "start_time": "2024-09-17T10:30:25.689Z"
   },
   {
    "duration": 141,
    "start_time": "2024-09-17T10:36:47.798Z"
   },
   {
    "duration": 60,
    "start_time": "2024-09-17T10:56:25.104Z"
   },
   {
    "duration": 3,
    "start_time": "2024-09-17T11:07:44.052Z"
   },
   {
    "duration": 1010,
    "start_time": "2024-09-17T11:08:05.241Z"
   },
   {
    "duration": 66,
    "start_time": "2024-09-17T11:08:06.252Z"
   },
   {
    "duration": 13,
    "start_time": "2024-09-17T11:08:06.319Z"
   },
   {
    "duration": 123,
    "start_time": "2024-09-17T11:08:06.334Z"
   },
   {
    "duration": 15,
    "start_time": "2024-09-17T11:08:06.458Z"
   },
   {
    "duration": 20,
    "start_time": "2024-09-17T11:08:06.475Z"
   },
   {
    "duration": 58,
    "start_time": "2024-09-17T11:08:06.497Z"
   },
   {
    "duration": 66,
    "start_time": "2024-09-17T11:08:06.557Z"
   },
   {
    "duration": 16,
    "start_time": "2024-09-17T11:08:06.625Z"
   },
   {
    "duration": 21,
    "start_time": "2024-09-17T11:08:06.644Z"
   },
   {
    "duration": 41,
    "start_time": "2024-09-17T11:08:06.667Z"
   },
   {
    "duration": 24,
    "start_time": "2024-09-17T11:08:06.709Z"
   },
   {
    "duration": 16,
    "start_time": "2024-09-17T11:08:06.734Z"
   },
   {
    "duration": 13,
    "start_time": "2024-09-17T11:08:06.752Z"
   },
   {
    "duration": 33,
    "start_time": "2024-09-17T11:08:06.766Z"
   },
   {
    "duration": 14,
    "start_time": "2024-09-17T11:08:06.800Z"
   },
   {
    "duration": 16,
    "start_time": "2024-09-17T11:08:06.815Z"
   },
   {
    "duration": 218,
    "start_time": "2024-09-17T11:08:06.832Z"
   },
   {
    "duration": 6,
    "start_time": "2024-09-17T11:08:07.052Z"
   },
   {
    "duration": 128,
    "start_time": "2024-09-17T11:08:07.059Z"
   },
   {
    "duration": 153,
    "start_time": "2024-09-17T11:08:07.189Z"
   },
   {
    "duration": 5,
    "start_time": "2024-09-17T11:08:07.343Z"
   },
   {
    "duration": 181,
    "start_time": "2024-09-17T11:08:07.349Z"
   },
   {
    "duration": 108,
    "start_time": "2024-09-17T11:08:07.531Z"
   },
   {
    "duration": 4,
    "start_time": "2024-09-17T11:08:07.640Z"
   },
   {
    "duration": 122,
    "start_time": "2024-09-17T11:08:07.645Z"
   },
   {
    "duration": 143,
    "start_time": "2024-09-17T11:08:07.768Z"
   },
   {
    "duration": 7,
    "start_time": "2024-09-17T11:08:07.914Z"
   },
   {
    "duration": 231,
    "start_time": "2024-09-17T11:08:07.922Z"
   },
   {
    "duration": 6,
    "start_time": "2024-09-17T11:08:08.155Z"
   },
   {
    "duration": 97,
    "start_time": "2024-09-17T11:08:08.163Z"
   },
   {
    "duration": 247,
    "start_time": "2024-09-17T11:08:08.262Z"
   },
   {
    "duration": 6,
    "start_time": "2024-09-17T11:08:08.510Z"
   },
   {
    "duration": 13,
    "start_time": "2024-09-17T11:08:08.517Z"
   },
   {
    "duration": 3,
    "start_time": "2024-09-17T11:08:08.531Z"
   },
   {
    "duration": 5,
    "start_time": "2024-09-17T11:08:08.535Z"
   },
   {
    "duration": 8,
    "start_time": "2024-09-17T11:08:08.541Z"
   },
   {
    "duration": 36,
    "start_time": "2024-09-17T11:08:08.550Z"
   },
   {
    "duration": 21,
    "start_time": "2024-09-17T11:08:08.587Z"
   },
   {
    "duration": 156,
    "start_time": "2024-09-17T11:08:08.609Z"
   },
   {
    "duration": 145,
    "start_time": "2024-09-17T11:08:08.766Z"
   },
   {
    "duration": 16,
    "start_time": "2024-09-17T11:08:08.913Z"
   },
   {
    "duration": 144,
    "start_time": "2024-09-17T11:08:08.930Z"
   },
   {
    "duration": 166,
    "start_time": "2024-09-17T11:08:09.075Z"
   },
   {
    "duration": 18,
    "start_time": "2024-09-17T11:08:09.243Z"
   },
   {
    "duration": 17,
    "start_time": "2024-09-17T11:08:09.262Z"
   },
   {
    "duration": 66,
    "start_time": "2024-09-17T11:08:09.307Z"
   },
   {
    "duration": 809,
    "start_time": "2024-09-17T11:08:09.375Z"
   },
   {
    "duration": 136,
    "start_time": "2024-09-17T11:08:10.185Z"
   },
   {
    "duration": 126,
    "start_time": "2024-09-17T11:08:10.322Z"
   },
   {
    "duration": 825,
    "start_time": "2024-09-17T11:08:10.450Z"
   },
   {
    "duration": 8,
    "start_time": "2024-09-17T11:08:11.276Z"
   },
   {
    "duration": 94,
    "start_time": "2024-09-17T11:08:11.285Z"
   },
   {
    "duration": 6,
    "start_time": "2024-09-17T11:11:14.231Z"
   },
   {
    "duration": 1391,
    "start_time": "2025-07-29T19:13:23.699Z"
   },
   {
    "duration": 61,
    "start_time": "2025-07-29T19:13:25.092Z"
   },
   {
    "duration": 14,
    "start_time": "2025-07-29T19:13:25.155Z"
   },
   {
    "duration": 16,
    "start_time": "2025-07-29T19:13:25.171Z"
   },
   {
    "duration": 12,
    "start_time": "2025-07-29T19:13:25.189Z"
   },
   {
    "duration": 15,
    "start_time": "2025-07-29T19:13:25.203Z"
   },
   {
    "duration": 21,
    "start_time": "2025-07-29T19:13:25.219Z"
   },
   {
    "duration": 25,
    "start_time": "2025-07-29T19:13:25.243Z"
   },
   {
    "duration": 21,
    "start_time": "2025-07-29T19:13:25.270Z"
   },
   {
    "duration": 15,
    "start_time": "2025-07-29T19:13:25.294Z"
   },
   {
    "duration": 88,
    "start_time": "2025-07-29T19:13:25.311Z"
   },
   {
    "duration": 36,
    "start_time": "2025-07-29T19:13:25.400Z"
   },
   {
    "duration": 13,
    "start_time": "2025-07-29T19:13:25.437Z"
   },
   {
    "duration": 3,
    "start_time": "2025-07-29T19:13:25.452Z"
   },
   {
    "duration": 22,
    "start_time": "2025-07-29T19:13:25.456Z"
   },
   {
    "duration": 24,
    "start_time": "2025-07-29T19:13:25.480Z"
   },
   {
    "duration": 14,
    "start_time": "2025-07-29T19:13:25.506Z"
   },
   {
    "duration": 289,
    "start_time": "2025-07-29T19:13:25.521Z"
   },
   {
    "duration": 8,
    "start_time": "2025-07-29T19:13:25.812Z"
   },
   {
    "duration": 130,
    "start_time": "2025-07-29T19:13:25.822Z"
   },
   {
    "duration": 182,
    "start_time": "2025-07-29T19:13:25.954Z"
   },
   {
    "duration": 5,
    "start_time": "2025-07-29T19:13:26.139Z"
   },
   {
    "duration": 176,
    "start_time": "2025-07-29T19:13:26.146Z"
   },
   {
    "duration": 121,
    "start_time": "2025-07-29T19:13:26.324Z"
   },
   {
    "duration": 6,
    "start_time": "2025-07-29T19:13:26.447Z"
   },
   {
    "duration": 149,
    "start_time": "2025-07-29T19:13:26.454Z"
   },
   {
    "duration": 261,
    "start_time": "2025-07-29T19:13:26.605Z"
   },
   {
    "duration": 9,
    "start_time": "2025-07-29T19:13:26.871Z"
   },
   {
    "duration": 190,
    "start_time": "2025-07-29T19:13:26.882Z"
   },
   {
    "duration": 10,
    "start_time": "2025-07-29T19:13:27.075Z"
   },
   {
    "duration": 7,
    "start_time": "2025-07-29T19:13:27.087Z"
   },
   {
    "duration": 266,
    "start_time": "2025-07-29T19:13:27.096Z"
   },
   {
    "duration": 8,
    "start_time": "2025-07-29T19:13:27.365Z"
   },
   {
    "duration": 16,
    "start_time": "2025-07-29T19:13:27.375Z"
   },
   {
    "duration": 16,
    "start_time": "2025-07-29T19:13:27.393Z"
   },
   {
    "duration": 5,
    "start_time": "2025-07-29T19:13:27.412Z"
   },
   {
    "duration": 21,
    "start_time": "2025-07-29T19:13:27.419Z"
   },
   {
    "duration": 33,
    "start_time": "2025-07-29T19:13:27.442Z"
   },
   {
    "duration": 24,
    "start_time": "2025-07-29T19:13:27.477Z"
   },
   {
    "duration": 237,
    "start_time": "2025-07-29T19:13:27.503Z"
   },
   {
    "duration": 184,
    "start_time": "2025-07-29T19:13:27.742Z"
   },
   {
    "duration": 28,
    "start_time": "2025-07-29T19:13:27.927Z"
   },
   {
    "duration": 191,
    "start_time": "2025-07-29T19:13:27.956Z"
   },
   {
    "duration": 192,
    "start_time": "2025-07-29T19:13:28.149Z"
   },
   {
    "duration": 17,
    "start_time": "2025-07-29T19:13:28.343Z"
   },
   {
    "duration": 18,
    "start_time": "2025-07-29T19:13:28.362Z"
   },
   {
    "duration": 3,
    "start_time": "2025-07-29T19:13:28.382Z"
   },
   {
    "duration": 910,
    "start_time": "2025-07-29T19:13:28.387Z"
   },
   {
    "duration": 6,
    "start_time": "2025-07-29T19:13:29.299Z"
   },
   {
    "duration": 162,
    "start_time": "2025-07-29T19:13:29.307Z"
   },
   {
    "duration": 5,
    "start_time": "2025-07-29T19:13:29.471Z"
   },
   {
    "duration": 814,
    "start_time": "2025-07-29T19:13:29.478Z"
   },
   {
    "duration": 10,
    "start_time": "2025-07-29T19:13:30.294Z"
   },
   {
    "duration": 35,
    "start_time": "2025-07-29T19:13:30.306Z"
   },
   {
    "duration": 283,
    "start_time": "2025-07-29T19:16:30.872Z"
   },
   {
    "duration": 318,
    "start_time": "2025-07-29T19:16:41.855Z"
   },
   {
    "duration": 260,
    "start_time": "2025-07-29T19:17:21.137Z"
   },
   {
    "duration": 194,
    "start_time": "2025-07-29T19:21:07.370Z"
   },
   {
    "duration": 194,
    "start_time": "2025-07-29T19:21:13.349Z"
   },
   {
    "duration": 154,
    "start_time": "2025-07-29T19:21:15.675Z"
   },
   {
    "duration": 181,
    "start_time": "2025-07-29T19:21:17.949Z"
   },
   {
    "duration": 6,
    "start_time": "2025-07-29T19:26:40.916Z"
   },
   {
    "duration": 104,
    "start_time": "2025-07-29T19:43:20.214Z"
   },
   {
    "duration": 9,
    "start_time": "2025-07-29T19:43:33.307Z"
   },
   {
    "duration": 17,
    "start_time": "2025-07-29T19:47:33.111Z"
   },
   {
    "duration": 19,
    "start_time": "2025-07-29T19:47:56.256Z"
   },
   {
    "duration": 12,
    "start_time": "2025-07-29T19:51:31.164Z"
   },
   {
    "duration": 1177,
    "start_time": "2025-07-29T19:54:14.195Z"
   },
   {
    "duration": 60,
    "start_time": "2025-07-29T19:54:15.374Z"
   },
   {
    "duration": 16,
    "start_time": "2025-07-29T19:54:15.436Z"
   },
   {
    "duration": 26,
    "start_time": "2025-07-29T19:54:15.454Z"
   },
   {
    "duration": 33,
    "start_time": "2025-07-29T19:54:15.483Z"
   },
   {
    "duration": 24,
    "start_time": "2025-07-29T19:54:15.518Z"
   },
   {
    "duration": 9,
    "start_time": "2025-07-29T19:54:15.544Z"
   },
   {
    "duration": 30,
    "start_time": "2025-07-29T19:54:15.555Z"
   },
   {
    "duration": 22,
    "start_time": "2025-07-29T19:54:15.587Z"
   },
   {
    "duration": 16,
    "start_time": "2025-07-29T19:54:15.611Z"
   },
   {
    "duration": 7,
    "start_time": "2025-07-29T19:54:15.629Z"
   },
   {
    "duration": 24,
    "start_time": "2025-07-29T19:54:15.638Z"
   },
   {
    "duration": 13,
    "start_time": "2025-07-29T19:54:15.664Z"
   },
   {
    "duration": 6,
    "start_time": "2025-07-29T19:54:15.681Z"
   },
   {
    "duration": 13,
    "start_time": "2025-07-29T19:54:15.689Z"
   },
   {
    "duration": 18,
    "start_time": "2025-07-29T19:54:15.703Z"
   },
   {
    "duration": 12,
    "start_time": "2025-07-29T19:54:15.723Z"
   },
   {
    "duration": 273,
    "start_time": "2025-07-29T19:54:15.739Z"
   },
   {
    "duration": 8,
    "start_time": "2025-07-29T19:54:16.014Z"
   },
   {
    "duration": 130,
    "start_time": "2025-07-29T19:54:16.023Z"
   },
   {
    "duration": 165,
    "start_time": "2025-07-29T19:54:16.154Z"
   },
   {
    "duration": 6,
    "start_time": "2025-07-29T19:54:16.321Z"
   },
   {
    "duration": 173,
    "start_time": "2025-07-29T19:54:16.328Z"
   },
   {
    "duration": 119,
    "start_time": "2025-07-29T19:54:16.502Z"
   },
   {
    "duration": 6,
    "start_time": "2025-07-29T19:54:16.623Z"
   },
   {
    "duration": 144,
    "start_time": "2025-07-29T19:54:16.639Z"
   },
   {
    "duration": 175,
    "start_time": "2025-07-29T19:54:16.785Z"
   },
   {
    "duration": 8,
    "start_time": "2025-07-29T19:54:16.962Z"
   },
   {
    "duration": 268,
    "start_time": "2025-07-29T19:54:16.972Z"
   },
   {
    "duration": 9,
    "start_time": "2025-07-29T19:54:17.242Z"
   },
   {
    "duration": 6,
    "start_time": "2025-07-29T19:54:17.252Z"
   },
   {
    "duration": 268,
    "start_time": "2025-07-29T19:54:17.260Z"
   },
   {
    "duration": 16,
    "start_time": "2025-07-29T19:54:17.531Z"
   },
   {
    "duration": 12,
    "start_time": "2025-07-29T19:54:17.550Z"
   },
   {
    "duration": 14,
    "start_time": "2025-07-29T19:54:17.565Z"
   },
   {
    "duration": 13,
    "start_time": "2025-07-29T19:54:17.581Z"
   },
   {
    "duration": 27,
    "start_time": "2025-07-29T19:54:17.596Z"
   },
   {
    "duration": 37,
    "start_time": "2025-07-29T19:54:17.624Z"
   },
   {
    "duration": 19,
    "start_time": "2025-07-29T19:54:17.663Z"
   },
   {
    "duration": 196,
    "start_time": "2025-07-29T19:54:17.684Z"
   },
   {
    "duration": 182,
    "start_time": "2025-07-29T19:54:17.884Z"
   },
   {
    "duration": 17,
    "start_time": "2025-07-29T19:54:18.068Z"
   },
   {
    "duration": 307,
    "start_time": "2025-07-29T19:54:18.086Z"
   },
   {
    "duration": 175,
    "start_time": "2025-07-29T19:54:18.395Z"
   },
   {
    "duration": 17,
    "start_time": "2025-07-29T19:54:18.572Z"
   },
   {
    "duration": 17,
    "start_time": "2025-07-29T19:54:18.590Z"
   },
   {
    "duration": 40,
    "start_time": "2025-07-29T19:54:18.608Z"
   },
   {
    "duration": 4,
    "start_time": "2025-07-29T19:54:18.650Z"
   },
   {
    "duration": 946,
    "start_time": "2025-07-29T19:54:18.655Z"
   },
   {
    "duration": 6,
    "start_time": "2025-07-29T19:54:19.603Z"
   },
   {
    "duration": 162,
    "start_time": "2025-07-29T19:54:19.610Z"
   },
   {
    "duration": 7,
    "start_time": "2025-07-29T19:54:19.774Z"
   },
   {
    "duration": 5,
    "start_time": "2025-07-29T19:54:19.782Z"
   },
   {
    "duration": 926,
    "start_time": "2025-07-29T19:54:19.789Z"
   },
   {
    "duration": 23,
    "start_time": "2025-07-29T19:54:20.716Z"
   },
   {
    "duration": 11,
    "start_time": "2025-07-29T19:54:20.741Z"
   },
   {
    "duration": 104,
    "start_time": "2025-07-29T19:54:36.575Z"
   },
   {
    "duration": 1280,
    "start_time": "2025-07-29T19:55:00.508Z"
   },
   {
    "duration": 59,
    "start_time": "2025-07-29T19:55:01.790Z"
   },
   {
    "duration": 92,
    "start_time": "2025-07-29T19:55:01.851Z"
   },
   {
    "duration": 100,
    "start_time": "2025-07-29T19:55:01.945Z"
   },
   {
    "duration": 45,
    "start_time": "2025-07-29T19:55:02.048Z"
   },
   {
    "duration": 199,
    "start_time": "2025-07-29T19:55:02.095Z"
   },
   {
    "duration": 90,
    "start_time": "2025-07-29T19:55:02.296Z"
   },
   {
    "duration": 104,
    "start_time": "2025-07-29T19:55:02.388Z"
   },
   {
    "duration": 175,
    "start_time": "2025-07-29T19:55:02.494Z"
   },
   {
    "duration": 48,
    "start_time": "2025-07-29T19:55:02.671Z"
   },
   {
    "duration": 29,
    "start_time": "2025-07-29T19:55:02.721Z"
   },
   {
    "duration": 35,
    "start_time": "2025-07-29T19:55:02.752Z"
   },
   {
    "duration": 56,
    "start_time": "2025-07-29T19:55:02.789Z"
   },
   {
    "duration": 43,
    "start_time": "2025-07-29T19:55:02.847Z"
   },
   {
    "duration": 92,
    "start_time": "2025-07-29T19:55:02.892Z"
   },
   {
    "duration": 71,
    "start_time": "2025-07-29T19:55:02.986Z"
   },
   {
    "duration": 102,
    "start_time": "2025-07-29T19:55:03.059Z"
   },
   {
    "duration": 300,
    "start_time": "2025-07-29T19:55:03.163Z"
   },
   {
    "duration": 9,
    "start_time": "2025-07-29T19:55:03.465Z"
   },
   {
    "duration": 200,
    "start_time": "2025-07-29T19:55:03.475Z"
   },
   {
    "duration": 178,
    "start_time": "2025-07-29T19:55:03.677Z"
   },
   {
    "duration": 7,
    "start_time": "2025-07-29T19:55:03.857Z"
   },
   {
    "duration": 230,
    "start_time": "2025-07-29T19:55:03.866Z"
   },
   {
    "duration": 122,
    "start_time": "2025-07-29T19:55:04.098Z"
   },
   {
    "duration": 135,
    "start_time": "2025-07-29T19:55:04.222Z"
   },
   {
    "duration": 159,
    "start_time": "2025-07-29T19:55:04.359Z"
   },
   {
    "duration": 174,
    "start_time": "2025-07-29T19:55:04.520Z"
   },
   {
    "duration": 10,
    "start_time": "2025-07-29T19:55:04.696Z"
   },
   {
    "duration": 274,
    "start_time": "2025-07-29T19:55:04.708Z"
   },
   {
    "duration": 8,
    "start_time": "2025-07-29T19:55:04.985Z"
   },
   {
    "duration": 6,
    "start_time": "2025-07-29T19:55:04.995Z"
   },
   {
    "duration": 270,
    "start_time": "2025-07-29T19:55:05.002Z"
   },
   {
    "duration": 8,
    "start_time": "2025-07-29T19:55:05.274Z"
   },
   {
    "duration": 144,
    "start_time": "2025-07-29T19:55:05.284Z"
   },
   {
    "duration": 15,
    "start_time": "2025-07-29T19:55:05.430Z"
   },
   {
    "duration": 16,
    "start_time": "2025-07-29T19:55:05.447Z"
   },
   {
    "duration": 19,
    "start_time": "2025-07-29T19:55:05.465Z"
   },
   {
    "duration": 62,
    "start_time": "2025-07-29T19:55:05.486Z"
   },
   {
    "duration": 31,
    "start_time": "2025-07-29T19:55:05.550Z"
   },
   {
    "duration": 194,
    "start_time": "2025-07-29T19:55:05.583Z"
   },
   {
    "duration": 183,
    "start_time": "2025-07-29T19:55:05.782Z"
   },
   {
    "duration": 16,
    "start_time": "2025-07-29T19:55:05.967Z"
   },
   {
    "duration": 198,
    "start_time": "2025-07-29T19:55:05.985Z"
   },
   {
    "duration": 189,
    "start_time": "2025-07-29T19:55:06.186Z"
   },
   {
    "duration": 18,
    "start_time": "2025-07-29T19:55:06.377Z"
   },
   {
    "duration": 55,
    "start_time": "2025-07-29T19:55:06.396Z"
   },
   {
    "duration": 306,
    "start_time": "2025-07-29T19:55:06.452Z"
   },
   {
    "duration": 3,
    "start_time": "2025-07-29T19:55:06.761Z"
   },
   {
    "duration": 931,
    "start_time": "2025-07-29T19:55:06.766Z"
   },
   {
    "duration": 6,
    "start_time": "2025-07-29T19:55:07.698Z"
   },
   {
    "duration": 186,
    "start_time": "2025-07-29T19:55:07.706Z"
   },
   {
    "duration": 7,
    "start_time": "2025-07-29T19:55:07.893Z"
   },
   {
    "duration": 41,
    "start_time": "2025-07-29T19:55:07.902Z"
   },
   {
    "duration": 798,
    "start_time": "2025-07-29T19:55:07.945Z"
   },
   {
    "duration": 12,
    "start_time": "2025-07-29T19:55:08.745Z"
   },
   {
    "duration": 17,
    "start_time": "2025-07-29T19:55:08.759Z"
   },
   {
    "duration": 1175,
    "start_time": "2025-07-29T19:57:39.701Z"
   },
   {
    "duration": 59,
    "start_time": "2025-07-29T19:57:40.878Z"
   },
   {
    "duration": 15,
    "start_time": "2025-07-29T19:57:40.940Z"
   },
   {
    "duration": 14,
    "start_time": "2025-07-29T19:57:40.957Z"
   },
   {
    "duration": 13,
    "start_time": "2025-07-29T19:57:40.975Z"
   },
   {
    "duration": 15,
    "start_time": "2025-07-29T19:57:40.990Z"
   },
   {
    "duration": 33,
    "start_time": "2025-07-29T19:57:41.007Z"
   },
   {
    "duration": 18,
    "start_time": "2025-07-29T19:57:41.042Z"
   },
   {
    "duration": 13,
    "start_time": "2025-07-29T19:57:41.062Z"
   },
   {
    "duration": 19,
    "start_time": "2025-07-29T19:57:41.077Z"
   },
   {
    "duration": 6,
    "start_time": "2025-07-29T19:57:41.097Z"
   },
   {
    "duration": 8,
    "start_time": "2025-07-29T19:57:41.104Z"
   },
   {
    "duration": 25,
    "start_time": "2025-07-29T19:57:41.114Z"
   },
   {
    "duration": 3,
    "start_time": "2025-07-29T19:57:41.142Z"
   },
   {
    "duration": 6,
    "start_time": "2025-07-29T19:57:41.147Z"
   },
   {
    "duration": 18,
    "start_time": "2025-07-29T19:57:41.155Z"
   },
   {
    "duration": 13,
    "start_time": "2025-07-29T19:57:41.175Z"
   },
   {
    "duration": 294,
    "start_time": "2025-07-29T19:57:41.189Z"
   },
   {
    "duration": 7,
    "start_time": "2025-07-29T19:57:41.485Z"
   },
   {
    "duration": 126,
    "start_time": "2025-07-29T19:57:41.494Z"
   },
   {
    "duration": 172,
    "start_time": "2025-07-29T19:57:41.622Z"
   },
   {
    "duration": 5,
    "start_time": "2025-07-29T19:57:41.795Z"
   },
   {
    "duration": 172,
    "start_time": "2025-07-29T19:57:41.802Z"
   },
   {
    "duration": 115,
    "start_time": "2025-07-29T19:57:41.976Z"
   },
   {
    "duration": 6,
    "start_time": "2025-07-29T19:57:42.093Z"
   },
   {
    "duration": 151,
    "start_time": "2025-07-29T19:57:42.101Z"
   },
   {
    "duration": 179,
    "start_time": "2025-07-29T19:57:42.254Z"
   },
   {
    "duration": 9,
    "start_time": "2025-07-29T19:57:42.440Z"
   },
   {
    "duration": 257,
    "start_time": "2025-07-29T19:57:42.451Z"
   },
   {
    "duration": 10,
    "start_time": "2025-07-29T19:57:42.709Z"
   },
   {
    "duration": 18,
    "start_time": "2025-07-29T19:57:42.721Z"
   },
   {
    "duration": 248,
    "start_time": "2025-07-29T19:57:42.741Z"
   },
   {
    "duration": 8,
    "start_time": "2025-07-29T19:57:42.991Z"
   },
   {
    "duration": 9,
    "start_time": "2025-07-29T19:57:43.000Z"
   },
   {
    "duration": 3,
    "start_time": "2025-07-29T19:57:43.011Z"
   },
   {
    "duration": 4,
    "start_time": "2025-07-29T19:57:43.016Z"
   },
   {
    "duration": 8,
    "start_time": "2025-07-29T19:57:43.040Z"
   },
   {
    "duration": 4,
    "start_time": "2025-07-29T19:57:43.049Z"
   },
   {
    "duration": 27,
    "start_time": "2025-07-29T19:57:43.055Z"
   },
   {
    "duration": 19,
    "start_time": "2025-07-29T19:57:43.083Z"
   },
   {
    "duration": 217,
    "start_time": "2025-07-29T19:57:43.106Z"
   },
   {
    "duration": 192,
    "start_time": "2025-07-29T19:57:43.324Z"
   },
   {
    "duration": 29,
    "start_time": "2025-07-29T19:57:43.518Z"
   },
   {
    "duration": 203,
    "start_time": "2025-07-29T19:57:43.549Z"
   },
   {
    "duration": 168,
    "start_time": "2025-07-29T19:57:43.753Z"
   },
   {
    "duration": 26,
    "start_time": "2025-07-29T19:57:43.923Z"
   },
   {
    "duration": 16,
    "start_time": "2025-07-29T19:57:43.950Z"
   },
   {
    "duration": 396,
    "start_time": "2025-07-29T19:57:43.968Z"
   },
   {
    "duration": 4,
    "start_time": "2025-07-29T19:57:44.365Z"
   },
   {
    "duration": 857,
    "start_time": "2025-07-29T19:57:44.371Z"
   },
   {
    "duration": 14,
    "start_time": "2025-07-29T19:57:45.230Z"
   },
   {
    "duration": 196,
    "start_time": "2025-07-29T19:57:45.246Z"
   },
   {
    "duration": 8,
    "start_time": "2025-07-29T19:57:45.443Z"
   },
   {
    "duration": 21,
    "start_time": "2025-07-29T19:57:45.452Z"
   },
   {
    "duration": 857,
    "start_time": "2025-07-29T19:57:45.475Z"
   },
   {
    "duration": 10,
    "start_time": "2025-07-29T19:57:46.339Z"
   },
   {
    "duration": 24,
    "start_time": "2025-07-29T19:57:46.351Z"
   },
   {
    "duration": 1259,
    "start_time": "2025-07-29T20:02:21.172Z"
   },
   {
    "duration": 71,
    "start_time": "2025-07-29T20:02:22.433Z"
   },
   {
    "duration": 15,
    "start_time": "2025-07-29T20:02:22.506Z"
   },
   {
    "duration": 18,
    "start_time": "2025-07-29T20:02:22.523Z"
   },
   {
    "duration": 77,
    "start_time": "2025-07-29T20:02:22.544Z"
   },
   {
    "duration": 18,
    "start_time": "2025-07-29T20:02:22.623Z"
   },
   {
    "duration": 9,
    "start_time": "2025-07-29T20:02:22.643Z"
   },
   {
    "duration": 24,
    "start_time": "2025-07-29T20:02:22.655Z"
   },
   {
    "duration": 30,
    "start_time": "2025-07-29T20:02:22.681Z"
   },
   {
    "duration": 27,
    "start_time": "2025-07-29T20:02:22.713Z"
   },
   {
    "duration": 54,
    "start_time": "2025-07-29T20:02:22.742Z"
   },
   {
    "duration": 35,
    "start_time": "2025-07-29T20:02:22.799Z"
   },
   {
    "duration": 12,
    "start_time": "2025-07-29T20:02:22.836Z"
   },
   {
    "duration": 3,
    "start_time": "2025-07-29T20:02:22.851Z"
   },
   {
    "duration": 21,
    "start_time": "2025-07-29T20:02:22.856Z"
   },
   {
    "duration": 27,
    "start_time": "2025-07-29T20:02:22.879Z"
   },
   {
    "duration": 29,
    "start_time": "2025-07-29T20:02:22.907Z"
   },
   {
    "duration": 291,
    "start_time": "2025-07-29T20:02:22.937Z"
   },
   {
    "duration": 14,
    "start_time": "2025-07-29T20:02:23.230Z"
   },
   {
    "duration": 129,
    "start_time": "2025-07-29T20:02:23.246Z"
   },
   {
    "duration": 174,
    "start_time": "2025-07-29T20:02:23.377Z"
   },
   {
    "duration": 6,
    "start_time": "2025-07-29T20:02:23.553Z"
   },
   {
    "duration": 166,
    "start_time": "2025-07-29T20:02:23.561Z"
   },
   {
    "duration": 128,
    "start_time": "2025-07-29T20:02:23.729Z"
   },
   {
    "duration": 6,
    "start_time": "2025-07-29T20:02:23.858Z"
   },
   {
    "duration": 209,
    "start_time": "2025-07-29T20:02:23.866Z"
   },
   {
    "duration": 258,
    "start_time": "2025-07-29T20:02:24.077Z"
   },
   {
    "duration": 9,
    "start_time": "2025-07-29T20:02:24.337Z"
   },
   {
    "duration": 182,
    "start_time": "2025-07-29T20:02:24.348Z"
   },
   {
    "duration": 13,
    "start_time": "2025-07-29T20:02:24.532Z"
   },
   {
    "duration": 15,
    "start_time": "2025-07-29T20:02:24.547Z"
   },
   {
    "duration": 250,
    "start_time": "2025-07-29T20:02:24.563Z"
   },
   {
    "duration": 8,
    "start_time": "2025-07-29T20:02:24.815Z"
   },
   {
    "duration": 16,
    "start_time": "2025-07-29T20:02:24.825Z"
   },
   {
    "duration": 5,
    "start_time": "2025-07-29T20:02:24.843Z"
   },
   {
    "duration": 9,
    "start_time": "2025-07-29T20:02:24.849Z"
   },
   {
    "duration": 11,
    "start_time": "2025-07-29T20:02:24.860Z"
   },
   {
    "duration": 20,
    "start_time": "2025-07-29T20:02:24.873Z"
   },
   {
    "duration": 36,
    "start_time": "2025-07-29T20:02:24.895Z"
   },
   {
    "duration": 25,
    "start_time": "2025-07-29T20:02:24.932Z"
   },
   {
    "duration": 193,
    "start_time": "2025-07-29T20:02:24.961Z"
   },
   {
    "duration": 183,
    "start_time": "2025-07-29T20:02:25.156Z"
   },
   {
    "duration": 18,
    "start_time": "2025-07-29T20:02:25.340Z"
   },
   {
    "duration": 199,
    "start_time": "2025-07-29T20:02:25.359Z"
   },
   {
    "duration": 178,
    "start_time": "2025-07-29T20:02:25.561Z"
   },
   {
    "duration": 16,
    "start_time": "2025-07-29T20:02:25.741Z"
   },
   {
    "duration": 16,
    "start_time": "2025-07-29T20:02:25.759Z"
   },
   {
    "duration": 403,
    "start_time": "2025-07-29T20:02:25.777Z"
   },
   {
    "duration": 15,
    "start_time": "2025-07-29T20:02:26.181Z"
   },
   {
    "duration": 68,
    "start_time": "2025-07-29T20:02:26.198Z"
   },
   {
    "duration": 949,
    "start_time": "2025-07-29T20:02:26.267Z"
   },
   {
    "duration": 6,
    "start_time": "2025-07-29T20:02:27.218Z"
   },
   {
    "duration": 161,
    "start_time": "2025-07-29T20:02:27.225Z"
   },
   {
    "duration": 7,
    "start_time": "2025-07-29T20:02:27.388Z"
   },
   {
    "duration": 75,
    "start_time": "2025-07-29T20:02:27.397Z"
   },
   {
    "duration": 916,
    "start_time": "2025-07-29T20:02:27.473Z"
   },
   {
    "duration": 9,
    "start_time": "2025-07-29T20:02:28.391Z"
   },
   {
    "duration": 17,
    "start_time": "2025-07-29T20:02:28.402Z"
   },
   {
    "duration": 103,
    "start_time": "2025-07-29T20:12:22.798Z"
   },
   {
    "duration": 1232,
    "start_time": "2025-07-29T20:12:32.669Z"
   },
   {
    "duration": 59,
    "start_time": "2025-07-29T20:12:33.903Z"
   },
   {
    "duration": 21,
    "start_time": "2025-07-29T20:12:33.964Z"
   },
   {
    "duration": 12,
    "start_time": "2025-07-29T20:12:33.987Z"
   },
   {
    "duration": 22,
    "start_time": "2025-07-29T20:12:34.002Z"
   },
   {
    "duration": 12,
    "start_time": "2025-07-29T20:12:34.026Z"
   },
   {
    "duration": 7,
    "start_time": "2025-07-29T20:12:34.040Z"
   },
   {
    "duration": 14,
    "start_time": "2025-07-29T20:12:34.049Z"
   },
   {
    "duration": 48,
    "start_time": "2025-07-29T20:12:34.065Z"
   },
   {
    "duration": 17,
    "start_time": "2025-07-29T20:12:34.115Z"
   },
   {
    "duration": 7,
    "start_time": "2025-07-29T20:12:34.134Z"
   },
   {
    "duration": 15,
    "start_time": "2025-07-29T20:12:34.143Z"
   },
   {
    "duration": 24,
    "start_time": "2025-07-29T20:12:34.160Z"
   },
   {
    "duration": 87,
    "start_time": "2025-07-29T20:12:34.187Z"
   },
   {
    "duration": 62,
    "start_time": "2025-07-29T20:12:34.275Z"
   },
   {
    "duration": 40,
    "start_time": "2025-07-29T20:12:34.339Z"
   },
   {
    "duration": 12,
    "start_time": "2025-07-29T20:12:34.381Z"
   },
   {
    "duration": 266,
    "start_time": "2025-07-29T20:12:34.395Z"
   },
   {
    "duration": 7,
    "start_time": "2025-07-29T20:12:34.663Z"
   },
   {
    "duration": 126,
    "start_time": "2025-07-29T20:12:34.672Z"
   },
   {
    "duration": 163,
    "start_time": "2025-07-29T20:12:34.800Z"
   },
   {
    "duration": 5,
    "start_time": "2025-07-29T20:12:34.965Z"
   },
   {
    "duration": 169,
    "start_time": "2025-07-29T20:12:34.972Z"
   },
   {
    "duration": 124,
    "start_time": "2025-07-29T20:12:35.143Z"
   },
   {
    "duration": 7,
    "start_time": "2025-07-29T20:12:35.269Z"
   },
   {
    "duration": 149,
    "start_time": "2025-07-29T20:12:35.277Z"
   },
   {
    "duration": 256,
    "start_time": "2025-07-29T20:12:35.428Z"
   },
   {
    "duration": 8,
    "start_time": "2025-07-29T20:12:35.686Z"
   },
   {
    "duration": 190,
    "start_time": "2025-07-29T20:12:35.695Z"
   },
   {
    "duration": 8,
    "start_time": "2025-07-29T20:12:35.887Z"
   },
   {
    "duration": 126,
    "start_time": "2025-07-29T20:12:35.897Z"
   },
   {
    "duration": 264,
    "start_time": "2025-07-29T20:12:36.025Z"
   },
   {
    "duration": 9,
    "start_time": "2025-07-29T20:12:36.290Z"
   },
   {
    "duration": 40,
    "start_time": "2025-07-29T20:12:36.301Z"
   },
   {
    "duration": 10,
    "start_time": "2025-07-29T20:12:36.343Z"
   },
   {
    "duration": 18,
    "start_time": "2025-07-29T20:12:36.355Z"
   },
   {
    "duration": 20,
    "start_time": "2025-07-29T20:12:36.374Z"
   },
   {
    "duration": 30,
    "start_time": "2025-07-29T20:12:36.395Z"
   },
   {
    "duration": 42,
    "start_time": "2025-07-29T20:12:36.427Z"
   },
   {
    "duration": 21,
    "start_time": "2025-07-29T20:12:36.471Z"
   },
   {
    "duration": 194,
    "start_time": "2025-07-29T20:12:36.496Z"
   },
   {
    "duration": 181,
    "start_time": "2025-07-29T20:12:36.691Z"
   },
   {
    "duration": 16,
    "start_time": "2025-07-29T20:12:36.874Z"
   },
   {
    "duration": 264,
    "start_time": "2025-07-29T20:12:36.891Z"
   },
   {
    "duration": 172,
    "start_time": "2025-07-29T20:12:37.157Z"
   },
   {
    "duration": 23,
    "start_time": "2025-07-29T20:12:37.331Z"
   },
   {
    "duration": 20,
    "start_time": "2025-07-29T20:12:37.356Z"
   },
   {
    "duration": 411,
    "start_time": "2025-07-29T20:12:37.377Z"
   },
   {
    "duration": 15,
    "start_time": "2025-07-29T20:12:37.790Z"
   },
   {
    "duration": 29,
    "start_time": "2025-07-29T20:12:37.807Z"
   },
   {
    "duration": 866,
    "start_time": "2025-07-29T20:12:37.838Z"
   },
   {
    "duration": 8,
    "start_time": "2025-07-29T20:12:38.706Z"
   },
   {
    "duration": 167,
    "start_time": "2025-07-29T20:12:38.716Z"
   },
   {
    "duration": 9,
    "start_time": "2025-07-29T20:12:38.885Z"
   },
   {
    "duration": 5,
    "start_time": "2025-07-29T20:12:38.896Z"
   },
   {
    "duration": 923,
    "start_time": "2025-07-29T20:12:38.903Z"
   },
   {
    "duration": 15,
    "start_time": "2025-07-29T20:12:39.829Z"
   },
   {
    "duration": 6,
    "start_time": "2025-07-29T20:12:39.846Z"
   },
   {
    "duration": 862,
    "start_time": "2025-07-29T20:14:35.966Z"
   },
   {
    "duration": 872,
    "start_time": "2025-07-29T20:14:47.168Z"
   },
   {
    "duration": 1248,
    "start_time": "2025-07-29T21:40:05.739Z"
   },
   {
    "duration": 60,
    "start_time": "2025-07-29T21:40:06.989Z"
   },
   {
    "duration": 13,
    "start_time": "2025-07-29T21:40:07.051Z"
   },
   {
    "duration": 51,
    "start_time": "2025-07-29T21:40:07.066Z"
   },
   {
    "duration": 78,
    "start_time": "2025-07-29T21:40:07.118Z"
   },
   {
    "duration": 39,
    "start_time": "2025-07-29T21:40:07.198Z"
   },
   {
    "duration": 27,
    "start_time": "2025-07-29T21:40:07.238Z"
   },
   {
    "duration": 12,
    "start_time": "2025-07-29T21:40:07.267Z"
   },
   {
    "duration": 22,
    "start_time": "2025-07-29T21:40:07.281Z"
   },
   {
    "duration": 30,
    "start_time": "2025-07-29T21:40:07.306Z"
   },
   {
    "duration": 22,
    "start_time": "2025-07-29T21:40:07.338Z"
   },
   {
    "duration": 36,
    "start_time": "2025-07-29T21:40:07.362Z"
   },
   {
    "duration": 35,
    "start_time": "2025-07-29T21:40:07.399Z"
   },
   {
    "duration": 21,
    "start_time": "2025-07-29T21:40:07.436Z"
   },
   {
    "duration": 16,
    "start_time": "2025-07-29T21:40:07.458Z"
   },
   {
    "duration": 14,
    "start_time": "2025-07-29T21:40:07.476Z"
   },
   {
    "duration": 14,
    "start_time": "2025-07-29T21:40:07.491Z"
   },
   {
    "duration": 286,
    "start_time": "2025-07-29T21:40:07.507Z"
   },
   {
    "duration": 8,
    "start_time": "2025-07-29T21:40:07.794Z"
   },
   {
    "duration": 162,
    "start_time": "2025-07-29T21:40:07.803Z"
   },
   {
    "duration": 166,
    "start_time": "2025-07-29T21:40:07.967Z"
   },
   {
    "duration": 7,
    "start_time": "2025-07-29T21:40:08.139Z"
   },
   {
    "duration": 163,
    "start_time": "2025-07-29T21:40:08.147Z"
   },
   {
    "duration": 120,
    "start_time": "2025-07-29T21:40:08.311Z"
   },
   {
    "duration": 10,
    "start_time": "2025-07-29T21:40:08.433Z"
   },
   {
    "duration": 142,
    "start_time": "2025-07-29T21:40:08.444Z"
   },
   {
    "duration": 259,
    "start_time": "2025-07-29T21:40:08.588Z"
   },
   {
    "duration": 10,
    "start_time": "2025-07-29T21:40:08.851Z"
   },
   {
    "duration": 181,
    "start_time": "2025-07-29T21:40:08.863Z"
   },
   {
    "duration": 10,
    "start_time": "2025-07-29T21:40:09.046Z"
   },
   {
    "duration": 22,
    "start_time": "2025-07-29T21:40:09.058Z"
   },
   {
    "duration": 263,
    "start_time": "2025-07-29T21:40:09.082Z"
   },
   {
    "duration": 8,
    "start_time": "2025-07-29T21:40:09.346Z"
   },
   {
    "duration": 32,
    "start_time": "2025-07-29T21:40:09.355Z"
   },
   {
    "duration": 16,
    "start_time": "2025-07-29T21:40:09.389Z"
   },
   {
    "duration": 38,
    "start_time": "2025-07-29T21:40:09.407Z"
   },
   {
    "duration": 18,
    "start_time": "2025-07-29T21:40:09.447Z"
   },
   {
    "duration": 12,
    "start_time": "2025-07-29T21:40:09.467Z"
   },
   {
    "duration": 42,
    "start_time": "2025-07-29T21:40:09.481Z"
   },
   {
    "duration": 33,
    "start_time": "2025-07-29T21:40:09.525Z"
   },
   {
    "duration": 197,
    "start_time": "2025-07-29T21:40:09.560Z"
   },
   {
    "duration": 181,
    "start_time": "2025-07-29T21:40:09.759Z"
   },
   {
    "duration": 18,
    "start_time": "2025-07-29T21:40:09.942Z"
   },
   {
    "duration": 189,
    "start_time": "2025-07-29T21:40:09.962Z"
   },
   {
    "duration": 181,
    "start_time": "2025-07-29T21:40:10.153Z"
   },
   {
    "duration": 18,
    "start_time": "2025-07-29T21:40:10.339Z"
   },
   {
    "duration": 59,
    "start_time": "2025-07-29T21:40:10.358Z"
   },
   {
    "duration": 381,
    "start_time": "2025-07-29T21:40:10.419Z"
   },
   {
    "duration": 16,
    "start_time": "2025-07-29T21:40:10.801Z"
   },
   {
    "duration": 46,
    "start_time": "2025-07-29T21:40:10.819Z"
   },
   {
    "duration": 893,
    "start_time": "2025-07-29T21:40:10.866Z"
   },
   {
    "duration": 7,
    "start_time": "2025-07-29T21:40:11.760Z"
   },
   {
    "duration": 158,
    "start_time": "2025-07-29T21:40:11.768Z"
   },
   {
    "duration": 106,
    "start_time": "2025-07-29T21:40:11.927Z"
   },
   {
    "duration": 0,
    "start_time": "2025-07-29T21:40:12.034Z"
   },
   {
    "duration": 0,
    "start_time": "2025-07-29T21:40:12.042Z"
   },
   {
    "duration": 0,
    "start_time": "2025-07-29T21:40:12.044Z"
   },
   {
    "duration": 13,
    "start_time": "2025-07-29T21:41:56.845Z"
   },
   {
    "duration": 5,
    "start_time": "2025-07-29T21:42:16.351Z"
   },
   {
    "duration": 889,
    "start_time": "2025-07-29T21:42:20.441Z"
   },
   {
    "duration": 1220,
    "start_time": "2025-07-29T21:42:35.178Z"
   },
   {
    "duration": 59,
    "start_time": "2025-07-29T21:42:36.400Z"
   },
   {
    "duration": 14,
    "start_time": "2025-07-29T21:42:36.460Z"
   },
   {
    "duration": 12,
    "start_time": "2025-07-29T21:42:36.476Z"
   },
   {
    "duration": 41,
    "start_time": "2025-07-29T21:42:36.491Z"
   },
   {
    "duration": 13,
    "start_time": "2025-07-29T21:42:36.534Z"
   },
   {
    "duration": 38,
    "start_time": "2025-07-29T21:42:36.549Z"
   },
   {
    "duration": 14,
    "start_time": "2025-07-29T21:42:36.589Z"
   },
   {
    "duration": 90,
    "start_time": "2025-07-29T21:42:36.605Z"
   },
   {
    "duration": 64,
    "start_time": "2025-07-29T21:42:36.697Z"
   },
   {
    "duration": 12,
    "start_time": "2025-07-29T21:42:36.763Z"
   },
   {
    "duration": 22,
    "start_time": "2025-07-29T21:42:36.777Z"
   },
   {
    "duration": 28,
    "start_time": "2025-07-29T21:42:36.801Z"
   },
   {
    "duration": 13,
    "start_time": "2025-07-29T21:42:36.832Z"
   },
   {
    "duration": 10,
    "start_time": "2025-07-29T21:42:36.847Z"
   },
   {
    "duration": 21,
    "start_time": "2025-07-29T21:42:36.859Z"
   },
   {
    "duration": 32,
    "start_time": "2025-07-29T21:42:36.881Z"
   },
   {
    "duration": 288,
    "start_time": "2025-07-29T21:42:36.915Z"
   },
   {
    "duration": 7,
    "start_time": "2025-07-29T21:42:37.205Z"
   },
   {
    "duration": 136,
    "start_time": "2025-07-29T21:42:37.214Z"
   },
   {
    "duration": 164,
    "start_time": "2025-07-29T21:42:37.352Z"
   },
   {
    "duration": 5,
    "start_time": "2025-07-29T21:42:37.518Z"
   },
   {
    "duration": 190,
    "start_time": "2025-07-29T21:42:37.525Z"
   },
   {
    "duration": 110,
    "start_time": "2025-07-29T21:42:37.717Z"
   },
   {
    "duration": 14,
    "start_time": "2025-07-29T21:42:37.828Z"
   },
   {
    "duration": 144,
    "start_time": "2025-07-29T21:42:37.844Z"
   },
   {
    "duration": 257,
    "start_time": "2025-07-29T21:42:37.989Z"
   },
   {
    "duration": 9,
    "start_time": "2025-07-29T21:42:38.247Z"
   },
   {
    "duration": 175,
    "start_time": "2025-07-29T21:42:38.257Z"
   },
   {
    "duration": 11,
    "start_time": "2025-07-29T21:42:38.434Z"
   },
   {
    "duration": 26,
    "start_time": "2025-07-29T21:42:38.446Z"
   },
   {
    "duration": 249,
    "start_time": "2025-07-29T21:42:38.474Z"
   },
   {
    "duration": 8,
    "start_time": "2025-07-29T21:42:38.724Z"
   },
   {
    "duration": 76,
    "start_time": "2025-07-29T21:42:38.739Z"
   },
   {
    "duration": 9,
    "start_time": "2025-07-29T21:42:38.816Z"
   },
   {
    "duration": 27,
    "start_time": "2025-07-29T21:42:38.827Z"
   },
   {
    "duration": 11,
    "start_time": "2025-07-29T21:42:38.856Z"
   },
   {
    "duration": 8,
    "start_time": "2025-07-29T21:42:38.868Z"
   },
   {
    "duration": 55,
    "start_time": "2025-07-29T21:42:38.877Z"
   },
   {
    "duration": 20,
    "start_time": "2025-07-29T21:42:38.934Z"
   },
   {
    "duration": 186,
    "start_time": "2025-07-29T21:42:38.957Z"
   },
   {
    "duration": 178,
    "start_time": "2025-07-29T21:42:39.145Z"
   },
   {
    "duration": 26,
    "start_time": "2025-07-29T21:42:39.325Z"
   },
   {
    "duration": 181,
    "start_time": "2025-07-29T21:42:39.353Z"
   },
   {
    "duration": 169,
    "start_time": "2025-07-29T21:42:39.538Z"
   },
   {
    "duration": 29,
    "start_time": "2025-07-29T21:42:39.709Z"
   },
   {
    "duration": 28,
    "start_time": "2025-07-29T21:42:39.740Z"
   },
   {
    "duration": 370,
    "start_time": "2025-07-29T21:42:39.770Z"
   },
   {
    "duration": 15,
    "start_time": "2025-07-29T21:42:40.142Z"
   },
   {
    "duration": 4,
    "start_time": "2025-07-29T21:42:40.159Z"
   },
   {
    "duration": 876,
    "start_time": "2025-07-29T21:42:40.164Z"
   },
   {
    "duration": 7,
    "start_time": "2025-07-29T21:42:41.041Z"
   },
   {
    "duration": 161,
    "start_time": "2025-07-29T21:42:41.050Z"
   },
   {
    "duration": 6,
    "start_time": "2025-07-29T21:42:41.213Z"
   },
   {
    "duration": 887,
    "start_time": "2025-07-29T21:42:41.220Z"
   },
   {
    "duration": 123,
    "start_time": "2025-07-29T21:42:42.109Z"
   },
   {
    "duration": 0,
    "start_time": "2025-07-29T21:42:42.233Z"
   },
   {
    "duration": 52,
    "start_time": "2025-07-30T15:08:32.701Z"
   },
   {
    "duration": 1511,
    "start_time": "2025-07-30T15:09:45.104Z"
   },
   {
    "duration": 84,
    "start_time": "2025-07-30T15:09:46.617Z"
   },
   {
    "duration": 14,
    "start_time": "2025-07-30T15:09:46.703Z"
   },
   {
    "duration": 16,
    "start_time": "2025-07-30T15:09:46.719Z"
   },
   {
    "duration": 44,
    "start_time": "2025-07-30T15:09:46.737Z"
   },
   {
    "duration": 29,
    "start_time": "2025-07-30T15:09:46.782Z"
   },
   {
    "duration": 9,
    "start_time": "2025-07-30T15:09:46.813Z"
   },
   {
    "duration": 20,
    "start_time": "2025-07-30T15:09:46.823Z"
   },
   {
    "duration": 21,
    "start_time": "2025-07-30T15:09:46.845Z"
   },
   {
    "duration": 38,
    "start_time": "2025-07-30T15:09:46.867Z"
   },
   {
    "duration": 62,
    "start_time": "2025-07-30T15:09:46.907Z"
   },
   {
    "duration": 10,
    "start_time": "2025-07-30T15:09:46.970Z"
   },
   {
    "duration": 28,
    "start_time": "2025-07-30T15:09:46.982Z"
   },
   {
    "duration": 6,
    "start_time": "2025-07-30T15:09:47.013Z"
   },
   {
    "duration": 8,
    "start_time": "2025-07-30T15:09:47.020Z"
   },
   {
    "duration": 15,
    "start_time": "2025-07-30T15:09:47.029Z"
   },
   {
    "duration": 13,
    "start_time": "2025-07-30T15:09:47.046Z"
   },
   {
    "duration": 311,
    "start_time": "2025-07-30T15:09:47.060Z"
   },
   {
    "duration": 29,
    "start_time": "2025-07-30T15:09:47.372Z"
   },
   {
    "duration": 129,
    "start_time": "2025-07-30T15:09:47.406Z"
   },
   {
    "duration": 188,
    "start_time": "2025-07-30T15:09:47.537Z"
   },
   {
    "duration": 8,
    "start_time": "2025-07-30T15:09:47.726Z"
   },
   {
    "duration": 184,
    "start_time": "2025-07-30T15:09:47.736Z"
   },
   {
    "duration": 123,
    "start_time": "2025-07-30T15:09:47.922Z"
   },
   {
    "duration": 6,
    "start_time": "2025-07-30T15:09:48.047Z"
   },
   {
    "duration": 163,
    "start_time": "2025-07-30T15:09:48.054Z"
   },
   {
    "duration": 304,
    "start_time": "2025-07-30T15:09:48.219Z"
   },
   {
    "duration": 8,
    "start_time": "2025-07-30T15:09:48.525Z"
   },
   {
    "duration": 192,
    "start_time": "2025-07-30T15:09:48.535Z"
   },
   {
    "duration": 9,
    "start_time": "2025-07-30T15:09:48.729Z"
   },
   {
    "duration": 7,
    "start_time": "2025-07-30T15:09:48.739Z"
   },
   {
    "duration": 371,
    "start_time": "2025-07-30T15:09:48.747Z"
   },
   {
    "duration": 8,
    "start_time": "2025-07-30T15:09:49.119Z"
   },
   {
    "duration": 10,
    "start_time": "2025-07-30T15:09:49.128Z"
   },
   {
    "duration": 5,
    "start_time": "2025-07-30T15:09:49.140Z"
   },
   {
    "duration": 51,
    "start_time": "2025-07-30T15:09:49.146Z"
   },
   {
    "duration": 12,
    "start_time": "2025-07-30T15:09:49.202Z"
   },
   {
    "duration": 6,
    "start_time": "2025-07-30T15:09:49.216Z"
   },
   {
    "duration": 82,
    "start_time": "2025-07-30T15:09:49.223Z"
   },
   {
    "duration": 19,
    "start_time": "2025-07-30T15:09:49.307Z"
   },
   {
    "duration": 207,
    "start_time": "2025-07-30T15:09:49.330Z"
   },
   {
    "duration": 193,
    "start_time": "2025-07-30T15:09:49.539Z"
   },
   {
    "duration": 17,
    "start_time": "2025-07-30T15:09:49.733Z"
   },
   {
    "duration": 212,
    "start_time": "2025-07-30T15:09:49.751Z"
   },
   {
    "duration": 194,
    "start_time": "2025-07-30T15:09:49.965Z"
   },
   {
    "duration": 17,
    "start_time": "2025-07-30T15:09:50.161Z"
   },
   {
    "duration": 53,
    "start_time": "2025-07-30T15:09:50.180Z"
   },
   {
    "duration": 387,
    "start_time": "2025-07-30T15:09:50.235Z"
   },
   {
    "duration": 16,
    "start_time": "2025-07-30T15:09:50.624Z"
   },
   {
    "duration": 11,
    "start_time": "2025-07-30T15:09:50.641Z"
   },
   {
    "duration": 991,
    "start_time": "2025-07-30T15:09:50.654Z"
   },
   {
    "duration": 7,
    "start_time": "2025-07-30T15:09:51.646Z"
   },
   {
    "duration": 180,
    "start_time": "2025-07-30T15:09:51.655Z"
   },
   {
    "duration": 6,
    "start_time": "2025-07-30T15:09:51.837Z"
   },
   {
    "duration": 1105,
    "start_time": "2025-07-30T15:09:51.844Z"
   },
   {
    "duration": 10,
    "start_time": "2025-07-30T15:09:52.951Z"
   },
   {
    "duration": 84,
    "start_time": "2025-07-30T15:09:52.962Z"
   }
  ],
  "kernelspec": {
   "display_name": "Python 3 (ipykernel)",
   "language": "python",
   "name": "python3"
  },
  "language_info": {
   "codemirror_mode": {
    "name": "ipython",
    "version": 3
   },
   "file_extension": ".py",
   "mimetype": "text/x-python",
   "name": "python",
   "nbconvert_exporter": "python",
   "pygments_lexer": "ipython3",
   "version": "3.9.5"
  },
  "toc": {
   "base_numbering": 1,
   "nav_menu": {},
   "number_sections": true,
   "sideBar": true,
   "skip_h1_title": true,
   "title_cell": "Table of Contents",
   "title_sidebar": "Contents",
   "toc_cell": false,
   "toc_position": {},
   "toc_section_display": true,
   "toc_window_display": true
  }
 },
 "nbformat": 4,
 "nbformat_minor": 5
}
